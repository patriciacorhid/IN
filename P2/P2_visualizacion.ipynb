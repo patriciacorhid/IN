{
 "cells": [
  {
   "cell_type": "markdown",
   "metadata": {},
   "source": [
    "# Práctica 2 - Visualización"
   ]
  },
  {
   "cell_type": "markdown",
   "metadata": {},
   "source": [
    "### Patricia Córdoba Hidalgo"
   ]
  },
  {
   "cell_type": "markdown",
   "metadata": {},
   "source": [
    "Importamos las librerías que usaremos."
   ]
  },
  {
   "cell_type": "code",
   "execution_count": 2,
   "metadata": {},
   "outputs": [],
   "source": [
    "import pandas as pd\n",
    "import numpy as np\n",
    "import math as m\n",
    "\n",
    "from sklearn import preprocessing\n",
    "from sklearn.model_selection import train_test_split\n",
    "\n",
    "from collections import Counter\n",
    "\n",
    "from sklearn.decomposition import PCA\n",
    "from sklearn.manifold import TSNE\n",
    "import matplotlib.pyplot as plt\n",
    "from sklearn.preprocessing import MinMaxScaler\n",
    "\n",
    "from sklearn.dummy import DummyClassifier\n",
    "from sklearn.svm import LinearSVC\n",
    "from sklearn.neighbors import KNeighborsClassifier\n",
    "from sklearn.neural_network import MLPClassifier\n",
    "from sklearn.ensemble import RandomForestClassifier\n",
    "from sklearn.naive_bayes import GaussianNB\n",
    "from sklearn.tree import DecisionTreeClassifier\n",
    "\n",
    "from sklearn.metrics import confusion_matrix\n",
    "\n",
    "from matplotlib import pyplot as plt\n",
    "from sklearn import tree\n",
    "\n",
    "from mpl_toolkits.mplot3d import Axes3D\n",
    "from matplotlib import pyplot as plt\n",
    "from sklearn import metrics\n",
    "import seaborn as sns"
   ]
  },
  {
   "cell_type": "markdown",
   "metadata": {},
   "source": [
    "## Eliminación de atributo no predictivo y cuantificar las columnas categóricas"
   ]
  },
  {
   "cell_type": "code",
   "execution_count": 3,
   "metadata": {},
   "outputs": [],
   "source": [
    "datos = pd.read_csv(\"mamografias.csv\", na_values=[\"?\"]) # Leemos los datos del csv"
   ]
  },
  {
   "cell_type": "markdown",
   "metadata": {},
   "source": [
    "Convertimos los atributos categóricos en numéricos:"
   ]
  },
  {
   "cell_type": "code",
   "execution_count": 4,
   "metadata": {},
   "outputs": [
    {
     "name": "stdout",
     "output_type": "stream",
     "text": [
      "[4 3 1 0 2]\n"
     ]
    }
   ],
   "source": [
    "# Creamos un objeto Labelencoder\n",
    "le = preprocessing.LabelEncoder()\n",
    "# Convertimos las columnas categóricas en numéricas\n",
    "encoded_value = le.fit_transform([\"R\",\"O\",\"L\",\"I\", \"N\"])\n",
    "\n",
    "for col in ['Shape']:\n",
    "    datos[col] = le.fit_transform(datos[col])\n",
    "    \n",
    "print(encoded_value)"
   ]
  },
  {
   "cell_type": "code",
   "execution_count": 5,
   "metadata": {},
   "outputs": [
    {
     "name": "stdout",
     "output_type": "stream",
     "text": [
      "[1 0]\n"
     ]
    }
   ],
   "source": [
    "# Creamos un objeto Labelencoder\n",
    "le = preprocessing.LabelEncoder()\n",
    "# Convertimos las columnas categóricas en numéricas\n",
    "encoded_value = le.fit_transform([\"maligno\", \"benigno\"])\n",
    "\n",
    "for col in ['Severity']:\n",
    "    datos[col] = le.fit_transform(datos[col])\n",
    "\n",
    "print(encoded_value)"
   ]
  },
  {
   "cell_type": "markdown",
   "metadata": {},
   "source": [
    "Eliminamos la columna BI-RADS, que no es predictiva."
   ]
  },
  {
   "cell_type": "code",
   "execution_count": 6,
   "metadata": {},
   "outputs": [],
   "source": [
    "del(datos['BI-RADS'])"
   ]
  },
  {
   "cell_type": "markdown",
   "metadata": {},
   "source": [
    "## Preprocesado 1:"
   ]
  },
  {
   "cell_type": "markdown",
   "metadata": {},
   "source": [
    "Eliminamos los datos con valores perdidos."
   ]
  },
  {
   "cell_type": "code",
   "execution_count": 7,
   "metadata": {},
   "outputs": [],
   "source": [
    "p1_datos = datos.dropna() # Eliminamos los datos con valores perdidos"
   ]
  },
  {
   "cell_type": "markdown",
   "metadata": {},
   "source": [
    "Ya no hay datos \"perdidos\"."
   ]
  },
  {
   "cell_type": "markdown",
   "metadata": {},
   "source": [
    "### Separación entre datos y objetivo"
   ]
  },
  {
   "cell_type": "code",
   "execution_count": 8,
   "metadata": {},
   "outputs": [],
   "source": [
    "# Separamos las columnas con los datos de la etiqueta a predecir\n",
    "cols = [col for col in p1_datos.columns if col not in ['Severity']]\n",
    "data = p1_datos[cols]\n",
    "target = p1_datos['Severity']"
   ]
  },
  {
   "cell_type": "code",
   "execution_count": 9,
   "metadata": {},
   "outputs": [
    {
     "name": "stdout",
     "output_type": "stream",
     "text": [
      "Hay 410 malignos y 438 benignos.\n"
     ]
    }
   ],
   "source": [
    "# Mostramos si los datos están o no balanceados (Para ver si accuracy es una buena medida)\n",
    "malignos = 0\n",
    "for i in target:\n",
    "    if i == 1:\n",
    "        malignos += 1\n",
    "\n",
    "benignos = len(target) - malignos\n",
    "print(\"Hay \" + str(malignos) + \" malignos y \" + str(benignos) + \" benignos.\")"
   ]
  },
  {
   "cell_type": "markdown",
   "metadata": {},
   "source": [
    "### Modelos:"
   ]
  },
  {
   "cell_type": "code",
   "execution_count": 10,
   "metadata": {},
   "outputs": [],
   "source": [
    "def validacion_cruzada(clf, x, y, n):\n",
    "    tn, tp, fn, fp = 0,0,0,0\n",
    "    scaler = MinMaxScaler()\n",
    "\n",
    "    # Creo los n conjuntos diferentes\n",
    "    l = len(x)\n",
    "    l = int(l/n)\n",
    "\n",
    "    datos = []               #Vector de datos para training de cada iteración\n",
    "    im_datos = []            #Vector de etiquetas para training de cada iteración\n",
    "    datos_val = []           #Vector de datos para validación de cada iteración\n",
    "    im_datos_val = []        #Vector de etiquetas para validación de cada iteración\n",
    "\n",
    "    for i in range(0,n-1):\n",
    "        aux_x = np.concatenate((x[:i*l], x[(i+1)*l:]), axis=0)\n",
    "        aux_y = np.concatenate((y[:i*l], y[(i+1)*l:]), axis=0)\n",
    "        \n",
    "        datos.append(aux_x) #Valores de entrenamiento\n",
    "        im_datos.append(aux_y)\n",
    "        datos_val.append(x[i*l:(i+1)*l]) #Valores de validación\n",
    "        im_datos_val.append(y[i*l:(i+1)*l])  \n",
    "        \n",
    "    #Última iteración, para usar todos los datos del test\n",
    "    aux_x = x[:(n-1)*l]\n",
    "    aux_y = y[:(n-1)*l]\n",
    "        \n",
    "    datos.append(aux_x) #Valores de entrenamiento\n",
    "    im_datos.append(aux_y)\n",
    "    datos_val.append(x[(n-1)*l:]) #Valores de validación\n",
    "    im_datos_val.append(y[(n-1)*l:])\n",
    "        \n",
    "    # Realizo el ajuste con todos los conjuntos\n",
    "    for i in range(0,n):\n",
    "        datos[i] = scaler.fit_transform(datos[i])\n",
    "        datos_val[i] = scaler.transform(datos_val[i])\n",
    "        \n",
    "        clf.fit(datos[i], im_datos[i])\n",
    "        pred = clf.predict(datos_val[i])\n",
    "        \n",
    "        conf_mat = confusion_matrix(im_datos_val[i],pred)\n",
    "        tn += conf_mat[0,0]\n",
    "        tp += conf_mat[1,1]\n",
    "        fn += conf_mat[1,0]\n",
    "        fp += conf_mat[0,1]\n",
    "\n",
    "    return tn, tp, fn, fp"
   ]
  },
  {
   "cell_type": "code",
   "execution_count": 11,
   "metadata": {},
   "outputs": [],
   "source": [
    "# Vectores de medidas de los distintos preprocesados\n",
    "p1_acc = []\n",
    "p1_tpr = []\n",
    "p1_fnr = []\n",
    "p1_f1 = []"
   ]
  },
  {
   "cell_type": "markdown",
   "metadata": {},
   "source": [
    "### ZeroR: "
   ]
  },
  {
   "cell_type": "code",
   "execution_count": 12,
   "metadata": {},
   "outputs": [],
   "source": [
    "dummy_clf = DummyClassifier(strategy=\"most_frequent\")\n",
    "\n",
    "tn,tp, fn, fp = validacion_cruzada(dummy_clf, data, target, 5)\n",
    "\n",
    "accuracy = (tn+tp)/(tn+tp+fn+fp)\n",
    "tpr = tp/(tp+fn)\n",
    "tnr = tn/(tn+fp)\n",
    "fpr = fp/(tn+fp)\n",
    "fnr = fn/(tp+fn)\n",
    "#ppv = tp/(tp+fp)\n",
    "auc = (1+tpr-fpr)/2\n",
    "Gmean = m.sqrt(tpr*tnr)\n",
    "f1 = (2*tp)/(2*tp+fp+fn)\n",
    "#Gmeasure = m.sqrt(ppv*tpr)\n",
    "\n",
    "p1_acc.append(accuracy)\n",
    "p1_tpr.append(tpr)\n",
    "p1_fnr.append(fnr)\n",
    "p1_f1.append(f1)"
   ]
  },
  {
   "cell_type": "markdown",
   "metadata": {},
   "source": [
    "### Support Vector Machine (SVM):"
   ]
  },
  {
   "cell_type": "code",
   "execution_count": 13,
   "metadata": {
    "scrolled": true
   },
   "outputs": [],
   "source": [
    "svm_clf = LinearSVC(random_state=15, tol=1e-5)\n",
    "\n",
    "tn,tp, fn, fp = validacion_cruzada(svm_clf, data, target, 5)\n",
    "\n",
    "accuracy = (tn+tp)/(tn+tp+fn+fp)\n",
    "tpr = tp/(tp+fn)\n",
    "tnr = tn/(tn+fp)\n",
    "fpr = fp/(tn+fp)\n",
    "fnr = fn/(tp+fn)\n",
    "ppv = tp/(tp+fp)\n",
    "auc = (1+tpr-fpr)/2\n",
    "Gmean = m.sqrt(tpr*tnr)\n",
    "f1 = (2*tp)/(2*tp+fp+fn)\n",
    "Gmeasure = m.sqrt(ppv*tpr)\n",
    "\n",
    "p1_acc.append(accuracy)\n",
    "p1_tpr.append(tpr)\n",
    "p1_fnr.append(fnr)\n",
    "p1_f1.append(f1)"
   ]
  },
  {
   "cell_type": "markdown",
   "metadata": {},
   "source": [
    "### k-nn:"
   ]
  },
  {
   "cell_type": "code",
   "execution_count": 14,
   "metadata": {
    "scrolled": true
   },
   "outputs": [],
   "source": [
    "knn_clf = KNeighborsClassifier(n_neighbors=5)\n",
    "\n",
    "tn,tp, fn, fp = validacion_cruzada(knn_clf, data, target, 5)\n",
    "\n",
    "accuracy = (tn+tp)/(tn+tp+fn+fp)\n",
    "tpr = tp/(tp+fn)\n",
    "tnr = tn/(tn+fp)\n",
    "fpr = fp/(tn+fp)\n",
    "fnr = fn/(tp+fn)\n",
    "ppv = tp/(tp+fp)\n",
    "auc = (1+tpr-fpr)/2\n",
    "Gmean = m.sqrt(tpr*tnr)\n",
    "f1 = (2*tp)/(2*tp+fp+fn)\n",
    "Gmeasure = m.sqrt(ppv*tpr)\n",
    "\n",
    "p1_acc.append(accuracy)\n",
    "p1_tpr.append(tpr)\n",
    "p1_fnr.append(fnr)\n",
    "p1_f1.append(f1)"
   ]
  },
  {
   "cell_type": "markdown",
   "metadata": {},
   "source": [
    "### Árbol de decisión:"
   ]
  },
  {
   "cell_type": "code",
   "execution_count": 15,
   "metadata": {
    "scrolled": true
   },
   "outputs": [],
   "source": [
    "tree_clf = DecisionTreeClassifier(random_state=15)\n",
    "\n",
    "tn,tp, fn, fp = validacion_cruzada(tree_clf, data, target, 5)\n",
    "\n",
    "accuracy = (tn+tp)/(tn+tp+fn+fp)\n",
    "tpr = tp/(tp+fn)\n",
    "tnr = tn/(tn+fp)\n",
    "fpr = fp/(tn+fp)\n",
    "fnr = fn/(tp+fn)\n",
    "ppv = tp/(tp+fp)\n",
    "auc = (1+tpr-fpr)/2\n",
    "Gmean = m.sqrt(tpr*tnr)\n",
    "f1 = (2*tp)/(2*tp+fp+fn)\n",
    "Gmeasure = m.sqrt(ppv*tpr)\n",
    "\n",
    "p1_acc.append(accuracy)\n",
    "p1_tpr.append(tpr)\n",
    "p1_fnr.append(fnr)\n",
    "p1_f1.append(f1)"
   ]
  },
  {
   "cell_type": "markdown",
   "metadata": {},
   "source": [
    "### Multilayer Perceptron (neural networks):"
   ]
  },
  {
   "cell_type": "code",
   "execution_count": 16,
   "metadata": {
    "scrolled": true
   },
   "outputs": [],
   "source": [
    "mlp_clf = MLPClassifier(random_state=15, hidden_layer_sizes=(150,150),activation='tanh',max_iter=800,early_stopping=True)\n",
    "\n",
    "tn,tp, fn, fp = validacion_cruzada(mlp_clf, data, target, 5)\n",
    "\n",
    "accuracy = (tn+tp)/(tn+tp+fn+fp)\n",
    "tpr = tp/(tp+fn)\n",
    "tnr = tn/(tn+fp)\n",
    "fpr = fp/(tn+fp)\n",
    "fnr = fn/(tp+fn)\n",
    "ppv = tp/(tp+fp)\n",
    "auc = (1+tpr-fpr)/2\n",
    "Gmean = m.sqrt(tpr*tnr)\n",
    "f1 = (2*tp)/(2*tp+fp+fn)\n",
    "Gmeasure = m.sqrt(ppv*tpr)\n",
    "\n",
    "p1_acc.append(accuracy)\n",
    "p1_tpr.append(tpr)\n",
    "p1_fnr.append(fnr)\n",
    "p1_f1.append(f1)"
   ]
  },
  {
   "cell_type": "markdown",
   "metadata": {},
   "source": [
    "### Random Forest:"
   ]
  },
  {
   "cell_type": "code",
   "execution_count": 17,
   "metadata": {
    "scrolled": true
   },
   "outputs": [],
   "source": [
    "rf_clf = RandomForestClassifier(random_state=15, n_estimators=150)\n",
    "\n",
    "tn,tp, fn, fp = validacion_cruzada(rf_clf, data, target, 5)\n",
    "\n",
    "accuracy = (tn+tp)/(tn+tp+fn+fp)\n",
    "tpr = tp/(tp+fn)\n",
    "tnr = tn/(tn+fp)\n",
    "fpr = fp/(tn+fp)\n",
    "fnr = fn/(tp+fn)\n",
    "ppv = tp/(tp+fp)\n",
    "auc = (1+tpr-fpr)/2\n",
    "Gmean = m.sqrt(tpr*tnr)\n",
    "f1 = (2*tp)/(2*tp+fp+fn)\n",
    "Gmeasure = m.sqrt(ppv*tpr)\n",
    "\n",
    "p1_acc.append(accuracy)\n",
    "p1_tpr.append(tpr)\n",
    "p1_fnr.append(fnr)\n",
    "p1_f1.append(f1)"
   ]
  },
  {
   "cell_type": "markdown",
   "metadata": {},
   "source": [
    "### Visualización de métricas:"
   ]
  },
  {
   "cell_type": "code",
   "execution_count": 18,
   "metadata": {
    "scrolled": true
   },
   "outputs": [
    {
     "data": {
      "text/plain": [
       "Text(0.5, 1.0, 'P1 - Accuracy')"
      ]
     },
     "execution_count": 18,
     "metadata": {},
     "output_type": "execute_result"
    },
    {
     "data": {
      "image/png": "[encoded data removed]",
      "text/plain": [
       "<Figure size 432x288 with 1 Axes>"
      ]
     },
     "metadata": {
      "needs_background": "light"
     },
     "output_type": "display_data"
    }
   ],
   "source": [
    "fig, ax = plt.subplots()\n",
    "ax.bar([\"ZeroR\", \"SVM\", \"K-nn\", \"Árbol\", \"MLP\", \"RF\"], p1_acc, color='green')\n",
    "ax.set_title(\"P1 - Accuracy\")"
   ]
  },
  {
   "cell_type": "code",
   "execution_count": 19,
   "metadata": {},
   "outputs": [
    {
     "data": {
      "text/plain": [
       "Text(0.5, 1.0, 'P1 - F1-Score')"
      ]
     },
     "execution_count": 19,
     "metadata": {},
     "output_type": "execute_result"
    },
    {
     "data": {
      "image/png": "[encoded data removed]",
      "text/plain": [
       "<Figure size 432x288 with 1 Axes>"
      ]
     },
     "metadata": {
      "needs_background": "light"
     },
     "output_type": "display_data"
    }
   ],
   "source": [
    "fig, ax = plt.subplots()\n",
    "ax.bar([\"ZeroR\", \"SVM\", \"K-nn\", \"Árbol\", \"MLP\", \"RF\"], p1_f1, color='green')\n",
    "ax.set_title(\"P1 - F1-Score\")"
   ]
  },
  {
   "cell_type": "code",
   "execution_count": 20,
   "metadata": {},
   "outputs": [
    {
     "data": {
      "text/plain": [
       "Text(0.5, 1.0, 'P1 - TPR')"
      ]
     },
     "execution_count": 20,
     "metadata": {},
     "output_type": "execute_result"
    },
    {
     "data": {
      "image/png": "[encoded data removed]",
      "text/plain": [
       "<Figure size 432x288 with 1 Axes>"
      ]
     },
     "metadata": {
      "needs_background": "light"
     },
     "output_type": "display_data"
    }
   ],
   "source": [
    "fig, ax = plt.subplots()\n",
    "ax.bar([\"ZeroR\", \"SVM\", \"K-nn\", \"Árbol\", \"MLP\", \"RF\"], p1_tpr, color='green')\n",
    "ax.set_title(\"P1 - TPR\")"
   ]
  },
  {
   "cell_type": "code",
   "execution_count": 21,
   "metadata": {},
   "outputs": [
    {
     "data": {
      "text/plain": [
       "Text(0.5, 1.0, 'P1 - FNR')"
      ]
     },
     "execution_count": 21,
     "metadata": {},
     "output_type": "execute_result"
    },
    {
     "data": {
      "image/png": "[encoded data removed]",
      "text/plain": [
       "<Figure size 432x288 with 1 Axes>"
      ]
     },
     "metadata": {
      "needs_background": "light"
     },
     "output_type": "display_data"
    }
   ],
   "source": [
    "fig, ax = plt.subplots()\n",
    "ax.bar([\"ZeroR\", \"SVM\", \"K-nn\", \"Árbol\", \"MLP\", \"RF\"], p1_fnr, color='green')\n",
    "ax.set_title(\"P1 - FNR\")"
   ]
  },
  {
   "cell_type": "markdown",
   "metadata": {},
   "source": [
    "## Preprocesado 2:"
   ]
  },
  {
   "cell_type": "markdown",
   "metadata": {},
   "source": [
    "Sustituimos los valores perdidos por la mediana si es cuantitativo y por la moda si es cualitativo."
   ]
  },
  {
   "cell_type": "code",
   "execution_count": 22,
   "metadata": {},
   "outputs": [],
   "source": [
    "p2_datos = datos.copy()"
   ]
  },
  {
   "cell_type": "markdown",
   "metadata": {},
   "source": [
    "Para realizar operaciones con las columnas, como calcular la media, necesito que los datos sean de tipo numérico, por eso los cambiamos con astype al hacerlo."
   ]
  },
  {
   "cell_type": "code",
   "execution_count": 23,
   "metadata": {
    "scrolled": true
   },
   "outputs": [
    {
     "name": "stdout",
     "output_type": "stream",
     "text": [
      "Mediana de la edad: 57\n",
      "Moda del margen: 1.0\n",
      "Moda de la densidad: 3.0\n"
     ]
    }
   ],
   "source": [
    "# Rellenaremos los valores perdidos de Age con la mediana:\n",
    "p2_datos[[\"Age\"]] = p2_datos[[\"Age\"]].fillna(int(p2_datos[[\"Age\"]].median()))\n",
    "print(\"Mediana de la edad: \" + str(int(p2_datos[[\"Age\"]].median())))\n",
    "\n",
    "# Rellenaremos los valores perdidos de Margin con la moda:\n",
    "p2_datos[[\"Margin\"]] = p2_datos[[\"Margin\"]].fillna(datos[[\"Margin\"]].mode().iloc[0,0])\n",
    "print(\"Moda del margen: \" + str(p2_datos[[\"Margin\"]].mode().iloc[0,0]))\n",
    "\n",
    "# Rellenaremos los valores perdidos de Shape con la moda:\n",
    "p2_datos[[\"Density\"]] = p2_datos[[\"Density\"]].fillna(p2_datos[[\"Density\"]].mode().iloc[0,0])\n",
    "print(\"Moda de la densidad: \" + str(p2_datos[[\"Density\"]].mode().iloc[0,0]))"
   ]
  },
  {
   "cell_type": "markdown",
   "metadata": {},
   "source": [
    "### Separación entre datos y objetivo:"
   ]
  },
  {
   "cell_type": "code",
   "execution_count": 24,
   "metadata": {
    "scrolled": true
   },
   "outputs": [],
   "source": [
    "# Separamos las columnas con los datos de la etiqueta a predecir\n",
    "cols = [col for col in p2_datos.columns if col not in ['Severity']]\n",
    "data = p2_datos[cols]\n",
    "target = p2_datos['Severity']"
   ]
  },
  {
   "cell_type": "code",
   "execution_count": 25,
   "metadata": {},
   "outputs": [],
   "source": [
    "# Creamos los vectores que usaremos para visualizar los datos\n",
    "p2_acc = []\n",
    "p2_tpr = []\n",
    "p2_fnr = []\n",
    "p2_f1 = []"
   ]
  },
  {
   "cell_type": "markdown",
   "metadata": {},
   "source": [
    "### Desempeño:"
   ]
  },
  {
   "cell_type": "markdown",
   "metadata": {},
   "source": [
    "#### ZeroR:"
   ]
  },
  {
   "cell_type": "code",
   "execution_count": 26,
   "metadata": {},
   "outputs": [],
   "source": [
    "dummy_clf = DummyClassifier(strategy=\"most_frequent\")\n",
    "\n",
    "tn,tp, fn, fp = validacion_cruzada(dummy_clf, data, target, 5)\n",
    "\n",
    "accuracy = (tn+tp)/(tn+tp+fn+fp)\n",
    "tpr = tp/(tp+fn)\n",
    "tnr = tn/(tn+fp)\n",
    "fpr = fp/(tn+fp)\n",
    "fnr = fn/(tp+fn)\n",
    "#ppv = tp/(tp+fp)\n",
    "auc = (1+tpr-fpr)/2\n",
    "Gmean = m.sqrt(tpr*tnr)\n",
    "f1 = (2*tp)/(2*tp+fp+fn)\n",
    "#Gmeasure = m.sqrt(ppv*tpr)\n",
    "\n",
    "p2_acc.append(accuracy)\n",
    "p2_tpr.append(tpr)\n",
    "p2_fnr.append(fnr)\n",
    "p2_f1.append(f1)"
   ]
  },
  {
   "cell_type": "markdown",
   "metadata": {},
   "source": [
    "#### Support Vector Machine (SVM):"
   ]
  },
  {
   "cell_type": "code",
   "execution_count": 27,
   "metadata": {},
   "outputs": [],
   "source": [
    "svm_clf = LinearSVC(random_state=15, tol=1e-5)\n",
    "\n",
    "tn,tp, fn, fp = validacion_cruzada(svm_clf, data, target, 5)\n",
    "\n",
    "accuracy = (tn+tp)/(tn+tp+fn+fp)\n",
    "tpr = tp/(tp+fn)\n",
    "tnr = tn/(tn+fp)\n",
    "fpr = fp/(tn+fp)\n",
    "fnr = fn/(tp+fn)\n",
    "ppv = tp/(tp+fp)\n",
    "auc = (1+tpr-fpr)/2\n",
    "Gmean = m.sqrt(tpr*tnr)\n",
    "f1 = (2*tp)/(2*tp+fp+fn)\n",
    "Gmeasure = m.sqrt(ppv*tpr)\n",
    "\n",
    "p2_acc.append(accuracy)\n",
    "p2_tpr.append(tpr)\n",
    "p2_fnr.append(fnr)\n",
    "p2_f1.append(f1)"
   ]
  },
  {
   "cell_type": "markdown",
   "metadata": {},
   "source": [
    "#### K-nn:"
   ]
  },
  {
   "cell_type": "code",
   "execution_count": 28,
   "metadata": {},
   "outputs": [],
   "source": [
    "knn_clf = KNeighborsClassifier(n_neighbors=5)\n",
    "\n",
    "tn,tp, fn, fp = validacion_cruzada(knn_clf, data, target, 5)\n",
    "\n",
    "accuracy = (tn+tp)/(tn+tp+fn+fp)\n",
    "tpr = tp/(tp+fn)\n",
    "tnr = tn/(tn+fp)\n",
    "fpr = fp/(tn+fp)\n",
    "fnr = fn/(tp+fn)\n",
    "ppv = tp/(tp+fp)\n",
    "auc = (1+tpr-fpr)/2\n",
    "Gmean = m.sqrt(tpr*tnr)\n",
    "f1 = (2*tp)/(2*tp+fp+fn)\n",
    "Gmeasure = m.sqrt(ppv*tpr)\n",
    "\n",
    "p2_acc.append(accuracy)\n",
    "p2_tpr.append(tpr)\n",
    "p2_fnr.append(fnr)\n",
    "p2_f1.append(f1)"
   ]
  },
  {
   "cell_type": "markdown",
   "metadata": {},
   "source": [
    "#### Árbol de decisión:"
   ]
  },
  {
   "cell_type": "code",
   "execution_count": 29,
   "metadata": {},
   "outputs": [],
   "source": [
    "tree_clf = DecisionTreeClassifier(random_state=15)\n",
    "\n",
    "tn,tp, fn, fp = validacion_cruzada(tree_clf, data, target, 5)\n",
    "\n",
    "accuracy = (tn+tp)/(tn+tp+fn+fp)\n",
    "tpr = tp/(tp+fn)\n",
    "tnr = tn/(tn+fp)\n",
    "fpr = fp/(tn+fp)\n",
    "fnr = fn/(tp+fn)\n",
    "ppv = tp/(tp+fp)\n",
    "auc = (1+tpr-fpr)/2\n",
    "Gmean = m.sqrt(tpr*tnr)\n",
    "f1 = (2*tp)/(2*tp+fp+fn)\n",
    "Gmeasure = m.sqrt(ppv*tpr)\n",
    "\n",
    "p2_acc.append(accuracy)\n",
    "p2_tpr.append(tpr)\n",
    "p2_fnr.append(fnr)\n",
    "p2_f1.append(f1)"
   ]
  },
  {
   "cell_type": "markdown",
   "metadata": {},
   "source": [
    "#### Multilayer Perceptron (MLP):"
   ]
  },
  {
   "cell_type": "code",
   "execution_count": 30,
   "metadata": {},
   "outputs": [],
   "source": [
    "mlp_clf = MLPClassifier(random_state=15, hidden_layer_sizes=(150,150),activation='tanh',max_iter=800,early_stopping=True)\n",
    "\n",
    "tn,tp, fn, fp = validacion_cruzada(mlp_clf, data, target, 5)\n",
    "\n",
    "accuracy = (tn+tp)/(tn+tp+fn+fp)\n",
    "tpr = tp/(tp+fn)\n",
    "tnr = tn/(tn+fp)\n",
    "fpr = fp/(tn+fp)\n",
    "fnr = fn/(tp+fn)\n",
    "ppv = tp/(tp+fp)\n",
    "auc = (1+tpr-fpr)/2\n",
    "Gmean = m.sqrt(tpr*tnr)\n",
    "f1 = (2*tp)/(2*tp+fp+fn)\n",
    "Gmeasure = m.sqrt(ppv*tpr)\n",
    "\n",
    "p2_acc.append(accuracy)\n",
    "p2_tpr.append(tpr)\n",
    "p2_fnr.append(fnr)\n",
    "p2_f1.append(f1)"
   ]
  },
  {
   "cell_type": "markdown",
   "metadata": {},
   "source": [
    "#### Random Forest (RF):"
   ]
  },
  {
   "cell_type": "code",
   "execution_count": 31,
   "metadata": {},
   "outputs": [],
   "source": [
    "rf_clf = RandomForestClassifier(random_state=15, n_estimators=150)\n",
    "\n",
    "tn,tp, fn, fp = validacion_cruzada(rf_clf, data, target, 5)\n",
    "\n",
    "accuracy = (tn+tp)/(tn+tp+fn+fp)\n",
    "tpr = tp/(tp+fn)\n",
    "tnr = tn/(tn+fp)\n",
    "fpr = fp/(tn+fp)\n",
    "fnr = fn/(tp+fn)\n",
    "ppv = tp/(tp+fp)\n",
    "auc = (1+tpr-fpr)/2\n",
    "Gmean = m.sqrt(tpr*tnr)\n",
    "f1 = (2*tp)/(2*tp+fp+fn)\n",
    "Gmeasure = m.sqrt(ppv*tpr)\n",
    "\n",
    "p2_acc.append(accuracy)\n",
    "p2_tpr.append(tpr)\n",
    "p2_fnr.append(fnr)\n",
    "p2_f1.append(f1)"
   ]
  },
  {
   "cell_type": "markdown",
   "metadata": {},
   "source": [
    "### Visualización de métricas"
   ]
  },
  {
   "cell_type": "code",
   "execution_count": 32,
   "metadata": {},
   "outputs": [
    {
     "data": {
      "text/plain": [
       "Text(0.5, 1.0, 'P2 - Accuracy')"
      ]
     },
     "execution_count": 32,
     "metadata": {},
     "output_type": "execute_result"
    },
    {
     "data": {
      "image/png": "[encoded data removed]",
      "text/plain": [
       "<Figure size 432x288 with 1 Axes>"
      ]
     },
     "metadata": {
      "needs_background": "light"
     },
     "output_type": "display_data"
    }
   ],
   "source": [
    "fig, ax = plt.subplots()\n",
    "ax.bar([\"ZeroR\", \"SVM\", \"K-nn\", \"Árbol\", \"MLP\", \"RF\"], p2_acc, color='green')\n",
    "ax.set_title(\"P2 - Accuracy\")"
   ]
  },
  {
   "cell_type": "code",
   "execution_count": 33,
   "metadata": {},
   "outputs": [
    {
     "data": {
      "text/plain": [
       "Text(0.5, 1.0, 'P2- F1-Score')"
      ]
     },
     "execution_count": 33,
     "metadata": {},
     "output_type": "execute_result"
    },
    {
     "data": {
      "image/png": "[encoded data removed]",
      "text/plain": [
       "<Figure size 432x288 with 1 Axes>"
      ]
     },
     "metadata": {
      "needs_background": "light"
     },
     "output_type": "display_data"
    }
   ],
   "source": [
    "fig, ax = plt.subplots()\n",
    "ax.bar([\"ZeroR\", \"SVM\", \"K-nn\", \"Árbol\", \"MLP\", \"RF\"], p2_f1, color='green')\n",
    "ax.set_title(\"P2- F1-Score\")"
   ]
  },
  {
   "cell_type": "code",
   "execution_count": 34,
   "metadata": {},
   "outputs": [
    {
     "data": {
      "text/plain": [
       "Text(0.5, 1.0, 'P2 - TPR')"
      ]
     },
     "execution_count": 34,
     "metadata": {},
     "output_type": "execute_result"
    },
    {
     "data": {
      "image/png": "[encoded data removed]",
      "text/plain": [
       "<Figure size 432x288 with 1 Axes>"
      ]
     },
     "metadata": {
      "needs_background": "light"
     },
     "output_type": "display_data"
    }
   ],
   "source": [
    "fig, ax = plt.subplots()\n",
    "ax.bar([\"ZeroR\", \"SVM\", \"K-nn\", \"Árbol\", \"MLP\", \"RF\"], p2_tpr, color='green')\n",
    "ax.set_title(\"P2 - TPR\")"
   ]
  },
  {
   "cell_type": "code",
   "execution_count": 35,
   "metadata": {},
   "outputs": [
    {
     "data": {
      "text/plain": [
       "Text(0.5, 1.0, 'P2 - FNR')"
      ]
     },
     "execution_count": 35,
     "metadata": {},
     "output_type": "execute_result"
    },
    {
     "data": {
      "image/png": "[encoded data removed]",
      "text/plain": [
       "<Figure size 432x288 with 1 Axes>"
      ]
     },
     "metadata": {
      "needs_background": "light"
     },
     "output_type": "display_data"
    }
   ],
   "source": [
    "fig, ax = plt.subplots()\n",
    "ax.bar([\"ZeroR\", \"SVM\", \"K-nn\", \"Árbol\", \"MLP\", \"RF\"], p2_fnr, color='green')\n",
    "ax.set_title(\"P2 - FNR\")"
   ]
  },
  {
   "cell_type": "markdown",
   "metadata": {},
   "source": [
    "## Preprocesado 3:"
   ]
  },
  {
   "cell_type": "markdown",
   "metadata": {},
   "source": [
    "Eliminamos la característica Densidad por su baja varianza y eliminamos los datos con valores perdidos."
   ]
  },
  {
   "cell_type": "code",
   "execution_count": 36,
   "metadata": {},
   "outputs": [],
   "source": [
    "p3_datos = datos.copy()"
   ]
  },
  {
   "cell_type": "code",
   "execution_count": 37,
   "metadata": {},
   "outputs": [],
   "source": [
    "del(p3_datos['Density'])"
   ]
  },
  {
   "cell_type": "code",
   "execution_count": 38,
   "metadata": {},
   "outputs": [],
   "source": [
    "p3_datos = p3_datos.dropna()"
   ]
  },
  {
   "cell_type": "markdown",
   "metadata": {},
   "source": [
    "### Separación entre datos y objetivo"
   ]
  },
  {
   "cell_type": "code",
   "execution_count": 39,
   "metadata": {},
   "outputs": [],
   "source": [
    "# Separamos las columnas con los datos de la etiqueta a predecir\n",
    "cols = [col for col in p3_datos.columns if col not in ['Severity']]\n",
    "data = p3_datos[cols]\n",
    "target = p3_datos['Severity']"
   ]
  },
  {
   "cell_type": "code",
   "execution_count": 40,
   "metadata": {},
   "outputs": [
    {
     "name": "stdout",
     "output_type": "stream",
     "text": [
      "Hay 429 malignos y 479 benignos.\n"
     ]
    }
   ],
   "source": [
    "# Mostramos si los datos están o no balanceados (Para ver si accuracy es una buena medida)\n",
    "malignos = 0\n",
    "for i in target:\n",
    "    if i == 1:\n",
    "        malignos += 1\n",
    "\n",
    "benignos = len(target) - malignos\n",
    "print(\"Hay \" + str(malignos) + \" malignos y \" + str(benignos) + \" benignos.\")"
   ]
  },
  {
   "cell_type": "markdown",
   "metadata": {},
   "source": [
    "### Modelos:"
   ]
  },
  {
   "cell_type": "code",
   "execution_count": 41,
   "metadata": {},
   "outputs": [],
   "source": [
    "# Creamos los vectores que usaremos para visualizar los datos\n",
    "p3_acc = []\n",
    "p3_tpr = []\n",
    "p3_fnr = []\n",
    "p3_f1 = []"
   ]
  },
  {
   "cell_type": "markdown",
   "metadata": {},
   "source": [
    "### ZeroR:"
   ]
  },
  {
   "cell_type": "code",
   "execution_count": 42,
   "metadata": {},
   "outputs": [],
   "source": [
    "dummy_clf = DummyClassifier(strategy=\"most_frequent\")\n",
    "\n",
    "tn,tp, fn, fp = validacion_cruzada(dummy_clf, data, target, 5)\n",
    "\n",
    "accuracy = (tn+tp)/(tn+tp+fn+fp)\n",
    "tpr = tp/(tp+fn)\n",
    "tnr = tn/(tn+fp)\n",
    "fpr = fp/(tn+fp)\n",
    "fnr = fn/(tp+fn)\n",
    "#ppv = tp/(tp+fp)\n",
    "auc = (1+tpr-fpr)/2\n",
    "Gmean = m.sqrt(tpr*tnr)\n",
    "f1 = (2*tp)/(2*tp+fp+fn)\n",
    "#Gmeasure = m.sqrt(ppv*tpr)\n",
    "\n",
    "p3_acc.append(accuracy)\n",
    "p3_tpr.append(tpr)\n",
    "p3_fnr.append(fnr)\n",
    "p3_f1.append(f1)"
   ]
  },
  {
   "cell_type": "markdown",
   "metadata": {},
   "source": [
    "### Support Vector Machine (SVM):"
   ]
  },
  {
   "cell_type": "code",
   "execution_count": 43,
   "metadata": {},
   "outputs": [],
   "source": [
    "svm_clf = LinearSVC(random_state=15, tol=1e-5)\n",
    "\n",
    "tn,tp, fn, fp = validacion_cruzada(svm_clf, data, target, 5)\n",
    "\n",
    "accuracy = (tn+tp)/(tn+tp+fn+fp)\n",
    "tpr = tp/(tp+fn)\n",
    "tnr = tn/(tn+fp)\n",
    "fpr = fp/(tn+fp)\n",
    "fnr = fn/(tp+fn)\n",
    "ppv = tp/(tp+fp)\n",
    "auc = (1+tpr-fpr)/2\n",
    "Gmean = m.sqrt(tpr*tnr)\n",
    "f1 = (2*tp)/(2*tp+fp+fn)\n",
    "Gmeasure = m.sqrt(ppv*tpr)\n",
    "\n",
    "p3_acc.append(accuracy)\n",
    "p3_tpr.append(tpr)\n",
    "p3_fnr.append(fnr)\n",
    "p3_f1.append(f1)"
   ]
  },
  {
   "cell_type": "markdown",
   "metadata": {},
   "source": [
    "### k-nn:"
   ]
  },
  {
   "cell_type": "code",
   "execution_count": 44,
   "metadata": {},
   "outputs": [],
   "source": [
    "knn_clf = KNeighborsClassifier(n_neighbors=5)\n",
    "\n",
    "tn,tp, fn, fp = validacion_cruzada(knn_clf, data, target, 5)\n",
    "\n",
    "accuracy = (tn+tp)/(tn+tp+fn+fp)\n",
    "tpr = tp/(tp+fn)\n",
    "tnr = tn/(tn+fp)\n",
    "fpr = fp/(tn+fp)\n",
    "fnr = fn/(tp+fn)\n",
    "ppv = tp/(tp+fp)\n",
    "auc = (1+tpr-fpr)/2\n",
    "Gmean = m.sqrt(tpr*tnr)\n",
    "f1 = (2*tp)/(2*tp+fp+fn)\n",
    "Gmeasure = m.sqrt(ppv*tpr)\n",
    "\n",
    "p3_acc.append(accuracy)\n",
    "p3_tpr.append(tpr)\n",
    "p3_fnr.append(fnr)\n",
    "p3_f1.append(f1)"
   ]
  },
  {
   "cell_type": "markdown",
   "metadata": {},
   "source": [
    "### Árbol de decisión:"
   ]
  },
  {
   "cell_type": "code",
   "execution_count": 45,
   "metadata": {},
   "outputs": [],
   "source": [
    "tree_clf = DecisionTreeClassifier(random_state=15)\n",
    "\n",
    "tn,tp, fn, fp = validacion_cruzada(tree_clf, data, target, 5)\n",
    "\n",
    "accuracy = (tn+tp)/(tn+tp+fn+fp)\n",
    "tpr = tp/(tp+fn)\n",
    "tnr = tn/(tn+fp)\n",
    "fpr = fp/(tn+fp)\n",
    "fnr = fn/(tp+fn)\n",
    "ppv = tp/(tp+fp)\n",
    "auc = (1+tpr-fpr)/2\n",
    "Gmean = m.sqrt(tpr*tnr)\n",
    "f1 = (2*tp)/(2*tp+fp+fn)\n",
    "Gmeasure = m.sqrt(ppv*tpr)\n",
    "\n",
    "p3_acc.append(accuracy)\n",
    "p3_tpr.append(tpr)\n",
    "p3_fnr.append(fnr)\n",
    "p3_f1.append(f1)"
   ]
  },
  {
   "cell_type": "markdown",
   "metadata": {},
   "source": [
    "### Multilayer Perceptron (MLP):"
   ]
  },
  {
   "cell_type": "code",
   "execution_count": 46,
   "metadata": {},
   "outputs": [],
   "source": [
    "mlp_clf = MLPClassifier(random_state=15, hidden_layer_sizes=(150,150),activation='tanh',max_iter=800,early_stopping=True)\n",
    "\n",
    "tn,tp, fn, fp = validacion_cruzada(mlp_clf, data, target, 5)\n",
    "\n",
    "accuracy = (tn+tp)/(tn+tp+fn+fp)\n",
    "tpr = tp/(tp+fn)\n",
    "tnr = tn/(tn+fp)\n",
    "fpr = fp/(tn+fp)\n",
    "fnr = fn/(tp+fn)\n",
    "ppv = tp/(tp+fp)\n",
    "auc = (1+tpr-fpr)/2\n",
    "Gmean = m.sqrt(tpr*tnr)\n",
    "f1 = (2*tp)/(2*tp+fp+fn)\n",
    "Gmeasure = m.sqrt(ppv*tpr)\n",
    "\n",
    "p3_acc.append(accuracy)\n",
    "p3_tpr.append(tpr)\n",
    "p3_fnr.append(fnr)\n",
    "p3_f1.append(f1)"
   ]
  },
  {
   "cell_type": "markdown",
   "metadata": {},
   "source": [
    "### Random Forest (RF):"
   ]
  },
  {
   "cell_type": "code",
   "execution_count": 47,
   "metadata": {},
   "outputs": [],
   "source": [
    "rf_clf = RandomForestClassifier(random_state=15, n_estimators=150)\n",
    "\n",
    "tn,tp, fn, fp = validacion_cruzada(rf_clf, data, target, 5)\n",
    "\n",
    "accuracy = (tn+tp)/(tn+tp+fn+fp)\n",
    "tpr = tp/(tp+fn)\n",
    "tnr = tn/(tn+fp)\n",
    "fpr = fp/(tn+fp)\n",
    "fnr = fn/(tp+fn)\n",
    "ppv = tp/(tp+fp)\n",
    "auc = (1+tpr-fpr)/2\n",
    "Gmean = m.sqrt(tpr*tnr)\n",
    "f1 = (2*tp)/(2*tp+fp+fn)\n",
    "Gmeasure = m.sqrt(ppv*tpr)\n",
    "\n",
    "p3_acc.append(accuracy)\n",
    "p3_tpr.append(tpr)\n",
    "p3_fnr.append(fnr)\n",
    "p3_f1.append(f1)"
   ]
  },
  {
   "cell_type": "markdown",
   "metadata": {},
   "source": [
    "### Visualizando las métricas"
   ]
  },
  {
   "cell_type": "code",
   "execution_count": 48,
   "metadata": {},
   "outputs": [
    {
     "data": {
      "text/plain": [
       "Text(0.5, 1.0, 'P3 - Accuracy')"
      ]
     },
     "execution_count": 48,
     "metadata": {},
     "output_type": "execute_result"
    },
    {
     "data": {
      "image/png": "[encoded data removed]",
      "text/plain": [
       "<Figure size 432x288 with 1 Axes>"
      ]
     },
     "metadata": {
      "needs_background": "light"
     },
     "output_type": "display_data"
    }
   ],
   "source": [
    "fig, ax = plt.subplots()\n",
    "ax.bar([\"ZeroR\", \"SVM\", \"K-nn\", \"Árbol\", \"MLP\", \"RF\"], p3_acc, color='green')\n",
    "ax.set_title(\"P3 - Accuracy\")"
   ]
  },
  {
   "cell_type": "code",
   "execution_count": 49,
   "metadata": {},
   "outputs": [
    {
     "data": {
      "text/plain": [
       "Text(0.5, 1.0, 'P3 - F1-Score')"
      ]
     },
     "execution_count": 49,
     "metadata": {},
     "output_type": "execute_result"
    },
    {
     "data": {
      "image/png": "[encoded data removed]",
      "text/plain": [
       "<Figure size 432x288 with 1 Axes>"
      ]
     },
     "metadata": {
      "needs_background": "light"
     },
     "output_type": "display_data"
    }
   ],
   "source": [
    "fig, ax = plt.subplots()\n",
    "ax.bar([\"ZeroR\", \"SVM\", \"K-nn\", \"Árbol\", \"MLP\", \"RF\"], p3_f1, color='green')\n",
    "ax.set_title(\"P3 - F1-Score\")"
   ]
  },
  {
   "cell_type": "code",
   "execution_count": 50,
   "metadata": {},
   "outputs": [
    {
     "data": {
      "text/plain": [
       "Text(0.5, 1.0, 'P3 - TPR')"
      ]
     },
     "execution_count": 50,
     "metadata": {},
     "output_type": "execute_result"
    },
    {
     "data": {
      "image/png": "[encoded data removed]",
      "text/plain": [
       "<Figure size 432x288 with 1 Axes>"
      ]
     },
     "metadata": {
      "needs_background": "light"
     },
     "output_type": "display_data"
    }
   ],
   "source": [
    "fig, ax = plt.subplots()\n",
    "ax.bar([\"ZeroR\", \"SVM\", \"K-nn\", \"Árbol\", \"MLP\", \"RF\"], p3_tpr, color='green')\n",
    "ax.set_title(\"P3 - TPR\")"
   ]
  },
  {
   "cell_type": "code",
   "execution_count": 51,
   "metadata": {
    "scrolled": true
   },
   "outputs": [
    {
     "data": {
      "text/plain": [
       "Text(0.5, 1.0, 'P3 - FNR')"
      ]
     },
     "execution_count": 51,
     "metadata": {},
     "output_type": "execute_result"
    },
    {
     "data": {
      "image/png": "[encoded data removed]",
      "text/plain": [
       "<Figure size 432x288 with 1 Axes>"
      ]
     },
     "metadata": {
      "needs_background": "light"
     },
     "output_type": "display_data"
    }
   ],
   "source": [
    "fig, ax = plt.subplots()\n",
    "ax.bar([\"ZeroR\", \"SVM\", \"K-nn\", \"Árbol\", \"MLP\", \"RF\"], p3_fnr, color='green')\n",
    "ax.set_title(\"P3 - FNR\")"
   ]
  },
  {
   "cell_type": "markdown",
   "metadata": {},
   "source": [
    "##### Comparación de cada modelo:"
   ]
  },
  {
   "cell_type": "code",
   "execution_count": 52,
   "metadata": {},
   "outputs": [],
   "source": [
    "# Vectores con F1-Score de cada modelo\n",
    "v_zeror = [p1_f1[0], p2_f1[0], p3_f1[0]]\n",
    "v_svm   = [p1_f1[1], p2_f1[1], p3_f1[1]]\n",
    "v_knn   = [p1_f1[2], p2_f1[2], p3_f1[2]]\n",
    "v_arbol = [p1_f1[3], p2_f1[3], p3_f1[3]]\n",
    "v_mlp   = [p1_f1[4], p2_f1[4], p3_f1[4]]\n",
    "v_rf    = [p1_f1[5], p2_f1[5], p3_f1[5]]"
   ]
  },
  {
   "cell_type": "code",
   "execution_count": 53,
   "metadata": {
    "scrolled": true
   },
   "outputs": [
    {
     "data": {
      "text/plain": [
       "Text(0.5, 1.0, 'ZeroR')"
      ]
     },
     "execution_count": 53,
     "metadata": {},
     "output_type": "execute_result"
    },
    {
     "data": {
      "image/png": "[encoded data removed]",
      "text/plain": [
       "<Figure size 432x288 with 1 Axes>"
      ]
     },
     "metadata": {
      "needs_background": "light"
     },
     "output_type": "display_data"
    }
   ],
   "source": [
    "fig, ax = plt.subplots()\n",
    "ax.bar([\"P1\", \"P2\", \"P3\"], v_zeror, color='blue')\n",
    "ax.set_title(\"ZeroR\")"
   ]
  },
  {
   "cell_type": "code",
   "execution_count": 54,
   "metadata": {},
   "outputs": [
    {
     "data": {
      "text/plain": [
       "Text(0.5, 1.0, 'SVM')"
      ]
     },
     "execution_count": 54,
     "metadata": {},
     "output_type": "execute_result"
    },
    {
     "data": {
      "image/png": "[encoded data removed]",
      "text/plain": [
       "<Figure size 432x288 with 1 Axes>"
      ]
     },
     "metadata": {
      "needs_background": "light"
     },
     "output_type": "display_data"
    }
   ],
   "source": [
    "fig, ax = plt.subplots()\n",
    "ax.bar([\"P1\", \"P2\", \"P3\"], v_svm, color='blue')\n",
    "ax.set_title(\"SVM\")"
   ]
  },
  {
   "cell_type": "code",
   "execution_count": 55,
   "metadata": {},
   "outputs": [
    {
     "data": {
      "text/plain": [
       "Text(0.5, 1.0, 'K-nn')"
      ]
     },
     "execution_count": 55,
     "metadata": {},
     "output_type": "execute_result"
    },
    {
     "data": {
      "image/png": "[encoded data removed]",
      "text/plain": [
       "<Figure size 432x288 with 1 Axes>"
      ]
     },
     "metadata": {
      "needs_background": "light"
     },
     "output_type": "display_data"
    }
   ],
   "source": [
    "fig, ax = plt.subplots()\n",
    "ax.bar([\"P1\", \"P2\", \"P3\"], v_knn, color='blue')\n",
    "ax.set_title(\"K-nn\")"
   ]
  },
  {
   "cell_type": "code",
   "execution_count": 56,
   "metadata": {},
   "outputs": [
    {
     "data": {
      "text/plain": [
       "Text(0.5, 1.0, 'Árbol de decisión')"
      ]
     },
     "execution_count": 56,
     "metadata": {},
     "output_type": "execute_result"
    },
    {
     "data": {
      "image/png": "[encoded data removed]",
      "text/plain": [
       "<Figure size 432x288 with 1 Axes>"
      ]
     },
     "metadata": {
      "needs_background": "light"
     },
     "output_type": "display_data"
    }
   ],
   "source": [
    "fig, ax = plt.subplots()\n",
    "ax.bar([\"P1\", \"P2\", \"P3\"], v_arbol, color='blue')\n",
    "ax.set_title(\"Árbol de decisión\")"
   ]
  },
  {
   "cell_type": "code",
   "execution_count": 57,
   "metadata": {},
   "outputs": [
    {
     "data": {
      "text/plain": [
       "Text(0.5, 1.0, 'MLP')"
      ]
     },
     "execution_count": 57,
     "metadata": {},
     "output_type": "execute_result"
    },
    {
     "data": {
      "image/png": "[encoded data removed]",
      "text/plain": [
       "<Figure size 432x288 with 1 Axes>"
      ]
     },
     "metadata": {
      "needs_background": "light"
     },
     "output_type": "display_data"
    }
   ],
   "source": [
    "fig, ax = plt.subplots()\n",
    "ax.bar([\"P1\", \"P2\", \"P3\"], v_mlp, color='blue')\n",
    "ax.set_title(\"MLP\")"
   ]
  },
  {
   "cell_type": "code",
   "execution_count": 58,
   "metadata": {},
   "outputs": [
    {
     "data": {
      "text/plain": [
       "Text(0.5, 1.0, 'RF')"
      ]
     },
     "execution_count": 58,
     "metadata": {},
     "output_type": "execute_result"
    },
    {
     "data": {
      "image/png": "[encoded data removed]",
      "text/plain": [
       "<Figure size 432x288 with 1 Axes>"
      ]
     },
     "metadata": {
      "needs_background": "light"
     },
     "output_type": "display_data"
    }
   ],
   "source": [
    "fig, ax = plt.subplots()\n",
    "ax.bar([\"P1\", \"P2\", \"P3\"], v_rf, color='blue')\n",
    "ax.set_title(\"RF\")"
   ]
  },
  {
   "cell_type": "markdown",
   "metadata": {},
   "source": [
    "## Modelos con hiperparámetros finales:"
   ]
  },
  {
   "cell_type": "markdown",
   "metadata": {},
   "source": [
    "### ZeroR:"
   ]
  },
  {
   "cell_type": "code",
   "execution_count": 59,
   "metadata": {},
   "outputs": [],
   "source": [
    "dummy_clf = DummyClassifier(strategy=\"most_frequent\")\n",
    "tn,tp, fn, fp = validacion_cruzada(dummy_clf, data, target, 5)"
   ]
  },
  {
   "cell_type": "markdown",
   "metadata": {},
   "source": [
    "### SVM:"
   ]
  },
  {
   "cell_type": "code",
   "execution_count": 60,
   "metadata": {},
   "outputs": [],
   "source": [
    "svm_clf = LinearSVC(random_state=15, tol=1e-5)\n",
    "tn,tp, fn, fp = validacion_cruzada(svm_clf, data, target, 5)"
   ]
  },
  {
   "cell_type": "markdown",
   "metadata": {},
   "source": [
    "### k-nn:"
   ]
  },
  {
   "cell_type": "code",
   "execution_count": 61,
   "metadata": {},
   "outputs": [],
   "source": [
    "knn_clf = KNeighborsClassifier(n_neighbors=9)\n",
    "tn,tp, fn, fp = validacion_cruzada(knn_clf, data, target, 5)"
   ]
  },
  {
   "cell_type": "markdown",
   "metadata": {},
   "source": [
    "### Árbol de decisión"
   ]
  },
  {
   "cell_type": "code",
   "execution_count": 62,
   "metadata": {},
   "outputs": [],
   "source": [
    "tree_clf = DecisionTreeClassifier(random_state=15, ccp_alpha=0.003)\n",
    "tn,tp, fn, fp = validacion_cruzada(tree_clf, data, target, 5)"
   ]
  },
  {
   "cell_type": "markdown",
   "metadata": {},
   "source": [
    "### Multilayer Peerceptron (MLP):"
   ]
  },
  {
   "cell_type": "code",
   "execution_count": 63,
   "metadata": {},
   "outputs": [],
   "source": [
    "mlp_clf = MLPClassifier(random_state=15, hidden_layer_sizes=(150,150),activation='tanh',max_iter=800,early_stopping=True)\n",
    "tn,tp, fn, fp = validacion_cruzada(mlp_clf, data, target, 5)"
   ]
  },
  {
   "cell_type": "markdown",
   "metadata": {},
   "source": [
    "### Random Forest (RF):"
   ]
  },
  {
   "cell_type": "code",
   "execution_count": 64,
   "metadata": {},
   "outputs": [],
   "source": [
    "rf_clf = RandomForestClassifier(random_state=15, n_estimators=160, criterion = \"entropy\", ccp_alpha= 0.008)\n",
    "tn,tp, fn, fp = validacion_cruzada(rf_clf, data, target, 5)"
   ]
  },
  {
   "cell_type": "markdown",
   "metadata": {},
   "source": [
    "## Curva Roc:"
   ]
  },
  {
   "cell_type": "code",
   "execution_count": 65,
   "metadata": {},
   "outputs": [],
   "source": [
    "scaler = MinMaxScaler()\n",
    "data = scaler.fit_transform(data)"
   ]
  },
  {
   "cell_type": "code",
   "execution_count": 66,
   "metadata": {
    "scrolled": false
   },
   "outputs": [
    {
     "data": {
      "image/png": "[encoded data removed]",
      "text/plain": [
       "<Figure size 432x288 with 1 Axes>"
      ]
     },
     "metadata": {
      "needs_background": "light"
     },
     "output_type": "display_data"
    }
   ],
   "source": [
    "ax = plt.gca()\n",
    "\n",
    "for model in [dummy_clf, svm_clf, knn_clf, tree_clf, mlp_clf, rf_clf]:\n",
    "    metrics.plot_roc_curve(model, data, target, ax=ax)  "
   ]
  },
  {
   "cell_type": "markdown",
   "metadata": {},
   "source": [
    "## Análisis de atributos"
   ]
  },
  {
   "cell_type": "code",
   "execution_count": 67,
   "metadata": {},
   "outputs": [],
   "source": [
    "sns.set_theme()"
   ]
  },
  {
   "cell_type": "code",
   "execution_count": 143,
   "metadata": {},
   "outputs": [
    {
     "name": "stdout",
     "output_type": "stream",
     "text": [
      "[4 3 1 0 2]\n"
     ]
    },
    {
     "data": {
      "text/html": [
       "<div>\n",
       "<style scoped>\n",
       "    .dataframe tbody tr th:only-of-type {\n",
       "        vertical-align: middle;\n",
       "    }\n",
       "\n",
       "    .dataframe tbody tr th {\n",
       "        vertical-align: top;\n",
       "    }\n",
       "\n",
       "    .dataframe thead th {\n",
       "        text-align: right;\n",
       "    }\n",
       "</style>\n",
       "<table border=\"1\" class=\"dataframe\">\n",
       "  <thead>\n",
       "    <tr style=\"text-align: right;\">\n",
       "      <th></th>\n",
       "      <th>BI-RADS</th>\n",
       "      <th>Age</th>\n",
       "      <th>Shape</th>\n",
       "      <th>Margin</th>\n",
       "      <th>Density</th>\n",
       "      <th>Severity</th>\n",
       "    </tr>\n",
       "  </thead>\n",
       "  <tbody>\n",
       "    <tr>\n",
       "      <th>0</th>\n",
       "      <td>5.0</td>\n",
       "      <td>67.0</td>\n",
       "      <td>1</td>\n",
       "      <td>5.0</td>\n",
       "      <td>3.0</td>\n",
       "      <td>maligno</td>\n",
       "    </tr>\n",
       "    <tr>\n",
       "      <th>1</th>\n",
       "      <td>4.0</td>\n",
       "      <td>43.0</td>\n",
       "      <td>4</td>\n",
       "      <td>1.0</td>\n",
       "      <td>NaN</td>\n",
       "      <td>maligno</td>\n",
       "    </tr>\n",
       "    <tr>\n",
       "      <th>2</th>\n",
       "      <td>5.0</td>\n",
       "      <td>58.0</td>\n",
       "      <td>0</td>\n",
       "      <td>5.0</td>\n",
       "      <td>3.0</td>\n",
       "      <td>maligno</td>\n",
       "    </tr>\n",
       "    <tr>\n",
       "      <th>3</th>\n",
       "      <td>4.0</td>\n",
       "      <td>28.0</td>\n",
       "      <td>4</td>\n",
       "      <td>1.0</td>\n",
       "      <td>3.0</td>\n",
       "      <td>benigno</td>\n",
       "    </tr>\n",
       "    <tr>\n",
       "      <th>4</th>\n",
       "      <td>5.0</td>\n",
       "      <td>74.0</td>\n",
       "      <td>4</td>\n",
       "      <td>5.0</td>\n",
       "      <td>NaN</td>\n",
       "      <td>maligno</td>\n",
       "    </tr>\n",
       "  </tbody>\n",
       "</table>\n",
       "</div>"
      ],
      "text/plain": [
       "   BI-RADS   Age  Shape  Margin  Density Severity\n",
       "0      5.0  67.0      1     5.0      3.0  maligno\n",
       "1      4.0  43.0      4     1.0      NaN  maligno\n",
       "2      5.0  58.0      0     5.0      3.0  maligno\n",
       "3      4.0  28.0      4     1.0      3.0  benigno\n",
       "4      5.0  74.0      4     5.0      NaN  maligno"
      ]
     },
     "execution_count": 143,
     "metadata": {},
     "output_type": "execute_result"
    }
   ],
   "source": [
    "datos = pd.read_csv(\"mamografias.csv\", na_values=[\"?\"]) # Leemos los datos del csv\n",
    "# Creamos un objeto Labelencoder\n",
    "le = preprocessing.LabelEncoder()\n",
    "# Convertimos las columnas categóricas en numéricas\n",
    "encoded_value = le.fit_transform([\"R\",\"O\",\"L\",\"I\", \"N\"])\n",
    "\n",
    "print(encoded_value)\n",
    "\n",
    "for col in ['Shape']:\n",
    "    datos[col] = le.fit_transform(datos[col])\n",
    "    \n",
    "datos.head()"
   ]
  },
  {
   "cell_type": "markdown",
   "metadata": {},
   "source": [
    "Contamos cuantos datos son malignos y cuantos benignos y observamos que las clases están más o menos balanceadas."
   ]
  },
  {
   "cell_type": "code",
   "execution_count": 69,
   "metadata": {},
   "outputs": [
    {
     "data": {
      "text/plain": [
       "<matplotlib.axes._subplots.AxesSubplot at 0x7efd36e8d4c0>"
      ]
     },
     "execution_count": 69,
     "metadata": {},
     "output_type": "execute_result"
    },
    {
     "data": {
      "image/png": "[encoded data removed]",
      "text/plain": [
       "<Figure size 432x288 with 1 Axes>"
      ]
     },
     "metadata": {},
     "output_type": "display_data"
    }
   ],
   "source": [
    "sns.countplot(data=datos, x='Severity')"
   ]
  },
  {
   "cell_type": "markdown",
   "metadata": {},
   "source": [
    "Visualizamos los diagramas de cajas de cada atributo dependiendo de si su etiqueta es maligno o benigno. Así tenemos una idea de la distribución de los datos según su etiqueta."
   ]
  },
  {
   "cell_type": "code",
   "execution_count": 70,
   "metadata": {},
   "outputs": [
    {
     "data": {
      "text/plain": [
       "<matplotlib.axes._subplots.AxesSubplot at 0x7efd36ea4a60>"
      ]
     },
     "execution_count": 70,
     "metadata": {},
     "output_type": "execute_result"
    },
    {
     "data": {
      "image/png": "[encoded data removed]",
      "text/plain": [
       "<Figure size 432x288 with 1 Axes>"
      ]
     },
     "metadata": {},
     "output_type": "display_data"
    }
   ],
   "source": [
    "sns.boxplot(data=datos, y='BI-RADS', x='Severity')"
   ]
  },
  {
   "cell_type": "code",
   "execution_count": 71,
   "metadata": {},
   "outputs": [
    {
     "data": {
      "text/plain": [
       "<matplotlib.axes._subplots.AxesSubplot at 0x7efd36deac40>"
      ]
     },
     "execution_count": 71,
     "metadata": {},
     "output_type": "execute_result"
    },
    {
     "data": {
      "image/png": "[encoded data removed]",
      "text/plain": [
       "<Figure size 432x288 with 1 Axes>"
      ]
     },
     "metadata": {},
     "output_type": "display_data"
    }
   ],
   "source": [
    "sns.boxplot(data=datos, y='Age', x='Severity')"
   ]
  },
  {
   "cell_type": "code",
   "execution_count": 72,
   "metadata": {},
   "outputs": [
    {
     "data": {
      "text/plain": [
       "<matplotlib.axes._subplots.AxesSubplot at 0x7efd36da82b0>"
      ]
     },
     "execution_count": 72,
     "metadata": {},
     "output_type": "execute_result"
    },
    {
     "data": {
      "image/png": "[encoded data removed]",
      "text/plain": [
       "<Figure size 432x288 with 1 Axes>"
      ]
     },
     "metadata": {},
     "output_type": "display_data"
    }
   ],
   "source": [
    "sns.boxplot(data=datos, y='Shape', x='Severity')"
   ]
  },
  {
   "cell_type": "code",
   "execution_count": 73,
   "metadata": {},
   "outputs": [
    {
     "data": {
      "text/plain": [
       "<matplotlib.axes._subplots.AxesSubplot at 0x7efd36d0b5e0>"
      ]
     },
     "execution_count": 73,
     "metadata": {},
     "output_type": "execute_result"
    },
    {
     "data": {
      "image/png": "[encoded data removed]",
      "text/plain": [
       "<Figure size 432x288 with 1 Axes>"
      ]
     },
     "metadata": {},
     "output_type": "display_data"
    }
   ],
   "source": [
    "sns.boxplot(data=datos, y='Margin', x='Severity')"
   ]
  },
  {
   "cell_type": "code",
   "execution_count": 74,
   "metadata": {},
   "outputs": [
    {
     "data": {
      "text/plain": [
       "<matplotlib.axes._subplots.AxesSubplot at 0x7efd36cf8340>"
      ]
     },
     "execution_count": 74,
     "metadata": {},
     "output_type": "execute_result"
    },
    {
     "data": {
      "image/png": "[encoded data removed]",
      "text/plain": [
       "<Figure size 432x288 with 1 Axes>"
      ]
     },
     "metadata": {},
     "output_type": "display_data"
    }
   ],
   "source": [
    "sns.boxplot(data=datos, y='Density', x='Severity')"
   ]
  },
  {
   "cell_type": "markdown",
   "metadata": {},
   "source": [
    "Representamos en dos gráficas los datos que toman cada uno de los atributos dependiendo de su etiqueta. Si ambas gráficas son similares, significa que el atributo no aporta información en la clasificación."
   ]
  },
  {
   "cell_type": "code",
   "execution_count": 133,
   "metadata": {},
   "outputs": [
    {
     "data": {
      "text/plain": [
       "Text(0.5, 1.0, 'Benignos')"
      ]
     },
     "execution_count": 133,
     "metadata": {},
     "output_type": "execute_result"
    },
    {
     "data": {
      "image/png": "[encoded data removed]",
      "text/plain": [
       "<Figure size 432x288 with 2 Axes>"
      ]
     },
     "metadata": {},
     "output_type": "display_data"
    }
   ],
   "source": [
    "# Vectores con la suma de elementos dque tiene cada valor de BI-RADS.\n",
    "malignos=[0,0,0,0,0,0,0]\n",
    "benignos=[0,0,0,0,0,0,0]\n",
    "\n",
    "for i in range(len(datos)):\n",
    "    if not m.isnan(datos['BI-RADS'][i]):\n",
    "        if datos['Severity'][i]=='maligno':\n",
    "            malignos[int(datos['BI-RADS'][i])]+=1\n",
    "        benignos[int(datos['BI-RADS'][i])]+=1  \n",
    "\n",
    "# Visualizar la gráfica\n",
    "fig, (ax1, ax2) = plt.subplots(1, 2)\n",
    "ax1.bar([\"0\", \"1\", \"2\", \"3\", \"4\", \"5\", \"6\"], malignos, color='deeppink')\n",
    "ax2.bar([\"0\", \"1\", \"2\", \"3\", \"4\", \"5\", \"6\"], benignos, color='aqua')\n",
    "ax1.set_title(\"Malignos\")\n",
    "ax2.set_title(\"Benignos\")"
   ]
  },
  {
   "cell_type": "code",
   "execution_count": 141,
   "metadata": {},
   "outputs": [
    {
     "name": "stdout",
     "output_type": "stream",
     "text": [
      "La edad máxima es: 96.0\n",
      "La edad mínima es: 18.0\n",
      "Diferencia de edades: 78.0\n"
     ]
    },
    {
     "data": {
      "text/plain": [
       "Text(0.5, 1.0, 'Benignos')"
      ]
     },
     "execution_count": 141,
     "metadata": {},
     "output_type": "execute_result"
    },
    {
     "data": {
      "image/png": "[encoded data removed]",
      "text/plain": [
       "<Figure size 432x288 with 1 Axes>"
      ]
     },
     "metadata": {},
     "output_type": "display_data"
    },
    {
     "data": {
      "image/png": "[encoded data removed]",
      "text/plain": [
       "<Figure size 432x288 with 1 Axes>"
      ]
     },
     "metadata": {},
     "output_type": "display_data"
    }
   ],
   "source": [
    "print(\"La edad máxima es: \" + str(max(datos['Age'])))\n",
    "print(\"La edad mínima es: \" + str(min(datos['Age'])))\n",
    "print(\"Diferencia de edades: \" + str(max(datos['Age'])-min(datos['Age'])))\n",
    "# Como 78 es múltiplo de 6, tomaré 6 conjuntos\n",
    "\n",
    "# Vectores con la suma de elementos dque tiene cada valor de Age.\n",
    "malignos=[0,0,0,0,0,0]\n",
    "benignos=[0,0,0,0,0,0]\n",
    "\n",
    "for i in range(len(datos)):\n",
    "    if not m.isnan(datos['Age'][i]):\n",
    "        if datos['Severity'][i]=='maligno':\n",
    "            if datos['Age'][i]<31:\n",
    "                malignos[0]+=1\n",
    "            elif datos['Age'][i]<44:\n",
    "                malignos[1]+=1\n",
    "            elif datos['Age'][i]<57:\n",
    "                malignos[2]+=1\n",
    "            elif datos['Age'][i]<70:\n",
    "                malignos[3]+=1\n",
    "            elif datos['Age'][i]<83:\n",
    "                malignos[4]+=1\n",
    "            else:\n",
    "                malignos[5]+=1\n",
    "        elif datos['Age'][i]<31:\n",
    "            benignos[0]+=1\n",
    "        elif datos['Age'][i]<44:\n",
    "            benignos[1]+=1\n",
    "        elif datos['Age'][i]<57:\n",
    "            benignos[2]+=1\n",
    "        elif datos['Age'][i]<70:\n",
    "            benignos[3]+=1\n",
    "        elif datos['Age'][i]<83:\n",
    "            benignos[4]+=1\n",
    "        else:\n",
    "            benignos[5]+=1\n",
    "\n",
    "fig, ax1 = plt.subplots()\n",
    "ax1.bar([\"<31\", \"31-44\", \"44-57\", \"57-70\", \"70-83\", \">83\"], malignos, color='deeppink')\n",
    "ax1.set_title(\"Malignos\")\n",
    "\n",
    "fig, ax2 = plt.subplots()\n",
    "ax2.bar([\"<31\", \"31-44\", \"44-57\", \"57-70\", \"70-83\", \">83\"], benignos, color='aqua')\n",
    "ax2.set_title(\"Benignos\")"
   ]
  },
  {
   "cell_type": "code",
   "execution_count": 144,
   "metadata": {},
   "outputs": [
    {
     "data": {
      "text/plain": [
       "Text(0.5, 1.0, 'Benignos')"
      ]
     },
     "execution_count": 144,
     "metadata": {},
     "output_type": "execute_result"
    },
    {
     "data": {
      "image/png": "[encoded data removed]",
      "text/plain": [
       "<Figure size 432x288 with 2 Axes>"
      ]
     },
     "metadata": {},
     "output_type": "display_data"
    }
   ],
   "source": [
    "# Vectores con la suma de elementos dque tiene cada valor de Shape\n",
    "malignos=[0,0,0,0,0]\n",
    "benignos=[0,0,0,0,0]\n",
    "\n",
    "for i in range(len(datos)):\n",
    "    if not m.isnan(datos['Shape'][i]):\n",
    "        if datos['Severity'][i]=='maligno':\n",
    "            malignos[int(datos['Shape'][i])]+=1\n",
    "        benignos[int(datos['Shape'][i])]+=1  \n",
    "\n",
    "# Visualizar la gráfica\n",
    "fig, (ax1, ax2) = plt.subplots(1, 2)\n",
    "ax1.bar([\"I\", \"L\", \"N\", \"O\", \"R\"], malignos, color='deeppink')\n",
    "ax2.bar([\"I\", \"L\", \"N\", \"O\", \"R\"], benignos, color='aqua')\n",
    "ax1.set_title(\"Malignos\")\n",
    "ax2.set_title(\"Benignos\")"
   ]
  },
  {
   "cell_type": "code",
   "execution_count": 149,
   "metadata": {},
   "outputs": [
    {
     "data": {
      "text/plain": [
       "Text(0.5, 1.0, 'Benignos')"
      ]
     },
     "execution_count": 149,
     "metadata": {},
     "output_type": "execute_result"
    },
    {
     "data": {
      "image/png": "[encoded data removed]",
      "text/plain": [
       "<Figure size 432x288 with 2 Axes>"
      ]
     },
     "metadata": {},
     "output_type": "display_data"
    }
   ],
   "source": [
    "# Vectores con la suma de elementos dque tiene cada valor de Margin\n",
    "malignos=[0,0,0,0,0]\n",
    "benignos=[0,0,0,0,0]\n",
    "\n",
    "for i in range(len(datos)):\n",
    "    if not m.isnan(datos['Margin'][i]):\n",
    "        if datos['Severity'][i]=='maligno':\n",
    "            malignos[int(datos['Margin'][i])-1]+=1\n",
    "        benignos[int(datos['Margin'][i])-1]+=1  \n",
    "\n",
    "# Visualizar la gráfica\n",
    "fig, (ax1, ax2) = plt.subplots(1, 2)\n",
    "ax1.bar([\"1\", \"2\", \"3\", \"4\", \"5\"], malignos, color='deeppink')\n",
    "ax2.bar([\"1\", \"2\", \"3\", \"4\", \"5\"], benignos, color='aqua')\n",
    "ax1.set_title(\"Malignos\")\n",
    "ax2.set_title(\"Benignos\")"
   ]
  },
  {
   "cell_type": "code",
   "execution_count": 150,
   "metadata": {},
   "outputs": [
    {
     "data": {
      "text/plain": [
       "Text(0.5, 1.0, 'Benignos')"
      ]
     },
     "execution_count": 150,
     "metadata": {},
     "output_type": "execute_result"
    },
    {
     "data": {
      "image/png": "[encoded data removed]",
      "text/plain": [
       "<Figure size 432x288 with 2 Axes>"
      ]
     },
     "metadata": {},
     "output_type": "display_data"
    }
   ],
   "source": [
    "# Vectores con la suma de elementos dque tiene cada valor de Density\n",
    "malignos=[0,0,0,0]\n",
    "benignos=[0,0,0,0]\n",
    "\n",
    "for i in range(len(datos)):\n",
    "    if not m.isnan(datos['Density'][i]):\n",
    "        if datos['Severity'][i]=='maligno':\n",
    "            malignos[int(datos['Density'][i])-1]+=1\n",
    "        benignos[int(datos['Density'][i])-1]+=1  \n",
    "\n",
    "# Visualizar la gráfica\n",
    "fig, (ax1, ax2) = plt.subplots(1, 2)\n",
    "ax1.bar([\"1\", \"2\", \"3\", \"4\"], malignos, color='deeppink')\n",
    "ax2.bar([\"1\", \"2\", \"3\", \"4\"], benignos, color='aqua')\n",
    "ax1.set_title(\"Malignos\")\n",
    "ax2.set_title(\"Benignos\")"
   ]
  }
 ],
 "metadata": {
  "kernelspec": {
   "display_name": "Python 3",
   "language": "python",
   "name": "python3"
  },
  "language_info": {
   "codemirror_mode": {
    "name": "ipython",
    "version": 3
   },
   "file_extension": ".py",
   "mimetype": "text/x-python",
   "name": "python",
   "nbconvert_exporter": "python",
   "pygments_lexer": "ipython3",
   "version": "3.8.5"
  }
 },
 "nbformat": 4,
 "nbformat_minor": 4
}
