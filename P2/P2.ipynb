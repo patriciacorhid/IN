{
 "cells": [
  {
   "cell_type": "markdown",
   "metadata": {},
   "source": [
    "# Práctica 1"
   ]
  },
  {
   "cell_type": "markdown",
   "metadata": {},
   "source": [
    "### Patricia Córdoba Hidalgo"
   ]
  },
  {
   "cell_type": "markdown",
   "metadata": {},
   "source": [
    "Importamos las librerías que usaremos."
   ]
  },
  {
   "cell_type": "code",
   "execution_count": 1,
   "metadata": {},
   "outputs": [],
   "source": [
    "import pandas as pd\n",
    "import numpy as np\n",
    "import math as m\n",
    "\n",
    "from sklearn import preprocessing\n",
    "from sklearn.model_selection import train_test_split\n",
    "\n",
    "from collections import Counter\n",
    "\n",
    "from sklearn.decomposition import PCA\n",
    "from sklearn.manifold import TSNE\n",
    "import matplotlib.pyplot as plt\n",
    "from sklearn.preprocessing import MinMaxScaler\n",
    "\n",
    "from sklearn.dummy import DummyClassifier\n",
    "from sklearn.svm import LinearSVC\n",
    "from sklearn.neighbors import KNeighborsClassifier\n",
    "from sklearn.neural_network import MLPClassifier\n",
    "from sklearn.ensemble import RandomForestClassifier\n",
    "from sklearn.naive_bayes import GaussianNB\n",
    "from sklearn.tree import DecisionTreeClassifier\n",
    "\n",
    "from sklearn.metrics import confusion_matrix\n",
    "\n",
    "from matplotlib import pyplot as plt\n",
    "from sklearn import tree\n",
    "\n",
    "from mpl_toolkits.mplot3d import Axes3D"
   ]
  },
  {
   "cell_type": "markdown",
   "metadata": {},
   "source": [
    "## Eliminación de atributo no predictivo y cuantificar las columnas categóricas"
   ]
  },
  {
   "cell_type": "code",
   "execution_count": 2,
   "metadata": {},
   "outputs": [],
   "source": [
    "datos = pd.read_csv(\"mamografias.csv\", na_values=[\"?\"]) # Leemos los datos del csv"
   ]
  },
  {
   "cell_type": "code",
   "execution_count": 3,
   "metadata": {},
   "outputs": [
    {
     "data": {
      "text/plain": [
       "BI-RADS     0\n",
       "Age         0\n",
       "Shape       0\n",
       "Margin      0\n",
       "Density     0\n",
       "Severity    0\n",
       "dtype: int64"
      ]
     },
     "execution_count": 3,
     "metadata": {},
     "output_type": "execute_result"
    }
   ],
   "source": [
    "# En la documentación sale que hay un dato con BI-RADS = 55, compruebo si está para eliminarlo en caso positivo\n",
    "# ya que se trataría de un dato con valores erróneos.\n",
    "datos[datos['BI-RADS']==55.0].count() "
   ]
  },
  {
   "cell_type": "code",
   "execution_count": 4,
   "metadata": {},
   "outputs": [
    {
     "name": "stdout",
     "output_type": "stream",
     "text": [
      "<class 'pandas.core.frame.DataFrame'>\n",
      "RangeIndex: 961 entries, 0 to 960\n",
      "Data columns (total 6 columns):\n",
      " #   Column    Non-Null Count  Dtype  \n",
      "---  ------    --------------  -----  \n",
      " 0   BI-RADS   959 non-null    float64\n",
      " 1   Age       956 non-null    float64\n",
      " 2   Shape     961 non-null    object \n",
      " 3   Margin    913 non-null    float64\n",
      " 4   Density   885 non-null    float64\n",
      " 5   Severity  961 non-null    object \n",
      "dtypes: float64(4), object(2)\n",
      "memory usage: 45.2+ KB\n"
     ]
    }
   ],
   "source": [
    "datos.info() # Vemos la cantidad de datos que poseemos"
   ]
  },
  {
   "cell_type": "code",
   "execution_count": 5,
   "metadata": {
    "scrolled": false
   },
   "outputs": [
    {
     "data": {
      "text/html": [
       "<div>\n",
       "<style scoped>\n",
       "    .dataframe tbody tr th:only-of-type {\n",
       "        vertical-align: middle;\n",
       "    }\n",
       "\n",
       "    .dataframe tbody tr th {\n",
       "        vertical-align: top;\n",
       "    }\n",
       "\n",
       "    .dataframe thead th {\n",
       "        text-align: right;\n",
       "    }\n",
       "</style>\n",
       "<table border=\"1\" class=\"dataframe\">\n",
       "  <thead>\n",
       "    <tr style=\"text-align: right;\">\n",
       "      <th></th>\n",
       "      <th>BI-RADS</th>\n",
       "      <th>Age</th>\n",
       "      <th>Shape</th>\n",
       "      <th>Margin</th>\n",
       "      <th>Density</th>\n",
       "      <th>Severity</th>\n",
       "    </tr>\n",
       "  </thead>\n",
       "  <tbody>\n",
       "    <tr>\n",
       "      <th>0</th>\n",
       "      <td>5.0</td>\n",
       "      <td>67.0</td>\n",
       "      <td>L</td>\n",
       "      <td>5.0</td>\n",
       "      <td>3.0</td>\n",
       "      <td>maligno</td>\n",
       "    </tr>\n",
       "    <tr>\n",
       "      <th>1</th>\n",
       "      <td>4.0</td>\n",
       "      <td>43.0</td>\n",
       "      <td>R</td>\n",
       "      <td>1.0</td>\n",
       "      <td>NaN</td>\n",
       "      <td>maligno</td>\n",
       "    </tr>\n",
       "    <tr>\n",
       "      <th>2</th>\n",
       "      <td>5.0</td>\n",
       "      <td>58.0</td>\n",
       "      <td>I</td>\n",
       "      <td>5.0</td>\n",
       "      <td>3.0</td>\n",
       "      <td>maligno</td>\n",
       "    </tr>\n",
       "    <tr>\n",
       "      <th>3</th>\n",
       "      <td>4.0</td>\n",
       "      <td>28.0</td>\n",
       "      <td>R</td>\n",
       "      <td>1.0</td>\n",
       "      <td>3.0</td>\n",
       "      <td>benigno</td>\n",
       "    </tr>\n",
       "    <tr>\n",
       "      <th>4</th>\n",
       "      <td>5.0</td>\n",
       "      <td>74.0</td>\n",
       "      <td>R</td>\n",
       "      <td>5.0</td>\n",
       "      <td>NaN</td>\n",
       "      <td>maligno</td>\n",
       "    </tr>\n",
       "  </tbody>\n",
       "</table>\n",
       "</div>"
      ],
      "text/plain": [
       "   BI-RADS   Age Shape  Margin  Density Severity\n",
       "0      5.0  67.0     L     5.0      3.0  maligno\n",
       "1      4.0  43.0     R     1.0      NaN  maligno\n",
       "2      5.0  58.0     I     5.0      3.0  maligno\n",
       "3      4.0  28.0     R     1.0      3.0  benigno\n",
       "4      5.0  74.0     R     5.0      NaN  maligno"
      ]
     },
     "execution_count": 5,
     "metadata": {},
     "output_type": "execute_result"
    }
   ],
   "source": [
    "datos.head() # Visualizamos algunos datos. Vemos que hay valores perdidos."
   ]
  },
  {
   "cell_type": "markdown",
   "metadata": {},
   "source": [
    "Convertimos los atributos categóricos en numéricos:"
   ]
  },
  {
   "cell_type": "code",
   "execution_count": 6,
   "metadata": {},
   "outputs": [
    {
     "name": "stdout",
     "output_type": "stream",
     "text": [
      "[4 3 1 0 2]\n"
     ]
    }
   ],
   "source": [
    "# Creamos un objeto Labelencoder\n",
    "le = preprocessing.LabelEncoder()\n",
    "# Convertimos las columnas categóricas en numéricas\n",
    "encoded_value = le.fit_transform([\"R\",\"O\",\"L\",\"I\", \"N\"])\n",
    "\n",
    "for col in ['Shape']:\n",
    "    datos[col] = le.fit_transform(datos[col])\n",
    "    \n",
    "print(encoded_value)"
   ]
  },
  {
   "cell_type": "code",
   "execution_count": 7,
   "metadata": {},
   "outputs": [
    {
     "name": "stdout",
     "output_type": "stream",
     "text": [
      "[1 0]\n"
     ]
    }
   ],
   "source": [
    "# Creamos un objeto Labelencoder\n",
    "le = preprocessing.LabelEncoder()\n",
    "# Convertimos las columnas categóricas en numéricas\n",
    "encoded_value = le.fit_transform([\"maligno\", \"benigno\"])\n",
    "\n",
    "for col in ['Severity']:\n",
    "    datos[col] = le.fit_transform(datos[col])\n",
    "\n",
    "print(encoded_value)"
   ]
  },
  {
   "cell_type": "code",
   "execution_count": 8,
   "metadata": {},
   "outputs": [
    {
     "data": {
      "text/html": [
       "<div>\n",
       "<style scoped>\n",
       "    .dataframe tbody tr th:only-of-type {\n",
       "        vertical-align: middle;\n",
       "    }\n",
       "\n",
       "    .dataframe tbody tr th {\n",
       "        vertical-align: top;\n",
       "    }\n",
       "\n",
       "    .dataframe thead th {\n",
       "        text-align: right;\n",
       "    }\n",
       "</style>\n",
       "<table border=\"1\" class=\"dataframe\">\n",
       "  <thead>\n",
       "    <tr style=\"text-align: right;\">\n",
       "      <th></th>\n",
       "      <th>BI-RADS</th>\n",
       "      <th>Age</th>\n",
       "      <th>Shape</th>\n",
       "      <th>Margin</th>\n",
       "      <th>Density</th>\n",
       "      <th>Severity</th>\n",
       "    </tr>\n",
       "  </thead>\n",
       "  <tbody>\n",
       "    <tr>\n",
       "      <th>0</th>\n",
       "      <td>5.0</td>\n",
       "      <td>67.0</td>\n",
       "      <td>1</td>\n",
       "      <td>5.0</td>\n",
       "      <td>3.0</td>\n",
       "      <td>1</td>\n",
       "    </tr>\n",
       "    <tr>\n",
       "      <th>1</th>\n",
       "      <td>4.0</td>\n",
       "      <td>43.0</td>\n",
       "      <td>4</td>\n",
       "      <td>1.0</td>\n",
       "      <td>NaN</td>\n",
       "      <td>1</td>\n",
       "    </tr>\n",
       "    <tr>\n",
       "      <th>2</th>\n",
       "      <td>5.0</td>\n",
       "      <td>58.0</td>\n",
       "      <td>0</td>\n",
       "      <td>5.0</td>\n",
       "      <td>3.0</td>\n",
       "      <td>1</td>\n",
       "    </tr>\n",
       "    <tr>\n",
       "      <th>3</th>\n",
       "      <td>4.0</td>\n",
       "      <td>28.0</td>\n",
       "      <td>4</td>\n",
       "      <td>1.0</td>\n",
       "      <td>3.0</td>\n",
       "      <td>0</td>\n",
       "    </tr>\n",
       "    <tr>\n",
       "      <th>4</th>\n",
       "      <td>5.0</td>\n",
       "      <td>74.0</td>\n",
       "      <td>4</td>\n",
       "      <td>5.0</td>\n",
       "      <td>NaN</td>\n",
       "      <td>1</td>\n",
       "    </tr>\n",
       "    <tr>\n",
       "      <th>...</th>\n",
       "      <td>...</td>\n",
       "      <td>...</td>\n",
       "      <td>...</td>\n",
       "      <td>...</td>\n",
       "      <td>...</td>\n",
       "      <td>...</td>\n",
       "    </tr>\n",
       "    <tr>\n",
       "      <th>956</th>\n",
       "      <td>4.0</td>\n",
       "      <td>47.0</td>\n",
       "      <td>3</td>\n",
       "      <td>1.0</td>\n",
       "      <td>3.0</td>\n",
       "      <td>0</td>\n",
       "    </tr>\n",
       "    <tr>\n",
       "      <th>957</th>\n",
       "      <td>4.0</td>\n",
       "      <td>56.0</td>\n",
       "      <td>0</td>\n",
       "      <td>5.0</td>\n",
       "      <td>3.0</td>\n",
       "      <td>1</td>\n",
       "    </tr>\n",
       "    <tr>\n",
       "      <th>958</th>\n",
       "      <td>4.0</td>\n",
       "      <td>64.0</td>\n",
       "      <td>0</td>\n",
       "      <td>5.0</td>\n",
       "      <td>3.0</td>\n",
       "      <td>0</td>\n",
       "    </tr>\n",
       "    <tr>\n",
       "      <th>959</th>\n",
       "      <td>5.0</td>\n",
       "      <td>66.0</td>\n",
       "      <td>0</td>\n",
       "      <td>5.0</td>\n",
       "      <td>3.0</td>\n",
       "      <td>1</td>\n",
       "    </tr>\n",
       "    <tr>\n",
       "      <th>960</th>\n",
       "      <td>4.0</td>\n",
       "      <td>62.0</td>\n",
       "      <td>1</td>\n",
       "      <td>3.0</td>\n",
       "      <td>3.0</td>\n",
       "      <td>0</td>\n",
       "    </tr>\n",
       "  </tbody>\n",
       "</table>\n",
       "<p>961 rows × 6 columns</p>\n",
       "</div>"
      ],
      "text/plain": [
       "     BI-RADS   Age  Shape  Margin  Density  Severity\n",
       "0        5.0  67.0      1     5.0      3.0         1\n",
       "1        4.0  43.0      4     1.0      NaN         1\n",
       "2        5.0  58.0      0     5.0      3.0         1\n",
       "3        4.0  28.0      4     1.0      3.0         0\n",
       "4        5.0  74.0      4     5.0      NaN         1\n",
       "..       ...   ...    ...     ...      ...       ...\n",
       "956      4.0  47.0      3     1.0      3.0         0\n",
       "957      4.0  56.0      0     5.0      3.0         1\n",
       "958      4.0  64.0      0     5.0      3.0         0\n",
       "959      5.0  66.0      0     5.0      3.0         1\n",
       "960      4.0  62.0      1     3.0      3.0         0\n",
       "\n",
       "[961 rows x 6 columns]"
      ]
     },
     "execution_count": 8,
     "metadata": {},
     "output_type": "execute_result"
    }
   ],
   "source": [
    "datos"
   ]
  },
  {
   "cell_type": "markdown",
   "metadata": {},
   "source": [
    "Eliminamos la columna BI-RADS, que no es predictiva."
   ]
  },
  {
   "cell_type": "code",
   "execution_count": 9,
   "metadata": {},
   "outputs": [],
   "source": [
    "del(datos['BI-RADS'])"
   ]
  },
  {
   "cell_type": "code",
   "execution_count": 10,
   "metadata": {
    "scrolled": true
   },
   "outputs": [
    {
     "data": {
      "text/html": [
       "<div>\n",
       "<style scoped>\n",
       "    .dataframe tbody tr th:only-of-type {\n",
       "        vertical-align: middle;\n",
       "    }\n",
       "\n",
       "    .dataframe tbody tr th {\n",
       "        vertical-align: top;\n",
       "    }\n",
       "\n",
       "    .dataframe thead th {\n",
       "        text-align: right;\n",
       "    }\n",
       "</style>\n",
       "<table border=\"1\" class=\"dataframe\">\n",
       "  <thead>\n",
       "    <tr style=\"text-align: right;\">\n",
       "      <th></th>\n",
       "      <th>Age</th>\n",
       "      <th>Shape</th>\n",
       "      <th>Margin</th>\n",
       "      <th>Density</th>\n",
       "      <th>Severity</th>\n",
       "    </tr>\n",
       "  </thead>\n",
       "  <tbody>\n",
       "    <tr>\n",
       "      <th>0</th>\n",
       "      <td>67.0</td>\n",
       "      <td>1</td>\n",
       "      <td>5.0</td>\n",
       "      <td>3.0</td>\n",
       "      <td>1</td>\n",
       "    </tr>\n",
       "    <tr>\n",
       "      <th>1</th>\n",
       "      <td>43.0</td>\n",
       "      <td>4</td>\n",
       "      <td>1.0</td>\n",
       "      <td>NaN</td>\n",
       "      <td>1</td>\n",
       "    </tr>\n",
       "    <tr>\n",
       "      <th>2</th>\n",
       "      <td>58.0</td>\n",
       "      <td>0</td>\n",
       "      <td>5.0</td>\n",
       "      <td>3.0</td>\n",
       "      <td>1</td>\n",
       "    </tr>\n",
       "    <tr>\n",
       "      <th>3</th>\n",
       "      <td>28.0</td>\n",
       "      <td>4</td>\n",
       "      <td>1.0</td>\n",
       "      <td>3.0</td>\n",
       "      <td>0</td>\n",
       "    </tr>\n",
       "    <tr>\n",
       "      <th>4</th>\n",
       "      <td>74.0</td>\n",
       "      <td>4</td>\n",
       "      <td>5.0</td>\n",
       "      <td>NaN</td>\n",
       "      <td>1</td>\n",
       "    </tr>\n",
       "  </tbody>\n",
       "</table>\n",
       "</div>"
      ],
      "text/plain": [
       "    Age  Shape  Margin  Density  Severity\n",
       "0  67.0      1     5.0      3.0         1\n",
       "1  43.0      4     1.0      NaN         1\n",
       "2  58.0      0     5.0      3.0         1\n",
       "3  28.0      4     1.0      3.0         0\n",
       "4  74.0      4     5.0      NaN         1"
      ]
     },
     "execution_count": 10,
     "metadata": {},
     "output_type": "execute_result"
    }
   ],
   "source": [
    "datos.head()"
   ]
  },
  {
   "cell_type": "markdown",
   "metadata": {},
   "source": [
    "## Preprocesado 1:"
   ]
  },
  {
   "cell_type": "markdown",
   "metadata": {},
   "source": [
    "Eliminamos los datos con valores perdidos."
   ]
  },
  {
   "cell_type": "code",
   "execution_count": 11,
   "metadata": {
    "scrolled": true
   },
   "outputs": [
    {
     "data": {
      "text/plain": [
       "Age          5\n",
       "Shape        0\n",
       "Margin      48\n",
       "Density     76\n",
       "Severity     0\n",
       "dtype: int64"
      ]
     },
     "execution_count": 11,
     "metadata": {},
     "output_type": "execute_result"
    }
   ],
   "source": [
    "datos.isna().sum() # Total de valores perdidos que tenemos "
   ]
  },
  {
   "cell_type": "code",
   "execution_count": 12,
   "metadata": {},
   "outputs": [],
   "source": [
    "p1_datos = datos.dropna() # Eliminamos los datos con valores perdidos"
   ]
  },
  {
   "cell_type": "code",
   "execution_count": 13,
   "metadata": {},
   "outputs": [
    {
     "data": {
      "text/plain": [
       "Age         0\n",
       "Shape       0\n",
       "Margin      0\n",
       "Density     0\n",
       "Severity    0\n",
       "dtype: int64"
      ]
     },
     "execution_count": 13,
     "metadata": {},
     "output_type": "execute_result"
    }
   ],
   "source": [
    "p1_datos.isna().sum()"
   ]
  },
  {
   "cell_type": "code",
   "execution_count": 14,
   "metadata": {},
   "outputs": [
    {
     "data": {
      "text/plain": [
       "848"
      ]
     },
     "execution_count": 14,
     "metadata": {},
     "output_type": "execute_result"
    }
   ],
   "source": [
    "p1_datos.shape[0]"
   ]
  },
  {
   "cell_type": "markdown",
   "metadata": {},
   "source": [
    "Ya no hay datos \"perdidos\"."
   ]
  },
  {
   "cell_type": "markdown",
   "metadata": {},
   "source": [
    "### Separación entre datos y objetivo"
   ]
  },
  {
   "cell_type": "code",
   "execution_count": 15,
   "metadata": {},
   "outputs": [
    {
     "data": {
      "text/html": [
       "<div>\n",
       "<style scoped>\n",
       "    .dataframe tbody tr th:only-of-type {\n",
       "        vertical-align: middle;\n",
       "    }\n",
       "\n",
       "    .dataframe tbody tr th {\n",
       "        vertical-align: top;\n",
       "    }\n",
       "\n",
       "    .dataframe thead th {\n",
       "        text-align: right;\n",
       "    }\n",
       "</style>\n",
       "<table border=\"1\" class=\"dataframe\">\n",
       "  <thead>\n",
       "    <tr style=\"text-align: right;\">\n",
       "      <th></th>\n",
       "      <th>Age</th>\n",
       "      <th>Shape</th>\n",
       "      <th>Margin</th>\n",
       "      <th>Density</th>\n",
       "    </tr>\n",
       "  </thead>\n",
       "  <tbody>\n",
       "    <tr>\n",
       "      <th>0</th>\n",
       "      <td>67.0</td>\n",
       "      <td>1</td>\n",
       "      <td>5.0</td>\n",
       "      <td>3.0</td>\n",
       "    </tr>\n",
       "    <tr>\n",
       "      <th>2</th>\n",
       "      <td>58.0</td>\n",
       "      <td>0</td>\n",
       "      <td>5.0</td>\n",
       "      <td>3.0</td>\n",
       "    </tr>\n",
       "    <tr>\n",
       "      <th>3</th>\n",
       "      <td>28.0</td>\n",
       "      <td>4</td>\n",
       "      <td>1.0</td>\n",
       "      <td>3.0</td>\n",
       "    </tr>\n",
       "    <tr>\n",
       "      <th>8</th>\n",
       "      <td>57.0</td>\n",
       "      <td>4</td>\n",
       "      <td>5.0</td>\n",
       "      <td>3.0</td>\n",
       "    </tr>\n",
       "    <tr>\n",
       "      <th>9</th>\n",
       "      <td>60.0</td>\n",
       "      <td>2</td>\n",
       "      <td>5.0</td>\n",
       "      <td>1.0</td>\n",
       "    </tr>\n",
       "  </tbody>\n",
       "</table>\n",
       "</div>"
      ],
      "text/plain": [
       "    Age  Shape  Margin  Density\n",
       "0  67.0      1     5.0      3.0\n",
       "2  58.0      0     5.0      3.0\n",
       "3  28.0      4     1.0      3.0\n",
       "8  57.0      4     5.0      3.0\n",
       "9  60.0      2     5.0      1.0"
      ]
     },
     "execution_count": 15,
     "metadata": {},
     "output_type": "execute_result"
    }
   ],
   "source": [
    "# Separamos las columnas con los datos de la etiqueta a predecir\n",
    "cols = [col for col in p1_datos.columns if col not in ['Severity']]\n",
    "data = p1_datos[cols]\n",
    "target = p1_datos['Severity']\n",
    "data.head()"
   ]
  },
  {
   "cell_type": "code",
   "execution_count": 16,
   "metadata": {},
   "outputs": [
    {
     "data": {
      "text/plain": [
       "0    1\n",
       "2    1\n",
       "3    0\n",
       "8    1\n",
       "9    1\n",
       "Name: Severity, dtype: int64"
      ]
     },
     "execution_count": 16,
     "metadata": {},
     "output_type": "execute_result"
    }
   ],
   "source": [
    "target.head()"
   ]
  },
  {
   "cell_type": "code",
   "execution_count": 17,
   "metadata": {},
   "outputs": [
    {
     "name": "stdout",
     "output_type": "stream",
     "text": [
      "Hay 410 malignos y 438 benignos.\n"
     ]
    }
   ],
   "source": [
    "# Mostramos si los datos están o no balanceados (Para ver si accuracy es una buena medida)\n",
    "malignos = 0\n",
    "for i in target:\n",
    "    if i == 1:\n",
    "        malignos += 1\n",
    "\n",
    "benignos = len(target) - malignos\n",
    "print(\"Hay \" + str(malignos) + \" malignos y \" + str(benignos) + \" benignos.\")"
   ]
  },
  {
   "cell_type": "markdown",
   "metadata": {},
   "source": [
    "### Modelos:"
   ]
  },
  {
   "cell_type": "code",
   "execution_count": 18,
   "metadata": {},
   "outputs": [],
   "source": [
    "def validacion_cruzada(clf, x, y, n):\n",
    "    tn, tp, fn, fp = 0,0,0,0\n",
    "    scaler = MinMaxScaler()\n",
    "\n",
    "    # Creo los n conjuntos diferentes\n",
    "    l = len(x)\n",
    "    l = int(l/n)\n",
    "\n",
    "    datos = []               #Vector de datos para training de cada iteración\n",
    "    im_datos = []            #Vector de etiquetas para training de cada iteración\n",
    "    datos_val = []           #Vector de datos para validación de cada iteración\n",
    "    im_datos_val = []        #Vector de etiquetas para validación de cada iteración\n",
    "\n",
    "    for i in range(0,n-1):\n",
    "        aux_x = np.concatenate((x[:i*l], x[(i+1)*l:]), axis=0)\n",
    "        aux_y = np.concatenate((y[:i*l], y[(i+1)*l:]), axis=0)\n",
    "        \n",
    "        datos.append(aux_x) #Valores de entrenamiento\n",
    "        im_datos.append(aux_y)\n",
    "        datos_val.append(x[i*l:(i+1)*l]) #Valores de validación\n",
    "        im_datos_val.append(y[i*l:(i+1)*l])  \n",
    "        \n",
    "    #Última iteración, para usar todos los datos del test\n",
    "    aux_x = x[:(n-1)*l]\n",
    "    aux_y = y[:(n-1)*l]\n",
    "        \n",
    "    datos.append(aux_x) #Valores de entrenamiento\n",
    "    im_datos.append(aux_y)\n",
    "    datos_val.append(x[(n-1)*l:]) #Valores de validación\n",
    "    im_datos_val.append(y[(n-1)*l:])\n",
    "        \n",
    "    # Realizo el ajuste con todos los conjuntos\n",
    "    for i in range(0,n):\n",
    "        datos[i] = scaler.fit_transform(datos[i])\n",
    "        datos_val[i] = scaler.transform(datos_val[i])\n",
    "        \n",
    "        clf.fit(datos[i], im_datos[i])\n",
    "        pred = clf.predict(datos_val[i])\n",
    "        \n",
    "        conf_mat = confusion_matrix(im_datos_val[i],pred)\n",
    "        tn += conf_mat[0,0]\n",
    "        tp += conf_mat[1,1]\n",
    "        fn += conf_mat[1,0]\n",
    "        fp += conf_mat[0,1]\n",
    "\n",
    "    return tn, tp, fn, fp"
   ]
  },
  {
   "cell_type": "code",
   "execution_count": 19,
   "metadata": {},
   "outputs": [],
   "source": [
    "# Función para visualizar matrices de confusión\n",
    "\n",
    "# Matrix visualization\n",
    "def visualizeMatrix(m, title='', conf=False):\n",
    "    plt.matshow(m, cmap='viridis')\n",
    "    plt.colorbar()\n",
    "    plt.title(title,pad=20.0)\n",
    "    if conf:\n",
    "        plt.ylabel('Verdaderos')\n",
    "        plt.xlabel('Predicciones')\n",
    "    plt.show()"
   ]
  },
  {
   "cell_type": "markdown",
   "metadata": {},
   "source": [
    "### ZeroR: "
   ]
  },
  {
   "cell_type": "code",
   "execution_count": 20,
   "metadata": {},
   "outputs": [
    {
     "name": "stdout",
     "output_type": "stream",
     "text": [
      "Verdaderos negativos (TN): 438\n",
      "Verdaderos positivos (TP): 0\n",
      "Falsos negativos (FN): 410\n",
      "Falsos positivos (FP): 0\n",
      "\n",
      "Accuracy: 0.5165094339622641\n",
      "TPR: 0.0\n",
      "TNR: 1.0\n",
      "FPR: 0.0\n",
      "FNR: 1.0\n",
      "AUC: 0.5\n",
      "Gmean: 0.0\n",
      "F1- Score: 0.0\n"
     ]
    }
   ],
   "source": [
    "dummy_clf = DummyClassifier(strategy=\"most_frequent\")\n",
    "\n",
    "tn,tp, fn, fp = validacion_cruzada(dummy_clf, data, target, 5)\n",
    "\n",
    "accuracy = (tn+tp)/(tn+tp+fn+fp)\n",
    "tpr = tp/(tp+fn)\n",
    "tnr = tn/(tn+fp)\n",
    "fpr = fp/(tn+fp)\n",
    "fnr = fn/(tp+fn)\n",
    "#ppv = tp/(tp+fp)\n",
    "auc = (1+tpr-fpr)/2\n",
    "Gmean = m.sqrt(tpr*tnr)\n",
    "f1 = (2*tp)/(2*tp+fp+fn)\n",
    "#Gmeasure = m.sqrt(ppv*tpr)\n",
    "\n",
    "\n",
    "print(\"Verdaderos negativos (TN): \" + str(tn))\n",
    "print(\"Verdaderos positivos (TP): \" + str(tp))\n",
    "print(\"Falsos negativos (FN): \" + str(fn))\n",
    "print(\"Falsos positivos (FP): \" + str(fp))\n",
    "print()\n",
    "print(\"Accuracy: \" + str(accuracy))\n",
    "print(\"TPR: \" + str(tpr))\n",
    "print(\"TNR: \" + str(tnr))\n",
    "print(\"FPR: \" + str(fpr))\n",
    "print(\"FNR: \" + str(fnr))\n",
    "#print(\"PPV: \" + str(ppv))\n",
    "print(\"AUC: \" + str(auc))\n",
    "print(\"Gmean: \" + str(Gmean))\n",
    "print(\"F1- Score: \" + str(f1))\n",
    "#print(\"Gmeasure: \" + str(Gmeasure))"
   ]
  },
  {
   "cell_type": "code",
   "execution_count": 21,
   "metadata": {
    "scrolled": true
   },
   "outputs": [],
   "source": [
    "# Matriz de confusión:\n",
    "#conf_mat = [[tn, fp],[fn, tp]]\n",
    "#print(conf_mat)\n",
    "#visualizeMatrix(conf_mat,'ZeroR:\\nMatriz de confusión',True)"
   ]
  },
  {
   "cell_type": "markdown",
   "metadata": {},
   "source": [
    "### Support Vector Machine (SVM):"
   ]
  },
  {
   "cell_type": "code",
   "execution_count": 22,
   "metadata": {
    "scrolled": true
   },
   "outputs": [
    {
     "name": "stdout",
     "output_type": "stream",
     "text": [
      "Verdaderos negativos (TN): 321\n",
      "Verdaderos positivos (TP): 350\n",
      "Falsos negativos (FN): 60\n",
      "Falsos positivos (FP): 117\n",
      "\n",
      "Accuracy: 0.7912735849056604\n",
      "TPR: 0.8536585365853658\n",
      "TNR: 0.7328767123287672\n",
      "FPR: 0.2671232876712329\n",
      "FNR: 0.14634146341463414\n",
      "PPV: 0.7494646680942184\n",
      "AUC: 0.7932676244570664\n",
      "Gmean: 0.7909655250035045\n",
      "F1- Score: 0.798175598631699\n",
      "Gmeasure: 0.7998668087799039\n"
     ]
    }
   ],
   "source": [
    "svm_clf = LinearSVC(random_state=15, tol=1e-5)\n",
    "\n",
    "tn,tp, fn, fp = validacion_cruzada(svm_clf, data, target, 5)\n",
    "\n",
    "accuracy = (tn+tp)/(tn+tp+fn+fp)\n",
    "tpr = tp/(tp+fn)\n",
    "tnr = tn/(tn+fp)\n",
    "fpr = fp/(tn+fp)\n",
    "fnr = fn/(tp+fn)\n",
    "ppv = tp/(tp+fp)\n",
    "auc = (1+tpr-fpr)/2\n",
    "Gmean = m.sqrt(tpr*tnr)\n",
    "f1 = (2*tp)/(2*tp+fp+fn)\n",
    "Gmeasure = m.sqrt(ppv*tpr)\n",
    "\n",
    "\n",
    "print(\"Verdaderos negativos (TN): \" + str(tn))\n",
    "print(\"Verdaderos positivos (TP): \" + str(tp))\n",
    "print(\"Falsos negativos (FN): \" + str(fn))\n",
    "print(\"Falsos positivos (FP): \" + str(fp))\n",
    "print()\n",
    "print(\"Accuracy: \" + str(accuracy))\n",
    "print(\"TPR: \" + str(tpr))\n",
    "print(\"TNR: \" + str(tnr))\n",
    "print(\"FPR: \" + str(fpr))\n",
    "print(\"FNR: \" + str(fnr))\n",
    "print(\"PPV: \" + str(ppv))\n",
    "print(\"AUC: \" + str(auc))\n",
    "print(\"Gmean: \" + str(Gmean))\n",
    "print(\"F1- Score: \" + str(f1))\n",
    "print(\"Gmeasure: \" + str(Gmeasure))"
   ]
  },
  {
   "cell_type": "code",
   "execution_count": 23,
   "metadata": {},
   "outputs": [],
   "source": [
    "#conf_mat = [[tn, fp],[fn, tp]]\n",
    "#print(conf_mat)\n",
    "#visualizeMatrix(conf_mat,'SVM:\\nMatriz de confusión',True)"
   ]
  },
  {
   "cell_type": "markdown",
   "metadata": {},
   "source": [
    "### k-nn:"
   ]
  },
  {
   "cell_type": "code",
   "execution_count": 24,
   "metadata": {
    "scrolled": true
   },
   "outputs": [
    {
     "name": "stdout",
     "output_type": "stream",
     "text": [
      "Verdaderos negativos (TN): 336\n",
      "Verdaderos positivos (TP): 334\n",
      "Falsos negativos (FN): 76\n",
      "Falsos positivos (FP): 102\n",
      "\n",
      "Accuracy: 0.7900943396226415\n",
      "TPR: 0.8146341463414634\n",
      "TNR: 0.7671232876712328\n",
      "FPR: 0.2328767123287671\n",
      "FNR: 0.18536585365853658\n",
      "PPV: 0.7660550458715596\n",
      "AUC: 0.790878717006348\n",
      "Gmean: 0.7905218685088424\n",
      "F1- Score: 0.789598108747045\n",
      "Gmeasure: 0.7899712642521552\n"
     ]
    }
   ],
   "source": [
    "knn_clf = KNeighborsClassifier(n_neighbors=5)\n",
    "\n",
    "tn,tp, fn, fp = validacion_cruzada(knn_clf, data, target, 5)\n",
    "\n",
    "accuracy = (tn+tp)/(tn+tp+fn+fp)\n",
    "tpr = tp/(tp+fn)\n",
    "tnr = tn/(tn+fp)\n",
    "fpr = fp/(tn+fp)\n",
    "fnr = fn/(tp+fn)\n",
    "ppv = tp/(tp+fp)\n",
    "auc = (1+tpr-fpr)/2\n",
    "Gmean = m.sqrt(tpr*tnr)\n",
    "f1 = (2*tp)/(2*tp+fp+fn)\n",
    "Gmeasure = m.sqrt(ppv*tpr)\n",
    "\n",
    "\n",
    "print(\"Verdaderos negativos (TN): \" + str(tn))\n",
    "print(\"Verdaderos positivos (TP): \" + str(tp))\n",
    "print(\"Falsos negativos (FN): \" + str(fn))\n",
    "print(\"Falsos positivos (FP): \" + str(fp))\n",
    "print()\n",
    "print(\"Accuracy: \" + str(accuracy))\n",
    "print(\"TPR: \" + str(tpr))\n",
    "print(\"TNR: \" + str(tnr))\n",
    "print(\"FPR: \" + str(fpr))\n",
    "print(\"FNR: \" + str(fnr))\n",
    "print(\"PPV: \" + str(ppv))\n",
    "print(\"AUC: \" + str(auc))\n",
    "print(\"Gmean: \" + str(Gmean))\n",
    "print(\"F1- Score: \" + str(f1))\n",
    "print(\"Gmeasure: \" + str(Gmeasure))"
   ]
  },
  {
   "cell_type": "code",
   "execution_count": 25,
   "metadata": {},
   "outputs": [],
   "source": [
    "#conf_mat = [[tn, fp],[fn, tp]]\n",
    "#print(conf_mat)\n",
    "#visualizeMatrix(conf_mat,'K-nn:\\nMatriz de confusión',True)"
   ]
  },
  {
   "cell_type": "markdown",
   "metadata": {},
   "source": [
    "### Árbol de decisión:"
   ]
  },
  {
   "cell_type": "code",
   "execution_count": 26,
   "metadata": {
    "scrolled": true
   },
   "outputs": [
    {
     "name": "stdout",
     "output_type": "stream",
     "text": [
      "Verdaderos negativos (TN): 332\n",
      "Verdaderos positivos (TP): 284\n",
      "Falsos negativos (FN): 126\n",
      "Falsos positivos (FP): 106\n",
      "\n",
      "Accuracy: 0.7264150943396226\n",
      "TPR: 0.6926829268292682\n",
      "TNR: 0.7579908675799086\n",
      "FPR: 0.2420091324200913\n",
      "FNR: 0.3073170731707317\n",
      "PPV: 0.7282051282051282\n",
      "AUC: 0.7253368972045885\n",
      "Gmean: 0.7246014992153325\n",
      "F1- Score: 0.71\n",
      "Gmeasure: 0.7102219790581046\n"
     ]
    }
   ],
   "source": [
    "tree_clf = DecisionTreeClassifier(random_state=15)\n",
    "\n",
    "tn,tp, fn, fp = validacion_cruzada(tree_clf, data, target, 5)\n",
    "\n",
    "accuracy = (tn+tp)/(tn+tp+fn+fp)\n",
    "tpr = tp/(tp+fn)\n",
    "tnr = tn/(tn+fp)\n",
    "fpr = fp/(tn+fp)\n",
    "fnr = fn/(tp+fn)\n",
    "ppv = tp/(tp+fp)\n",
    "auc = (1+tpr-fpr)/2\n",
    "Gmean = m.sqrt(tpr*tnr)\n",
    "f1 = (2*tp)/(2*tp+fp+fn)\n",
    "Gmeasure = m.sqrt(ppv*tpr)\n",
    "\n",
    "\n",
    "print(\"Verdaderos negativos (TN): \" + str(tn))\n",
    "print(\"Verdaderos positivos (TP): \" + str(tp))\n",
    "print(\"Falsos negativos (FN): \" + str(fn))\n",
    "print(\"Falsos positivos (FP): \" + str(fp))\n",
    "print()\n",
    "print(\"Accuracy: \" + str(accuracy))\n",
    "print(\"TPR: \" + str(tpr))\n",
    "print(\"TNR: \" + str(tnr))\n",
    "print(\"FPR: \" + str(fpr))\n",
    "print(\"FNR: \" + str(fnr))\n",
    "print(\"PPV: \" + str(ppv))\n",
    "print(\"AUC: \" + str(auc))\n",
    "print(\"Gmean: \" + str(Gmean))\n",
    "print(\"F1- Score: \" + str(f1))\n",
    "print(\"Gmeasure: \" + str(Gmeasure))"
   ]
  },
  {
   "cell_type": "code",
   "execution_count": 27,
   "metadata": {},
   "outputs": [],
   "source": [
    "#conf_mat = [[tn, fp],[fn, tp]]\n",
    "#print(conf_mat)\n",
    "#visualizeMatrix(conf_mat,'Árbol de decisión:\\nMatriz de confusión',True)"
   ]
  },
  {
   "cell_type": "markdown",
   "metadata": {},
   "source": [
    "### Multilayer Perceptron (neural networks):"
   ]
  },
  {
   "cell_type": "code",
   "execution_count": 28,
   "metadata": {
    "scrolled": true
   },
   "outputs": [
    {
     "name": "stdout",
     "output_type": "stream",
     "text": [
      "Verdaderos negativos (TN): 328\n",
      "Verdaderos positivos (TP): 342\n",
      "Falsos negativos (FN): 68\n",
      "Falsos positivos (FP): 110\n",
      "\n",
      "Accuracy: 0.7900943396226415\n",
      "TPR: 0.8341463414634146\n",
      "TNR: 0.7488584474885844\n",
      "FPR: 0.2511415525114155\n",
      "FNR: 0.16585365853658537\n",
      "PPV: 0.7566371681415929\n",
      "AUC: 0.7915023944759995\n",
      "Gmean: 0.7903527910032173\n",
      "F1- Score: 0.7935034802784223\n",
      "Gmeasure: 0.7944470565245667\n"
     ]
    }
   ],
   "source": [
    "mlp_clf = MLPClassifier(random_state=15, hidden_layer_sizes=(150,150),activation='tanh',max_iter=800,early_stopping=True)\n",
    "\n",
    "tn,tp, fn, fp = validacion_cruzada(mlp_clf, data, target, 5)\n",
    "\n",
    "accuracy = (tn+tp)/(tn+tp+fn+fp)\n",
    "tpr = tp/(tp+fn)\n",
    "tnr = tn/(tn+fp)\n",
    "fpr = fp/(tn+fp)\n",
    "fnr = fn/(tp+fn)\n",
    "ppv = tp/(tp+fp)\n",
    "auc = (1+tpr-fpr)/2\n",
    "Gmean = m.sqrt(tpr*tnr)\n",
    "f1 = (2*tp)/(2*tp+fp+fn)\n",
    "Gmeasure = m.sqrt(ppv*tpr)\n",
    "\n",
    "\n",
    "print(\"Verdaderos negativos (TN): \" + str(tn))\n",
    "print(\"Verdaderos positivos (TP): \" + str(tp))\n",
    "print(\"Falsos negativos (FN): \" + str(fn))\n",
    "print(\"Falsos positivos (FP): \" + str(fp))\n",
    "print()\n",
    "print(\"Accuracy: \" + str(accuracy))\n",
    "print(\"TPR: \" + str(tpr))\n",
    "print(\"TNR: \" + str(tnr))\n",
    "print(\"FPR: \" + str(fpr))\n",
    "print(\"FNR: \" + str(fnr))\n",
    "print(\"PPV: \" + str(ppv))\n",
    "print(\"AUC: \" + str(auc))\n",
    "print(\"Gmean: \" + str(Gmean))\n",
    "print(\"F1- Score: \" + str(f1))\n",
    "print(\"Gmeasure: \" + str(Gmeasure))"
   ]
  },
  {
   "cell_type": "code",
   "execution_count": 29,
   "metadata": {},
   "outputs": [],
   "source": [
    "#conf_mat = [[tn, fp],[fn, tp]]\n",
    "#print(conf_mat)\n",
    "#visualizeMatrix(conf_mat,'MLP:\\nMatriz de confusión',True)"
   ]
  },
  {
   "cell_type": "markdown",
   "metadata": {},
   "source": [
    "### Random Forest:"
   ]
  },
  {
   "cell_type": "code",
   "execution_count": 30,
   "metadata": {
    "scrolled": true
   },
   "outputs": [
    {
     "name": "stdout",
     "output_type": "stream",
     "text": [
      "Verdaderos negativos (TN): 327\n",
      "Verdaderos positivos (TP): 322\n",
      "Falsos negativos (FN): 88\n",
      "Falsos positivos (FP): 111\n",
      "\n",
      "Accuracy: 0.7653301886792453\n",
      "TPR: 0.7853658536585366\n",
      "TNR: 0.7465753424657534\n",
      "FPR: 0.2534246575342466\n",
      "FNR: 0.2146341463414634\n",
      "PPV: 0.74364896073903\n",
      "AUC: 0.765970598062145\n",
      "Gmean: 0.76572500361163\n",
      "F1- Score: 0.763938315539739\n",
      "Gmeasure: 0.7642228083962764\n"
     ]
    }
   ],
   "source": [
    "rf_clf = RandomForestClassifier(random_state=15, n_estimators=150)\n",
    "\n",
    "tn,tp, fn, fp = validacion_cruzada(rf_clf, data, target, 5)\n",
    "\n",
    "accuracy = (tn+tp)/(tn+tp+fn+fp)\n",
    "tpr = tp/(tp+fn)\n",
    "tnr = tn/(tn+fp)\n",
    "fpr = fp/(tn+fp)\n",
    "fnr = fn/(tp+fn)\n",
    "ppv = tp/(tp+fp)\n",
    "auc = (1+tpr-fpr)/2\n",
    "Gmean = m.sqrt(tpr*tnr)\n",
    "f1 = (2*tp)/(2*tp+fp+fn)\n",
    "Gmeasure = m.sqrt(ppv*tpr)\n",
    "\n",
    "\n",
    "print(\"Verdaderos negativos (TN): \" + str(tn))\n",
    "print(\"Verdaderos positivos (TP): \" + str(tp))\n",
    "print(\"Falsos negativos (FN): \" + str(fn))\n",
    "print(\"Falsos positivos (FP): \" + str(fp))\n",
    "print()\n",
    "print(\"Accuracy: \" + str(accuracy))\n",
    "print(\"TPR: \" + str(tpr))\n",
    "print(\"TNR: \" + str(tnr))\n",
    "print(\"FPR: \" + str(fpr))\n",
    "print(\"FNR: \" + str(fnr))\n",
    "print(\"PPV: \" + str(ppv))\n",
    "print(\"AUC: \" + str(auc))\n",
    "print(\"Gmean: \" + str(Gmean))\n",
    "print(\"F1- Score: \" + str(f1))\n",
    "print(\"Gmeasure: \" + str(Gmeasure))"
   ]
  },
  {
   "cell_type": "code",
   "execution_count": 31,
   "metadata": {},
   "outputs": [],
   "source": [
    "#conf_mat = [[tn, fp],[fn, tp]]\n",
    "#print(conf_mat)\n",
    "#visualizeMatrix(conf_mat,'Random Forest:\\nMatriz de confusión',True)"
   ]
  },
  {
   "cell_type": "markdown",
   "metadata": {},
   "source": [
    "## Preprocesado 2:"
   ]
  },
  {
   "cell_type": "markdown",
   "metadata": {},
   "source": [
    "Sustituimos los valores perdidos por la mediana si es cuantitativo y por la moda si es cualitativo."
   ]
  },
  {
   "cell_type": "code",
   "execution_count": 32,
   "metadata": {},
   "outputs": [],
   "source": [
    "p2_datos = datos.copy()"
   ]
  },
  {
   "cell_type": "markdown",
   "metadata": {},
   "source": [
    "Para realizar operaciones con las columnas, como calcular la media, necesito que los datos sean de tipo numérico, por eso los cambiamos con astype al hacerlo."
   ]
  },
  {
   "cell_type": "code",
   "execution_count": 33,
   "metadata": {
    "scrolled": true
   },
   "outputs": [
    {
     "name": "stdout",
     "output_type": "stream",
     "text": [
      "Mediana de la edad: 57\n",
      "Moda del margen: 1.0\n",
      "Moda de la densidad: 3.0\n"
     ]
    }
   ],
   "source": [
    "# Rellenaremos los valores perdidos de Age con la mediana:\n",
    "p2_datos[[\"Age\"]] = p2_datos[[\"Age\"]].fillna(int(p2_datos[[\"Age\"]].median()))\n",
    "print(\"Mediana de la edad: \" + str(int(p2_datos[[\"Age\"]].median())))\n",
    "\n",
    "# Rellenaremos los valores perdidos de Margin con la moda:\n",
    "p2_datos[[\"Margin\"]] = p2_datos[[\"Margin\"]].fillna(datos[[\"Margin\"]].mode().iloc[0,0])\n",
    "print(\"Moda del margen: \" + str(p2_datos[[\"Margin\"]].mode().iloc[0,0]))\n",
    "\n",
    "# Rellenaremos los valores perdidos de Shape con la moda:\n",
    "p2_datos[[\"Density\"]] = p2_datos[[\"Density\"]].fillna(p2_datos[[\"Density\"]].mode().iloc[0,0])\n",
    "print(\"Moda de la densidad: \" + str(p2_datos[[\"Density\"]].mode().iloc[0,0]))"
   ]
  },
  {
   "cell_type": "code",
   "execution_count": 34,
   "metadata": {
    "scrolled": false
   },
   "outputs": [
    {
     "data": {
      "text/plain": [
       "Age         0\n",
       "Shape       0\n",
       "Margin      0\n",
       "Density     0\n",
       "Severity    0\n",
       "dtype: int64"
      ]
     },
     "execution_count": 34,
     "metadata": {},
     "output_type": "execute_result"
    }
   ],
   "source": [
    "p2_datos.isna().sum() # Ya no hay valores nulos"
   ]
  },
  {
   "cell_type": "markdown",
   "metadata": {},
   "source": [
    "### Separación entre datos y objetivo:"
   ]
  },
  {
   "cell_type": "code",
   "execution_count": 35,
   "metadata": {
    "scrolled": true
   },
   "outputs": [
    {
     "name": "stdout",
     "output_type": "stream",
     "text": [
      "Datos\n",
      "    Age  Shape  Margin  Density\n",
      "0  67.0      1     5.0      3.0\n",
      "1  43.0      4     1.0      3.0\n",
      "2  58.0      0     5.0      3.0\n",
      "3  28.0      4     1.0      3.0\n",
      "4  74.0      4     5.0      3.0\n",
      "\n",
      "Etiqueta\n",
      "0    1\n",
      "1    1\n",
      "2    1\n",
      "3    0\n",
      "4    1\n",
      "Name: Severity, dtype: int64\n"
     ]
    }
   ],
   "source": [
    "# Separamos las columnas con los datos de la etiqueta a predecir\n",
    "cols = [col for col in p2_datos.columns if col not in ['Severity']]\n",
    "data = p2_datos[cols]\n",
    "target = p2_datos['Severity']\n",
    "print(\"Datos\")\n",
    "print(data.head())\n",
    "print()\n",
    "print(\"Etiqueta\")\n",
    "print(target.head())"
   ]
  },
  {
   "cell_type": "markdown",
   "metadata": {},
   "source": [
    "### Desempeño:"
   ]
  },
  {
   "cell_type": "markdown",
   "metadata": {},
   "source": [
    "#### ZeroR:"
   ]
  },
  {
   "cell_type": "code",
   "execution_count": 36,
   "metadata": {},
   "outputs": [
    {
     "name": "stdout",
     "output_type": "stream",
     "text": [
      "Verdaderos negativos (TN): 516\n",
      "Verdaderos positivos (TP): 0\n",
      "Falsos negativos (FN): 445\n",
      "Falsos positivos (FP): 0\n",
      "\n",
      "Accuracy: 0.5369406867845994\n",
      "TPR: 0.0\n",
      "TNR: 1.0\n",
      "FPR: 0.0\n",
      "FNR: 1.0\n",
      "AUC: 0.5\n",
      "Gmean: 0.0\n",
      "F1- Score: 0.0\n"
     ]
    }
   ],
   "source": [
    "dummy_clf = DummyClassifier(strategy=\"most_frequent\")\n",
    "\n",
    "tn,tp, fn, fp = validacion_cruzada(dummy_clf, data, target, 5)\n",
    "\n",
    "accuracy = (tn+tp)/(tn+tp+fn+fp)\n",
    "tpr = tp/(tp+fn)\n",
    "tnr = tn/(tn+fp)\n",
    "fpr = fp/(tn+fp)\n",
    "fnr = fn/(tp+fn)\n",
    "#ppv = tp/(tp+fp)\n",
    "auc = (1+tpr-fpr)/2\n",
    "Gmean = m.sqrt(tpr*tnr)\n",
    "f1 = (2*tp)/(2*tp+fp+fn)\n",
    "#Gmeasure = m.sqrt(ppv*tpr)\n",
    "\n",
    "\n",
    "print(\"Verdaderos negativos (TN): \" + str(tn))\n",
    "print(\"Verdaderos positivos (TP): \" + str(tp))\n",
    "print(\"Falsos negativos (FN): \" + str(fn))\n",
    "print(\"Falsos positivos (FP): \" + str(fp))\n",
    "print()\n",
    "print(\"Accuracy: \" + str(accuracy))\n",
    "print(\"TPR: \" + str(tpr))\n",
    "print(\"TNR: \" + str(tnr))\n",
    "print(\"FPR: \" + str(fpr))\n",
    "print(\"FNR: \" + str(fnr))\n",
    "#print(\"PPV: \" + str(ppv))\n",
    "print(\"AUC: \" + str(auc))\n",
    "print(\"Gmean: \" + str(Gmean))\n",
    "print(\"F1- Score: \" + str(f1))\n",
    "#print(\"Gmeasure: \" + str(Gmeasure))"
   ]
  },
  {
   "cell_type": "code",
   "execution_count": 37,
   "metadata": {},
   "outputs": [],
   "source": [
    "# Matriz de confusión:\n",
    "#conf_mat = [[tn, fp],[fn, tp]]\n",
    "#print(conf_mat)\n",
    "#visualizeMatrix(conf_mat,'ZeroR:\\nMatriz de confusión',True)"
   ]
  },
  {
   "cell_type": "markdown",
   "metadata": {},
   "source": [
    "#### Support Vector Machine (SVM):"
   ]
  },
  {
   "cell_type": "code",
   "execution_count": 38,
   "metadata": {},
   "outputs": [
    {
     "name": "stdout",
     "output_type": "stream",
     "text": [
      "Verdaderos negativos (TN): 392\n",
      "Verdaderos positivos (TP): 373\n",
      "Falsos negativos (FN): 72\n",
      "Falsos positivos (FP): 124\n",
      "\n",
      "Accuracy: 0.7960457856399584\n",
      "TPR: 0.8382022471910112\n",
      "TNR: 0.7596899224806202\n",
      "FPR: 0.24031007751937986\n",
      "FNR: 0.16179775280898875\n",
      "PPV: 0.7505030181086519\n",
      "AUC: 0.7989460848358156\n",
      "Gmean: 0.797981077589952\n",
      "F1- Score: 0.7919320594479831\n",
      "Gmeasure: 0.7931414226367882\n"
     ]
    }
   ],
   "source": [
    "svm_clf = LinearSVC(random_state=15, tol=1e-5)\n",
    "\n",
    "tn,tp, fn, fp = validacion_cruzada(svm_clf, data, target, 5)\n",
    "\n",
    "accuracy = (tn+tp)/(tn+tp+fn+fp)\n",
    "tpr = tp/(tp+fn)\n",
    "tnr = tn/(tn+fp)\n",
    "fpr = fp/(tn+fp)\n",
    "fnr = fn/(tp+fn)\n",
    "ppv = tp/(tp+fp)\n",
    "auc = (1+tpr-fpr)/2\n",
    "Gmean = m.sqrt(tpr*tnr)\n",
    "f1 = (2*tp)/(2*tp+fp+fn)\n",
    "Gmeasure = m.sqrt(ppv*tpr)\n",
    "\n",
    "\n",
    "print(\"Verdaderos negativos (TN): \" + str(tn))\n",
    "print(\"Verdaderos positivos (TP): \" + str(tp))\n",
    "print(\"Falsos negativos (FN): \" + str(fn))\n",
    "print(\"Falsos positivos (FP): \" + str(fp))\n",
    "print()\n",
    "print(\"Accuracy: \" + str(accuracy))\n",
    "print(\"TPR: \" + str(tpr))\n",
    "print(\"TNR: \" + str(tnr))\n",
    "print(\"FPR: \" + str(fpr))\n",
    "print(\"FNR: \" + str(fnr))\n",
    "print(\"PPV: \" + str(ppv))\n",
    "print(\"AUC: \" + str(auc))\n",
    "print(\"Gmean: \" + str(Gmean))\n",
    "print(\"F1- Score: \" + str(f1))\n",
    "print(\"Gmeasure: \" + str(Gmeasure))"
   ]
  },
  {
   "cell_type": "code",
   "execution_count": 39,
   "metadata": {},
   "outputs": [],
   "source": [
    "# Matriz de confusión:\n",
    "#conf_mat = [[tn, fp],[fn, tp]]\n",
    "#print(conf_mat)\n",
    "#visualizeMatrix(conf_mat,'SVM:\\nMatriz de confusión',True)"
   ]
  },
  {
   "cell_type": "markdown",
   "metadata": {},
   "source": [
    "#### K-nn:"
   ]
  },
  {
   "cell_type": "code",
   "execution_count": 40,
   "metadata": {},
   "outputs": [
    {
     "name": "stdout",
     "output_type": "stream",
     "text": [
      "Verdaderos negativos (TN): 410\n",
      "Verdaderos positivos (TP): 349\n",
      "Falsos negativos (FN): 96\n",
      "Falsos positivos (FP): 106\n",
      "\n",
      "Accuracy: 0.7898022892819979\n",
      "TPR: 0.7842696629213484\n",
      "TNR: 0.7945736434108527\n",
      "FPR: 0.2054263565891473\n",
      "FNR: 0.2157303370786517\n",
      "PPV: 0.7670329670329671\n",
      "AUC: 0.7894216531661006\n",
      "Gmean: 0.7894048413102223\n",
      "F1- Score: 0.7755555555555556\n",
      "Gmeasure: 0.7756034337884966\n"
     ]
    }
   ],
   "source": [
    "knn_clf = KNeighborsClassifier(n_neighbors=5)\n",
    "\n",
    "tn,tp, fn, fp = validacion_cruzada(knn_clf, data, target, 5)\n",
    "\n",
    "accuracy = (tn+tp)/(tn+tp+fn+fp)\n",
    "tpr = tp/(tp+fn)\n",
    "tnr = tn/(tn+fp)\n",
    "fpr = fp/(tn+fp)\n",
    "fnr = fn/(tp+fn)\n",
    "ppv = tp/(tp+fp)\n",
    "auc = (1+tpr-fpr)/2\n",
    "Gmean = m.sqrt(tpr*tnr)\n",
    "f1 = (2*tp)/(2*tp+fp+fn)\n",
    "Gmeasure = m.sqrt(ppv*tpr)\n",
    "\n",
    "\n",
    "print(\"Verdaderos negativos (TN): \" + str(tn))\n",
    "print(\"Verdaderos positivos (TP): \" + str(tp))\n",
    "print(\"Falsos negativos (FN): \" + str(fn))\n",
    "print(\"Falsos positivos (FP): \" + str(fp))\n",
    "print()\n",
    "print(\"Accuracy: \" + str(accuracy))\n",
    "print(\"TPR: \" + str(tpr))\n",
    "print(\"TNR: \" + str(tnr))\n",
    "print(\"FPR: \" + str(fpr))\n",
    "print(\"FNR: \" + str(fnr))\n",
    "print(\"PPV: \" + str(ppv))\n",
    "print(\"AUC: \" + str(auc))\n",
    "print(\"Gmean: \" + str(Gmean))\n",
    "print(\"F1- Score: \" + str(f1))\n",
    "print(\"Gmeasure: \" + str(Gmeasure))"
   ]
  },
  {
   "cell_type": "code",
   "execution_count": 41,
   "metadata": {},
   "outputs": [],
   "source": [
    "# Matriz de confusión:\n",
    "#conf_mat = [[tn, fp],[fn, tp]]\n",
    "#print(conf_mat)\n",
    "#visualizeMatrix(conf_mat,'k-nn:\\nMatriz de confusión',True)"
   ]
  },
  {
   "cell_type": "markdown",
   "metadata": {},
   "source": [
    "#### Árbol de decisión:"
   ]
  },
  {
   "cell_type": "code",
   "execution_count": 42,
   "metadata": {},
   "outputs": [
    {
     "name": "stdout",
     "output_type": "stream",
     "text": [
      "Verdaderos negativos (TN): 402\n",
      "Verdaderos positivos (TP): 313\n",
      "Falsos negativos (FN): 132\n",
      "Falsos positivos (FP): 114\n",
      "\n",
      "Accuracy: 0.7440166493236212\n",
      "TPR: 0.7033707865168539\n",
      "TNR: 0.7790697674418605\n",
      "FPR: 0.22093023255813954\n",
      "FNR: 0.2966292134831461\n",
      "PPV: 0.7330210772833724\n",
      "AUC: 0.7412202769793572\n",
      "Gmean: 0.7402532776537257\n",
      "F1- Score: 0.7178899082568807\n",
      "Gmeasure: 0.71804290377542\n"
     ]
    }
   ],
   "source": [
    "tree_clf = DecisionTreeClassifier(random_state=15)\n",
    "\n",
    "tn,tp, fn, fp = validacion_cruzada(tree_clf, data, target, 5)\n",
    "\n",
    "accuracy = (tn+tp)/(tn+tp+fn+fp)\n",
    "tpr = tp/(tp+fn)\n",
    "tnr = tn/(tn+fp)\n",
    "fpr = fp/(tn+fp)\n",
    "fnr = fn/(tp+fn)\n",
    "ppv = tp/(tp+fp)\n",
    "auc = (1+tpr-fpr)/2\n",
    "Gmean = m.sqrt(tpr*tnr)\n",
    "f1 = (2*tp)/(2*tp+fp+fn)\n",
    "Gmeasure = m.sqrt(ppv*tpr)\n",
    "\n",
    "\n",
    "print(\"Verdaderos negativos (TN): \" + str(tn))\n",
    "print(\"Verdaderos positivos (TP): \" + str(tp))\n",
    "print(\"Falsos negativos (FN): \" + str(fn))\n",
    "print(\"Falsos positivos (FP): \" + str(fp))\n",
    "print()\n",
    "print(\"Accuracy: \" + str(accuracy))\n",
    "print(\"TPR: \" + str(tpr))\n",
    "print(\"TNR: \" + str(tnr))\n",
    "print(\"FPR: \" + str(fpr))\n",
    "print(\"FNR: \" + str(fnr))\n",
    "print(\"PPV: \" + str(ppv))\n",
    "print(\"AUC: \" + str(auc))\n",
    "print(\"Gmean: \" + str(Gmean))\n",
    "print(\"F1- Score: \" + str(f1))\n",
    "print(\"Gmeasure: \" + str(Gmeasure))"
   ]
  },
  {
   "cell_type": "code",
   "execution_count": 43,
   "metadata": {},
   "outputs": [],
   "source": [
    "# Matriz de confusión:\n",
    "#conf_mat = [[tn, fp],[fn, tp]]\n",
    "#print(conf_mat)\n",
    "#visualizeMatrix(conf_mat,'Árbol de decisión:\\nMatriz de confusión',True)"
   ]
  },
  {
   "cell_type": "markdown",
   "metadata": {},
   "source": [
    "#### Multilayer Perceptron (MLP):"
   ]
  },
  {
   "cell_type": "code",
   "execution_count": 44,
   "metadata": {},
   "outputs": [
    {
     "name": "stdout",
     "output_type": "stream",
     "text": [
      "Verdaderos negativos (TN): 405\n",
      "Verdaderos positivos (TP): 357\n",
      "Falsos negativos (FN): 88\n",
      "Falsos positivos (FP): 111\n",
      "\n",
      "Accuracy: 0.7929240374609782\n",
      "TPR: 0.802247191011236\n",
      "TNR: 0.7848837209302325\n",
      "FPR: 0.21511627906976744\n",
      "FNR: 0.19775280898876405\n",
      "PPV: 0.7628205128205128\n",
      "AUC: 0.7935654559707344\n",
      "Gmean: 0.7935179647536191\n",
      "F1- Score: 0.7820372398685652\n",
      "Gmeasure: 0.7822855064846893\n"
     ]
    }
   ],
   "source": [
    "mlp_clf = MLPClassifier(random_state=15, hidden_layer_sizes=(150,150),activation='tanh',max_iter=800,early_stopping=True)\n",
    "\n",
    "tn,tp, fn, fp = validacion_cruzada(mlp_clf, data, target, 5)\n",
    "\n",
    "accuracy = (tn+tp)/(tn+tp+fn+fp)\n",
    "tpr = tp/(tp+fn)\n",
    "tnr = tn/(tn+fp)\n",
    "fpr = fp/(tn+fp)\n",
    "fnr = fn/(tp+fn)\n",
    "ppv = tp/(tp+fp)\n",
    "auc = (1+tpr-fpr)/2\n",
    "Gmean = m.sqrt(tpr*tnr)\n",
    "f1 = (2*tp)/(2*tp+fp+fn)\n",
    "Gmeasure = m.sqrt(ppv*tpr)\n",
    "\n",
    "\n",
    "print(\"Verdaderos negativos (TN): \" + str(tn))\n",
    "print(\"Verdaderos positivos (TP): \" + str(tp))\n",
    "print(\"Falsos negativos (FN): \" + str(fn))\n",
    "print(\"Falsos positivos (FP): \" + str(fp))\n",
    "print()\n",
    "print(\"Accuracy: \" + str(accuracy))\n",
    "print(\"TPR: \" + str(tpr))\n",
    "print(\"TNR: \" + str(tnr))\n",
    "print(\"FPR: \" + str(fpr))\n",
    "print(\"FNR: \" + str(fnr))\n",
    "print(\"PPV: \" + str(ppv))\n",
    "print(\"AUC: \" + str(auc))\n",
    "print(\"Gmean: \" + str(Gmean))\n",
    "print(\"F1- Score: \" + str(f1))\n",
    "print(\"Gmeasure: \" + str(Gmeasure))"
   ]
  },
  {
   "cell_type": "code",
   "execution_count": 45,
   "metadata": {},
   "outputs": [],
   "source": [
    "# Matriz de confusión:\n",
    "#conf_mat = [[tn, fp],[fn, tp]]\n",
    "#print(conf_mat)\n",
    "#visualizeMatrix(conf_mat,'MLP:\\nMatriz de confusión',True)"
   ]
  },
  {
   "cell_type": "markdown",
   "metadata": {},
   "source": [
    "#### Random Forest (RF):"
   ]
  },
  {
   "cell_type": "code",
   "execution_count": 46,
   "metadata": {},
   "outputs": [
    {
     "name": "stdout",
     "output_type": "stream",
     "text": [
      "Verdaderos negativos (TN): 397\n",
      "Verdaderos positivos (TP): 343\n",
      "Falsos negativos (FN): 102\n",
      "Falsos positivos (FP): 119\n",
      "\n",
      "Accuracy: 0.7700312174817898\n",
      "TPR: 0.7707865168539326\n",
      "TNR: 0.7693798449612403\n",
      "FPR: 0.23062015503875968\n",
      "FNR: 0.2292134831460674\n",
      "PPV: 0.7424242424242424\n",
      "AUC: 0.7700831809075865\n",
      "Gmean: 0.7700828597204934\n",
      "F1- Score: 0.7563395810363837\n",
      "Gmeasure: 0.7564724686636662\n"
     ]
    }
   ],
   "source": [
    "rf_clf = RandomForestClassifier(random_state=15, n_estimators=150)\n",
    "\n",
    "tn,tp, fn, fp = validacion_cruzada(rf_clf, data, target, 5)\n",
    "\n",
    "accuracy = (tn+tp)/(tn+tp+fn+fp)\n",
    "tpr = tp/(tp+fn)\n",
    "tnr = tn/(tn+fp)\n",
    "fpr = fp/(tn+fp)\n",
    "fnr = fn/(tp+fn)\n",
    "ppv = tp/(tp+fp)\n",
    "auc = (1+tpr-fpr)/2\n",
    "Gmean = m.sqrt(tpr*tnr)\n",
    "f1 = (2*tp)/(2*tp+fp+fn)\n",
    "Gmeasure = m.sqrt(ppv*tpr)\n",
    "\n",
    "\n",
    "print(\"Verdaderos negativos (TN): \" + str(tn))\n",
    "print(\"Verdaderos positivos (TP): \" + str(tp))\n",
    "print(\"Falsos negativos (FN): \" + str(fn))\n",
    "print(\"Falsos positivos (FP): \" + str(fp))\n",
    "print()\n",
    "print(\"Accuracy: \" + str(accuracy))\n",
    "print(\"TPR: \" + str(tpr))\n",
    "print(\"TNR: \" + str(tnr))\n",
    "print(\"FPR: \" + str(fpr))\n",
    "print(\"FNR: \" + str(fnr))\n",
    "print(\"PPV: \" + str(ppv))\n",
    "print(\"AUC: \" + str(auc))\n",
    "print(\"Gmean: \" + str(Gmean))\n",
    "print(\"F1- Score: \" + str(f1))\n",
    "print(\"Gmeasure: \" + str(Gmeasure))"
   ]
  },
  {
   "cell_type": "code",
   "execution_count": 47,
   "metadata": {},
   "outputs": [],
   "source": [
    "# Matriz de confusión:\n",
    "#conf_mat = [[tn, fp],[fn, tp]]\n",
    "#print(conf_mat)\n",
    "#visualizeMatrix(conf_mat,'RF:\\nMatriz de confusión',True)"
   ]
  },
  {
   "cell_type": "markdown",
   "metadata": {},
   "source": [
    "## Preprocesado 3:"
   ]
  },
  {
   "cell_type": "markdown",
   "metadata": {},
   "source": [
    "Eliminamos la característica Densidad por su baja varianza y eliminamos los datos con valores perdidos."
   ]
  },
  {
   "cell_type": "code",
   "execution_count": 48,
   "metadata": {},
   "outputs": [],
   "source": [
    "p3_datos = datos.copy()"
   ]
  },
  {
   "cell_type": "code",
   "execution_count": 49,
   "metadata": {
    "scrolled": true
   },
   "outputs": [
    {
     "data": {
      "text/plain": [
       "Age         793\n",
       "Shape       798\n",
       "Margin      772\n",
       "Density     798\n",
       "Severity    798\n",
       "dtype: int64"
      ]
     },
     "execution_count": 49,
     "metadata": {},
     "output_type": "execute_result"
    }
   ],
   "source": [
    "p3_datos[p3_datos['Density'] == 3.0].count()"
   ]
  },
  {
   "cell_type": "code",
   "execution_count": 50,
   "metadata": {
    "scrolled": true
   },
   "outputs": [
    {
     "data": {
      "text/plain": [
       "Age         float64\n",
       "Shape         int64\n",
       "Margin      float64\n",
       "Density     float64\n",
       "Severity      int64\n",
       "dtype: object"
      ]
     },
     "execution_count": 50,
     "metadata": {},
     "output_type": "execute_result"
    }
   ],
   "source": [
    "p3_datos.dtypes"
   ]
  },
  {
   "cell_type": "code",
   "execution_count": 51,
   "metadata": {
    "scrolled": true
   },
   "outputs": [
    {
     "data": {
      "text/plain": [
       "0.14473758212541862"
      ]
     },
     "execution_count": 51,
     "metadata": {},
     "output_type": "execute_result"
    }
   ],
   "source": [
    "p3_datos['Density'].var()"
   ]
  },
  {
   "cell_type": "code",
   "execution_count": 52,
   "metadata": {},
   "outputs": [],
   "source": [
    "del(p3_datos['Density'])"
   ]
  },
  {
   "cell_type": "code",
   "execution_count": 53,
   "metadata": {},
   "outputs": [
    {
     "data": {
      "text/html": [
       "<div>\n",
       "<style scoped>\n",
       "    .dataframe tbody tr th:only-of-type {\n",
       "        vertical-align: middle;\n",
       "    }\n",
       "\n",
       "    .dataframe tbody tr th {\n",
       "        vertical-align: top;\n",
       "    }\n",
       "\n",
       "    .dataframe thead th {\n",
       "        text-align: right;\n",
       "    }\n",
       "</style>\n",
       "<table border=\"1\" class=\"dataframe\">\n",
       "  <thead>\n",
       "    <tr style=\"text-align: right;\">\n",
       "      <th></th>\n",
       "      <th>Age</th>\n",
       "      <th>Shape</th>\n",
       "      <th>Margin</th>\n",
       "      <th>Severity</th>\n",
       "    </tr>\n",
       "  </thead>\n",
       "  <tbody>\n",
       "    <tr>\n",
       "      <th>0</th>\n",
       "      <td>67.0</td>\n",
       "      <td>1</td>\n",
       "      <td>5.0</td>\n",
       "      <td>1</td>\n",
       "    </tr>\n",
       "    <tr>\n",
       "      <th>1</th>\n",
       "      <td>43.0</td>\n",
       "      <td>4</td>\n",
       "      <td>1.0</td>\n",
       "      <td>1</td>\n",
       "    </tr>\n",
       "    <tr>\n",
       "      <th>2</th>\n",
       "      <td>58.0</td>\n",
       "      <td>0</td>\n",
       "      <td>5.0</td>\n",
       "      <td>1</td>\n",
       "    </tr>\n",
       "    <tr>\n",
       "      <th>3</th>\n",
       "      <td>28.0</td>\n",
       "      <td>4</td>\n",
       "      <td>1.0</td>\n",
       "      <td>0</td>\n",
       "    </tr>\n",
       "    <tr>\n",
       "      <th>4</th>\n",
       "      <td>74.0</td>\n",
       "      <td>4</td>\n",
       "      <td>5.0</td>\n",
       "      <td>1</td>\n",
       "    </tr>\n",
       "    <tr>\n",
       "      <th>...</th>\n",
       "      <td>...</td>\n",
       "      <td>...</td>\n",
       "      <td>...</td>\n",
       "      <td>...</td>\n",
       "    </tr>\n",
       "    <tr>\n",
       "      <th>956</th>\n",
       "      <td>47.0</td>\n",
       "      <td>3</td>\n",
       "      <td>1.0</td>\n",
       "      <td>0</td>\n",
       "    </tr>\n",
       "    <tr>\n",
       "      <th>957</th>\n",
       "      <td>56.0</td>\n",
       "      <td>0</td>\n",
       "      <td>5.0</td>\n",
       "      <td>1</td>\n",
       "    </tr>\n",
       "    <tr>\n",
       "      <th>958</th>\n",
       "      <td>64.0</td>\n",
       "      <td>0</td>\n",
       "      <td>5.0</td>\n",
       "      <td>0</td>\n",
       "    </tr>\n",
       "    <tr>\n",
       "      <th>959</th>\n",
       "      <td>66.0</td>\n",
       "      <td>0</td>\n",
       "      <td>5.0</td>\n",
       "      <td>1</td>\n",
       "    </tr>\n",
       "    <tr>\n",
       "      <th>960</th>\n",
       "      <td>62.0</td>\n",
       "      <td>1</td>\n",
       "      <td>3.0</td>\n",
       "      <td>0</td>\n",
       "    </tr>\n",
       "  </tbody>\n",
       "</table>\n",
       "<p>961 rows × 4 columns</p>\n",
       "</div>"
      ],
      "text/plain": [
       "      Age  Shape  Margin  Severity\n",
       "0    67.0      1     5.0         1\n",
       "1    43.0      4     1.0         1\n",
       "2    58.0      0     5.0         1\n",
       "3    28.0      4     1.0         0\n",
       "4    74.0      4     5.0         1\n",
       "..    ...    ...     ...       ...\n",
       "956  47.0      3     1.0         0\n",
       "957  56.0      0     5.0         1\n",
       "958  64.0      0     5.0         0\n",
       "959  66.0      0     5.0         1\n",
       "960  62.0      1     3.0         0\n",
       "\n",
       "[961 rows x 4 columns]"
      ]
     },
     "execution_count": 53,
     "metadata": {},
     "output_type": "execute_result"
    }
   ],
   "source": [
    "p3_datos"
   ]
  },
  {
   "cell_type": "code",
   "execution_count": 54,
   "metadata": {},
   "outputs": [
    {
     "data": {
      "text/plain": [
       "Age          5\n",
       "Shape        0\n",
       "Margin      48\n",
       "Severity     0\n",
       "dtype: int64"
      ]
     },
     "execution_count": 54,
     "metadata": {},
     "output_type": "execute_result"
    }
   ],
   "source": [
    "p3_datos.isna().sum()"
   ]
  },
  {
   "cell_type": "code",
   "execution_count": 55,
   "metadata": {},
   "outputs": [],
   "source": [
    "p3_datos = p3_datos.dropna()"
   ]
  },
  {
   "cell_type": "code",
   "execution_count": 56,
   "metadata": {},
   "outputs": [
    {
     "data": {
      "text/plain": [
       "Age         0\n",
       "Shape       0\n",
       "Margin      0\n",
       "Severity    0\n",
       "dtype: int64"
      ]
     },
     "execution_count": 56,
     "metadata": {},
     "output_type": "execute_result"
    }
   ],
   "source": [
    "p3_datos.isna().sum()"
   ]
  },
  {
   "cell_type": "code",
   "execution_count": 57,
   "metadata": {},
   "outputs": [
    {
     "data": {
      "text/plain": [
       "908"
      ]
     },
     "execution_count": 57,
     "metadata": {},
     "output_type": "execute_result"
    }
   ],
   "source": [
    "p3_datos.shape[0]"
   ]
  },
  {
   "cell_type": "code",
   "execution_count": 58,
   "metadata": {},
   "outputs": [],
   "source": [
    "#p3_datos['Age'].min()\n",
    "#p3_datos['Age'].max()"
   ]
  },
  {
   "cell_type": "markdown",
   "metadata": {},
   "source": [
    "### Separación entre datos y objetivo"
   ]
  },
  {
   "cell_type": "code",
   "execution_count": 59,
   "metadata": {},
   "outputs": [
    {
     "name": "stdout",
     "output_type": "stream",
     "text": [
      "Datos\n",
      "    Age  Shape  Margin\n",
      "0  67.0      1     5.0\n",
      "1  43.0      4     1.0\n",
      "2  58.0      0     5.0\n",
      "3  28.0      4     1.0\n",
      "4  74.0      4     5.0\n",
      "\n",
      "Etiqueta\n",
      "0    1\n",
      "1    1\n",
      "2    1\n",
      "3    0\n",
      "4    1\n",
      "Name: Severity, dtype: int64\n"
     ]
    }
   ],
   "source": [
    "# Separamos las columnas con los datos de la etiqueta a predecir\n",
    "cols = [col for col in p3_datos.columns if col not in ['Severity']]\n",
    "data = p3_datos[cols]\n",
    "target = p3_datos['Severity']\n",
    "print(\"Datos\")\n",
    "print(data.head())\n",
    "print()\n",
    "print(\"Etiqueta\")\n",
    "print(target.head())"
   ]
  },
  {
   "cell_type": "code",
   "execution_count": 60,
   "metadata": {},
   "outputs": [
    {
     "name": "stdout",
     "output_type": "stream",
     "text": [
      "Hay 429 malignos y 479 benignos.\n"
     ]
    }
   ],
   "source": [
    "# Mostramos si los datos están o no balanceados (Para ver si accuracy es una buena medida)\n",
    "malignos = 0\n",
    "for i in target:\n",
    "    if i == 1:\n",
    "        malignos += 1\n",
    "\n",
    "benignos = len(target) - malignos\n",
    "print(\"Hay \" + str(malignos) + \" malignos y \" + str(benignos) + \" benignos.\")"
   ]
  },
  {
   "cell_type": "markdown",
   "metadata": {},
   "source": [
    "### Modelos:"
   ]
  },
  {
   "cell_type": "markdown",
   "metadata": {},
   "source": [
    "### ZeroR:"
   ]
  },
  {
   "cell_type": "code",
   "execution_count": 61,
   "metadata": {},
   "outputs": [
    {
     "name": "stdout",
     "output_type": "stream",
     "text": [
      "Verdaderos negativos (TN): 479\n",
      "Verdaderos positivos (TP): 0\n",
      "Falsos negativos (FN): 429\n",
      "Falsos positivos (FP): 0\n",
      "\n",
      "Accuracy: 0.5275330396475771\n",
      "TPR: 0.0\n",
      "TNR: 1.0\n",
      "FPR: 0.0\n",
      "FNR: 1.0\n",
      "AUC: 0.5\n",
      "Gmean: 0.0\n",
      "F1- Score: 0.0\n"
     ]
    }
   ],
   "source": [
    "dummy_clf = DummyClassifier(strategy=\"most_frequent\")\n",
    "\n",
    "tn,tp, fn, fp = validacion_cruzada(dummy_clf, data, target, 5)\n",
    "\n",
    "accuracy = (tn+tp)/(tn+tp+fn+fp)\n",
    "tpr = tp/(tp+fn)\n",
    "tnr = tn/(tn+fp)\n",
    "fpr = fp/(tn+fp)\n",
    "fnr = fn/(tp+fn)\n",
    "#ppv = tp/(tp+fp)\n",
    "auc = (1+tpr-fpr)/2\n",
    "Gmean = m.sqrt(tpr*tnr)\n",
    "f1 = (2*tp)/(2*tp+fp+fn)\n",
    "#Gmeasure = m.sqrt(ppv*tpr)\n",
    "\n",
    "\n",
    "print(\"Verdaderos negativos (TN): \" + str(tn))\n",
    "print(\"Verdaderos positivos (TP): \" + str(tp))\n",
    "print(\"Falsos negativos (FN): \" + str(fn))\n",
    "print(\"Falsos positivos (FP): \" + str(fp))\n",
    "print()\n",
    "print(\"Accuracy: \" + str(accuracy))\n",
    "print(\"TPR: \" + str(tpr))\n",
    "print(\"TNR: \" + str(tnr))\n",
    "print(\"FPR: \" + str(fpr))\n",
    "print(\"FNR: \" + str(fnr))\n",
    "#print(\"PPV: \" + str(ppv))\n",
    "print(\"AUC: \" + str(auc))\n",
    "print(\"Gmean: \" + str(Gmean))\n",
    "print(\"F1- Score: \" + str(f1))\n",
    "#print(\"Gmeasure: \" + str(Gmeasure))"
   ]
  },
  {
   "cell_type": "code",
   "execution_count": 62,
   "metadata": {},
   "outputs": [
    {
     "name": "stdout",
     "output_type": "stream",
     "text": [
      "[[0.5275330396475771, 0.0], [0.4724669603524229, 0.0]]\n"
     ]
    },
    {
     "data": {
      "image/png": "[encoded data removed]",
      "text/plain": [
       "<Figure size 288x288 with 2 Axes>"
      ]
     },
     "metadata": {
      "needs_background": "light"
     },
     "output_type": "display_data"
    }
   ],
   "source": [
    "# Matriz de confusión:\n",
    "conf_mat = [[tn/len(data), fp/len(data)],[fn/len(data), tp/len(data)]]\n",
    "print(conf_mat)\n",
    "visualizeMatrix(conf_mat,'ZeroR:\\nMatriz de confusión',True)"
   ]
  },
  {
   "cell_type": "markdown",
   "metadata": {},
   "source": [
    "### Support Vector Machine (SVM):"
   ]
  },
  {
   "cell_type": "code",
   "execution_count": 63,
   "metadata": {},
   "outputs": [
    {
     "name": "stdout",
     "output_type": "stream",
     "text": [
      "Verdaderos negativos (TN): 360\n",
      "Verdaderos positivos (TP): 365\n",
      "Falsos negativos (FN): 64\n",
      "Falsos positivos (FP): 119\n",
      "\n",
      "Accuracy: 0.7984581497797357\n",
      "TPR: 0.8508158508158508\n",
      "TNR: 0.7515657620041754\n",
      "FPR: 0.24843423799582465\n",
      "FNR: 0.14918414918414918\n",
      "PPV: 0.7541322314049587\n",
      "AUC: 0.8011908064100131\n",
      "Gmean: 0.7996524640390009\n",
      "F1- Score: 0.7995618838992333\n",
      "Gmeasure: 0.8010166390846484\n"
     ]
    }
   ],
   "source": [
    "svm_clf = LinearSVC(random_state=15, tol=1e-5)\n",
    "\n",
    "tn,tp, fn, fp = validacion_cruzada(svm_clf, data, target, 5)\n",
    "\n",
    "accuracy = (tn+tp)/(tn+tp+fn+fp)\n",
    "tpr = tp/(tp+fn)\n",
    "tnr = tn/(tn+fp)\n",
    "fpr = fp/(tn+fp)\n",
    "fnr = fn/(tp+fn)\n",
    "ppv = tp/(tp+fp)\n",
    "auc = (1+tpr-fpr)/2\n",
    "Gmean = m.sqrt(tpr*tnr)\n",
    "f1 = (2*tp)/(2*tp+fp+fn)\n",
    "Gmeasure = m.sqrt(ppv*tpr)\n",
    "\n",
    "\n",
    "print(\"Verdaderos negativos (TN): \" + str(tn))\n",
    "print(\"Verdaderos positivos (TP): \" + str(tp))\n",
    "print(\"Falsos negativos (FN): \" + str(fn))\n",
    "print(\"Falsos positivos (FP): \" + str(fp))\n",
    "print()\n",
    "print(\"Accuracy: \" + str(accuracy))\n",
    "print(\"TPR: \" + str(tpr))\n",
    "print(\"TNR: \" + str(tnr))\n",
    "print(\"FPR: \" + str(fpr))\n",
    "print(\"FNR: \" + str(fnr))\n",
    "print(\"PPV: \" + str(ppv))\n",
    "print(\"AUC: \" + str(auc))\n",
    "print(\"Gmean: \" + str(Gmean))\n",
    "print(\"F1- Score: \" + str(f1))\n",
    "print(\"Gmeasure: \" + str(Gmeasure))"
   ]
  },
  {
   "cell_type": "code",
   "execution_count": 64,
   "metadata": {},
   "outputs": [
    {
     "name": "stdout",
     "output_type": "stream",
     "text": [
      "[[0.3964757709251101, 0.13105726872246695], [0.07048458149779736, 0.40198237885462557]]\n"
     ]
    },
    {
     "data": {
      "image/png": "[encoded data removed]",
      "text/plain": [
       "<Figure size 288x288 with 2 Axes>"
      ]
     },
     "metadata": {
      "needs_background": "light"
     },
     "output_type": "display_data"
    }
   ],
   "source": [
    "# Matriz de confusión:\n",
    "conf_mat = [[tn/len(data), fp/len(data)],[fn/len(data), tp/len(data)]]\n",
    "print(conf_mat)\n",
    "visualizeMatrix(conf_mat,'SVM:\\nMatriz de confusión',True)"
   ]
  },
  {
   "cell_type": "markdown",
   "metadata": {},
   "source": [
    "### k-nn:"
   ]
  },
  {
   "cell_type": "code",
   "execution_count": 65,
   "metadata": {},
   "outputs": [
    {
     "name": "stdout",
     "output_type": "stream",
     "text": [
      "Verdaderos negativos (TN): 369\n",
      "Verdaderos positivos (TP): 347\n",
      "Falsos negativos (FN): 82\n",
      "Falsos positivos (FP): 110\n",
      "\n",
      "Accuracy: 0.788546255506608\n",
      "TPR: 0.8088578088578089\n",
      "TNR: 0.7703549060542797\n",
      "FPR: 0.22964509394572025\n",
      "FNR: 0.19114219114219114\n",
      "PPV: 0.7592997811816192\n",
      "AUC: 0.7896063574560443\n",
      "Gmean: 0.7893716370341208\n",
      "F1- Score: 0.7832957110609481\n",
      "Gmeasure: 0.7836871552301838\n"
     ]
    }
   ],
   "source": [
    "knn_clf = KNeighborsClassifier(n_neighbors=5)\n",
    "\n",
    "tn,tp, fn, fp = validacion_cruzada(knn_clf, data, target, 5)\n",
    "\n",
    "accuracy = (tn+tp)/(tn+tp+fn+fp)\n",
    "tpr = tp/(tp+fn)\n",
    "tnr = tn/(tn+fp)\n",
    "fpr = fp/(tn+fp)\n",
    "fnr = fn/(tp+fn)\n",
    "ppv = tp/(tp+fp)\n",
    "auc = (1+tpr-fpr)/2\n",
    "Gmean = m.sqrt(tpr*tnr)\n",
    "f1 = (2*tp)/(2*tp+fp+fn)\n",
    "Gmeasure = m.sqrt(ppv*tpr)\n",
    "\n",
    "\n",
    "print(\"Verdaderos negativos (TN): \" + str(tn))\n",
    "print(\"Verdaderos positivos (TP): \" + str(tp))\n",
    "print(\"Falsos negativos (FN): \" + str(fn))\n",
    "print(\"Falsos positivos (FP): \" + str(fp))\n",
    "print()\n",
    "print(\"Accuracy: \" + str(accuracy))\n",
    "print(\"TPR: \" + str(tpr))\n",
    "print(\"TNR: \" + str(tnr))\n",
    "print(\"FPR: \" + str(fpr))\n",
    "print(\"FNR: \" + str(fnr))\n",
    "print(\"PPV: \" + str(ppv))\n",
    "print(\"AUC: \" + str(auc))\n",
    "print(\"Gmean: \" + str(Gmean))\n",
    "print(\"F1- Score: \" + str(f1))\n",
    "print(\"Gmeasure: \" + str(Gmeasure))"
   ]
  },
  {
   "cell_type": "code",
   "execution_count": 66,
   "metadata": {
    "scrolled": true
   },
   "outputs": [],
   "source": [
    "# Matriz de confusión:\n",
    "#conf_mat = [[tn, fp],[fn, tp]]\n",
    "#print(conf_mat)\n",
    "#visualizeMatrix(conf_mat,'k-nn:\\nMatriz de confusión',True)"
   ]
  },
  {
   "cell_type": "markdown",
   "metadata": {},
   "source": [
    "### Árbol de decisión:"
   ]
  },
  {
   "cell_type": "code",
   "execution_count": 67,
   "metadata": {},
   "outputs": [
    {
     "name": "stdout",
     "output_type": "stream",
     "text": [
      "Verdaderos negativos (TN): 376\n",
      "Verdaderos positivos (TP): 304\n",
      "Falsos negativos (FN): 125\n",
      "Falsos positivos (FP): 103\n",
      "\n",
      "Accuracy: 0.748898678414097\n",
      "TPR: 0.7086247086247086\n",
      "TNR: 0.7849686847599165\n",
      "FPR: 0.2150313152400835\n",
      "FNR: 0.2913752913752914\n",
      "PPV: 0.7469287469287469\n",
      "AUC: 0.7467966966923125\n",
      "Gmean: 0.7458204914840545\n",
      "F1- Score: 0.7272727272727273\n",
      "Gmeasure: 0.7275246838807615\n"
     ]
    }
   ],
   "source": [
    "tree_clf = DecisionTreeClassifier(random_state=15)\n",
    "\n",
    "tn,tp, fn, fp = validacion_cruzada(tree_clf, data, target, 5)\n",
    "\n",
    "accuracy = (tn+tp)/(tn+tp+fn+fp)\n",
    "tpr = tp/(tp+fn)\n",
    "tnr = tn/(tn+fp)\n",
    "fpr = fp/(tn+fp)\n",
    "fnr = fn/(tp+fn)\n",
    "ppv = tp/(tp+fp)\n",
    "auc = (1+tpr-fpr)/2\n",
    "Gmean = m.sqrt(tpr*tnr)\n",
    "f1 = (2*tp)/(2*tp+fp+fn)\n",
    "Gmeasure = m.sqrt(ppv*tpr)\n",
    "\n",
    "\n",
    "print(\"Verdaderos negativos (TN): \" + str(tn))\n",
    "print(\"Verdaderos positivos (TP): \" + str(tp))\n",
    "print(\"Falsos negativos (FN): \" + str(fn))\n",
    "print(\"Falsos positivos (FP): \" + str(fp))\n",
    "print()\n",
    "print(\"Accuracy: \" + str(accuracy))\n",
    "print(\"TPR: \" + str(tpr))\n",
    "print(\"TNR: \" + str(tnr))\n",
    "print(\"FPR: \" + str(fpr))\n",
    "print(\"FNR: \" + str(fnr))\n",
    "print(\"PPV: \" + str(ppv))\n",
    "print(\"AUC: \" + str(auc))\n",
    "print(\"Gmean: \" + str(Gmean))\n",
    "print(\"F1- Score: \" + str(f1))\n",
    "print(\"Gmeasure: \" + str(Gmeasure))"
   ]
  },
  {
   "cell_type": "code",
   "execution_count": 68,
   "metadata": {},
   "outputs": [],
   "source": [
    "# Matriz de confusión:\n",
    "#conf_mat = [[tn, fp],[fn, tp]]\n",
    "#print(conf_mat)\n",
    "#visualizeMatrix(conf_mat,'Árbol de decisión:\\nMatriz de confusión',True)"
   ]
  },
  {
   "cell_type": "markdown",
   "metadata": {},
   "source": [
    "### Multilayer Perceptron (MLP):"
   ]
  },
  {
   "cell_type": "code",
   "execution_count": 69,
   "metadata": {},
   "outputs": [
    {
     "name": "stdout",
     "output_type": "stream",
     "text": [
      "Verdaderos negativos (TN): 363\n",
      "Verdaderos positivos (TP): 360\n",
      "Falsos negativos (FN): 69\n",
      "Falsos positivos (FP): 116\n",
      "\n",
      "Accuracy: 0.7962555066079295\n",
      "TPR: 0.8391608391608392\n",
      "TNR: 0.7578288100208769\n",
      "FPR: 0.24217118997912318\n",
      "FNR: 0.16083916083916083\n",
      "PPV: 0.7563025210084033\n",
      "AUC: 0.798494824590858\n",
      "Gmean: 0.7974586259846834\n",
      "F1- Score: 0.7955801104972375\n",
      "Gmeasure: 0.7966551689337551\n"
     ]
    }
   ],
   "source": [
    "mlp_clf = MLPClassifier(random_state=15, hidden_layer_sizes=(150,150),activation='tanh',max_iter=800,early_stopping=True)\n",
    "\n",
    "tn,tp, fn, fp = validacion_cruzada(mlp_clf, data, target, 5)\n",
    "\n",
    "accuracy = (tn+tp)/(tn+tp+fn+fp)\n",
    "tpr = tp/(tp+fn)\n",
    "tnr = tn/(tn+fp)\n",
    "fpr = fp/(tn+fp)\n",
    "fnr = fn/(tp+fn)\n",
    "ppv = tp/(tp+fp)\n",
    "auc = (1+tpr-fpr)/2\n",
    "Gmean = m.sqrt(tpr*tnr)\n",
    "f1 = (2*tp)/(2*tp+fp+fn)\n",
    "Gmeasure = m.sqrt(ppv*tpr)\n",
    "\n",
    "\n",
    "print(\"Verdaderos negativos (TN): \" + str(tn))\n",
    "print(\"Verdaderos positivos (TP): \" + str(tp))\n",
    "print(\"Falsos negativos (FN): \" + str(fn))\n",
    "print(\"Falsos positivos (FP): \" + str(fp))\n",
    "print()\n",
    "print(\"Accuracy: \" + str(accuracy))\n",
    "print(\"TPR: \" + str(tpr))\n",
    "print(\"TNR: \" + str(tnr))\n",
    "print(\"FPR: \" + str(fpr))\n",
    "print(\"FNR: \" + str(fnr))\n",
    "print(\"PPV: \" + str(ppv))\n",
    "print(\"AUC: \" + str(auc))\n",
    "print(\"Gmean: \" + str(Gmean))\n",
    "print(\"F1- Score: \" + str(f1))\n",
    "print(\"Gmeasure: \" + str(Gmeasure))"
   ]
  },
  {
   "cell_type": "code",
   "execution_count": 70,
   "metadata": {},
   "outputs": [],
   "source": [
    "# Matriz de confusión:\n",
    "#conf_mat = [[tn, fp],[fn, tp]]\n",
    "#print(conf_mat)\n",
    "#visualizeMatrix(conf_mat,'MLP:\\nMatriz de confusión',True)"
   ]
  },
  {
   "cell_type": "markdown",
   "metadata": {},
   "source": [
    "### Random Forest (RF):"
   ]
  },
  {
   "cell_type": "code",
   "execution_count": 71,
   "metadata": {},
   "outputs": [
    {
     "name": "stdout",
     "output_type": "stream",
     "text": [
      "Verdaderos negativos (TN): 367\n",
      "Verdaderos positivos (TP): 334\n",
      "Falsos negativos (FN): 95\n",
      "Falsos positivos (FP): 112\n",
      "\n",
      "Accuracy: 0.7720264317180616\n",
      "TPR: 0.7785547785547785\n",
      "TNR: 0.7661795407098121\n",
      "FPR: 0.23382045929018788\n",
      "FNR: 0.22144522144522144\n",
      "PPV: 0.7488789237668162\n",
      "AUC: 0.7723671596322954\n",
      "Gmean: 0.7723423739835396\n",
      "F1- Score: 0.7634285714285715\n",
      "Gmeasure: 0.7635726976900199\n"
     ]
    }
   ],
   "source": [
    "rf_clf = RandomForestClassifier(random_state=15, n_estimators=150)\n",
    "\n",
    "tn,tp, fn, fp = validacion_cruzada(rf_clf, data, target, 5)\n",
    "\n",
    "accuracy = (tn+tp)/(tn+tp+fn+fp)\n",
    "tpr = tp/(tp+fn)\n",
    "tnr = tn/(tn+fp)\n",
    "fpr = fp/(tn+fp)\n",
    "fnr = fn/(tp+fn)\n",
    "ppv = tp/(tp+fp)\n",
    "auc = (1+tpr-fpr)/2\n",
    "Gmean = m.sqrt(tpr*tnr)\n",
    "f1 = (2*tp)/(2*tp+fp+fn)\n",
    "Gmeasure = m.sqrt(ppv*tpr)\n",
    "\n",
    "\n",
    "print(\"Verdaderos negativos (TN): \" + str(tn))\n",
    "print(\"Verdaderos positivos (TP): \" + str(tp))\n",
    "print(\"Falsos negativos (FN): \" + str(fn))\n",
    "print(\"Falsos positivos (FP): \" + str(fp))\n",
    "print()\n",
    "print(\"Accuracy: \" + str(accuracy))\n",
    "print(\"TPR: \" + str(tpr))\n",
    "print(\"TNR: \" + str(tnr))\n",
    "print(\"FPR: \" + str(fpr))\n",
    "print(\"FNR: \" + str(fnr))\n",
    "print(\"PPV: \" + str(ppv))\n",
    "print(\"AUC: \" + str(auc))\n",
    "print(\"Gmean: \" + str(Gmean))\n",
    "print(\"F1- Score: \" + str(f1))\n",
    "print(\"Gmeasure: \" + str(Gmeasure))"
   ]
  },
  {
   "cell_type": "code",
   "execution_count": 72,
   "metadata": {},
   "outputs": [],
   "source": [
    "# Matriz de confusión:\n",
    "#conf_mat = [[tn, fp],[fn, tp]]\n",
    "#print(conf_mat)\n",
    "#visualizeMatrix(conf_mat,'RF:\\nMatriz de confusión',True)"
   ]
  },
  {
   "cell_type": "markdown",
   "metadata": {},
   "source": [
    "El preprocesado con mejores resultados es 3. Es el que usaremos a partir de ahora."
   ]
  },
  {
   "cell_type": "markdown",
   "metadata": {},
   "source": [
    "## Selección de hiperparámetros:"
   ]
  },
  {
   "cell_type": "markdown",
   "metadata": {},
   "source": [
    "Seleccionamos los hiperparámetros que usarán algunos de nuestros modelos"
   ]
  },
  {
   "cell_type": "markdown",
   "metadata": {},
   "source": [
    "### k-nn:"
   ]
  },
  {
   "cell_type": "code",
   "execution_count": 73,
   "metadata": {},
   "outputs": [
    {
     "name": "stdout",
     "output_type": "stream",
     "text": [
      "Verdaderos negativos (TN): 360\n",
      "Verdaderos positivos (TP): 297\n",
      "Falsos negativos (FN): 132\n",
      "Falsos positivos (FP): 119\n",
      "\n",
      "Accuracy: 0.723568281938326\n",
      "TPR: 0.6923076923076923\n",
      "TNR: 0.7515657620041754\n",
      "FPR: 0.24843423799582465\n",
      "FNR: 0.3076923076923077\n",
      "PPV: 0.7139423076923077\n",
      "AUC: 0.7219367271559338\n",
      "Gmean: 0.7213284676973334\n",
      "F1- Score: 0.7029585798816568\n",
      "Gmeasure: 0.7030417850165734\n"
     ]
    }
   ],
   "source": [
    "knn_clf = KNeighborsClassifier(n_neighbors=1)\n",
    "\n",
    "tn,tp, fn, fp = validacion_cruzada(knn_clf, data, target, 5)\n",
    "\n",
    "accuracy = (tn+tp)/(tn+tp+fn+fp)\n",
    "tpr = tp/(tp+fn)\n",
    "tnr = tn/(tn+fp)\n",
    "fpr = fp/(tn+fp)\n",
    "fnr = fn/(tp+fn)\n",
    "ppv = tp/(tp+fp)\n",
    "auc = (1+tpr-fpr)/2\n",
    "Gmean = m.sqrt(tpr*tnr)\n",
    "f1 = (2*tp)/(2*tp+fp+fn)\n",
    "Gmeasure = m.sqrt(ppv*tpr)\n",
    "\n",
    "\n",
    "print(\"Verdaderos negativos (TN): \" + str(tn))\n",
    "print(\"Verdaderos positivos (TP): \" + str(tp))\n",
    "print(\"Falsos negativos (FN): \" + str(fn))\n",
    "print(\"Falsos positivos (FP): \" + str(fp))\n",
    "print()\n",
    "print(\"Accuracy: \" + str(accuracy))\n",
    "print(\"TPR: \" + str(tpr))\n",
    "print(\"TNR: \" + str(tnr))\n",
    "print(\"FPR: \" + str(fpr))\n",
    "print(\"FNR: \" + str(fnr))\n",
    "print(\"PPV: \" + str(ppv))\n",
    "print(\"AUC: \" + str(auc))\n",
    "print(\"Gmean: \" + str(Gmean))\n",
    "print(\"F1- Score: \" + str(f1))\n",
    "print(\"Gmeasure: \" + str(Gmeasure))"
   ]
  },
  {
   "cell_type": "code",
   "execution_count": 74,
   "metadata": {},
   "outputs": [
    {
     "name": "stdout",
     "output_type": "stream",
     "text": [
      "Verdaderos negativos (TN): 369\n",
      "Verdaderos positivos (TP): 347\n",
      "Falsos negativos (FN): 82\n",
      "Falsos positivos (FP): 110\n",
      "\n",
      "Accuracy: 0.788546255506608\n",
      "TPR: 0.8088578088578089\n",
      "TNR: 0.7703549060542797\n",
      "FPR: 0.22964509394572025\n",
      "FNR: 0.19114219114219114\n",
      "PPV: 0.7592997811816192\n",
      "AUC: 0.7896063574560443\n",
      "Gmean: 0.7893716370341208\n",
      "F1- Score: 0.7832957110609481\n",
      "Gmeasure: 0.7836871552301838\n"
     ]
    }
   ],
   "source": [
    "knn_clf = KNeighborsClassifier(n_neighbors=5)\n",
    "\n",
    "tn,tp, fn, fp = validacion_cruzada(knn_clf, data, target, 5)\n",
    "\n",
    "accuracy = (tn+tp)/(tn+tp+fn+fp)\n",
    "tpr = tp/(tp+fn)\n",
    "tnr = tn/(tn+fp)\n",
    "fpr = fp/(tn+fp)\n",
    "fnr = fn/(tp+fn)\n",
    "ppv = tp/(tp+fp)\n",
    "auc = (1+tpr-fpr)/2\n",
    "Gmean = m.sqrt(tpr*tnr)\n",
    "f1 = (2*tp)/(2*tp+fp+fn)\n",
    "Gmeasure = m.sqrt(ppv*tpr)\n",
    "\n",
    "\n",
    "print(\"Verdaderos negativos (TN): \" + str(tn))\n",
    "print(\"Verdaderos positivos (TP): \" + str(tp))\n",
    "print(\"Falsos negativos (FN): \" + str(fn))\n",
    "print(\"Falsos positivos (FP): \" + str(fp))\n",
    "print()\n",
    "print(\"Accuracy: \" + str(accuracy))\n",
    "print(\"TPR: \" + str(tpr))\n",
    "print(\"TNR: \" + str(tnr))\n",
    "print(\"FPR: \" + str(fpr))\n",
    "print(\"FNR: \" + str(fnr))\n",
    "print(\"PPV: \" + str(ppv))\n",
    "print(\"AUC: \" + str(auc))\n",
    "print(\"Gmean: \" + str(Gmean))\n",
    "print(\"F1- Score: \" + str(f1))\n",
    "print(\"Gmeasure: \" + str(Gmeasure))"
   ]
  },
  {
   "cell_type": "code",
   "execution_count": 75,
   "metadata": {},
   "outputs": [
    {
     "name": "stdout",
     "output_type": "stream",
     "text": [
      "Verdaderos negativos (TN): 377\n",
      "Verdaderos positivos (TP): 354\n",
      "Falsos negativos (FN): 75\n",
      "Falsos positivos (FP): 102\n",
      "\n",
      "Accuracy: 0.8050660792951542\n",
      "TPR: 0.8251748251748252\n",
      "TNR: 0.7870563674321504\n",
      "FPR: 0.21294363256784968\n",
      "FNR: 0.17482517482517482\n",
      "PPV: 0.7763157894736842\n",
      "AUC: 0.8061155963034877\n",
      "Gmean: 0.805890253321479\n",
      "F1- Score: 0.8\n",
      "Gmeasure: 0.8003725669083142\n"
     ]
    }
   ],
   "source": [
    "knn_clf = KNeighborsClassifier(n_neighbors=9)\n",
    "\n",
    "tn,tp, fn, fp = validacion_cruzada(knn_clf, data, target, 5)\n",
    "\n",
    "accuracy = (tn+tp)/(tn+tp+fn+fp)\n",
    "tpr = tp/(tp+fn)\n",
    "tnr = tn/(tn+fp)\n",
    "fpr = fp/(tn+fp)\n",
    "fnr = fn/(tp+fn)\n",
    "ppv = tp/(tp+fp)\n",
    "auc = (1+tpr-fpr)/2\n",
    "Gmean = m.sqrt(tpr*tnr)\n",
    "f1 = (2*tp)/(2*tp+fp+fn)\n",
    "Gmeasure = m.sqrt(ppv*tpr)\n",
    "\n",
    "\n",
    "print(\"Verdaderos negativos (TN): \" + str(tn))\n",
    "print(\"Verdaderos positivos (TP): \" + str(tp))\n",
    "print(\"Falsos negativos (FN): \" + str(fn))\n",
    "print(\"Falsos positivos (FP): \" + str(fp))\n",
    "print()\n",
    "print(\"Accuracy: \" + str(accuracy))\n",
    "print(\"TPR: \" + str(tpr))\n",
    "print(\"TNR: \" + str(tnr))\n",
    "print(\"FPR: \" + str(fpr))\n",
    "print(\"FNR: \" + str(fnr))\n",
    "print(\"PPV: \" + str(ppv))\n",
    "print(\"AUC: \" + str(auc))\n",
    "print(\"Gmean: \" + str(Gmean))\n",
    "print(\"F1- Score: \" + str(f1))\n",
    "print(\"Gmeasure: \" + str(Gmeasure))"
   ]
  },
  {
   "cell_type": "markdown",
   "metadata": {},
   "source": [
    "La matriz de confusión del modelo con mayor F1-Score:"
   ]
  },
  {
   "cell_type": "code",
   "execution_count": 76,
   "metadata": {},
   "outputs": [
    {
     "name": "stdout",
     "output_type": "stream",
     "text": [
      "[[0.41519823788546256, 0.11233480176211454], [0.08259911894273128, 0.3898678414096916]]\n"
     ]
    },
    {
     "data": {
      "image/png": "[encoded data removed]",
      "text/plain": [
       "<Figure size 288x288 with 2 Axes>"
      ]
     },
     "metadata": {
      "needs_background": "light"
     },
     "output_type": "display_data"
    }
   ],
   "source": [
    "# Matriz de confusión:\n",
    "conf_mat = [[tn/len(data), fp/len(data)],[fn/len(data), tp/len(data)]]\n",
    "print(conf_mat)\n",
    "visualizeMatrix(conf_mat,'k-nn:\\nMatriz de confusión',True)"
   ]
  },
  {
   "cell_type": "markdown",
   "metadata": {},
   "source": [
    "### Árbol de decisión"
   ]
  },
  {
   "cell_type": "markdown",
   "metadata": {},
   "source": [
    "Criterio para dividir una rama:"
   ]
  },
  {
   "cell_type": "code",
   "execution_count": 77,
   "metadata": {},
   "outputs": [
    {
     "name": "stdout",
     "output_type": "stream",
     "text": [
      "Verdaderos negativos (TN): 376\n",
      "Verdaderos positivos (TP): 304\n",
      "Falsos negativos (FN): 125\n",
      "Falsos positivos (FP): 103\n",
      "\n",
      "Accuracy: 0.748898678414097\n",
      "TPR: 0.7086247086247086\n",
      "TNR: 0.7849686847599165\n",
      "FPR: 0.2150313152400835\n",
      "FNR: 0.2913752913752914\n",
      "PPV: 0.7469287469287469\n",
      "AUC: 0.7467966966923125\n",
      "Gmean: 0.7458204914840545\n",
      "F1- Score: 0.7272727272727273\n",
      "Gmeasure: 0.7275246838807615\n"
     ]
    }
   ],
   "source": [
    "tree_clf = DecisionTreeClassifier(random_state=15)\n",
    "\n",
    "tn,tp, fn, fp = validacion_cruzada(tree_clf, data, target, 5)\n",
    "\n",
    "accuracy = (tn+tp)/(tn+tp+fn+fp)\n",
    "tpr = tp/(tp+fn)\n",
    "tnr = tn/(tn+fp)\n",
    "fpr = fp/(tn+fp)\n",
    "fnr = fn/(tp+fn)\n",
    "ppv = tp/(tp+fp)\n",
    "auc = (1+tpr-fpr)/2\n",
    "Gmean = m.sqrt(tpr*tnr)\n",
    "f1 = (2*tp)/(2*tp+fp+fn)\n",
    "Gmeasure = m.sqrt(ppv*tpr)\n",
    "\n",
    "\n",
    "print(\"Verdaderos negativos (TN): \" + str(tn))\n",
    "print(\"Verdaderos positivos (TP): \" + str(tp))\n",
    "print(\"Falsos negativos (FN): \" + str(fn))\n",
    "print(\"Falsos positivos (FP): \" + str(fp))\n",
    "print()\n",
    "print(\"Accuracy: \" + str(accuracy))\n",
    "print(\"TPR: \" + str(tpr))\n",
    "print(\"TNR: \" + str(tnr))\n",
    "print(\"FPR: \" + str(fpr))\n",
    "print(\"FNR: \" + str(fnr))\n",
    "print(\"PPV: \" + str(ppv))\n",
    "print(\"AUC: \" + str(auc))\n",
    "print(\"Gmean: \" + str(Gmean))\n",
    "print(\"F1- Score: \" + str(f1))\n",
    "print(\"Gmeasure: \" + str(Gmeasure))"
   ]
  },
  {
   "cell_type": "code",
   "execution_count": 78,
   "metadata": {},
   "outputs": [
    {
     "name": "stdout",
     "output_type": "stream",
     "text": [
      "Verdaderos negativos (TN): 375\n",
      "Verdaderos positivos (TP): 302\n",
      "Falsos negativos (FN): 127\n",
      "Falsos positivos (FP): 104\n",
      "\n",
      "Accuracy: 0.7455947136563876\n",
      "TPR: 0.703962703962704\n",
      "TNR: 0.7828810020876826\n",
      "FPR: 0.21711899791231734\n",
      "FNR: 0.29603729603729606\n",
      "PPV: 0.7438423645320197\n",
      "AUC: 0.7434218530251933\n",
      "Gmean: 0.7423739132746223\n",
      "F1- Score: 0.7233532934131737\n",
      "Gmeasure: 0.7236278617203541\n"
     ]
    }
   ],
   "source": [
    "tree_clf = DecisionTreeClassifier(random_state=15, criterion = \"entropy\")\n",
    "\n",
    "tn,tp, fn, fp = validacion_cruzada(tree_clf, data, target, 5)\n",
    "\n",
    "accuracy = (tn+tp)/(tn+tp+fn+fp)\n",
    "tpr = tp/(tp+fn)\n",
    "tnr = tn/(tn+fp)\n",
    "fpr = fp/(tn+fp)\n",
    "fnr = fn/(tp+fn)\n",
    "ppv = tp/(tp+fp)\n",
    "auc = (1+tpr-fpr)/2\n",
    "Gmean = m.sqrt(tpr*tnr)\n",
    "f1 = (2*tp)/(2*tp+fp+fn)\n",
    "Gmeasure = m.sqrt(ppv*tpr)\n",
    "\n",
    "\n",
    "print(\"Verdaderos negativos (TN): \" + str(tn))\n",
    "print(\"Verdaderos positivos (TP): \" + str(tp))\n",
    "print(\"Falsos negativos (FN): \" + str(fn))\n",
    "print(\"Falsos positivos (FP): \" + str(fp))\n",
    "print()\n",
    "print(\"Accuracy: \" + str(accuracy))\n",
    "print(\"TPR: \" + str(tpr))\n",
    "print(\"TNR: \" + str(tnr))\n",
    "print(\"FPR: \" + str(fpr))\n",
    "print(\"FNR: \" + str(fnr))\n",
    "print(\"PPV: \" + str(ppv))\n",
    "print(\"AUC: \" + str(auc))\n",
    "print(\"Gmean: \" + str(Gmean))\n",
    "print(\"F1- Score: \" + str(f1))\n",
    "print(\"Gmeasure: \" + str(Gmeasure))"
   ]
  },
  {
   "cell_type": "markdown",
   "metadata": {},
   "source": [
    "Parámetro de poda:"
   ]
  },
  {
   "cell_type": "code",
   "execution_count": 79,
   "metadata": {},
   "outputs": [
    {
     "name": "stdout",
     "output_type": "stream",
     "text": [
      "Verdaderos negativos (TN): 378\n",
      "Verdaderos positivos (TP): 357\n",
      "Falsos negativos (FN): 72\n",
      "Falsos positivos (FP): 101\n",
      "\n",
      "Accuracy: 0.8094713656387665\n",
      "TPR: 0.8321678321678322\n",
      "TNR: 0.7891440501043842\n",
      "FPR: 0.21085594989561587\n",
      "FNR: 0.16783216783216784\n",
      "PPV: 0.7794759825327511\n",
      "AUC: 0.8106559411361081\n",
      "Gmean: 0.8103704667888068\n",
      "F1- Score: 0.8049605411499436\n",
      "Gmeasure: 0.8053911090961773\n"
     ]
    }
   ],
   "source": [
    "tree_clf = DecisionTreeClassifier(random_state=15, ccp_alpha = 0.002)\n",
    "\n",
    "tn,tp, fn, fp = validacion_cruzada(tree_clf, data, target, 5)\n",
    "\n",
    "accuracy = (tn+tp)/(tn+tp+fn+fp)\n",
    "tpr = tp/(tp+fn)\n",
    "tnr = tn/(tn+fp)\n",
    "fpr = fp/(tn+fp)\n",
    "fnr = fn/(tp+fn)\n",
    "ppv = tp/(tp+fp)\n",
    "auc = (1+tpr-fpr)/2\n",
    "Gmean = m.sqrt(tpr*tnr)\n",
    "f1 = (2*tp)/(2*tp+fp+fn)\n",
    "Gmeasure = m.sqrt(ppv*tpr)\n",
    "\n",
    "\n",
    "print(\"Verdaderos negativos (TN): \" + str(tn))\n",
    "print(\"Verdaderos positivos (TP): \" + str(tp))\n",
    "print(\"Falsos negativos (FN): \" + str(fn))\n",
    "print(\"Falsos positivos (FP): \" + str(fp))\n",
    "print()\n",
    "print(\"Accuracy: \" + str(accuracy))\n",
    "print(\"TPR: \" + str(tpr))\n",
    "print(\"TNR: \" + str(tnr))\n",
    "print(\"FPR: \" + str(fpr))\n",
    "print(\"FNR: \" + str(fnr))\n",
    "print(\"PPV: \" + str(ppv))\n",
    "print(\"AUC: \" + str(auc))\n",
    "print(\"Gmean: \" + str(Gmean))\n",
    "print(\"F1- Score: \" + str(f1))\n",
    "print(\"Gmeasure: \" + str(Gmeasure))"
   ]
  },
  {
   "cell_type": "code",
   "execution_count": 80,
   "metadata": {},
   "outputs": [
    {
     "name": "stdout",
     "output_type": "stream",
     "text": [
      "Verdaderos negativos (TN): 378\n",
      "Verdaderos positivos (TP): 358\n",
      "Falsos negativos (FN): 71\n",
      "Falsos positivos (FP): 101\n",
      "\n",
      "Accuracy: 0.8105726872246696\n",
      "TPR: 0.8344988344988346\n",
      "TNR: 0.7891440501043842\n",
      "FPR: 0.21085594989561587\n",
      "FNR: 0.1655011655011655\n",
      "PPV: 0.7799564270152506\n",
      "AUC: 0.8118214423016092\n",
      "Gmean: 0.8115046457438173\n",
      "F1- Score: 0.8063063063063063\n",
      "Gmeasure: 0.8067668370130876\n"
     ]
    }
   ],
   "source": [
    "tree_clf = DecisionTreeClassifier(random_state=15, ccp_alpha = 0.003)\n",
    "\n",
    "tn,tp, fn, fp = validacion_cruzada(tree_clf, data, target, 5)\n",
    "\n",
    "accuracy = (tn+tp)/(tn+tp+fn+fp)\n",
    "tpr = tp/(tp+fn)\n",
    "tnr = tn/(tn+fp)\n",
    "fpr = fp/(tn+fp)\n",
    "fnr = fn/(tp+fn)\n",
    "ppv = tp/(tp+fp)\n",
    "auc = (1+tpr-fpr)/2\n",
    "Gmean = m.sqrt(tpr*tnr)\n",
    "f1 = (2*tp)/(2*tp+fp+fn)\n",
    "Gmeasure = m.sqrt(ppv*tpr)\n",
    "\n",
    "\n",
    "print(\"Verdaderos negativos (TN): \" + str(tn))\n",
    "print(\"Verdaderos positivos (TP): \" + str(tp))\n",
    "print(\"Falsos negativos (FN): \" + str(fn))\n",
    "print(\"Falsos positivos (FP): \" + str(fp))\n",
    "print()\n",
    "print(\"Accuracy: \" + str(accuracy))\n",
    "print(\"TPR: \" + str(tpr))\n",
    "print(\"TNR: \" + str(tnr))\n",
    "print(\"FPR: \" + str(fpr))\n",
    "print(\"FNR: \" + str(fnr))\n",
    "print(\"PPV: \" + str(ppv))\n",
    "print(\"AUC: \" + str(auc))\n",
    "print(\"Gmean: \" + str(Gmean))\n",
    "print(\"F1- Score: \" + str(f1))\n",
    "print(\"Gmeasure: \" + str(Gmeasure))"
   ]
  },
  {
   "cell_type": "markdown",
   "metadata": {},
   "source": [
    "Árbol de decisión con mayor F1-Score:"
   ]
  },
  {
   "cell_type": "code",
   "execution_count": 81,
   "metadata": {},
   "outputs": [
    {
     "name": "stdout",
     "output_type": "stream",
     "text": [
      "[[0.41629955947136565, 0.11123348017621146], [0.07819383259911894, 0.394273127753304]]\n"
     ]
    },
    {
     "data": {
      "image/png": "[encoded data removed]",
      "text/plain": [
       "<Figure size 288x288 with 2 Axes>"
      ]
     },
     "metadata": {
      "needs_background": "light"
     },
     "output_type": "display_data"
    }
   ],
   "source": [
    "# Matriz de confusión:\n",
    "conf_mat = [[tn/len(data), fp/len(data)],[fn/len(data), tp/len(data)]]\n",
    "print(conf_mat)\n",
    "visualizeMatrix(conf_mat,'Árbol de decisión:\\nMatriz de confusión',True)"
   ]
  },
  {
   "cell_type": "code",
   "execution_count": 82,
   "metadata": {},
   "outputs": [
    {
     "name": "stdout",
     "output_type": "stream",
     "text": [
      "Verdaderos negativos (TN): 366\n",
      "Verdaderos positivos (TP): 362\n",
      "Falsos negativos (FN): 67\n",
      "Falsos positivos (FP): 113\n",
      "\n",
      "Accuracy: 0.801762114537445\n",
      "TPR: 0.8438228438228438\n",
      "TNR: 0.7640918580375783\n",
      "FPR: 0.2359081419624217\n",
      "FNR: 0.1561771561771562\n",
      "PPV: 0.7621052631578947\n",
      "AUC: 0.8039573509302111\n",
      "Gmean: 0.8029683459459345\n",
      "F1- Score: 0.8008849557522124\n",
      "Gmeasure: 0.8019238308282474\n"
     ]
    }
   ],
   "source": [
    "tree_clf = DecisionTreeClassifier(random_state=15, ccp_alpha = 0.004)\n",
    "\n",
    "tn,tp, fn, fp = validacion_cruzada(tree_clf, data, target, 5)\n",
    "\n",
    "accuracy = (tn+tp)/(tn+tp+fn+fp)\n",
    "tpr = tp/(tp+fn)\n",
    "tnr = tn/(tn+fp)\n",
    "fpr = fp/(tn+fp)\n",
    "fnr = fn/(tp+fn)\n",
    "ppv = tp/(tp+fp)\n",
    "auc = (1+tpr-fpr)/2\n",
    "Gmean = m.sqrt(tpr*tnr)\n",
    "f1 = (2*tp)/(2*tp+fp+fn)\n",
    "Gmeasure = m.sqrt(ppv*tpr)\n",
    "\n",
    "\n",
    "print(\"Verdaderos negativos (TN): \" + str(tn))\n",
    "print(\"Verdaderos positivos (TP): \" + str(tp))\n",
    "print(\"Falsos negativos (FN): \" + str(fn))\n",
    "print(\"Falsos positivos (FP): \" + str(fp))\n",
    "print()\n",
    "print(\"Accuracy: \" + str(accuracy))\n",
    "print(\"TPR: \" + str(tpr))\n",
    "print(\"TNR: \" + str(tnr))\n",
    "print(\"FPR: \" + str(fpr))\n",
    "print(\"FNR: \" + str(fnr))\n",
    "print(\"PPV: \" + str(ppv))\n",
    "print(\"AUC: \" + str(auc))\n",
    "print(\"Gmean: \" + str(Gmean))\n",
    "print(\"F1- Score: \" + str(f1))\n",
    "print(\"Gmeasure: \" + str(Gmeasure))"
   ]
  },
  {
   "cell_type": "markdown",
   "metadata": {},
   "source": [
    "### Multilayer Peerceptron (MLP):"
   ]
  },
  {
   "cell_type": "markdown",
   "metadata": {},
   "source": [
    "Número de capas y neuronas por capa:"
   ]
  },
  {
   "cell_type": "code",
   "execution_count": 83,
   "metadata": {},
   "outputs": [
    {
     "name": "stdout",
     "output_type": "stream",
     "text": [
      "Verdaderos negativos (TN): 366\n",
      "Verdaderos positivos (TP): 351\n",
      "Falsos negativos (FN): 78\n",
      "Falsos positivos (FP): 113\n",
      "\n",
      "Accuracy: 0.789647577092511\n",
      "TPR: 0.8181818181818182\n",
      "TNR: 0.7640918580375783\n",
      "FPR: 0.2359081419624217\n",
      "FNR: 0.18181818181818182\n",
      "PPV: 0.7564655172413793\n",
      "AUC: 0.7911368381096984\n",
      "Gmean: 0.7906744372161715\n",
      "F1- Score: 0.786114221724524\n",
      "Gmeasure: 0.7867187123034518\n"
     ]
    }
   ],
   "source": [
    "mlp_clf = MLPClassifier(random_state=15, hidden_layer_sizes=(130,130),activation='tanh',max_iter=800,early_stopping=True)\n",
    "\n",
    "tn,tp, fn, fp = validacion_cruzada(mlp_clf, data, target, 5)\n",
    "\n",
    "accuracy = (tn+tp)/(tn+tp+fn+fp)\n",
    "tpr = tp/(tp+fn)\n",
    "tnr = tn/(tn+fp)\n",
    "fpr = fp/(tn+fp)\n",
    "fnr = fn/(tp+fn)\n",
    "ppv = tp/(tp+fp)\n",
    "auc = (1+tpr-fpr)/2\n",
    "Gmean = m.sqrt(tpr*tnr)\n",
    "f1 = (2*tp)/(2*tp+fp+fn)\n",
    "Gmeasure = m.sqrt(ppv*tpr)\n",
    "\n",
    "\n",
    "print(\"Verdaderos negativos (TN): \" + str(tn))\n",
    "print(\"Verdaderos positivos (TP): \" + str(tp))\n",
    "print(\"Falsos negativos (FN): \" + str(fn))\n",
    "print(\"Falsos positivos (FP): \" + str(fp))\n",
    "print()\n",
    "print(\"Accuracy: \" + str(accuracy))\n",
    "print(\"TPR: \" + str(tpr))\n",
    "print(\"TNR: \" + str(tnr))\n",
    "print(\"FPR: \" + str(fpr))\n",
    "print(\"FNR: \" + str(fnr))\n",
    "print(\"PPV: \" + str(ppv))\n",
    "print(\"AUC: \" + str(auc))\n",
    "print(\"Gmean: \" + str(Gmean))\n",
    "print(\"F1- Score: \" + str(f1))\n",
    "print(\"Gmeasure: \" + str(Gmeasure))"
   ]
  },
  {
   "cell_type": "code",
   "execution_count": 84,
   "metadata": {},
   "outputs": [
    {
     "name": "stdout",
     "output_type": "stream",
     "text": [
      "Verdaderos negativos (TN): 371\n",
      "Verdaderos positivos (TP): 349\n",
      "Falsos negativos (FN): 80\n",
      "Falsos positivos (FP): 108\n",
      "\n",
      "Accuracy: 0.7929515418502202\n",
      "TPR: 0.8135198135198135\n",
      "TNR: 0.7745302713987474\n",
      "FPR: 0.2254697286012526\n",
      "FNR: 0.1864801864801865\n",
      "PPV: 0.7636761487964989\n",
      "AUC: 0.7940250424592805\n",
      "Gmean: 0.7937856901921069\n",
      "F1- Score: 0.7878103837471784\n",
      "Gmeasure: 0.7882040840787727\n"
     ]
    }
   ],
   "source": [
    "mlp_clf = MLPClassifier(random_state=15, hidden_layer_sizes=(140,140),activation='tanh',max_iter=800,early_stopping=True)\n",
    "\n",
    "tn,tp, fn, fp = validacion_cruzada(mlp_clf, data, target, 5)\n",
    "\n",
    "accuracy = (tn+tp)/(tn+tp+fn+fp)\n",
    "tpr = tp/(tp+fn)\n",
    "tnr = tn/(tn+fp)\n",
    "fpr = fp/(tn+fp)\n",
    "fnr = fn/(tp+fn)\n",
    "ppv = tp/(tp+fp)\n",
    "auc = (1+tpr-fpr)/2\n",
    "Gmean = m.sqrt(tpr*tnr)\n",
    "f1 = (2*tp)/(2*tp+fp+fn)\n",
    "Gmeasure = m.sqrt(ppv*tpr)\n",
    "\n",
    "\n",
    "print(\"Verdaderos negativos (TN): \" + str(tn))\n",
    "print(\"Verdaderos positivos (TP): \" + str(tp))\n",
    "print(\"Falsos negativos (FN): \" + str(fn))\n",
    "print(\"Falsos positivos (FP): \" + str(fp))\n",
    "print()\n",
    "print(\"Accuracy: \" + str(accuracy))\n",
    "print(\"TPR: \" + str(tpr))\n",
    "print(\"TNR: \" + str(tnr))\n",
    "print(\"FPR: \" + str(fpr))\n",
    "print(\"FNR: \" + str(fnr))\n",
    "print(\"PPV: \" + str(ppv))\n",
    "print(\"AUC: \" + str(auc))\n",
    "print(\"Gmean: \" + str(Gmean))\n",
    "print(\"F1- Score: \" + str(f1))\n",
    "print(\"Gmeasure: \" + str(Gmeasure))"
   ]
  },
  {
   "cell_type": "code",
   "execution_count": 85,
   "metadata": {
    "scrolled": true
   },
   "outputs": [
    {
     "name": "stdout",
     "output_type": "stream",
     "text": [
      "Verdaderos negativos (TN): 363\n",
      "Verdaderos positivos (TP): 360\n",
      "Falsos negativos (FN): 69\n",
      "Falsos positivos (FP): 116\n",
      "\n",
      "Accuracy: 0.7962555066079295\n",
      "TPR: 0.8391608391608392\n",
      "TNR: 0.7578288100208769\n",
      "FPR: 0.24217118997912318\n",
      "FNR: 0.16083916083916083\n",
      "PPV: 0.7563025210084033\n",
      "AUC: 0.798494824590858\n",
      "Gmean: 0.7974586259846834\n",
      "F1- Score: 0.7955801104972375\n",
      "Gmeasure: 0.7966551689337551\n"
     ]
    }
   ],
   "source": [
    "mlp_clf = MLPClassifier(random_state=15, hidden_layer_sizes=(150,150),activation='tanh',max_iter=800,early_stopping=True)\n",
    "\n",
    "tn,tp, fn, fp = validacion_cruzada(mlp_clf, data, target, 5)\n",
    "\n",
    "accuracy = (tn+tp)/(tn+tp+fn+fp)\n",
    "tpr = tp/(tp+fn)\n",
    "tnr = tn/(tn+fp)\n",
    "fpr = fp/(tn+fp)\n",
    "fnr = fn/(tp+fn)\n",
    "ppv = tp/(tp+fp)\n",
    "auc = (1+tpr-fpr)/2\n",
    "Gmean = m.sqrt(tpr*tnr)\n",
    "f1 = (2*tp)/(2*tp+fp+fn)\n",
    "Gmeasure = m.sqrt(ppv*tpr)\n",
    "\n",
    "\n",
    "print(\"Verdaderos negativos (TN): \" + str(tn))\n",
    "print(\"Verdaderos positivos (TP): \" + str(tp))\n",
    "print(\"Falsos negativos (FN): \" + str(fn))\n",
    "print(\"Falsos positivos (FP): \" + str(fp))\n",
    "print()\n",
    "print(\"Accuracy: \" + str(accuracy))\n",
    "print(\"TPR: \" + str(tpr))\n",
    "print(\"TNR: \" + str(tnr))\n",
    "print(\"FPR: \" + str(fpr))\n",
    "print(\"FNR: \" + str(fnr))\n",
    "print(\"PPV: \" + str(ppv))\n",
    "print(\"AUC: \" + str(auc))\n",
    "print(\"Gmean: \" + str(Gmean))\n",
    "print(\"F1- Score: \" + str(f1))\n",
    "print(\"Gmeasure: \" + str(Gmeasure))"
   ]
  },
  {
   "cell_type": "markdown",
   "metadata": {},
   "source": [
    "MLP con mayor F1-Score:"
   ]
  },
  {
   "cell_type": "code",
   "execution_count": 86,
   "metadata": {},
   "outputs": [
    {
     "name": "stdout",
     "output_type": "stream",
     "text": [
      "[[0.3997797356828194, 0.1277533039647577], [0.07599118942731277, 0.3964757709251101]]\n"
     ]
    },
    {
     "data": {
      "image/png": "[encoded data removed]",
      "text/plain": [
       "<Figure size 288x288 with 2 Axes>"
      ]
     },
     "metadata": {
      "needs_background": "light"
     },
     "output_type": "display_data"
    }
   ],
   "source": [
    "# Matriz de confusión:\n",
    "conf_mat = [[tn/len(data), fp/len(data)],[fn/len(data), tp/len(data)]]\n",
    "print(conf_mat)\n",
    "visualizeMatrix(conf_mat,'MLP:\\nMatriz de confusión',True)"
   ]
  },
  {
   "cell_type": "markdown",
   "metadata": {},
   "source": [
    "### Random Forest (RF):"
   ]
  },
  {
   "cell_type": "markdown",
   "metadata": {},
   "source": [
    "Criterio de división:"
   ]
  },
  {
   "cell_type": "code",
   "execution_count": 87,
   "metadata": {},
   "outputs": [
    {
     "name": "stdout",
     "output_type": "stream",
     "text": [
      "Verdaderos negativos (TN): 367\n",
      "Verdaderos positivos (TP): 334\n",
      "Falsos negativos (FN): 95\n",
      "Falsos positivos (FP): 112\n",
      "\n",
      "Accuracy: 0.7720264317180616\n",
      "TPR: 0.7785547785547785\n",
      "TNR: 0.7661795407098121\n",
      "FPR: 0.23382045929018788\n",
      "FNR: 0.22144522144522144\n",
      "PPV: 0.7488789237668162\n",
      "AUC: 0.7723671596322954\n",
      "Gmean: 0.7723423739835396\n",
      "F1- Score: 0.7634285714285715\n",
      "Gmeasure: 0.7635726976900199\n"
     ]
    }
   ],
   "source": [
    "rf_clf = RandomForestClassifier(random_state=15, n_estimators=150)\n",
    "\n",
    "tn,tp, fn, fp = validacion_cruzada(rf_clf, data, target, 5)\n",
    "\n",
    "accuracy = (tn+tp)/(tn+tp+fn+fp)\n",
    "tpr = tp/(tp+fn)\n",
    "tnr = tn/(tn+fp)\n",
    "fpr = fp/(tn+fp)\n",
    "fnr = fn/(tp+fn)\n",
    "ppv = tp/(tp+fp)\n",
    "auc = (1+tpr-fpr)/2\n",
    "Gmean = m.sqrt(tpr*tnr)\n",
    "f1 = (2*tp)/(2*tp+fp+fn)\n",
    "Gmeasure = m.sqrt(ppv*tpr)\n",
    "\n",
    "\n",
    "print(\"Verdaderos negativos (TN): \" + str(tn))\n",
    "print(\"Verdaderos positivos (TP): \" + str(tp))\n",
    "print(\"Falsos negativos (FN): \" + str(fn))\n",
    "print(\"Falsos positivos (FP): \" + str(fp))\n",
    "print()\n",
    "print(\"Accuracy: \" + str(accuracy))\n",
    "print(\"TPR: \" + str(tpr))\n",
    "print(\"TNR: \" + str(tnr))\n",
    "print(\"FPR: \" + str(fpr))\n",
    "print(\"FNR: \" + str(fnr))\n",
    "print(\"PPV: \" + str(ppv))\n",
    "print(\"AUC: \" + str(auc))\n",
    "print(\"Gmean: \" + str(Gmean))\n",
    "print(\"F1- Score: \" + str(f1))\n",
    "print(\"Gmeasure: \" + str(Gmeasure))"
   ]
  },
  {
   "cell_type": "code",
   "execution_count": 88,
   "metadata": {},
   "outputs": [
    {
     "name": "stdout",
     "output_type": "stream",
     "text": [
      "Verdaderos negativos (TN): 366\n",
      "Verdaderos positivos (TP): 335\n",
      "Falsos negativos (FN): 94\n",
      "Falsos positivos (FP): 113\n",
      "\n",
      "Accuracy: 0.7720264317180616\n",
      "TPR: 0.7808857808857809\n",
      "TNR: 0.7640918580375783\n",
      "FPR: 0.2359081419624217\n",
      "FNR: 0.2191142191142191\n",
      "PPV: 0.7477678571428571\n",
      "AUC: 0.7724888194616797\n",
      "Gmean: 0.7724431805849162\n",
      "F1- Score: 0.7639680729760547\n",
      "Gmeasure: 0.7641474249425217\n"
     ]
    }
   ],
   "source": [
    "rf_clf = RandomForestClassifier(random_state=15, n_estimators=150, criterion = \"entropy\")\n",
    "\n",
    "tn,tp, fn, fp = validacion_cruzada(rf_clf, data, target, 5)\n",
    "\n",
    "accuracy = (tn+tp)/(tn+tp+fn+fp)\n",
    "tpr = tp/(tp+fn)\n",
    "tnr = tn/(tn+fp)\n",
    "fpr = fp/(tn+fp)\n",
    "fnr = fn/(tp+fn)\n",
    "ppv = tp/(tp+fp)\n",
    "auc = (1+tpr-fpr)/2\n",
    "Gmean = m.sqrt(tpr*tnr)\n",
    "f1 = (2*tp)/(2*tp+fp+fn)\n",
    "Gmeasure = m.sqrt(ppv*tpr)\n",
    "\n",
    "\n",
    "print(\"Verdaderos negativos (TN): \" + str(tn))\n",
    "print(\"Verdaderos positivos (TP): \" + str(tp))\n",
    "print(\"Falsos negativos (FN): \" + str(fn))\n",
    "print(\"Falsos positivos (FP): \" + str(fp))\n",
    "print()\n",
    "print(\"Accuracy: \" + str(accuracy))\n",
    "print(\"TPR: \" + str(tpr))\n",
    "print(\"TNR: \" + str(tnr))\n",
    "print(\"FPR: \" + str(fpr))\n",
    "print(\"FNR: \" + str(fnr))\n",
    "print(\"PPV: \" + str(ppv))\n",
    "print(\"AUC: \" + str(auc))\n",
    "print(\"Gmean: \" + str(Gmean))\n",
    "print(\"F1- Score: \" + str(f1))\n",
    "print(\"Gmeasure: \" + str(Gmeasure))"
   ]
  },
  {
   "cell_type": "markdown",
   "metadata": {},
   "source": [
    "Número de estimadores:"
   ]
  },
  {
   "cell_type": "code",
   "execution_count": 89,
   "metadata": {},
   "outputs": [
    {
     "name": "stdout",
     "output_type": "stream",
     "text": [
      "Verdaderos negativos (TN): 366\n",
      "Verdaderos positivos (TP): 335\n",
      "Falsos negativos (FN): 94\n",
      "Falsos positivos (FP): 113\n",
      "\n",
      "Accuracy: 0.7720264317180616\n",
      "TPR: 0.7808857808857809\n",
      "TNR: 0.7640918580375783\n",
      "FPR: 0.2359081419624217\n",
      "FNR: 0.2191142191142191\n",
      "PPV: 0.7477678571428571\n",
      "AUC: 0.7724888194616797\n",
      "Gmean: 0.7724431805849162\n",
      "F1- Score: 0.7639680729760547\n",
      "Gmeasure: 0.7641474249425217\n"
     ]
    }
   ],
   "source": [
    "rf_clf = RandomForestClassifier(random_state=15, n_estimators=150, criterion = \"entropy\")\n",
    "\n",
    "tn,tp, fn, fp = validacion_cruzada(rf_clf, data, target, 5)\n",
    "\n",
    "accuracy = (tn+tp)/(tn+tp+fn+fp)\n",
    "tpr = tp/(tp+fn)\n",
    "tnr = tn/(tn+fp)\n",
    "fpr = fp/(tn+fp)\n",
    "fnr = fn/(tp+fn)\n",
    "ppv = tp/(tp+fp)\n",
    "auc = (1+tpr-fpr)/2\n",
    "Gmean = m.sqrt(tpr*tnr)\n",
    "f1 = (2*tp)/(2*tp+fp+fn)\n",
    "Gmeasure = m.sqrt(ppv*tpr)\n",
    "\n",
    "\n",
    "print(\"Verdaderos negativos (TN): \" + str(tn))\n",
    "print(\"Verdaderos positivos (TP): \" + str(tp))\n",
    "print(\"Falsos negativos (FN): \" + str(fn))\n",
    "print(\"Falsos positivos (FP): \" + str(fp))\n",
    "print()\n",
    "print(\"Accuracy: \" + str(accuracy))\n",
    "print(\"TPR: \" + str(tpr))\n",
    "print(\"TNR: \" + str(tnr))\n",
    "print(\"FPR: \" + str(fpr))\n",
    "print(\"FNR: \" + str(fnr))\n",
    "print(\"PPV: \" + str(ppv))\n",
    "print(\"AUC: \" + str(auc))\n",
    "print(\"Gmean: \" + str(Gmean))\n",
    "print(\"F1- Score: \" + str(f1))\n",
    "print(\"Gmeasure: \" + str(Gmeasure))"
   ]
  },
  {
   "cell_type": "code",
   "execution_count": 90,
   "metadata": {},
   "outputs": [
    {
     "name": "stdout",
     "output_type": "stream",
     "text": [
      "Verdaderos negativos (TN): 367\n",
      "Verdaderos positivos (TP): 335\n",
      "Falsos negativos (FN): 94\n",
      "Falsos positivos (FP): 112\n",
      "\n",
      "Accuracy: 0.7731277533039648\n",
      "TPR: 0.7808857808857809\n",
      "TNR: 0.7661795407098121\n",
      "FPR: 0.23382045929018788\n",
      "FNR: 0.2191142191142191\n",
      "PPV: 0.7494407158836689\n",
      "AUC: 0.7735326607977966\n",
      "Gmean: 0.7734977110152884\n",
      "F1- Score: 0.7648401826484018\n",
      "Gmeasure: 0.7650016984624396\n"
     ]
    }
   ],
   "source": [
    "rf_clf = RandomForestClassifier(random_state=15, n_estimators=160, criterion = \"entropy\")\n",
    "\n",
    "tn,tp, fn, fp = validacion_cruzada(rf_clf, data, target, 5)\n",
    "\n",
    "accuracy = (tn+tp)/(tn+tp+fn+fp)\n",
    "tpr = tp/(tp+fn)\n",
    "tnr = tn/(tn+fp)\n",
    "fpr = fp/(tn+fp)\n",
    "fnr = fn/(tp+fn)\n",
    "ppv = tp/(tp+fp)\n",
    "auc = (1+tpr-fpr)/2\n",
    "Gmean = m.sqrt(tpr*tnr)\n",
    "f1 = (2*tp)/(2*tp+fp+fn)\n",
    "Gmeasure = m.sqrt(ppv*tpr)\n",
    "\n",
    "\n",
    "print(\"Verdaderos negativos (TN): \" + str(tn))\n",
    "print(\"Verdaderos positivos (TP): \" + str(tp))\n",
    "print(\"Falsos negativos (FN): \" + str(fn))\n",
    "print(\"Falsos positivos (FP): \" + str(fp))\n",
    "print()\n",
    "print(\"Accuracy: \" + str(accuracy))\n",
    "print(\"TPR: \" + str(tpr))\n",
    "print(\"TNR: \" + str(tnr))\n",
    "print(\"FPR: \" + str(fpr))\n",
    "print(\"FNR: \" + str(fnr))\n",
    "print(\"PPV: \" + str(ppv))\n",
    "print(\"AUC: \" + str(auc))\n",
    "print(\"Gmean: \" + str(Gmean))\n",
    "print(\"F1- Score: \" + str(f1))\n",
    "print(\"Gmeasure: \" + str(Gmeasure))"
   ]
  },
  {
   "cell_type": "code",
   "execution_count": 91,
   "metadata": {},
   "outputs": [
    {
     "name": "stdout",
     "output_type": "stream",
     "text": [
      "Verdaderos negativos (TN): 366\n",
      "Verdaderos positivos (TP): 335\n",
      "Falsos negativos (FN): 94\n",
      "Falsos positivos (FP): 113\n",
      "\n",
      "Accuracy: 0.7720264317180616\n",
      "TPR: 0.7808857808857809\n",
      "TNR: 0.7640918580375783\n",
      "FPR: 0.2359081419624217\n",
      "FNR: 0.2191142191142191\n",
      "PPV: 0.7477678571428571\n",
      "AUC: 0.7724888194616797\n",
      "Gmean: 0.7724431805849162\n",
      "F1- Score: 0.7639680729760547\n",
      "Gmeasure: 0.7641474249425217\n"
     ]
    }
   ],
   "source": [
    "rf_clf = RandomForestClassifier(random_state=15, n_estimators=170, criterion = \"entropy\")\n",
    "\n",
    "tn,tp, fn, fp = validacion_cruzada(rf_clf, data, target, 5)\n",
    "\n",
    "accuracy = (tn+tp)/(tn+tp+fn+fp)\n",
    "tpr = tp/(tp+fn)\n",
    "tnr = tn/(tn+fp)\n",
    "fpr = fp/(tn+fp)\n",
    "fnr = fn/(tp+fn)\n",
    "ppv = tp/(tp+fp)\n",
    "auc = (1+tpr-fpr)/2\n",
    "Gmean = m.sqrt(tpr*tnr)\n",
    "f1 = (2*tp)/(2*tp+fp+fn)\n",
    "Gmeasure = m.sqrt(ppv*tpr)\n",
    "\n",
    "\n",
    "print(\"Verdaderos negativos (TN): \" + str(tn))\n",
    "print(\"Verdaderos positivos (TP): \" + str(tp))\n",
    "print(\"Falsos negativos (FN): \" + str(fn))\n",
    "print(\"Falsos positivos (FP): \" + str(fp))\n",
    "print()\n",
    "print(\"Accuracy: \" + str(accuracy))\n",
    "print(\"TPR: \" + str(tpr))\n",
    "print(\"TNR: \" + str(tnr))\n",
    "print(\"FPR: \" + str(fpr))\n",
    "print(\"FNR: \" + str(fnr))\n",
    "print(\"PPV: \" + str(ppv))\n",
    "print(\"AUC: \" + str(auc))\n",
    "print(\"Gmean: \" + str(Gmean))\n",
    "print(\"F1- Score: \" + str(f1))\n",
    "print(\"Gmeasure: \" + str(Gmeasure))"
   ]
  },
  {
   "cell_type": "markdown",
   "metadata": {},
   "source": [
    "Parámetro de poda:"
   ]
  },
  {
   "cell_type": "code",
   "execution_count": 92,
   "metadata": {},
   "outputs": [
    {
     "name": "stdout",
     "output_type": "stream",
     "text": [
      "Verdaderos negativos (TN): 377\n",
      "Verdaderos positivos (TP): 356\n",
      "Falsos negativos (FN): 73\n",
      "Falsos positivos (FP): 102\n",
      "\n",
      "Accuracy: 0.8072687224669604\n",
      "TPR: 0.8298368298368298\n",
      "TNR: 0.7870563674321504\n",
      "FPR: 0.21294363256784968\n",
      "FNR: 0.17016317016317017\n",
      "PPV: 0.777292576419214\n",
      "AUC: 0.80844659863449\n",
      "Gmean: 0.8081635730796005\n",
      "F1- Score: 0.8027057497181511\n",
      "Gmeasure: 0.8031351115917061\n"
     ]
    }
   ],
   "source": [
    "rf_clf = RandomForestClassifier(random_state=15, n_estimators=160, criterion = \"entropy\", ccp_alpha= 0.006)\n",
    "\n",
    "tn,tp, fn, fp = validacion_cruzada(rf_clf, data, target, 5)\n",
    "\n",
    "accuracy = (tn+tp)/(tn+tp+fn+fp)\n",
    "tpr = tp/(tp+fn)\n",
    "tnr = tn/(tn+fp)\n",
    "fpr = fp/(tn+fp)\n",
    "fnr = fn/(tp+fn)\n",
    "ppv = tp/(tp+fp)\n",
    "auc = (1+tpr-fpr)/2\n",
    "Gmean = m.sqrt(tpr*tnr)\n",
    "f1 = (2*tp)/(2*tp+fp+fn)\n",
    "Gmeasure = m.sqrt(ppv*tpr)\n",
    "\n",
    "\n",
    "print(\"Verdaderos negativos (TN): \" + str(tn))\n",
    "print(\"Verdaderos positivos (TP): \" + str(tp))\n",
    "print(\"Falsos negativos (FN): \" + str(fn))\n",
    "print(\"Falsos positivos (FP): \" + str(fp))\n",
    "print()\n",
    "print(\"Accuracy: \" + str(accuracy))\n",
    "print(\"TPR: \" + str(tpr))\n",
    "print(\"TNR: \" + str(tnr))\n",
    "print(\"FPR: \" + str(fpr))\n",
    "print(\"FNR: \" + str(fnr))\n",
    "print(\"PPV: \" + str(ppv))\n",
    "print(\"AUC: \" + str(auc))\n",
    "print(\"Gmean: \" + str(Gmean))\n",
    "print(\"F1- Score: \" + str(f1))\n",
    "print(\"Gmeasure: \" + str(Gmeasure))"
   ]
  },
  {
   "cell_type": "code",
   "execution_count": 93,
   "metadata": {
    "scrolled": true
   },
   "outputs": [
    {
     "name": "stdout",
     "output_type": "stream",
     "text": [
      "Verdaderos negativos (TN): 374\n",
      "Verdaderos positivos (TP): 363\n",
      "Falsos negativos (FN): 66\n",
      "Falsos positivos (FP): 105\n",
      "\n",
      "Accuracy: 0.8116740088105727\n",
      "TPR: 0.8461538461538461\n",
      "TNR: 0.7807933194154488\n",
      "FPR: 0.21920668058455114\n",
      "FNR: 0.15384615384615385\n",
      "PPV: 0.7756410256410257\n",
      "AUC: 0.8134735827846475\n",
      "Gmean: 0.8128168737634638\n",
      "F1- Score: 0.8093645484949833\n",
      "Gmeasure: 0.8101306296399784\n"
     ]
    }
   ],
   "source": [
    "rf_clf = RandomForestClassifier(random_state=15, n_estimators=160, criterion = \"entropy\", ccp_alpha= 0.008)\n",
    "\n",
    "tn,tp, fn, fp = validacion_cruzada(rf_clf, data, target, 5)\n",
    "\n",
    "accuracy = (tn+tp)/(tn+tp+fn+fp)\n",
    "tpr = tp/(tp+fn)\n",
    "tnr = tn/(tn+fp)\n",
    "fpr = fp/(tn+fp)\n",
    "fnr = fn/(tp+fn)\n",
    "ppv = tp/(tp+fp)\n",
    "auc = (1+tpr-fpr)/2\n",
    "Gmean = m.sqrt(tpr*tnr)\n",
    "f1 = (2*tp)/(2*tp+fp+fn)\n",
    "Gmeasure = m.sqrt(ppv*tpr)\n",
    "\n",
    "\n",
    "print(\"Verdaderos negativos (TN): \" + str(tn))\n",
    "print(\"Verdaderos positivos (TP): \" + str(tp))\n",
    "print(\"Falsos negativos (FN): \" + str(fn))\n",
    "print(\"Falsos positivos (FP): \" + str(fp))\n",
    "print()\n",
    "print(\"Accuracy: \" + str(accuracy))\n",
    "print(\"TPR: \" + str(tpr))\n",
    "print(\"TNR: \" + str(tnr))\n",
    "print(\"FPR: \" + str(fpr))\n",
    "print(\"FNR: \" + str(fnr))\n",
    "print(\"PPV: \" + str(ppv))\n",
    "print(\"AUC: \" + str(auc))\n",
    "print(\"Gmean: \" + str(Gmean))\n",
    "print(\"F1- Score: \" + str(f1))\n",
    "print(\"Gmeasure: \" + str(Gmeasure))"
   ]
  },
  {
   "cell_type": "markdown",
   "metadata": {},
   "source": [
    "RF con mayor F1-Score:"
   ]
  },
  {
   "cell_type": "code",
   "execution_count": 94,
   "metadata": {},
   "outputs": [
    {
     "name": "stdout",
     "output_type": "stream",
     "text": [
      "[[0.4118942731277533, 0.11563876651982379], [0.07268722466960352, 0.3997797356828194]]\n"
     ]
    },
    {
     "data": {
      "image/png": "[encoded data removed]",
      "text/plain": [
       "<Figure size 288x288 with 2 Axes>"
      ]
     },
     "metadata": {
      "needs_background": "light"
     },
     "output_type": "display_data"
    }
   ],
   "source": [
    "# Matriz de confusión:\n",
    "conf_mat = [[tn/len(data), fp/len(data)],[fn/len(data), tp/len(data)]]\n",
    "print(conf_mat)\n",
    "visualizeMatrix(conf_mat,'RF:\\nMatriz de confusión',True)"
   ]
  },
  {
   "cell_type": "code",
   "execution_count": 95,
   "metadata": {},
   "outputs": [
    {
     "name": "stdout",
     "output_type": "stream",
     "text": [
      "Verdaderos negativos (TN): 373\n",
      "Verdaderos positivos (TP): 363\n",
      "Falsos negativos (FN): 66\n",
      "Falsos positivos (FP): 106\n",
      "\n",
      "Accuracy: 0.8105726872246696\n",
      "TPR: 0.8461538461538461\n",
      "TNR: 0.778705636743215\n",
      "FPR: 0.22129436325678498\n",
      "FNR: 0.15384615384615385\n",
      "PPV: 0.7739872068230277\n",
      "AUC: 0.8124297414485306\n",
      "Gmean: 0.811729492843491\n",
      "F1- Score: 0.8084632516703786\n",
      "Gmeasure: 0.8092664900557648\n"
     ]
    }
   ],
   "source": [
    "rf_clf = RandomForestClassifier(random_state=15, n_estimators=160, criterion = \"entropy\", ccp_alpha= 0.01)\n",
    "\n",
    "tn,tp, fn, fp = validacion_cruzada(rf_clf, data, target, 5)\n",
    "\n",
    "accuracy = (tn+tp)/(tn+tp+fn+fp)\n",
    "tpr = tp/(tp+fn)\n",
    "tnr = tn/(tn+fp)\n",
    "fpr = fp/(tn+fp)\n",
    "fnr = fn/(tp+fn)\n",
    "ppv = tp/(tp+fp)\n",
    "auc = (1+tpr-fpr)/2\n",
    "Gmean = m.sqrt(tpr*tnr)\n",
    "f1 = (2*tp)/(2*tp+fp+fn)\n",
    "Gmeasure = m.sqrt(ppv*tpr)\n",
    "\n",
    "\n",
    "print(\"Verdaderos negativos (TN): \" + str(tn))\n",
    "print(\"Verdaderos positivos (TP): \" + str(tp))\n",
    "print(\"Falsos negativos (FN): \" + str(fn))\n",
    "print(\"Falsos positivos (FP): \" + str(fp))\n",
    "print()\n",
    "print(\"Accuracy: \" + str(accuracy))\n",
    "print(\"TPR: \" + str(tpr))\n",
    "print(\"TNR: \" + str(tnr))\n",
    "print(\"FPR: \" + str(fpr))\n",
    "print(\"FNR: \" + str(fnr))\n",
    "print(\"PPV: \" + str(ppv))\n",
    "print(\"AUC: \" + str(auc))\n",
    "print(\"Gmean: \" + str(Gmean))\n",
    "print(\"F1- Score: \" + str(f1))\n",
    "print(\"Gmeasure: \" + str(Gmeasure))"
   ]
  },
  {
   "cell_type": "markdown",
   "metadata": {},
   "source": [
    "### Visualización del árbol de decisión:"
   ]
  },
  {
   "cell_type": "code",
   "execution_count": 96,
   "metadata": {},
   "outputs": [
    {
     "name": "stdout",
     "output_type": "stream",
     "text": [
      "Verdaderos negativos (TN): 378\n",
      "Verdaderos positivos (TP): 358\n",
      "Falsos negativos (FN): 71\n",
      "Falsos positivos (FP): 101\n",
      "\n",
      "Accuracy: 0.8105726872246696\n",
      "TPR: 0.8344988344988346\n",
      "TNR: 0.7891440501043842\n",
      "FPR: 0.21085594989561587\n",
      "FNR: 0.1655011655011655\n",
      "PPV: 0.7799564270152506\n",
      "AUC: 0.8118214423016092\n",
      "Gmean: 0.8115046457438173\n",
      "F1- Score: 0.8063063063063063\n",
      "Gmeasure: 0.8067668370130876\n"
     ]
    }
   ],
   "source": [
    "tree_clf = DecisionTreeClassifier(random_state=15, ccp_alpha = 0.003)\n",
    "\n",
    "tn,tp, fn, fp = validacion_cruzada(tree_clf, data, target, 5)\n",
    "\n",
    "accuracy = (tn+tp)/(tn+tp+fn+fp)\n",
    "tpr = tp/(tp+fn)\n",
    "tnr = tn/(tn+fp)\n",
    "fpr = fp/(tn+fp)\n",
    "fnr = fn/(tp+fn)\n",
    "ppv = tp/(tp+fp)\n",
    "auc = (1+tpr-fpr)/2\n",
    "Gmean = m.sqrt(tpr*tnr)\n",
    "f1 = (2*tp)/(2*tp+fp+fn)\n",
    "Gmeasure = m.sqrt(ppv*tpr)\n",
    "\n",
    "\n",
    "print(\"Verdaderos negativos (TN): \" + str(tn))\n",
    "print(\"Verdaderos positivos (TP): \" + str(tp))\n",
    "print(\"Falsos negativos (FN): \" + str(fn))\n",
    "print(\"Falsos positivos (FP): \" + str(fp))\n",
    "print()\n",
    "print(\"Accuracy: \" + str(accuracy))\n",
    "print(\"TPR: \" + str(tpr))\n",
    "print(\"TNR: \" + str(tnr))\n",
    "print(\"FPR: \" + str(fpr))\n",
    "print(\"FNR: \" + str(fnr))\n",
    "print(\"PPV: \" + str(ppv))\n",
    "print(\"AUC: \" + str(auc))\n",
    "print(\"Gmean: \" + str(Gmean))\n",
    "print(\"F1- Score: \" + str(f1))\n",
    "print(\"Gmeasure: \" + str(Gmeasure))"
   ]
  },
  {
   "cell_type": "code",
   "execution_count": 97,
   "metadata": {},
   "outputs": [
    {
     "data": {
      "text/plain": [
       "908"
      ]
     },
     "execution_count": 97,
     "metadata": {},
     "output_type": "execute_result"
    }
   ],
   "source": [
    "data.shape[0]"
   ]
  },
  {
   "cell_type": "code",
   "execution_count": 98,
   "metadata": {},
   "outputs": [
    {
     "data": {
      "image/png": "[encoded data removed]",
      "text/plain": [
       "<Figure size 1800x1440 with 1 Axes>"
      ]
     },
     "metadata": {
      "needs_background": "light"
     },
     "output_type": "display_data"
    }
   ],
   "source": [
    "fig = plt.figure(figsize=(25,20))\n",
    "_ = tree.plot_tree(tree_clf, \n",
    "                   feature_names=data.columns,  \n",
    "                   class_names=[\"benigno\",\"maligno\"],\n",
    "                   filled=True)\n"
   ]
  },
  {
   "cell_type": "markdown",
   "metadata": {},
   "source": [
    "### Visualización de los datos:"
   ]
  },
  {
   "cell_type": "code",
   "execution_count": 99,
   "metadata": {},
   "outputs": [],
   "source": [
    "def dibuja_grafica(datos, target):\n",
    "        fig = plt.figure()\n",
    "        ax = fig.add_subplot(111, projection='3d')\n",
    "\n",
    "        #Ponemos nombre a los ejes\n",
    "        ax.set_xlabel('Age', fontsize = 10)\n",
    "        ax.set_ylabel('Shape', fontsize = 10)\n",
    "        ax.set_zlabel('Margin', fontsize = 10)\n",
    "\n",
    "        #Datos con etiqueta 1\n",
    "        azul_x = [] #Coordenada X\n",
    "        azul_y = [] #Coordenada Y\n",
    "        azul_z = [] #Coordenada Z\n",
    "        \n",
    "        #Datos con etiqueta -1\n",
    "        rosa_x = [] #Coordenada X\n",
    "        rosa_y = [] #Coordenada Y\n",
    "        rosa_z = [] #Coordenada Z\n",
    "\n",
    "        #Guardamos en vectores los distintos valores\n",
    "        for i in range(0, len(datos)):\n",
    "                if target.iloc[i] == 1:\n",
    "                        azul_x.append(datos['Age'].iloc[i])\n",
    "                        azul_y.append(datos['Shape'].iloc[i])\n",
    "                        azul_z.append(datos['Margin'].iloc[i])\n",
    "                else:\n",
    "                        rosa_x.append(datos['Age'].iloc[i])\n",
    "                        rosa_y.append(datos['Shape'].iloc[i])\n",
    "                        rosa_z.append(datos['Margin'].iloc[i])\n",
    "\n",
    "        #Pintamos los datos de entrenamiento\n",
    "        ax.scatter(azul_x, azul_y, azul_z, c='c')\n",
    "        ax.scatter(rosa_x, rosa_y, rosa_z, c='m')\n",
    "        \n",
    "        plt.show() "
   ]
  },
  {
   "cell_type": "code",
   "execution_count": 100,
   "metadata": {},
   "outputs": [
    {
     "data": {
      "image/png": "[encoded data removed]",
      "text/plain": [
       "<Figure size 432x288 with 1 Axes>"
      ]
     },
     "metadata": {
      "needs_background": "light"
     },
     "output_type": "display_data"
    }
   ],
   "source": [
    "dibuja_grafica(data,target)"
   ]
  }
 ],
 "metadata": {
  "kernelspec": {
   "display_name": "Python 3",
   "language": "python",
   "name": "python3"
  },
  "language_info": {
   "codemirror_mode": {
    "name": "ipython",
    "version": 3
   },
   "file_extension": ".py",
   "mimetype": "text/x-python",
   "name": "python",
   "nbconvert_exporter": "python",
   "pygments_lexer": "ipython3",
   "version": "3.8.5"
  }
 },
 "nbformat": 4,
 "nbformat_minor": 4
}
