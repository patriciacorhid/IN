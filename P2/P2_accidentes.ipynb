{
 "cells": [
  {
   "cell_type": "markdown",
   "metadata": {},
   "source": [
    "# Práctica 2 - Segmentación"
   ]
  },
  {
   "cell_type": "markdown",
   "metadata": {},
   "source": [
    "### Patricia Córdoba Hidalgo"
   ]
  },
  {
   "cell_type": "markdown",
   "metadata": {},
   "source": [
    "Importamos las librerías que usaremos"
   ]
  },
  {
   "cell_type": "code",
   "execution_count": 2,
   "metadata": {},
   "outputs": [],
   "source": [
    "import pandas as pd\n",
    "import numpy as np\n",
    "from pract2_utils import * \n",
    "\n",
    "from sklearn.preprocessing import MinMaxScaler\n",
    "from sklearn.cluster import KMeans\n",
    "\n",
    "import matplotlib.pyplot as plt\n",
    "from collections import Counter\n",
    "import seaborn as sns"
   ]
  },
  {
   "cell_type": "code",
   "execution_count": 3,
   "metadata": {},
   "outputs": [],
   "source": [
    "datos = pd.read_csv(\"accidentes_2013.csv\", na_values=[\"?\"]) # Leemos los datos del csv"
   ]
  },
  {
   "cell_type": "code",
   "execution_count": 4,
   "metadata": {},
   "outputs": [],
   "source": [
    "def grafica(data, label, title, xlab, ylab):\n",
    "    plt.plot(data,label, c='b')\n",
    "    plt.title(title)\n",
    "    plt.xlabel(xlab)\n",
    "    plt.ylabel(ylab)\n",
    "\n",
    "    plt.show()\n",
    "\n",
    "def graf_barras(data, label, title, xlab, ylab):\n",
    "    fig, ax = plt.subplots()\n",
    "    ax.bar(data, label, color='lime')\n",
    "    ax.set_title(title)\n",
    "    ax.set_xlabel(xlab)\n",
    "    ax.set_ylabel(ylab)"
   ]
  },
  {
   "cell_type": "markdown",
   "metadata": {},
   "source": [
    "## Escenario 1: Choque frontal en carretera convencional "
   ]
  },
  {
   "cell_type": "markdown",
   "metadata": {},
   "source": [
    "### Selección de datos"
   ]
  },
  {
   "cell_type": "markdown",
   "metadata": {},
   "source": [
    "Estudiaremos los datos que representen choques frontales en carreteras convencionales. "
   ]
  },
  {
   "cell_type": "code",
   "execution_count": 5,
   "metadata": {},
   "outputs": [
    {
     "data": {
      "text/html": [
       "<div>\n",
       "<style scoped>\n",
       "    .dataframe tbody tr th:only-of-type {\n",
       "        vertical-align: middle;\n",
       "    }\n",
       "\n",
       "    .dataframe tbody tr th {\n",
       "        vertical-align: top;\n",
       "    }\n",
       "\n",
       "    .dataframe thead th {\n",
       "        text-align: right;\n",
       "    }\n",
       "</style>\n",
       "<table border=\"1\" class=\"dataframe\">\n",
       "  <thead>\n",
       "    <tr style=\"text-align: right;\">\n",
       "      <th></th>\n",
       "      <th>MES</th>\n",
       "      <th>HORA</th>\n",
       "      <th>DIASEMANA</th>\n",
       "      <th>PROVINCIA</th>\n",
       "      <th>COMUNIDAD_AUTONOMA</th>\n",
       "      <th>ISLA</th>\n",
       "      <th>TOT_VICTIMAS</th>\n",
       "      <th>TOT_VICTIMAS30D</th>\n",
       "      <th>TOT_MUERTOS</th>\n",
       "      <th>TOT_MUERTOS30D</th>\n",
       "      <th>...</th>\n",
       "      <th>PRIORIDAD</th>\n",
       "      <th>SUPERFICIE_CALZADA</th>\n",
       "      <th>LUMINOSIDAD</th>\n",
       "      <th>FACTORES_ATMOSFERICOS</th>\n",
       "      <th>VISIBILIDAD_RESTRINGIDA</th>\n",
       "      <th>OTRA_CIRCUNSTANCIA</th>\n",
       "      <th>ACERAS</th>\n",
       "      <th>TIPO_ACCIDENTE</th>\n",
       "      <th>DENSIDAD_CIRCULACION</th>\n",
       "      <th>MEDIDAS_ESPECIALES</th>\n",
       "    </tr>\n",
       "  </thead>\n",
       "  <tbody>\n",
       "    <tr>\n",
       "      <th>75</th>\n",
       "      <td>4</td>\n",
       "      <td>19.0</td>\n",
       "      <td>4</td>\n",
       "      <td>Barcelona</td>\n",
       "      <td>Cataluña</td>\n",
       "      <td>NO_ES_ISLA</td>\n",
       "      <td>2</td>\n",
       "      <td>2</td>\n",
       "      <td>0</td>\n",
       "      <td>0.0</td>\n",
       "      <td>...</td>\n",
       "      <td>NaN</td>\n",
       "      <td>MOJADA</td>\n",
       "      <td>CREPÚSCULO</td>\n",
       "      <td>LLUVIA FUERTE</td>\n",
       "      <td>NaN</td>\n",
       "      <td>NINGUNA</td>\n",
       "      <td>NO HAY ACERA</td>\n",
       "      <td>Colisión de vehículos en marcha (Frontal)</td>\n",
       "      <td>NaN</td>\n",
       "      <td>NaN</td>\n",
       "    </tr>\n",
       "    <tr>\n",
       "      <th>132</th>\n",
       "      <td>12</td>\n",
       "      <td>21.0</td>\n",
       "      <td>7</td>\n",
       "      <td>Girona</td>\n",
       "      <td>Cataluña</td>\n",
       "      <td>NO_ES_ISLA</td>\n",
       "      <td>3</td>\n",
       "      <td>3</td>\n",
       "      <td>0</td>\n",
       "      <td>0.0</td>\n",
       "      <td>...</td>\n",
       "      <td>SEÑAL DE STOP</td>\n",
       "      <td>MOJADA</td>\n",
       "      <td>NOCHE: SIN ILUMINACIÓN</td>\n",
       "      <td>BUEN TIEMPO</td>\n",
       "      <td>NaN</td>\n",
       "      <td>NINGUNA</td>\n",
       "      <td>NO HAY ACERA</td>\n",
       "      <td>Colisión de vehículos en marcha (Frontal)</td>\n",
       "      <td>NaN</td>\n",
       "      <td>NaN</td>\n",
       "    </tr>\n",
       "    <tr>\n",
       "      <th>139</th>\n",
       "      <td>5</td>\n",
       "      <td>15.0</td>\n",
       "      <td>5</td>\n",
       "      <td>Girona</td>\n",
       "      <td>Cataluña</td>\n",
       "      <td>NO_ES_ISLA</td>\n",
       "      <td>1</td>\n",
       "      <td>1</td>\n",
       "      <td>0</td>\n",
       "      <td>0.0</td>\n",
       "      <td>...</td>\n",
       "      <td>NaN</td>\n",
       "      <td>MOJADA</td>\n",
       "      <td>PLENO DÍA</td>\n",
       "      <td>BUEN TIEMPO</td>\n",
       "      <td>NaN</td>\n",
       "      <td>NINGUNA</td>\n",
       "      <td>NO HAY ACERA</td>\n",
       "      <td>Colisión de vehículos en marcha (Frontal)</td>\n",
       "      <td>NaN</td>\n",
       "      <td>NaN</td>\n",
       "    </tr>\n",
       "    <tr>\n",
       "      <th>146</th>\n",
       "      <td>12</td>\n",
       "      <td>3.0</td>\n",
       "      <td>7</td>\n",
       "      <td>Lleida</td>\n",
       "      <td>Cataluña</td>\n",
       "      <td>NO_ES_ISLA</td>\n",
       "      <td>3</td>\n",
       "      <td>3</td>\n",
       "      <td>0</td>\n",
       "      <td>0.0</td>\n",
       "      <td>...</td>\n",
       "      <td>NaN</td>\n",
       "      <td>SECA Y LIMPIA</td>\n",
       "      <td>NOCHE: SIN ILUMINACIÓN</td>\n",
       "      <td>BUEN TIEMPO</td>\n",
       "      <td>DESLUMBRAMIENTO</td>\n",
       "      <td>NINGUNA</td>\n",
       "      <td>NO HAY ACERA</td>\n",
       "      <td>Colisión de vehículos en marcha (Frontal)</td>\n",
       "      <td>FLUIDA</td>\n",
       "      <td>NINGUNA MEDIDA</td>\n",
       "    </tr>\n",
       "    <tr>\n",
       "      <th>150</th>\n",
       "      <td>3</td>\n",
       "      <td>15.0</td>\n",
       "      <td>6</td>\n",
       "      <td>Barcelona</td>\n",
       "      <td>Cataluña</td>\n",
       "      <td>NO_ES_ISLA</td>\n",
       "      <td>2</td>\n",
       "      <td>2</td>\n",
       "      <td>0</td>\n",
       "      <td>0.0</td>\n",
       "      <td>...</td>\n",
       "      <td>NaN</td>\n",
       "      <td>SECA Y LIMPIA</td>\n",
       "      <td>PLENO DÍA</td>\n",
       "      <td>BUEN TIEMPO</td>\n",
       "      <td>NaN</td>\n",
       "      <td>NINGUNA</td>\n",
       "      <td>NO HAY ACERA</td>\n",
       "      <td>Colisión de vehículos en marcha (Frontal)</td>\n",
       "      <td>NaN</td>\n",
       "      <td>NaN</td>\n",
       "    </tr>\n",
       "  </tbody>\n",
       "</table>\n",
       "<p>5 rows × 32 columns</p>\n",
       "</div>"
      ],
      "text/plain": [
       "     MES  HORA  DIASEMANA  PROVINCIA COMUNIDAD_AUTONOMA        ISLA  \\\n",
       "75     4  19.0          4  Barcelona           Cataluña  NO_ES_ISLA   \n",
       "132   12  21.0          7     Girona           Cataluña  NO_ES_ISLA   \n",
       "139    5  15.0          5     Girona           Cataluña  NO_ES_ISLA   \n",
       "146   12   3.0          7     Lleida           Cataluña  NO_ES_ISLA   \n",
       "150    3  15.0          6  Barcelona           Cataluña  NO_ES_ISLA   \n",
       "\n",
       "     TOT_VICTIMAS  TOT_VICTIMAS30D  TOT_MUERTOS  TOT_MUERTOS30D  ...  \\\n",
       "75              2                2            0             0.0  ...   \n",
       "132             3                3            0             0.0  ...   \n",
       "139             1                1            0             0.0  ...   \n",
       "146             3                3            0             0.0  ...   \n",
       "150             2                2            0             0.0  ...   \n",
       "\n",
       "         PRIORIDAD  SUPERFICIE_CALZADA             LUMINOSIDAD  \\\n",
       "75             NaN              MOJADA              CREPÚSCULO   \n",
       "132  SEÑAL DE STOP              MOJADA  NOCHE: SIN ILUMINACIÓN   \n",
       "139            NaN              MOJADA               PLENO DÍA   \n",
       "146            NaN       SECA Y LIMPIA  NOCHE: SIN ILUMINACIÓN   \n",
       "150            NaN       SECA Y LIMPIA               PLENO DÍA   \n",
       "\n",
       "     FACTORES_ATMOSFERICOS  VISIBILIDAD_RESTRINGIDA OTRA_CIRCUNSTANCIA  \\\n",
       "75           LLUVIA FUERTE                      NaN            NINGUNA   \n",
       "132            BUEN TIEMPO                      NaN            NINGUNA   \n",
       "139            BUEN TIEMPO                      NaN            NINGUNA   \n",
       "146            BUEN TIEMPO          DESLUMBRAMIENTO            NINGUNA   \n",
       "150            BUEN TIEMPO                      NaN            NINGUNA   \n",
       "\n",
       "           ACERAS                             TIPO_ACCIDENTE  \\\n",
       "75   NO HAY ACERA  Colisión de vehículos en marcha (Frontal)   \n",
       "132  NO HAY ACERA  Colisión de vehículos en marcha (Frontal)   \n",
       "139  NO HAY ACERA  Colisión de vehículos en marcha (Frontal)   \n",
       "146  NO HAY ACERA  Colisión de vehículos en marcha (Frontal)   \n",
       "150  NO HAY ACERA  Colisión de vehículos en marcha (Frontal)   \n",
       "\n",
       "    DENSIDAD_CIRCULACION MEDIDAS_ESPECIALES  \n",
       "75                   NaN                NaN  \n",
       "132                  NaN                NaN  \n",
       "139                  NaN                NaN  \n",
       "146               FLUIDA     NINGUNA MEDIDA  \n",
       "150                  NaN                NaN  \n",
       "\n",
       "[5 rows x 32 columns]"
      ]
     },
     "execution_count": 5,
     "metadata": {},
     "output_type": "execute_result"
    }
   ],
   "source": [
    "# Seleccionamos los datos con los que trabajaremos\n",
    "caso1 = datos[datos.TIPO_VIA == 'VÍA CONVENCIONAL']\n",
    "caso1 = caso1[caso1.TIPO_ACCIDENTE == 'Colisión de vehículos en marcha (Frontal)']\n",
    "caso1.head()"
   ]
  },
  {
   "cell_type": "code",
   "execution_count": 6,
   "metadata": {},
   "outputs": [],
   "source": [
    "# Los atributos a considerar son:\n",
    "atributos = ['TOT_VICTIMAS', 'TOT_MUERTOS', 'TOT_HERIDOS_GRAVES', 'TOT_HERIDOS_LEVES', 'TOT_VEHICULOS_IMPLICADOS']"
   ]
  },
  {
   "cell_type": "code",
   "execution_count": 7,
   "metadata": {},
   "outputs": [
    {
     "name": "stdout",
     "output_type": "stream",
     "text": [
      "<class 'pandas.core.frame.DataFrame'>\n",
      "Int64Index: 1448 entries, 75 to 88793\n",
      "Data columns (total 5 columns):\n",
      " #   Column                    Non-Null Count  Dtype\n",
      "---  ------                    --------------  -----\n",
      " 0   TOT_VICTIMAS              1448 non-null   int64\n",
      " 1   TOT_MUERTOS               1448 non-null   int64\n",
      " 2   TOT_HERIDOS_GRAVES        1448 non-null   int64\n",
      " 3   TOT_HERIDOS_LEVES         1448 non-null   int64\n",
      " 4   TOT_VEHICULOS_IMPLICADOS  1448 non-null   int64\n",
      "dtypes: int64(5)\n",
      "memory usage: 67.9 KB\n"
     ]
    }
   ],
   "source": [
    "# Creamos la matriz con los atributos considerados. No hay valores nulos.\n",
    "caso1 = caso1[atributos]\n",
    "caso1.info()"
   ]
  },
  {
   "cell_type": "markdown",
   "metadata": {},
   "source": [
    "### Normalización de los datos"
   ]
  },
  {
   "cell_type": "code",
   "execution_count": 8,
   "metadata": {
    "scrolled": true
   },
   "outputs": [
    {
     "data": {
      "text/plain": [
       "array([[0.06666667, 0.        , 0.        , 0.14285714, 0.2       ],\n",
       "       [0.13333333, 0.        , 0.        , 0.21428571, 0.2       ],\n",
       "       [0.        , 0.        , 0.        , 0.07142857, 0.2       ],\n",
       "       [0.13333333, 0.        , 0.4       , 0.07142857, 0.2       ],\n",
       "       [0.06666667, 0.        , 0.        , 0.14285714, 0.2       ]])"
      ]
     },
     "execution_count": 8,
     "metadata": {},
     "output_type": "execute_result"
    }
   ],
   "source": [
    "# Le aplicamos normalización a los datos\n",
    "scaler = MinMaxScaler()\n",
    "caso1_norm = scaler.fit_transform(caso1)\n",
    "caso1_norm[:5]"
   ]
  },
  {
   "cell_type": "markdown",
   "metadata": {},
   "source": [
    "### Algoritmos de clustering"
   ]
  },
  {
   "cell_type": "markdown",
   "metadata": {},
   "source": [
    "#### K-Means"
   ]
  },
  {
   "cell_type": "markdown",
   "metadata": {},
   "source": [
    "Seleccionamos el número de clusters a usar."
   ]
  },
  {
   "cell_type": "code",
   "execution_count": 9,
   "metadata": {
    "scrolled": true
   },
   "outputs": [],
   "source": [
    "# Vectores con los valores de las métricas\n",
    "s = []\n",
    "c = []\n",
    "\n",
    "for i in range(2,15):\n",
    "    results = KMeans(n_clusters=i, random_state=0).fit(caso1_norm)\n",
    "    silhouette, calinski = measures_silhoutte_calinski(caso1_norm, results.labels_)\n",
    "    s.append(silhouette)\n",
    "    c.append(calinski)"
   ]
  },
  {
   "cell_type": "code",
   "execution_count": 10,
   "metadata": {
    "scrolled": false
   },
   "outputs": [
    {
     "data": {
      "image/png": "[encoded data removed]",
      "text/plain": [
       "<Figure size 432x288 with 1 Axes>"
      ]
     },
     "metadata": {
      "needs_background": "light"
     },
     "output_type": "display_data"
    }
   ],
   "source": [
    "grafica(range(2,15), s, 'Silhouette de K-Means para cada número de clusters', 'Nº de clusters', 'Silhouette')"
   ]
  },
  {
   "cell_type": "code",
   "execution_count": 11,
   "metadata": {
    "scrolled": false
   },
   "outputs": [
    {
     "data": {
      "image/png": "[encoded data removed]",
      "text/plain": [
       "<Figure size 432x288 with 1 Axes>"
      ]
     },
     "metadata": {
      "needs_background": "light"
     },
     "output_type": "display_data"
    }
   ],
   "source": [
    "grafica(range(2,15), c, 'Calinski-Harabasz de K-Means para cada número de clusters', 'Nº de clusters', 'Calinski-Harabasz')"
   ]
  },
  {
   "cell_type": "code",
   "execution_count": 12,
   "metadata": {},
   "outputs": [
    {
     "name": "stdout",
     "output_type": "stream",
     "text": [
      "Silhouette: \n",
      "[0.4755151052183167, 0.46599969633063965, 0.483489086733339, 0.531569055229591, 0.5404576589330073, 0.5519986909803549, 0.5786471085948179, 0.5903779353773022, 0.6461326222918197, 0.6893747693555886, 0.7336714808160643, 0.7448415168530551, 0.749410469848095]\n",
      "\n",
      "Calinski-Harabasz: \n",
      "[637.8831140088855, 597.9798532808658, 634.4016355078425, 683.2263367508311, 646.8004817570682, 630.8036708742871, 634.4445453990445, 628.3756258948337, 659.4342926638305, 653.852874658656, 659.3965542394021, 665.0690582901761, 663.5502144820157]\n"
     ]
    }
   ],
   "source": [
    "print(\"Silhouette: \\n\" + str(s))\n",
    "print()\n",
    "print(\"Calinski-Harabasz: \\n\" + str(c))"
   ]
  },
  {
   "cell_type": "code",
   "execution_count": 13,
   "metadata": {},
   "outputs": [
    {
     "data": {
      "image/png": "[encoded data removed]",
      "text/plain": [
       "<Figure size 432x288 with 1 Axes>"
      ]
     },
     "metadata": {
      "needs_background": "light"
     },
     "output_type": "display_data"
    }
   ],
   "source": [
    "results5 = KMeans(n_clusters=5, random_state=0).fit(caso1_norm)\n",
    "\n",
    "# Número de elementos por cluster\n",
    "m = [0 for i in range(5)]\n",
    "\n",
    "for i in range(len(caso1)):\n",
    "    m[results5.labels_[i]]+=1\n",
    "    \n",
    "graf_barras(range(5), m, \"Nº de elementos por cluster\",\"Nº de cluster\",\"Nº de elementos\")"
   ]
  },
  {
   "cell_type": "code",
   "execution_count": 14,
   "metadata": {},
   "outputs": [
    {
     "data": {
      "image/png": "[encoded data removed]",
      "text/plain": [
       "<Figure size 432x288 with 1 Axes>"
      ]
     },
     "metadata": {
      "needs_background": "light"
     },
     "output_type": "display_data"
    }
   ],
   "source": [
    "results13 = KMeans(n_clusters=13, random_state=0).fit(caso1_norm)\n",
    "\n",
    "# Número de elementos por cluster\n",
    "m = [0 for i in range(13)]\n",
    "\n",
    "for i in range(len(caso1)):\n",
    "    m[results13.labels_[i]]+=1\n",
    "    \n",
    "graf_barras(range(13), m, \"Nº de elementos por cluster\",\"Nº de cluster\",\"Nº de elementos\")"
   ]
  },
  {
   "cell_type": "markdown",
   "metadata": {},
   "source": [
    "Elegimos usar 5 clusters."
   ]
  },
  {
   "cell_type": "code",
   "execution_count": 15,
   "metadata": {
    "scrolled": true
   },
   "outputs": [
    {
     "name": "stdout",
     "output_type": "stream",
     "text": [
      "silhouette: 0.531569\n",
      "calinsky: 683.226337\n"
     ]
    }
   ],
   "source": [
    "# Métricas del modelo\n",
    "silhouette, calinski = measures_silhoutte_calinski(caso1_norm, results5.labels_)\n",
    "\n",
    "print(\"silhouette: {:3f}\".format(silhouette))\n",
    "print(\"calinsky: {:3f}\".format(calinski))"
   ]
  },
  {
   "cell_type": "markdown",
   "metadata": {},
   "source": [
    "Visualizamos los centroides."
   ]
  },
  {
   "cell_type": "code",
   "execution_count": 16,
   "metadata": {
    "scrolled": false
   },
   "outputs": [
    {
     "data": {
      "text/plain": [
       "<matplotlib.axes._subplots.AxesSubplot at 0x7fa0b83b10d0>"
      ]
     },
     "execution_count": 16,
     "metadata": {},
     "output_type": "execute_result"
    },
    {
     "data": {
      "image/png": "[encoded data removed]",
      "text/plain": [
       "<Figure size 432x288 with 2 Axes>"
      ]
     },
     "metadata": {
      "needs_background": "light"
     },
     "output_type": "display_data"
    }
   ],
   "source": [
    "centroids = results5.cluster_centers_\n",
    "visualize_centroids(centroids, caso1_norm, atributos)"
   ]
  },
  {
   "cell_type": "markdown",
   "metadata": {},
   "source": [
    "Visualizamos otras gráficas"
   ]
  },
  {
   "cell_type": "code",
   "execution_count": 17,
   "metadata": {},
   "outputs": [
    {
     "name": "stdout",
     "output_type": "stream",
     "text": [
      "Counter({1: 587, 2: 432, 3: 236, 4: 91, 5: 52, 6: 28, 7: 14, 9: 3, 8: 2, 10: 2, 16: 1})\n",
      "Counter({0: 1306, 1: 111, 2: 23, 3: 7, 4: 1})\n",
      "Counter({0: 1045, 1: 278, 2: 97, 3: 19, 4: 5, 5: 4})\n",
      "Counter({1: 581, 2: 355, 0: 227, 3: 163, 4: 64, 5: 33, 6: 11, 7: 9, 8: 3, 9: 1, 14: 1})\n",
      "Counter({2: 1331, 3: 98, 4: 12, 5: 3, 1: 3, 6: 1})\n"
     ]
    }
   ],
   "source": [
    "atributos = ['TOT_VICTIMAS', 'TOT_MUERTOS', 'TOT_HERIDOS_GRAVES', 'TOT_HERIDOS_LEVES', 'TOT_VEHICULOS_IMPLICADOS']\n",
    "print(Counter(caso1['TOT_VICTIMAS']))\n",
    "print(Counter(caso1['TOT_MUERTOS']))\n",
    "print(Counter(caso1['TOT_HERIDOS_GRAVES']))\n",
    "print(Counter(caso1['TOT_HERIDOS_LEVES']))\n",
    "print(Counter(caso1['TOT_VEHICULOS_IMPLICADOS']))"
   ]
  },
  {
   "cell_type": "code",
   "execution_count": 18,
   "metadata": {},
   "outputs": [],
   "source": [
    "# pairplot(caso1, atributos, results5.labels_)"
   ]
  },
  {
   "cell_type": "markdown",
   "metadata": {},
   "source": [
    "Visualizamos los diagramas de cajas:"
   ]
  },
  {
   "cell_type": "code",
   "execution_count": 19,
   "metadata": {},
   "outputs": [
    {
     "data": {
      "text/html": [
       "<div>\n",
       "<style scoped>\n",
       "    .dataframe tbody tr th:only-of-type {\n",
       "        vertical-align: middle;\n",
       "    }\n",
       "\n",
       "    .dataframe tbody tr th {\n",
       "        vertical-align: top;\n",
       "    }\n",
       "\n",
       "    .dataframe thead th {\n",
       "        text-align: right;\n",
       "    }\n",
       "</style>\n",
       "<table border=\"1\" class=\"dataframe\">\n",
       "  <thead>\n",
       "    <tr style=\"text-align: right;\">\n",
       "      <th></th>\n",
       "      <th>TOT_VICTIMAS</th>\n",
       "      <th>TOT_MUERTOS</th>\n",
       "      <th>TOT_HERIDOS_GRAVES</th>\n",
       "      <th>TOT_HERIDOS_LEVES</th>\n",
       "      <th>TOT_VEHICULOS_IMPLICADOS</th>\n",
       "      <th>Cluster</th>\n",
       "    </tr>\n",
       "  </thead>\n",
       "  <tbody>\n",
       "    <tr>\n",
       "      <th>75</th>\n",
       "      <td>2</td>\n",
       "      <td>0</td>\n",
       "      <td>0</td>\n",
       "      <td>2</td>\n",
       "      <td>2</td>\n",
       "      <td>0</td>\n",
       "    </tr>\n",
       "    <tr>\n",
       "      <th>132</th>\n",
       "      <td>3</td>\n",
       "      <td>0</td>\n",
       "      <td>0</td>\n",
       "      <td>3</td>\n",
       "      <td>2</td>\n",
       "      <td>2</td>\n",
       "    </tr>\n",
       "    <tr>\n",
       "      <th>139</th>\n",
       "      <td>1</td>\n",
       "      <td>0</td>\n",
       "      <td>0</td>\n",
       "      <td>1</td>\n",
       "      <td>2</td>\n",
       "      <td>0</td>\n",
       "    </tr>\n",
       "    <tr>\n",
       "      <th>146</th>\n",
       "      <td>3</td>\n",
       "      <td>0</td>\n",
       "      <td>2</td>\n",
       "      <td>1</td>\n",
       "      <td>2</td>\n",
       "      <td>1</td>\n",
       "    </tr>\n",
       "    <tr>\n",
       "      <th>150</th>\n",
       "      <td>2</td>\n",
       "      <td>0</td>\n",
       "      <td>0</td>\n",
       "      <td>2</td>\n",
       "      <td>2</td>\n",
       "      <td>0</td>\n",
       "    </tr>\n",
       "  </tbody>\n",
       "</table>\n",
       "</div>"
      ],
      "text/plain": [
       "     TOT_VICTIMAS  TOT_MUERTOS  TOT_HERIDOS_GRAVES  TOT_HERIDOS_LEVES  \\\n",
       "75              2            0                   0                  2   \n",
       "132             3            0                   0                  3   \n",
       "139             1            0                   0                  1   \n",
       "146             3            0                   2                  1   \n",
       "150             2            0                   0                  2   \n",
       "\n",
       "     TOT_VEHICULOS_IMPLICADOS  Cluster  \n",
       "75                          2        0  \n",
       "132                         2        2  \n",
       "139                         2        0  \n",
       "146                         2        1  \n",
       "150                         2        0  "
      ]
     },
     "execution_count": 19,
     "metadata": {},
     "output_type": "execute_result"
    }
   ],
   "source": [
    "# Creamos una estructura con los datos y el cluster al que pertenece cada instancia\n",
    "datos_bp = pd.DataFrame(caso1)\n",
    "datos_bp['Cluster'] = results5.labels_\n",
    "datos_bp.head()"
   ]
  },
  {
   "cell_type": "code",
   "execution_count": 20,
   "metadata": {},
   "outputs": [
    {
     "data": {
      "text/plain": [
       "<matplotlib.axes._subplots.AxesSubplot at 0x7fa0b82f96a0>"
      ]
     },
     "execution_count": 20,
     "metadata": {},
     "output_type": "execute_result"
    },
    {
     "data": {
      "image/png": "[encoded data removed]",
      "text/plain": [
       "<Figure size 432x288 with 1 Axes>"
      ]
     },
     "metadata": {
      "needs_background": "light"
     },
     "output_type": "display_data"
    }
   ],
   "source": [
    "sns.boxplot(data=datos_bp, y='TOT_VICTIMAS', x='Cluster')"
   ]
  },
  {
   "cell_type": "code",
   "execution_count": 21,
   "metadata": {},
   "outputs": [
    {
     "data": {
      "text/plain": [
       "<matplotlib.axes._subplots.AxesSubplot at 0x7fa0b83365e0>"
      ]
     },
     "execution_count": 21,
     "metadata": {},
     "output_type": "execute_result"
    },
    {
     "data": {
      "image/png": "[encoded data removed]",
      "text/plain": [
       "<Figure size 432x288 with 1 Axes>"
      ]
     },
     "metadata": {
      "needs_background": "light"
     },
     "output_type": "display_data"
    }
   ],
   "source": [
    "sns.boxplot(data=datos_bp, y='TOT_MUERTOS', x='Cluster')"
   ]
  },
  {
   "cell_type": "code",
   "execution_count": 22,
   "metadata": {},
   "outputs": [
    {
     "data": {
      "text/plain": [
       "<matplotlib.axes._subplots.AxesSubplot at 0x7fa0b8169610>"
      ]
     },
     "execution_count": 22,
     "metadata": {},
     "output_type": "execute_result"
    },
    {
     "data": {
      "image/png": "[encoded data removed]",
      "text/plain": [
       "<Figure size 432x288 with 1 Axes>"
      ]
     },
     "metadata": {
      "needs_background": "light"
     },
     "output_type": "display_data"
    }
   ],
   "source": [
    "sns.boxplot(data=datos_bp, y='TOT_HERIDOS_GRAVES', x='Cluster')"
   ]
  },
  {
   "cell_type": "code",
   "execution_count": 23,
   "metadata": {},
   "outputs": [
    {
     "data": {
      "text/plain": [
       "<matplotlib.axes._subplots.AxesSubplot at 0x7fa0b81d5fa0>"
      ]
     },
     "execution_count": 23,
     "metadata": {},
     "output_type": "execute_result"
    },
    {
     "data": {
      "image/png": "[encoded data removed]",
      "text/plain": [
       "<Figure size 432x288 with 1 Axes>"
      ]
     },
     "metadata": {
      "needs_background": "light"
     },
     "output_type": "display_data"
    }
   ],
   "source": [
    "sns.boxplot(data=datos_bp, y='TOT_HERIDOS_LEVES', x='Cluster')"
   ]
  },
  {
   "cell_type": "code",
   "execution_count": 24,
   "metadata": {},
   "outputs": [
    {
     "data": {
      "text/plain": [
       "<matplotlib.axes._subplots.AxesSubplot at 0x7fa0b926dc70>"
      ]
     },
     "execution_count": 24,
     "metadata": {},
     "output_type": "execute_result"
    },
    {
     "data": {
      "image/png": "[encoded data removed]",
      "text/plain": [
       "<Figure size 432x288 with 1 Axes>"
      ]
     },
     "metadata": {
      "needs_background": "light"
     },
     "output_type": "display_data"
    }
   ],
   "source": [
    "sns.boxplot(data=datos_bp, y='TOT_VEHICULOS_IMPLICADOS', x='Cluster')"
   ]
  },
  {
   "cell_type": "markdown",
   "metadata": {},
   "source": [
    "#### DBSCAN"
   ]
  },
  {
   "cell_type": "code",
   "execution_count": 25,
   "metadata": {},
   "outputs": [
    {
     "data": {
      "text/plain": [
       "MES                                                                         8\n",
       "HORA                                                                       14\n",
       "DIASEMANA                                                                   3\n",
       "PROVINCIA                                                             Bizkaia\n",
       "COMUNIDAD_AUTONOMA                                                 País Vasco\n",
       "ISLA                                                               NO_ES_ISLA\n",
       "TOT_VICTIMAS                                                                3\n",
       "TOT_VICTIMAS30D                                                             3\n",
       "TOT_MUERTOS                                                                 0\n",
       "TOT_MUERTOS30D                                                       0.054104\n",
       "TOT_HERIDOS_GRAVES                                                          3\n",
       "TOT_HERIDOS_GRAVES30D                                                  2.9459\n",
       "TOT_HERIDOS_LEVES                                                           0\n",
       "TOT_HERIDOS_LEVES30D                                                        0\n",
       "TOT_VEHICULOS_IMPLICADOS                                                    2\n",
       "ZONA                                                                CARRETERA\n",
       "ZONA_AGRUPADA                                               VÍAS INTERURBANAS\n",
       "RED_CARRETERA               TITULARIDAD PROVINCIAL (DIPUTACIÓN, CABILDO O ...\n",
       "TIPO_VIA                                                            OTRO TIPO\n",
       "TRAZADO_NO_INTERSEC                                               CURVA SUAVE\n",
       "TIPO_INTERSEC                                              NO_ES_INTERSECCION\n",
       "ACOND_CALZADA                                                             NaN\n",
       "PRIORIDAD                                                NINGUNA (SOLO NORMA)\n",
       "SUPERFICIE_CALZADA                                                     MOJADA\n",
       "LUMINOSIDAD                                                         PLENO DÍA\n",
       "FACTORES_ATMOSFERICOS                                           LLUVIA FUERTE\n",
       "VISIBILIDAD_RESTRINGIDA                                 FACTORES ATMOSFÉRICOS\n",
       "OTRA_CIRCUNSTANCIA                                                       OTRA\n",
       "ACERAS                                                           NO HAY ACERA\n",
       "TIPO_ACCIDENTE                      Colisión de vehículos en marcha (Frontal)\n",
       "DENSIDAD_CIRCULACION                                                   FLUIDA\n",
       "MEDIDAS_ESPECIALES                                             NINGUNA MEDIDA\n",
       "Name: 0, dtype: object"
      ]
     },
     "execution_count": 25,
     "metadata": {},
     "output_type": "execute_result"
    }
   ],
   "source": [
    "datos.iloc[0]"
   ]
  },
  {
   "cell_type": "code",
   "execution_count": 26,
   "metadata": {},
   "outputs": [
    {
     "data": {
      "text/html": [
       "<div>\n",
       "<style scoped>\n",
       "    .dataframe tbody tr th:only-of-type {\n",
       "        vertical-align: middle;\n",
       "    }\n",
       "\n",
       "    .dataframe tbody tr th {\n",
       "        vertical-align: top;\n",
       "    }\n",
       "\n",
       "    .dataframe thead th {\n",
       "        text-align: right;\n",
       "    }\n",
       "</style>\n",
       "<table border=\"1\" class=\"dataframe\">\n",
       "  <thead>\n",
       "    <tr style=\"text-align: right;\">\n",
       "      <th></th>\n",
       "      <th>MES</th>\n",
       "      <th>HORA</th>\n",
       "      <th>DIASEMANA</th>\n",
       "      <th>PROVINCIA</th>\n",
       "      <th>COMUNIDAD_AUTONOMA</th>\n",
       "      <th>ISLA</th>\n",
       "      <th>TOT_VICTIMAS</th>\n",
       "      <th>TOT_VICTIMAS30D</th>\n",
       "      <th>TOT_MUERTOS</th>\n",
       "      <th>TOT_MUERTOS30D</th>\n",
       "      <th>...</th>\n",
       "      <th>PRIORIDAD</th>\n",
       "      <th>SUPERFICIE_CALZADA</th>\n",
       "      <th>LUMINOSIDAD</th>\n",
       "      <th>FACTORES_ATMOSFERICOS</th>\n",
       "      <th>VISIBILIDAD_RESTRINGIDA</th>\n",
       "      <th>OTRA_CIRCUNSTANCIA</th>\n",
       "      <th>ACERAS</th>\n",
       "      <th>TIPO_ACCIDENTE</th>\n",
       "      <th>DENSIDAD_CIRCULACION</th>\n",
       "      <th>MEDIDAS_ESPECIALES</th>\n",
       "    </tr>\n",
       "  </thead>\n",
       "  <tbody>\n",
       "    <tr>\n",
       "      <th>0</th>\n",
       "      <td>8</td>\n",
       "      <td>14.0</td>\n",
       "      <td>3</td>\n",
       "      <td>Bizkaia</td>\n",
       "      <td>País Vasco</td>\n",
       "      <td>NO_ES_ISLA</td>\n",
       "      <td>3</td>\n",
       "      <td>3</td>\n",
       "      <td>0</td>\n",
       "      <td>0.054104</td>\n",
       "      <td>...</td>\n",
       "      <td>NINGUNA (SOLO NORMA)</td>\n",
       "      <td>MOJADA</td>\n",
       "      <td>PLENO DÍA</td>\n",
       "      <td>LLUVIA FUERTE</td>\n",
       "      <td>FACTORES ATMOSFÉRICOS</td>\n",
       "      <td>OTRA</td>\n",
       "      <td>NO HAY ACERA</td>\n",
       "      <td>Colisión de vehículos en marcha (Frontal)</td>\n",
       "      <td>FLUIDA</td>\n",
       "      <td>NINGUNA MEDIDA</td>\n",
       "    </tr>\n",
       "    <tr>\n",
       "      <th>1</th>\n",
       "      <td>6</td>\n",
       "      <td>18.0</td>\n",
       "      <td>6</td>\n",
       "      <td>Bizkaia</td>\n",
       "      <td>País Vasco</td>\n",
       "      <td>NO_ES_ISLA</td>\n",
       "      <td>1</td>\n",
       "      <td>1</td>\n",
       "      <td>0</td>\n",
       "      <td>0.000000</td>\n",
       "      <td>...</td>\n",
       "      <td>SEMÁFORO</td>\n",
       "      <td>MOJADA</td>\n",
       "      <td>PLENO DÍA</td>\n",
       "      <td>LLOVIZNANDO</td>\n",
       "      <td>OTRA_CAUSA</td>\n",
       "      <td>NINGUNA</td>\n",
       "      <td>NO HAY ACERA</td>\n",
       "      <td>Colisión de vehículos en marcha (Alcance)</td>\n",
       "      <td>DENSA</td>\n",
       "      <td>NINGUNA MEDIDA</td>\n",
       "    </tr>\n",
       "    <tr>\n",
       "      <th>2</th>\n",
       "      <td>11</td>\n",
       "      <td>17.0</td>\n",
       "      <td>2</td>\n",
       "      <td>Tarragona</td>\n",
       "      <td>Cataluña</td>\n",
       "      <td>NO_ES_ISLA</td>\n",
       "      <td>2</td>\n",
       "      <td>2</td>\n",
       "      <td>0</td>\n",
       "      <td>0.000000</td>\n",
       "      <td>...</td>\n",
       "      <td>SEÑAL DE STOP</td>\n",
       "      <td>SECA Y LIMPIA</td>\n",
       "      <td>PLENO DÍA</td>\n",
       "      <td>BUEN TIEMPO</td>\n",
       "      <td>NaN</td>\n",
       "      <td>NINGUNA</td>\n",
       "      <td>NO HAY ACERA</td>\n",
       "      <td>Colisión de vehículos en marcha (Frontolateral)</td>\n",
       "      <td>NaN</td>\n",
       "      <td>NaN</td>\n",
       "    </tr>\n",
       "    <tr>\n",
       "      <th>3</th>\n",
       "      <td>1</td>\n",
       "      <td>9.0</td>\n",
       "      <td>3</td>\n",
       "      <td>Lleida</td>\n",
       "      <td>Cataluña</td>\n",
       "      <td>NO_ES_ISLA</td>\n",
       "      <td>2</td>\n",
       "      <td>2</td>\n",
       "      <td>0</td>\n",
       "      <td>0.000000</td>\n",
       "      <td>...</td>\n",
       "      <td>NaN</td>\n",
       "      <td>MOJADA</td>\n",
       "      <td>PLENO DÍA</td>\n",
       "      <td>LLOVIZNANDO</td>\n",
       "      <td>NaN</td>\n",
       "      <td>NINGUNA</td>\n",
       "      <td>NO HAY ACERA</td>\n",
       "      <td>Colisión de vehículos en marcha (Múltiple o en...</td>\n",
       "      <td>NaN</td>\n",
       "      <td>NINGUNA MEDIDA</td>\n",
       "    </tr>\n",
       "    <tr>\n",
       "      <th>4</th>\n",
       "      <td>11</td>\n",
       "      <td>22.0</td>\n",
       "      <td>7</td>\n",
       "      <td>Barcelona</td>\n",
       "      <td>Cataluña</td>\n",
       "      <td>NO_ES_ISLA</td>\n",
       "      <td>2</td>\n",
       "      <td>2</td>\n",
       "      <td>0</td>\n",
       "      <td>0.000000</td>\n",
       "      <td>...</td>\n",
       "      <td>NaN</td>\n",
       "      <td>MOJADA</td>\n",
       "      <td>NOCHE: ILUMINACIÓN SUFICIENTE</td>\n",
       "      <td>LLUVIA FUERTE</td>\n",
       "      <td>NaN</td>\n",
       "      <td>NINGUNA</td>\n",
       "      <td>NO HAY ACERA</td>\n",
       "      <td>Colisión de vehículos en marcha (Frontolateral)</td>\n",
       "      <td>NaN</td>\n",
       "      <td>NaN</td>\n",
       "    </tr>\n",
       "    <tr>\n",
       "      <th>...</th>\n",
       "      <td>...</td>\n",
       "      <td>...</td>\n",
       "      <td>...</td>\n",
       "      <td>...</td>\n",
       "      <td>...</td>\n",
       "      <td>...</td>\n",
       "      <td>...</td>\n",
       "      <td>...</td>\n",
       "      <td>...</td>\n",
       "      <td>...</td>\n",
       "      <td>...</td>\n",
       "      <td>...</td>\n",
       "      <td>...</td>\n",
       "      <td>...</td>\n",
       "      <td>...</td>\n",
       "      <td>...</td>\n",
       "      <td>...</td>\n",
       "      <td>...</td>\n",
       "      <td>...</td>\n",
       "      <td>...</td>\n",
       "      <td>...</td>\n",
       "    </tr>\n",
       "    <tr>\n",
       "      <th>89514</th>\n",
       "      <td>6</td>\n",
       "      <td>19.0</td>\n",
       "      <td>5</td>\n",
       "      <td>Melilla</td>\n",
       "      <td>Ceuta y Melilla</td>\n",
       "      <td>NO_ES_ISLA</td>\n",
       "      <td>1</td>\n",
       "      <td>1</td>\n",
       "      <td>0</td>\n",
       "      <td>0.018035</td>\n",
       "      <td>...</td>\n",
       "      <td>NINGUNA (SOLO NORMA)</td>\n",
       "      <td>SECA Y LIMPIA</td>\n",
       "      <td>PLENO DÍA</td>\n",
       "      <td>BUEN TIEMPO</td>\n",
       "      <td>SIN RESTRICCIÓN</td>\n",
       "      <td>NINGUNA</td>\n",
       "      <td>SI HAY ACERA</td>\n",
       "      <td>Atropello a peatón aislado o en grupo</td>\n",
       "      <td>FLUIDA</td>\n",
       "      <td>NINGUNA MEDIDA</td>\n",
       "    </tr>\n",
       "    <tr>\n",
       "      <th>89515</th>\n",
       "      <td>4</td>\n",
       "      <td>17.0</td>\n",
       "      <td>4</td>\n",
       "      <td>Melilla</td>\n",
       "      <td>Ceuta y Melilla</td>\n",
       "      <td>NO_ES_ISLA</td>\n",
       "      <td>1</td>\n",
       "      <td>1</td>\n",
       "      <td>0</td>\n",
       "      <td>0.000000</td>\n",
       "      <td>...</td>\n",
       "      <td>NINGUNA (SOLO NORMA)</td>\n",
       "      <td>SECA Y LIMPIA</td>\n",
       "      <td>PLENO DÍA</td>\n",
       "      <td>BUEN TIEMPO</td>\n",
       "      <td>SIN RESTRICCIÓN</td>\n",
       "      <td>NINGUNA</td>\n",
       "      <td>SI HAY ACERA</td>\n",
       "      <td>Colisión de vehículos en marcha (Lateral)</td>\n",
       "      <td>FLUIDA</td>\n",
       "      <td>NINGUNA MEDIDA</td>\n",
       "    </tr>\n",
       "    <tr>\n",
       "      <th>89516</th>\n",
       "      <td>1</td>\n",
       "      <td>23.0</td>\n",
       "      <td>5</td>\n",
       "      <td>Melilla</td>\n",
       "      <td>Ceuta y Melilla</td>\n",
       "      <td>NO_ES_ISLA</td>\n",
       "      <td>1</td>\n",
       "      <td>1</td>\n",
       "      <td>0</td>\n",
       "      <td>0.018035</td>\n",
       "      <td>...</td>\n",
       "      <td>SEÑAL DE CEDA EL PASO</td>\n",
       "      <td>SECA Y LIMPIA</td>\n",
       "      <td>NOCHE: ILUMINACIÓN SUFICIENTE</td>\n",
       "      <td>BUEN TIEMPO</td>\n",
       "      <td>SIN RESTRICCIÓN</td>\n",
       "      <td>NINGUNA</td>\n",
       "      <td>SI HAY ACERA</td>\n",
       "      <td>Colisión de vehículos en marcha (Frontolateral)</td>\n",
       "      <td>FLUIDA</td>\n",
       "      <td>NINGUNA MEDIDA</td>\n",
       "    </tr>\n",
       "    <tr>\n",
       "      <th>89517</th>\n",
       "      <td>2</td>\n",
       "      <td>15.0</td>\n",
       "      <td>3</td>\n",
       "      <td>Melilla</td>\n",
       "      <td>Ceuta y Melilla</td>\n",
       "      <td>NO_ES_ISLA</td>\n",
       "      <td>2</td>\n",
       "      <td>2</td>\n",
       "      <td>0</td>\n",
       "      <td>0.000000</td>\n",
       "      <td>...</td>\n",
       "      <td>NINGUNA (SOLO NORMA)</td>\n",
       "      <td>SECA Y LIMPIA</td>\n",
       "      <td>PLENO DÍA</td>\n",
       "      <td>BUEN TIEMPO</td>\n",
       "      <td>SIN RESTRICCIÓN</td>\n",
       "      <td>NINGUNA</td>\n",
       "      <td>SI HAY ACERA</td>\n",
       "      <td>Colisión de vehículos en marcha (Alcance)</td>\n",
       "      <td>DENSA</td>\n",
       "      <td>NINGUNA MEDIDA</td>\n",
       "    </tr>\n",
       "    <tr>\n",
       "      <th>89518</th>\n",
       "      <td>10</td>\n",
       "      <td>11.0</td>\n",
       "      <td>6</td>\n",
       "      <td>Melilla</td>\n",
       "      <td>Ceuta y Melilla</td>\n",
       "      <td>NO_ES_ISLA</td>\n",
       "      <td>2</td>\n",
       "      <td>2</td>\n",
       "      <td>0</td>\n",
       "      <td>0.000000</td>\n",
       "      <td>...</td>\n",
       "      <td>NINGUNA (SOLO NORMA)</td>\n",
       "      <td>SECA Y LIMPIA</td>\n",
       "      <td>PLENO DÍA</td>\n",
       "      <td>BUEN TIEMPO</td>\n",
       "      <td>OTRA_CAUSA</td>\n",
       "      <td>NINGUNA</td>\n",
       "      <td>SI HAY ACERA</td>\n",
       "      <td>Colisión de vehículos en marcha (Lateral)</td>\n",
       "      <td>FLUIDA</td>\n",
       "      <td>NINGUNA MEDIDA</td>\n",
       "    </tr>\n",
       "  </tbody>\n",
       "</table>\n",
       "<p>89519 rows × 32 columns</p>\n",
       "</div>"
      ],
      "text/plain": [
       "       MES  HORA  DIASEMANA  PROVINCIA COMUNIDAD_AUTONOMA        ISLA  \\\n",
       "0        8  14.0          3    Bizkaia         País Vasco  NO_ES_ISLA   \n",
       "1        6  18.0          6    Bizkaia         País Vasco  NO_ES_ISLA   \n",
       "2       11  17.0          2  Tarragona           Cataluña  NO_ES_ISLA   \n",
       "3        1   9.0          3     Lleida           Cataluña  NO_ES_ISLA   \n",
       "4       11  22.0          7  Barcelona           Cataluña  NO_ES_ISLA   \n",
       "...    ...   ...        ...        ...                ...         ...   \n",
       "89514    6  19.0          5    Melilla    Ceuta y Melilla  NO_ES_ISLA   \n",
       "89515    4  17.0          4    Melilla    Ceuta y Melilla  NO_ES_ISLA   \n",
       "89516    1  23.0          5    Melilla    Ceuta y Melilla  NO_ES_ISLA   \n",
       "89517    2  15.0          3    Melilla    Ceuta y Melilla  NO_ES_ISLA   \n",
       "89518   10  11.0          6    Melilla    Ceuta y Melilla  NO_ES_ISLA   \n",
       "\n",
       "       TOT_VICTIMAS  TOT_VICTIMAS30D  TOT_MUERTOS  TOT_MUERTOS30D  ...  \\\n",
       "0                 3                3            0        0.054104  ...   \n",
       "1                 1                1            0        0.000000  ...   \n",
       "2                 2                2            0        0.000000  ...   \n",
       "3                 2                2            0        0.000000  ...   \n",
       "4                 2                2            0        0.000000  ...   \n",
       "...             ...              ...          ...             ...  ...   \n",
       "89514             1                1            0        0.018035  ...   \n",
       "89515             1                1            0        0.000000  ...   \n",
       "89516             1                1            0        0.018035  ...   \n",
       "89517             2                2            0        0.000000  ...   \n",
       "89518             2                2            0        0.000000  ...   \n",
       "\n",
       "                   PRIORIDAD  SUPERFICIE_CALZADA  \\\n",
       "0       NINGUNA (SOLO NORMA)              MOJADA   \n",
       "1                   SEMÁFORO              MOJADA   \n",
       "2              SEÑAL DE STOP       SECA Y LIMPIA   \n",
       "3                        NaN              MOJADA   \n",
       "4                        NaN              MOJADA   \n",
       "...                      ...                 ...   \n",
       "89514   NINGUNA (SOLO NORMA)       SECA Y LIMPIA   \n",
       "89515   NINGUNA (SOLO NORMA)       SECA Y LIMPIA   \n",
       "89516  SEÑAL DE CEDA EL PASO       SECA Y LIMPIA   \n",
       "89517   NINGUNA (SOLO NORMA)       SECA Y LIMPIA   \n",
       "89518   NINGUNA (SOLO NORMA)       SECA Y LIMPIA   \n",
       "\n",
       "                         LUMINOSIDAD  FACTORES_ATMOSFERICOS  \\\n",
       "0                          PLENO DÍA          LLUVIA FUERTE   \n",
       "1                          PLENO DÍA            LLOVIZNANDO   \n",
       "2                          PLENO DÍA            BUEN TIEMPO   \n",
       "3                          PLENO DÍA            LLOVIZNANDO   \n",
       "4      NOCHE: ILUMINACIÓN SUFICIENTE          LLUVIA FUERTE   \n",
       "...                              ...                    ...   \n",
       "89514                      PLENO DÍA            BUEN TIEMPO   \n",
       "89515                      PLENO DÍA            BUEN TIEMPO   \n",
       "89516  NOCHE: ILUMINACIÓN SUFICIENTE            BUEN TIEMPO   \n",
       "89517                      PLENO DÍA            BUEN TIEMPO   \n",
       "89518                      PLENO DÍA            BUEN TIEMPO   \n",
       "\n",
       "       VISIBILIDAD_RESTRINGIDA OTRA_CIRCUNSTANCIA        ACERAS  \\\n",
       "0        FACTORES ATMOSFÉRICOS               OTRA  NO HAY ACERA   \n",
       "1                   OTRA_CAUSA            NINGUNA  NO HAY ACERA   \n",
       "2                          NaN            NINGUNA  NO HAY ACERA   \n",
       "3                          NaN            NINGUNA  NO HAY ACERA   \n",
       "4                          NaN            NINGUNA  NO HAY ACERA   \n",
       "...                        ...                ...           ...   \n",
       "89514          SIN RESTRICCIÓN            NINGUNA  SI HAY ACERA   \n",
       "89515          SIN RESTRICCIÓN            NINGUNA  SI HAY ACERA   \n",
       "89516          SIN RESTRICCIÓN            NINGUNA  SI HAY ACERA   \n",
       "89517          SIN RESTRICCIÓN            NINGUNA  SI HAY ACERA   \n",
       "89518               OTRA_CAUSA            NINGUNA  SI HAY ACERA   \n",
       "\n",
       "                                          TIPO_ACCIDENTE DENSIDAD_CIRCULACION  \\\n",
       "0              Colisión de vehículos en marcha (Frontal)               FLUIDA   \n",
       "1              Colisión de vehículos en marcha (Alcance)                DENSA   \n",
       "2        Colisión de vehículos en marcha (Frontolateral)                  NaN   \n",
       "3      Colisión de vehículos en marcha (Múltiple o en...                  NaN   \n",
       "4        Colisión de vehículos en marcha (Frontolateral)                  NaN   \n",
       "...                                                  ...                  ...   \n",
       "89514              Atropello a peatón aislado o en grupo               FLUIDA   \n",
       "89515          Colisión de vehículos en marcha (Lateral)               FLUIDA   \n",
       "89516    Colisión de vehículos en marcha (Frontolateral)               FLUIDA   \n",
       "89517          Colisión de vehículos en marcha (Alcance)                DENSA   \n",
       "89518          Colisión de vehículos en marcha (Lateral)               FLUIDA   \n",
       "\n",
       "      MEDIDAS_ESPECIALES  \n",
       "0         NINGUNA MEDIDA  \n",
       "1         NINGUNA MEDIDA  \n",
       "2                    NaN  \n",
       "3         NINGUNA MEDIDA  \n",
       "4                    NaN  \n",
       "...                  ...  \n",
       "89514     NINGUNA MEDIDA  \n",
       "89515     NINGUNA MEDIDA  \n",
       "89516     NINGUNA MEDIDA  \n",
       "89517     NINGUNA MEDIDA  \n",
       "89518     NINGUNA MEDIDA  \n",
       "\n",
       "[89519 rows x 32 columns]"
      ]
     },
     "execution_count": 26,
     "metadata": {},
     "output_type": "execute_result"
    }
   ],
   "source": [
    "datos"
   ]
  },
  {
   "cell_type": "markdown",
   "metadata": {},
   "source": [
    "## Escenario 2: Verano"
   ]
  },
  {
   "cell_type": "markdown",
   "metadata": {},
   "source": [
    "### Selección de datos"
   ]
  },
  {
   "cell_type": "markdown",
   "metadata": {},
   "source": [
    "Estudiaremos los datos que representen accidentes en verano."
   ]
  },
  {
   "cell_type": "code",
   "execution_count": 27,
   "metadata": {},
   "outputs": [
    {
     "data": {
      "text/html": [
       "<div>\n",
       "<style scoped>\n",
       "    .dataframe tbody tr th:only-of-type {\n",
       "        vertical-align: middle;\n",
       "    }\n",
       "\n",
       "    .dataframe tbody tr th {\n",
       "        vertical-align: top;\n",
       "    }\n",
       "\n",
       "    .dataframe thead th {\n",
       "        text-align: right;\n",
       "    }\n",
       "</style>\n",
       "<table border=\"1\" class=\"dataframe\">\n",
       "  <thead>\n",
       "    <tr style=\"text-align: right;\">\n",
       "      <th></th>\n",
       "      <th>MES</th>\n",
       "      <th>HORA</th>\n",
       "      <th>DIASEMANA</th>\n",
       "      <th>PROVINCIA</th>\n",
       "      <th>COMUNIDAD_AUTONOMA</th>\n",
       "      <th>ISLA</th>\n",
       "      <th>TOT_VICTIMAS</th>\n",
       "      <th>TOT_VICTIMAS30D</th>\n",
       "      <th>TOT_MUERTOS</th>\n",
       "      <th>TOT_MUERTOS30D</th>\n",
       "      <th>...</th>\n",
       "      <th>PRIORIDAD</th>\n",
       "      <th>SUPERFICIE_CALZADA</th>\n",
       "      <th>LUMINOSIDAD</th>\n",
       "      <th>FACTORES_ATMOSFERICOS</th>\n",
       "      <th>VISIBILIDAD_RESTRINGIDA</th>\n",
       "      <th>OTRA_CIRCUNSTANCIA</th>\n",
       "      <th>ACERAS</th>\n",
       "      <th>TIPO_ACCIDENTE</th>\n",
       "      <th>DENSIDAD_CIRCULACION</th>\n",
       "      <th>MEDIDAS_ESPECIALES</th>\n",
       "    </tr>\n",
       "  </thead>\n",
       "  <tbody>\n",
       "    <tr>\n",
       "      <th>0</th>\n",
       "      <td>8</td>\n",
       "      <td>14.0</td>\n",
       "      <td>3</td>\n",
       "      <td>Bizkaia</td>\n",
       "      <td>País Vasco</td>\n",
       "      <td>NO_ES_ISLA</td>\n",
       "      <td>3</td>\n",
       "      <td>3</td>\n",
       "      <td>0</td>\n",
       "      <td>0.054104</td>\n",
       "      <td>...</td>\n",
       "      <td>NINGUNA (SOLO NORMA)</td>\n",
       "      <td>MOJADA</td>\n",
       "      <td>PLENO DÍA</td>\n",
       "      <td>LLUVIA FUERTE</td>\n",
       "      <td>FACTORES ATMOSFÉRICOS</td>\n",
       "      <td>OTRA</td>\n",
       "      <td>NO HAY ACERA</td>\n",
       "      <td>Colisión de vehículos en marcha (Frontal)</td>\n",
       "      <td>FLUIDA</td>\n",
       "      <td>NINGUNA MEDIDA</td>\n",
       "    </tr>\n",
       "    <tr>\n",
       "      <th>1</th>\n",
       "      <td>6</td>\n",
       "      <td>18.0</td>\n",
       "      <td>6</td>\n",
       "      <td>Bizkaia</td>\n",
       "      <td>País Vasco</td>\n",
       "      <td>NO_ES_ISLA</td>\n",
       "      <td>1</td>\n",
       "      <td>1</td>\n",
       "      <td>0</td>\n",
       "      <td>0.000000</td>\n",
       "      <td>...</td>\n",
       "      <td>SEMÁFORO</td>\n",
       "      <td>MOJADA</td>\n",
       "      <td>PLENO DÍA</td>\n",
       "      <td>LLOVIZNANDO</td>\n",
       "      <td>OTRA_CAUSA</td>\n",
       "      <td>NINGUNA</td>\n",
       "      <td>NO HAY ACERA</td>\n",
       "      <td>Colisión de vehículos en marcha (Alcance)</td>\n",
       "      <td>DENSA</td>\n",
       "      <td>NINGUNA MEDIDA</td>\n",
       "    </tr>\n",
       "    <tr>\n",
       "      <th>6</th>\n",
       "      <td>8</td>\n",
       "      <td>19.0</td>\n",
       "      <td>3</td>\n",
       "      <td>Barcelona</td>\n",
       "      <td>Cataluña</td>\n",
       "      <td>NO_ES_ISLA</td>\n",
       "      <td>2</td>\n",
       "      <td>2</td>\n",
       "      <td>0</td>\n",
       "      <td>0.000000</td>\n",
       "      <td>...</td>\n",
       "      <td>NaN</td>\n",
       "      <td>SECA Y LIMPIA</td>\n",
       "      <td>CREPÚSCULO</td>\n",
       "      <td>VIENTO FUERTE</td>\n",
       "      <td>NaN</td>\n",
       "      <td>NINGUNA</td>\n",
       "      <td>NO HAY ACERA</td>\n",
       "      <td>Colisión de vehículos en marcha (Alcance)</td>\n",
       "      <td>NaN</td>\n",
       "      <td>NINGUNA MEDIDA</td>\n",
       "    </tr>\n",
       "    <tr>\n",
       "      <th>9</th>\n",
       "      <td>8</td>\n",
       "      <td>16.0</td>\n",
       "      <td>6</td>\n",
       "      <td>Girona</td>\n",
       "      <td>Cataluña</td>\n",
       "      <td>NO_ES_ISLA</td>\n",
       "      <td>1</td>\n",
       "      <td>1</td>\n",
       "      <td>0</td>\n",
       "      <td>0.000000</td>\n",
       "      <td>...</td>\n",
       "      <td>NaN</td>\n",
       "      <td>SECA Y LIMPIA</td>\n",
       "      <td>PLENO DÍA</td>\n",
       "      <td>BUEN TIEMPO</td>\n",
       "      <td>NaN</td>\n",
       "      <td>NINGUNA</td>\n",
       "      <td>NO HAY ACERA</td>\n",
       "      <td>Colisión de vehículos en marcha (Múltiple o en...</td>\n",
       "      <td>NaN</td>\n",
       "      <td>NaN</td>\n",
       "    </tr>\n",
       "    <tr>\n",
       "      <th>11</th>\n",
       "      <td>9</td>\n",
       "      <td>12.0</td>\n",
       "      <td>1</td>\n",
       "      <td>Barcelona</td>\n",
       "      <td>Cataluña</td>\n",
       "      <td>NO_ES_ISLA</td>\n",
       "      <td>2</td>\n",
       "      <td>2</td>\n",
       "      <td>0</td>\n",
       "      <td>0.000000</td>\n",
       "      <td>...</td>\n",
       "      <td>NaN</td>\n",
       "      <td>SECA Y LIMPIA</td>\n",
       "      <td>PLENO DÍA</td>\n",
       "      <td>BUEN TIEMPO</td>\n",
       "      <td>NaN</td>\n",
       "      <td>NINGUNA</td>\n",
       "      <td>NO HAY ACERA</td>\n",
       "      <td>Colisión de vehículos en marcha (Lateral)</td>\n",
       "      <td>NaN</td>\n",
       "      <td>NaN</td>\n",
       "    </tr>\n",
       "  </tbody>\n",
       "</table>\n",
       "<p>5 rows × 32 columns</p>\n",
       "</div>"
      ],
      "text/plain": [
       "    MES  HORA  DIASEMANA  PROVINCIA COMUNIDAD_AUTONOMA        ISLA  \\\n",
       "0     8  14.0          3    Bizkaia         País Vasco  NO_ES_ISLA   \n",
       "1     6  18.0          6    Bizkaia         País Vasco  NO_ES_ISLA   \n",
       "6     8  19.0          3  Barcelona           Cataluña  NO_ES_ISLA   \n",
       "9     8  16.0          6     Girona           Cataluña  NO_ES_ISLA   \n",
       "11    9  12.0          1  Barcelona           Cataluña  NO_ES_ISLA   \n",
       "\n",
       "    TOT_VICTIMAS  TOT_VICTIMAS30D  TOT_MUERTOS  TOT_MUERTOS30D  ...  \\\n",
       "0              3                3            0        0.054104  ...   \n",
       "1              1                1            0        0.000000  ...   \n",
       "6              2                2            0        0.000000  ...   \n",
       "9              1                1            0        0.000000  ...   \n",
       "11             2                2            0        0.000000  ...   \n",
       "\n",
       "               PRIORIDAD  SUPERFICIE_CALZADA  LUMINOSIDAD  \\\n",
       "0   NINGUNA (SOLO NORMA)              MOJADA    PLENO DÍA   \n",
       "1               SEMÁFORO              MOJADA    PLENO DÍA   \n",
       "6                    NaN       SECA Y LIMPIA   CREPÚSCULO   \n",
       "9                    NaN       SECA Y LIMPIA    PLENO DÍA   \n",
       "11                   NaN       SECA Y LIMPIA    PLENO DÍA   \n",
       "\n",
       "    FACTORES_ATMOSFERICOS  VISIBILIDAD_RESTRINGIDA OTRA_CIRCUNSTANCIA  \\\n",
       "0           LLUVIA FUERTE    FACTORES ATMOSFÉRICOS               OTRA   \n",
       "1             LLOVIZNANDO               OTRA_CAUSA            NINGUNA   \n",
       "6           VIENTO FUERTE                      NaN            NINGUNA   \n",
       "9             BUEN TIEMPO                      NaN            NINGUNA   \n",
       "11            BUEN TIEMPO                      NaN            NINGUNA   \n",
       "\n",
       "          ACERAS                                     TIPO_ACCIDENTE  \\\n",
       "0   NO HAY ACERA          Colisión de vehículos en marcha (Frontal)   \n",
       "1   NO HAY ACERA          Colisión de vehículos en marcha (Alcance)   \n",
       "6   NO HAY ACERA          Colisión de vehículos en marcha (Alcance)   \n",
       "9   NO HAY ACERA  Colisión de vehículos en marcha (Múltiple o en...   \n",
       "11  NO HAY ACERA          Colisión de vehículos en marcha (Lateral)   \n",
       "\n",
       "   DENSIDAD_CIRCULACION MEDIDAS_ESPECIALES  \n",
       "0                FLUIDA     NINGUNA MEDIDA  \n",
       "1                 DENSA     NINGUNA MEDIDA  \n",
       "6                   NaN     NINGUNA MEDIDA  \n",
       "9                   NaN                NaN  \n",
       "11                  NaN                NaN  \n",
       "\n",
       "[5 rows x 32 columns]"
      ]
     },
     "execution_count": 27,
     "metadata": {},
     "output_type": "execute_result"
    }
   ],
   "source": [
    "# Seleccionamos los datos con los que trabajaremos\n",
    "caso2 = datos[(datos.MES == 6) | (datos.MES == 7) | (datos.MES == 8) | (datos.MES == 9)]\n",
    "caso2.head()"
   ]
  },
  {
   "cell_type": "code",
   "execution_count": 28,
   "metadata": {},
   "outputs": [],
   "source": [
    "# Los atributos a considerar son:\n",
    "atributos = ['TOT_VICTIMAS', 'TOT_MUERTOS', 'TOT_HERIDOS_GRAVES', 'TOT_HERIDOS_LEVES', 'TOT_VEHICULOS_IMPLICADOS']"
   ]
  },
  {
   "cell_type": "code",
   "execution_count": 29,
   "metadata": {},
   "outputs": [
    {
     "name": "stdout",
     "output_type": "stream",
     "text": [
      "<class 'pandas.core.frame.DataFrame'>\n",
      "Int64Index: 30580 entries, 0 to 89514\n",
      "Data columns (total 5 columns):\n",
      " #   Column                    Non-Null Count  Dtype\n",
      "---  ------                    --------------  -----\n",
      " 0   TOT_VICTIMAS              30580 non-null  int64\n",
      " 1   TOT_MUERTOS               30580 non-null  int64\n",
      " 2   TOT_HERIDOS_GRAVES        30580 non-null  int64\n",
      " 3   TOT_HERIDOS_LEVES         30580 non-null  int64\n",
      " 4   TOT_VEHICULOS_IMPLICADOS  30580 non-null  int64\n",
      "dtypes: int64(5)\n",
      "memory usage: 1.4 MB\n"
     ]
    }
   ],
   "source": [
    "# Creamos la matriz con los atributos considerados. No hay valores nulos.\n",
    "caso2 = caso2[atributos]\n",
    "caso2.info()"
   ]
  },
  {
   "cell_type": "markdown",
   "metadata": {},
   "source": [
    "### Normalización de los datos"
   ]
  },
  {
   "cell_type": "code",
   "execution_count": 30,
   "metadata": {},
   "outputs": [
    {
     "data": {
      "text/plain": [
       "array([[0.03921569, 0.        , 0.3       , 0.        , 0.22222222],\n",
       "       [0.        , 0.        , 0.        , 0.0212766 , 0.33333333],\n",
       "       [0.01960784, 0.        , 0.        , 0.04255319, 0.22222222],\n",
       "       [0.        , 0.        , 0.        , 0.0212766 , 0.33333333],\n",
       "       [0.01960784, 0.        , 0.        , 0.04255319, 0.22222222]])"
      ]
     },
     "execution_count": 30,
     "metadata": {},
     "output_type": "execute_result"
    }
   ],
   "source": [
    "# Le aplicamos normalización a los datos\n",
    "scaler = MinMaxScaler()\n",
    "caso2_norm = scaler.fit_transform(caso2)\n",
    "caso2_norm[:5]"
   ]
  },
  {
   "cell_type": "markdown",
   "metadata": {},
   "source": [
    "### Algoritmos de clustering"
   ]
  },
  {
   "cell_type": "markdown",
   "metadata": {},
   "source": [
    "#### K-Means"
   ]
  },
  {
   "cell_type": "code",
   "execution_count": 34,
   "metadata": {},
   "outputs": [],
   "source": [
    "# Vectores con los valores de las métricas\n",
    "s = []\n",
    "c = []\n",
    "\n",
    "for i in range(2,15):\n",
    "    results = KMeans(n_clusters=i, random_state=0).fit(caso2_norm)\n",
    "    silhouette, calinski = measures_silhoutte_calinski(caso2_norm, results.labels_)\n",
    "    s.append(silhouette)\n",
    "    c.append(calinski)"
   ]
  },
  {
   "cell_type": "code",
   "execution_count": 35,
   "metadata": {},
   "outputs": [
    {
     "data": {
      "image/png": "[encoded data removed]",
      "text/plain": [
       "<Figure size 432x288 with 1 Axes>"
      ]
     },
     "metadata": {
      "needs_background": "light"
     },
     "output_type": "display_data"
    }
   ],
   "source": [
    "grafica(range(2,15), s, 'Silhouette de K-Means para cada número de clusters', 'Nº de clusters', 'Silhouette')"
   ]
  },
  {
   "cell_type": "code",
   "execution_count": 36,
   "metadata": {},
   "outputs": [
    {
     "data": {
      "image/png": "[encoded data removed]",
      "text/plain": [
       "<Figure size 432x288 with 1 Axes>"
      ]
     },
     "metadata": {
      "needs_background": "light"
     },
     "output_type": "display_data"
    }
   ],
   "source": [
    "grafica(range(2,15), c, 'Calinski-Harabasz de K-Means para cada número de clusters', 'Nº de clusters', 'Calinski-Harabasz')"
   ]
  },
  {
   "cell_type": "code",
   "execution_count": 37,
   "metadata": {},
   "outputs": [
    {
     "name": "stdout",
     "output_type": "stream",
     "text": [
      "Silhouette: \n",
      "[0.6420431124021558, 0.6862249142272087, 0.7354111890905589, 0.7847491954920559, 0.7991431130901165, 0.791398470344001, 0.8087467631347481, 0.8204679027395508, 0.852476293804462, 0.8519611125582583, 0.8530502926582869, 0.8607566467006114, 0.8803947959481695]\n",
      "\n",
      "Calinski-Harabasz: \n",
      "[27462.369314689648, 28244.78011059668, 27976.629002373404, 28797.329233325265, 29615.18214167696, 29693.77002508316, 30064.335054597334, 29938.288986514963, 30104.648178326297, 30200.559006512103, 31473.276979640512, 32454.719546274482, 32908.32190346406]\n"
     ]
    }
   ],
   "source": [
    "print(\"Silhouette: \\n\" + str(s))\n",
    "print()\n",
    "print(\"Calinski-Harabasz: \\n\" + str(c))"
   ]
  },
  {
   "cell_type": "code",
   "execution_count": 43,
   "metadata": {},
   "outputs": [
    {
     "data": {
      "image/png": "[encoded data removed]",
      "text/plain": [
       "<Figure size 432x288 with 1 Axes>"
      ]
     },
     "metadata": {
      "needs_background": "light"
     },
     "output_type": "display_data"
    }
   ],
   "source": [
    "results5 = KMeans(n_clusters=5, random_state=0).fit(caso2_norm)\n",
    "\n",
    "# Número de elementos por cluster\n",
    "m = [0 for i in range(5)]\n",
    "\n",
    "for i in range(len(caso1)):\n",
    "    m[results5.labels_[i]]+=1\n",
    "    \n",
    "graf_barras(range(5), m, \"Nº de elementos por cluster\",\"Nº de cluster\",\"Nº de elementos\")"
   ]
  },
  {
   "cell_type": "code",
   "execution_count": 44,
   "metadata": {},
   "outputs": [
    {
     "data": {
      "image/png": "[encoded data removed]",
      "text/plain": [
       "<Figure size 432x288 with 1 Axes>"
      ]
     },
     "metadata": {
      "needs_background": "light"
     },
     "output_type": "display_data"
    }
   ],
   "source": [
    "results13 = KMeans(n_clusters=13, random_state=0).fit(caso2_norm)\n",
    "\n",
    "# Número de elementos por cluster\n",
    "m = [0 for i in range(13)]\n",
    "\n",
    "for i in range(len(caso1)):\n",
    "    m[results13.labels_[i]]+=1\n",
    "    \n",
    "graf_barras(range(13), m, \"Nº de elementos por cluster\",\"Nº de cluster\",\"Nº de elementos\")"
   ]
  },
  {
   "cell_type": "markdown",
   "metadata": {},
   "source": [
    "Elegimos usar --- clusters."
   ]
  },
  {
   "cell_type": "code",
   "execution_count": 42,
   "metadata": {},
   "outputs": [
    {
     "ename": "ValueError",
     "evalue": "Found input variables with inconsistent numbers of samples: [30580, 1448]",
     "output_type": "error",
     "traceback": [
      "\u001b[0;31m---------------------------------------------------------------------------\u001b[0m",
      "\u001b[0;31mValueError\u001b[0m                                Traceback (most recent call last)",
      "\u001b[0;32m<ipython-input-42-41ce56db7091>\u001b[0m in \u001b[0;36m<module>\u001b[0;34m\u001b[0m\n\u001b[1;32m      1\u001b[0m \u001b[0;31m# Métricas del modelo\u001b[0m\u001b[0;34m\u001b[0m\u001b[0;34m\u001b[0m\u001b[0;34m\u001b[0m\u001b[0m\n\u001b[0;32m----> 2\u001b[0;31m \u001b[0msilhouette\u001b[0m\u001b[0;34m,\u001b[0m \u001b[0mcalinski\u001b[0m \u001b[0;34m=\u001b[0m \u001b[0mmeasures_silhoutte_calinski\u001b[0m\u001b[0;34m(\u001b[0m\u001b[0mcaso2_norm\u001b[0m\u001b[0;34m,\u001b[0m \u001b[0mresults5\u001b[0m\u001b[0;34m.\u001b[0m\u001b[0mlabels_\u001b[0m\u001b[0;34m)\u001b[0m\u001b[0;34m\u001b[0m\u001b[0;34m\u001b[0m\u001b[0m\n\u001b[0m\u001b[1;32m      3\u001b[0m \u001b[0;34m\u001b[0m\u001b[0m\n\u001b[1;32m      4\u001b[0m \u001b[0mprint\u001b[0m\u001b[0;34m(\u001b[0m\u001b[0;34m\"silhouette: {:3f}\"\u001b[0m\u001b[0;34m.\u001b[0m\u001b[0mformat\u001b[0m\u001b[0;34m(\u001b[0m\u001b[0msilhouette\u001b[0m\u001b[0;34m)\u001b[0m\u001b[0;34m)\u001b[0m\u001b[0;34m\u001b[0m\u001b[0;34m\u001b[0m\u001b[0m\n\u001b[1;32m      5\u001b[0m \u001b[0mprint\u001b[0m\u001b[0;34m(\u001b[0m\u001b[0;34m\"calinsky: {:3f}\"\u001b[0m\u001b[0;34m.\u001b[0m\u001b[0mformat\u001b[0m\u001b[0;34m(\u001b[0m\u001b[0mcalinski\u001b[0m\u001b[0;34m)\u001b[0m\u001b[0;34m)\u001b[0m\u001b[0;34m\u001b[0m\u001b[0;34m\u001b[0m\u001b[0m\n",
      "\u001b[0;32m~/Escritorio/Universidad/5º/IN/Practicas/IN/P2/pract2_utils.py\u001b[0m in \u001b[0;36mmeasures_silhoutte_calinski\u001b[0;34m(data, labels)\u001b[0m\n\u001b[1;32m     24\u001b[0m     \u001b[0;31m# Hacemos una muestra de sólo el 20% porque son muchos elementos\u001b[0m\u001b[0;34m\u001b[0m\u001b[0;34m\u001b[0m\u001b[0;34m\u001b[0m\u001b[0m\n\u001b[1;32m     25\u001b[0m     \u001b[0mmuestra_silhoutte\u001b[0m \u001b[0;34m=\u001b[0m \u001b[0;36m0.2\u001b[0m \u001b[0;32mif\u001b[0m \u001b[0;34m(\u001b[0m\u001b[0mlen\u001b[0m\u001b[0;34m(\u001b[0m\u001b[0mdata\u001b[0m\u001b[0;34m)\u001b[0m \u001b[0;34m>\u001b[0m \u001b[0;36m10000\u001b[0m\u001b[0;34m)\u001b[0m \u001b[0;32melse\u001b[0m \u001b[0;36m1.0\u001b[0m\u001b[0;34m\u001b[0m\u001b[0;34m\u001b[0m\u001b[0m\n\u001b[0;32m---> 26\u001b[0;31m     \u001b[0msilhouette\u001b[0m \u001b[0;34m=\u001b[0m \u001b[0msilhouette_score\u001b[0m\u001b[0;34m(\u001b[0m\u001b[0mdata\u001b[0m\u001b[0;34m,\u001b[0m \u001b[0mlabels\u001b[0m\u001b[0;34m,\u001b[0m \u001b[0mmetric\u001b[0m\u001b[0;34m=\u001b[0m\u001b[0;34m'euclidean'\u001b[0m\u001b[0;34m,\u001b[0m \u001b[0msample_size\u001b[0m\u001b[0;34m=\u001b[0m\u001b[0mint\u001b[0m\u001b[0;34m(\u001b[0m\u001b[0mfloor\u001b[0m\u001b[0;34m(\u001b[0m\u001b[0mdata\u001b[0m\u001b[0;34m.\u001b[0m\u001b[0mshape\u001b[0m\u001b[0;34m[\u001b[0m\u001b[0;36m0\u001b[0m\u001b[0;34m]\u001b[0m\u001b[0;34m*\u001b[0m\u001b[0mmuestra_silhoutte\u001b[0m\u001b[0;34m)\u001b[0m\u001b[0;34m)\u001b[0m\u001b[0;34m)\u001b[0m\u001b[0;34m\u001b[0m\u001b[0;34m\u001b[0m\u001b[0m\n\u001b[0m\u001b[1;32m     27\u001b[0m     \u001b[0mcalinski\u001b[0m \u001b[0;34m=\u001b[0m \u001b[0mcalinski_harabasz_score\u001b[0m\u001b[0;34m(\u001b[0m\u001b[0mdata\u001b[0m\u001b[0;34m,\u001b[0m \u001b[0mlabels\u001b[0m\u001b[0;34m)\u001b[0m\u001b[0;34m\u001b[0m\u001b[0;34m\u001b[0m\u001b[0m\n\u001b[1;32m     28\u001b[0m     \u001b[0;32mreturn\u001b[0m \u001b[0msilhouette\u001b[0m\u001b[0;34m,\u001b[0m \u001b[0mcalinski\u001b[0m\u001b[0;34m\u001b[0m\u001b[0;34m\u001b[0m\u001b[0m\n",
      "\u001b[0;32m~/.local/lib/python3.8/site-packages/sklearn/utils/validation.py\u001b[0m in \u001b[0;36minner_f\u001b[0;34m(*args, **kwargs)\u001b[0m\n\u001b[1;32m     70\u001b[0m                           FutureWarning)\n\u001b[1;32m     71\u001b[0m         \u001b[0mkwargs\u001b[0m\u001b[0;34m.\u001b[0m\u001b[0mupdate\u001b[0m\u001b[0;34m(\u001b[0m\u001b[0;34m{\u001b[0m\u001b[0mk\u001b[0m\u001b[0;34m:\u001b[0m \u001b[0marg\u001b[0m \u001b[0;32mfor\u001b[0m \u001b[0mk\u001b[0m\u001b[0;34m,\u001b[0m \u001b[0marg\u001b[0m \u001b[0;32min\u001b[0m \u001b[0mzip\u001b[0m\u001b[0;34m(\u001b[0m\u001b[0msig\u001b[0m\u001b[0;34m.\u001b[0m\u001b[0mparameters\u001b[0m\u001b[0;34m,\u001b[0m \u001b[0margs\u001b[0m\u001b[0;34m)\u001b[0m\u001b[0;34m}\u001b[0m\u001b[0;34m)\u001b[0m\u001b[0;34m\u001b[0m\u001b[0;34m\u001b[0m\u001b[0m\n\u001b[0;32m---> 72\u001b[0;31m         \u001b[0;32mreturn\u001b[0m \u001b[0mf\u001b[0m\u001b[0;34m(\u001b[0m\u001b[0;34m**\u001b[0m\u001b[0mkwargs\u001b[0m\u001b[0;34m)\u001b[0m\u001b[0;34m\u001b[0m\u001b[0;34m\u001b[0m\u001b[0m\n\u001b[0m\u001b[1;32m     73\u001b[0m     \u001b[0;32mreturn\u001b[0m \u001b[0minner_f\u001b[0m\u001b[0;34m\u001b[0m\u001b[0;34m\u001b[0m\u001b[0m\n\u001b[1;32m     74\u001b[0m \u001b[0;34m\u001b[0m\u001b[0m\n",
      "\u001b[0;32m~/.local/lib/python3.8/site-packages/sklearn/metrics/cluster/_unsupervised.py\u001b[0m in \u001b[0;36msilhouette_score\u001b[0;34m(X, labels, metric, sample_size, random_state, **kwds)\u001b[0m\n\u001b[1;32m    108\u001b[0m     \"\"\"\n\u001b[1;32m    109\u001b[0m     \u001b[0;32mif\u001b[0m \u001b[0msample_size\u001b[0m \u001b[0;32mis\u001b[0m \u001b[0;32mnot\u001b[0m \u001b[0;32mNone\u001b[0m\u001b[0;34m:\u001b[0m\u001b[0;34m\u001b[0m\u001b[0;34m\u001b[0m\u001b[0m\n\u001b[0;32m--> 110\u001b[0;31m         \u001b[0mX\u001b[0m\u001b[0;34m,\u001b[0m \u001b[0mlabels\u001b[0m \u001b[0;34m=\u001b[0m \u001b[0mcheck_X_y\u001b[0m\u001b[0;34m(\u001b[0m\u001b[0mX\u001b[0m\u001b[0;34m,\u001b[0m \u001b[0mlabels\u001b[0m\u001b[0;34m,\u001b[0m \u001b[0maccept_sparse\u001b[0m\u001b[0;34m=\u001b[0m\u001b[0;34m[\u001b[0m\u001b[0;34m'csc'\u001b[0m\u001b[0;34m,\u001b[0m \u001b[0;34m'csr'\u001b[0m\u001b[0;34m]\u001b[0m\u001b[0;34m)\u001b[0m\u001b[0;34m\u001b[0m\u001b[0;34m\u001b[0m\u001b[0m\n\u001b[0m\u001b[1;32m    111\u001b[0m         \u001b[0mrandom_state\u001b[0m \u001b[0;34m=\u001b[0m \u001b[0mcheck_random_state\u001b[0m\u001b[0;34m(\u001b[0m\u001b[0mrandom_state\u001b[0m\u001b[0;34m)\u001b[0m\u001b[0;34m\u001b[0m\u001b[0;34m\u001b[0m\u001b[0m\n\u001b[1;32m    112\u001b[0m         \u001b[0mindices\u001b[0m \u001b[0;34m=\u001b[0m \u001b[0mrandom_state\u001b[0m\u001b[0;34m.\u001b[0m\u001b[0mpermutation\u001b[0m\u001b[0;34m(\u001b[0m\u001b[0mX\u001b[0m\u001b[0;34m.\u001b[0m\u001b[0mshape\u001b[0m\u001b[0;34m[\u001b[0m\u001b[0;36m0\u001b[0m\u001b[0;34m]\u001b[0m\u001b[0;34m)\u001b[0m\u001b[0;34m[\u001b[0m\u001b[0;34m:\u001b[0m\u001b[0msample_size\u001b[0m\u001b[0;34m]\u001b[0m\u001b[0;34m\u001b[0m\u001b[0;34m\u001b[0m\u001b[0m\n",
      "\u001b[0;32m~/.local/lib/python3.8/site-packages/sklearn/utils/validation.py\u001b[0m in \u001b[0;36minner_f\u001b[0;34m(*args, **kwargs)\u001b[0m\n\u001b[1;32m     70\u001b[0m                           FutureWarning)\n\u001b[1;32m     71\u001b[0m         \u001b[0mkwargs\u001b[0m\u001b[0;34m.\u001b[0m\u001b[0mupdate\u001b[0m\u001b[0;34m(\u001b[0m\u001b[0;34m{\u001b[0m\u001b[0mk\u001b[0m\u001b[0;34m:\u001b[0m \u001b[0marg\u001b[0m \u001b[0;32mfor\u001b[0m \u001b[0mk\u001b[0m\u001b[0;34m,\u001b[0m \u001b[0marg\u001b[0m \u001b[0;32min\u001b[0m \u001b[0mzip\u001b[0m\u001b[0;34m(\u001b[0m\u001b[0msig\u001b[0m\u001b[0;34m.\u001b[0m\u001b[0mparameters\u001b[0m\u001b[0;34m,\u001b[0m \u001b[0margs\u001b[0m\u001b[0;34m)\u001b[0m\u001b[0;34m}\u001b[0m\u001b[0;34m)\u001b[0m\u001b[0;34m\u001b[0m\u001b[0;34m\u001b[0m\u001b[0m\n\u001b[0;32m---> 72\u001b[0;31m         \u001b[0;32mreturn\u001b[0m \u001b[0mf\u001b[0m\u001b[0;34m(\u001b[0m\u001b[0;34m**\u001b[0m\u001b[0mkwargs\u001b[0m\u001b[0;34m)\u001b[0m\u001b[0;34m\u001b[0m\u001b[0;34m\u001b[0m\u001b[0m\n\u001b[0m\u001b[1;32m     73\u001b[0m     \u001b[0;32mreturn\u001b[0m \u001b[0minner_f\u001b[0m\u001b[0;34m\u001b[0m\u001b[0;34m\u001b[0m\u001b[0m\n\u001b[1;32m     74\u001b[0m \u001b[0;34m\u001b[0m\u001b[0m\n",
      "\u001b[0;32m~/.local/lib/python3.8/site-packages/sklearn/utils/validation.py\u001b[0m in \u001b[0;36mcheck_X_y\u001b[0;34m(X, y, accept_sparse, accept_large_sparse, dtype, order, copy, force_all_finite, ensure_2d, allow_nd, multi_output, ensure_min_samples, ensure_min_features, y_numeric, estimator)\u001b[0m\n\u001b[1;32m    810\u001b[0m         \u001b[0my\u001b[0m \u001b[0;34m=\u001b[0m \u001b[0my\u001b[0m\u001b[0;34m.\u001b[0m\u001b[0mastype\u001b[0m\u001b[0;34m(\u001b[0m\u001b[0mnp\u001b[0m\u001b[0;34m.\u001b[0m\u001b[0mfloat64\u001b[0m\u001b[0;34m)\u001b[0m\u001b[0;34m\u001b[0m\u001b[0;34m\u001b[0m\u001b[0m\n\u001b[1;32m    811\u001b[0m \u001b[0;34m\u001b[0m\u001b[0m\n\u001b[0;32m--> 812\u001b[0;31m     \u001b[0mcheck_consistent_length\u001b[0m\u001b[0;34m(\u001b[0m\u001b[0mX\u001b[0m\u001b[0;34m,\u001b[0m \u001b[0my\u001b[0m\u001b[0;34m)\u001b[0m\u001b[0;34m\u001b[0m\u001b[0;34m\u001b[0m\u001b[0m\n\u001b[0m\u001b[1;32m    813\u001b[0m \u001b[0;34m\u001b[0m\u001b[0m\n\u001b[1;32m    814\u001b[0m     \u001b[0;32mreturn\u001b[0m \u001b[0mX\u001b[0m\u001b[0;34m,\u001b[0m \u001b[0my\u001b[0m\u001b[0;34m\u001b[0m\u001b[0;34m\u001b[0m\u001b[0m\n",
      "\u001b[0;32m~/.local/lib/python3.8/site-packages/sklearn/utils/validation.py\u001b[0m in \u001b[0;36mcheck_consistent_length\u001b[0;34m(*arrays)\u001b[0m\n\u001b[1;32m    253\u001b[0m     \u001b[0muniques\u001b[0m \u001b[0;34m=\u001b[0m \u001b[0mnp\u001b[0m\u001b[0;34m.\u001b[0m\u001b[0munique\u001b[0m\u001b[0;34m(\u001b[0m\u001b[0mlengths\u001b[0m\u001b[0;34m)\u001b[0m\u001b[0;34m\u001b[0m\u001b[0;34m\u001b[0m\u001b[0m\n\u001b[1;32m    254\u001b[0m     \u001b[0;32mif\u001b[0m \u001b[0mlen\u001b[0m\u001b[0;34m(\u001b[0m\u001b[0muniques\u001b[0m\u001b[0;34m)\u001b[0m \u001b[0;34m>\u001b[0m \u001b[0;36m1\u001b[0m\u001b[0;34m:\u001b[0m\u001b[0;34m\u001b[0m\u001b[0;34m\u001b[0m\u001b[0m\n\u001b[0;32m--> 255\u001b[0;31m         raise ValueError(\"Found input variables with inconsistent numbers of\"\n\u001b[0m\u001b[1;32m    256\u001b[0m                          \" samples: %r\" % [int(l) for l in lengths])\n\u001b[1;32m    257\u001b[0m \u001b[0;34m\u001b[0m\u001b[0m\n",
      "\u001b[0;31mValueError\u001b[0m: Found input variables with inconsistent numbers of samples: [30580, 1448]"
     ]
    }
   ],
   "source": [
    "# Métricas del modelo\n",
    "silhouette, calinski = measures_silhoutte_calinski(caso2_norm, results5.labels_)\n",
    "\n",
    "print(\"silhouette: {:3f}\".format(silhouette))\n",
    "print(\"calinsky: {:3f}\".format(calinski))"
   ]
  },
  {
   "cell_type": "code",
   "execution_count": 41,
   "metadata": {},
   "outputs": [
    {
     "data": {
      "text/plain": [
       "<matplotlib.axes._subplots.AxesSubplot at 0x7fa0b4951280>"
      ]
     },
     "execution_count": 41,
     "metadata": {},
     "output_type": "execute_result"
    },
    {
     "data": {
      "image/png": "[encoded data removed]",
      "text/plain": [
       "<Figure size 432x288 with 2 Axes>"
      ]
     },
     "metadata": {
      "needs_background": "light"
     },
     "output_type": "display_data"
    }
   ],
   "source": [
    "centroids = results5.cluster_centers_\n",
    "visualize_centroids(centroids, caso1_norm, atributos)"
   ]
  },
  {
   "cell_type": "code",
   "execution_count": null,
   "metadata": {},
   "outputs": [],
   "source": [
    "atributos = ['TOT_VICTIMAS', 'TOT_MUERTOS', 'TOT_HERIDOS_GRAVES', 'TOT_HERIDOS_LEVES', 'TOT_VEHICULOS_IMPLICADOS']\n",
    "print(Counter(caso1['TOT_VICTIMAS']))\n",
    "print(Counter(caso1['TOT_MUERTOS']))\n",
    "print(Counter(caso1['TOT_HERIDOS_GRAVES']))\n",
    "print(Counter(caso1['TOT_HERIDOS_LEVES']))\n",
    "print(Counter(caso1['TOT_VEHICULOS_IMPLICADOS']))"
   ]
  },
  {
   "cell_type": "code",
   "execution_count": null,
   "metadata": {},
   "outputs": [],
   "source": [
    "# pairplot(caso1, atributos, results5.labels_)"
   ]
  },
  {
   "cell_type": "code",
   "execution_count": null,
   "metadata": {},
   "outputs": [],
   "source": [
    "# Creamos una estructura con los datos y el cluster al que pertenece cada instancia\n",
    "datos_bp = pd.DataFrame(caso1)\n",
    "datos_bp['Cluster'] = results5.labels_\n",
    "datos_bp.head()"
   ]
  },
  {
   "cell_type": "code",
   "execution_count": null,
   "metadata": {},
   "outputs": [],
   "source": [
    "sns.boxplot(data=datos_bp, y='TOT_VICTIMAS', x='Cluster')"
   ]
  },
  {
   "cell_type": "code",
   "execution_count": null,
   "metadata": {},
   "outputs": [],
   "source": [
    "sns.boxplot(data=datos_bp, y='TOT_MUERTOS', x='Cluster')"
   ]
  },
  {
   "cell_type": "code",
   "execution_count": null,
   "metadata": {},
   "outputs": [],
   "source": [
    "sns.boxplot(data=datos_bp, y='TOT_HERIDOS_GRAVES', x='Cluster')"
   ]
  },
  {
   "cell_type": "code",
   "execution_count": null,
   "metadata": {},
   "outputs": [],
   "source": [
    "sns.boxplot(data=datos_bp, y='TOT_HERIDOS_LEVES', x='Cluster')"
   ]
  },
  {
   "cell_type": "code",
   "execution_count": null,
   "metadata": {},
   "outputs": [],
   "source": [
    "sns.boxplot(data=datos_bp, y='TOT_VEHICULOS_IMPLICADOS', x='Cluster')"
   ]
  },
  {
   "cell_type": "code",
   "execution_count": null,
   "metadata": {},
   "outputs": [],
   "source": []
  },
  {
   "cell_type": "code",
   "execution_count": null,
   "metadata": {},
   "outputs": [],
   "source": []
  },
  {
   "cell_type": "code",
   "execution_count": null,
   "metadata": {},
   "outputs": [],
   "source": []
  },
  {
   "cell_type": "code",
   "execution_count": null,
   "metadata": {},
   "outputs": [],
   "source": []
  }
 ],
 "metadata": {
  "kernelspec": {
   "display_name": "Python 3",
   "language": "python",
   "name": "python3"
  },
  "language_info": {
   "codemirror_mode": {
    "name": "ipython",
    "version": 3
   },
   "file_extension": ".py",
   "mimetype": "text/x-python",
   "name": "python",
   "nbconvert_exporter": "python",
   "pygments_lexer": "ipython3",
   "version": "3.8.5"
  }
 },
 "nbformat": 4,
 "nbformat_minor": 4
}
