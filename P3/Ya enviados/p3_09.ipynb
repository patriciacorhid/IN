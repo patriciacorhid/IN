{
 "cells": [
  {
   "cell_type": "markdown",
   "metadata": {},
   "source": [
    "# Práctica 3: Novena prueba"
   ]
  },
  {
   "cell_type": "markdown",
   "metadata": {},
   "source": [
    "Importamos las librerías necesarias."
   ]
  },
  {
   "cell_type": "code",
   "execution_count": 1,
   "metadata": {},
   "outputs": [],
   "source": [
    "from collections import Counter\n",
    "import pandas as pd\n",
    "import numpy as np\n",
    "from sklearn import preprocessing\n",
    "from sklearn.preprocessing import MinMaxScaler\n",
    "\n",
    "from matplotlib import pyplot as plt\n",
    "\n",
    "from sklearn.ensemble import GradientBoostingClassifier\n",
    "from sklearn.ensemble import StackingClassifier\n",
    "from sklearn.ensemble import RandomForestClassifier\n",
    "from sklearn.neural_network import MLPClassifier\n",
    "from sklearn.linear_model import LogisticRegression\n",
    "\n",
    "import xgboost as xgb\n",
    "import lightgbm as lgbm\n",
    "\n",
    "from sklearn.preprocessing import OneHotEncoder\n",
    "from sklearn.model_selection import cross_val_score\n",
    "\n",
    "from imblearn.over_sampling import SMOTE"
   ]
  },
  {
   "cell_type": "markdown",
   "metadata": {},
   "source": [
    "### Funciones auxiliares"
   ]
  },
  {
   "cell_type": "code",
   "execution_count": 2,
   "metadata": {},
   "outputs": [],
   "source": [
    "def grafica(data, label, title, xlab, ylab):\n",
    "    plt.plot(data,label, c='b')\n",
    "    plt.title(title)\n",
    "    plt.xlabel(xlab)\n",
    "    plt.ylabel(ylab)\n",
    "\n",
    "    plt.show()\n",
    "\n",
    "def graf_barras(data, label, title, xlab, ylab):\n",
    "    fig, ax = plt.subplots()\n",
    "    ax.bar(data, label, color='c')\n",
    "    ax.set_title(title)\n",
    "    ax.set_xlabel(xlab)\n",
    "    ax.set_ylabel(ylab)"
   ]
  },
  {
   "cell_type": "markdown",
   "metadata": {},
   "source": [
    "## Lectura de datos"
   ]
  },
  {
   "cell_type": "markdown",
   "metadata": {},
   "source": [
    "Leemos los datos:"
   ]
  },
  {
   "cell_type": "code",
   "execution_count": 3,
   "metadata": {},
   "outputs": [],
   "source": [
    "datos = pd.read_csv(\"datos/train.csv\", na_values=[\"?\"])\n",
    "test = pd.read_csv(\"datos/test.csv\", na_values=[\"?\"])\n",
    "\n",
    "year = pd.read_csv(\"datos/ao.csv\", na_values=[\"?\"])\n",
    "asientos = pd.read_csv(\"datos/asientos.csv\", na_values=[\"?\"])\n",
    "ciudad = pd.read_csv(\"datos/ciudad.csv\", na_values=[\"?\"])\n",
    "combustible = pd.read_csv(\"datos/combustible.csv\", na_values=[\"?\"])\n",
    "consumo = pd.read_csv(\"datos/consumo.csv\", na_values=[\"?\"])\n",
    "descuento = pd.read_csv(\"datos/descuento.csv\", na_values=[\"?\"])\n",
    "kilometros = pd.read_csv(\"datos/kilometros.csv\", na_values=[\"?\"])\n",
    "mano = pd.read_csv(\"datos/mano.csv\", na_values=[\"?\"])\n",
    "motor_cc = pd.read_csv(\"datos/motor_cc.csv\", na_values=[\"?\"])\n",
    "nombre = pd.read_csv(\"datos/nombre.csv\", na_values=[\"?\"])\n",
    "potencia = pd.read_csv(\"datos/potencia.csv\", na_values=[\"?\"])\n",
    "precio_cat = pd.read_csv(\"datos/precio_cat.csv\", na_values=[\"?\"])\n",
    "tipo_marchas = pd.read_csv(\"datos/tipo_marchas.csv\", na_values=[\"?\"])"
   ]
  },
  {
   "cell_type": "markdown",
   "metadata": {},
   "source": [
    "## Preprocesamiento"
   ]
  },
  {
   "cell_type": "markdown",
   "metadata": {},
   "source": [
    "### Tratamiento de datos perdidos"
   ]
  },
  {
   "cell_type": "markdown",
   "metadata": {},
   "source": [
    "Eliminamos la variable Descuento, que tiene muchos datos perdidos. Reindexamos y eliminamos la variable recien creada index. Eliminamos el resto de datos con valores perdidos."
   ]
  },
  {
   "cell_type": "code",
   "execution_count": 4,
   "metadata": {
    "scrolled": false
   },
   "outputs": [
    {
     "name": "stdout",
     "output_type": "stream",
     "text": [
      "<class 'pandas.core.frame.DataFrame'>\n",
      "RangeIndex: 3946 entries, 0 to 3945\n",
      "Data columns (total 13 columns):\n",
      " #   Column        Non-Null Count  Dtype  \n",
      "---  ------        --------------  -----  \n",
      " 0   id            3946 non-null   float64\n",
      " 1   Nombre        3946 non-null   object \n",
      " 2   Ciudad        3946 non-null   object \n",
      " 3   Año           3946 non-null   float64\n",
      " 4   Kilometros    3946 non-null   float64\n",
      " 5   Combustible   3946 non-null   object \n",
      " 6   Tipo_marchas  3946 non-null   object \n",
      " 7   Mano          3946 non-null   object \n",
      " 8   Consumo       3946 non-null   object \n",
      " 9   Motor_CC      3946 non-null   object \n",
      " 10  Potencia      3946 non-null   object \n",
      " 11  Asientos      3946 non-null   float64\n",
      " 12  Precio_cat    3946 non-null   int64  \n",
      "dtypes: float64(4), int64(1), object(8)\n",
      "memory usage: 400.9+ KB\n"
     ]
    }
   ],
   "source": [
    "p2_datos = datos.copy()\n",
    "del(p2_datos['Descuento'])\n",
    "p2_datos = p2_datos.dropna()\n",
    "p2_datos = p2_datos.reset_index()\n",
    "del(p2_datos['index'])\n",
    "p2_datos.info()"
   ]
  },
  {
   "cell_type": "markdown",
   "metadata": {},
   "source": [
    "## Paso de nombres a marcas"
   ]
  },
  {
   "cell_type": "code",
   "execution_count": 5,
   "metadata": {},
   "outputs": [],
   "source": [
    "for i in range(len(nombre)):\n",
    "    nombre[\"Nombre\"].iloc[i] = nombre[\"Nombre\"].iloc[i].split(' ')[0]"
   ]
  },
  {
   "cell_type": "code",
   "execution_count": 6,
   "metadata": {},
   "outputs": [
    {
     "name": "stderr",
     "output_type": "stream",
     "text": [
      "/home/patricia/.local/lib/python3.8/site-packages/pandas/core/indexing.py:670: SettingWithCopyWarning: \n",
      "A value is trying to be set on a copy of a slice from a DataFrame\n",
      "\n",
      "See the caveats in the documentation: https://pandas.pydata.org/pandas-docs/stable/user_guide/indexing.html#returning-a-view-versus-a-copy\n",
      "  iloc._setitem_with_indexer(indexer, value)\n"
     ]
    }
   ],
   "source": [
    "for i in range(len(p2_datos)):\n",
    "    p2_datos[\"Nombre\"].iloc[i] = p2_datos[\"Nombre\"].iloc[i].split(' ')[0]"
   ]
  },
  {
   "cell_type": "markdown",
   "metadata": {},
   "source": [
    "### Paso de valores categóricas a OneHotVectors"
   ]
  },
  {
   "cell_type": "markdown",
   "metadata": {},
   "source": [
    "Nombre:"
   ]
  },
  {
   "cell_type": "code",
   "execution_count": 7,
   "metadata": {},
   "outputs": [],
   "source": [
    "encNombre = OneHotEncoder(handle_unknown='ignore')\n",
    "encNombre.fit(nombre[\"Nombre\"].to_numpy().reshape(-1, 1))\n",
    "aux = encNombre.transform(p2_datos[\"Nombre\"].to_numpy().reshape(-1, 1)).toarray()\n",
    "aux = pd.DataFrame(aux)\n",
    "\n",
    "for i in range(aux.shape[1]):\n",
    "    p2_datos[\"Nombre \" + str(i)] = aux[i]\n",
    "    \n",
    "del(p2_datos['Nombre'])"
   ]
  },
  {
   "cell_type": "markdown",
   "metadata": {},
   "source": [
    "Ciudad:"
   ]
  },
  {
   "cell_type": "code",
   "execution_count": 8,
   "metadata": {},
   "outputs": [],
   "source": [
    "encCiudad = OneHotEncoder(handle_unknown='ignore')\n",
    "encCiudad.fit(ciudad[\"Ciudad\"].to_numpy().reshape(-1, 1))\n",
    "aux = encCiudad.transform(p2_datos[\"Ciudad\"].to_numpy().reshape(-1, 1)).toarray()\n",
    "aux = pd.DataFrame(aux)\n",
    "\n",
    "for i in range(aux.shape[1]):\n",
    "    p2_datos[\"Ciudad \" + str(i)] = aux[i]\n",
    "    \n",
    "del(p2_datos['Ciudad'])"
   ]
  },
  {
   "cell_type": "markdown",
   "metadata": {},
   "source": [
    "Combustible:"
   ]
  },
  {
   "cell_type": "code",
   "execution_count": 9,
   "metadata": {},
   "outputs": [],
   "source": [
    "encCombustible = OneHotEncoder(handle_unknown='ignore')\n",
    "encCombustible.fit(combustible[\"Combustible\"].to_numpy().reshape(-1, 1))\n",
    "aux = encCombustible.transform(p2_datos[\"Combustible\"].to_numpy().reshape(-1, 1)).toarray()\n",
    "aux = pd.DataFrame(aux)\n",
    "\n",
    "for i in range(aux.shape[1]):\n",
    "    p2_datos[\"Combustible \" + str(i)] = aux[i]\n",
    "    \n",
    "del(p2_datos['Combustible'])"
   ]
  },
  {
   "cell_type": "markdown",
   "metadata": {},
   "source": [
    "Tipo_marchas:"
   ]
  },
  {
   "cell_type": "code",
   "execution_count": 10,
   "metadata": {},
   "outputs": [],
   "source": [
    "encTipo_marchas = OneHotEncoder(handle_unknown='ignore')\n",
    "encTipo_marchas.fit(tipo_marchas[\"Tipo_marchas\"].to_numpy().reshape(-1, 1))\n",
    "aux = encTipo_marchas.transform(p2_datos[\"Tipo_marchas\"].to_numpy().reshape(-1, 1)).toarray()\n",
    "aux = pd.DataFrame(aux)\n",
    "\n",
    "for i in range(aux.shape[1]):\n",
    "    p2_datos[\"Tipo_marchas \" + str(i)] = aux[i]\n",
    "    \n",
    "del(p2_datos['Tipo_marchas'])"
   ]
  },
  {
   "cell_type": "markdown",
   "metadata": {},
   "source": [
    "Mano:"
   ]
  },
  {
   "cell_type": "code",
   "execution_count": 11,
   "metadata": {},
   "outputs": [],
   "source": [
    "encMano = OneHotEncoder(handle_unknown='ignore')\n",
    "encMano.fit(mano[\"Mano\"].to_numpy().reshape(-1, 1))\n",
    "aux = encMano.transform(p2_datos[\"Mano\"].to_numpy().reshape(-1, 1)).toarray()\n",
    "aux = pd.DataFrame(aux)\n",
    "\n",
    "for i in range(aux.shape[1]):\n",
    "    p2_datos[\"Mano \" + str(i)] = aux[i]\n",
    "    \n",
    "del(p2_datos['Mano'])"
   ]
  },
  {
   "cell_type": "markdown",
   "metadata": {},
   "source": [
    "Consumo:"
   ]
  },
  {
   "cell_type": "code",
   "execution_count": 12,
   "metadata": {
    "scrolled": false
   },
   "outputs": [
    {
     "name": "stderr",
     "output_type": "stream",
     "text": [
      "/home/patricia/.local/lib/python3.8/site-packages/pandas/core/indexing.py:670: SettingWithCopyWarning: \n",
      "A value is trying to be set on a copy of a slice from a DataFrame\n",
      "\n",
      "See the caveats in the documentation: https://pandas.pydata.org/pandas-docs/stable/user_guide/indexing.html#returning-a-view-versus-a-copy\n",
      "  iloc._setitem_with_indexer(indexer, value)\n"
     ]
    }
   ],
   "source": [
    "for i in range(len(p2_datos)):\n",
    "    p2_datos[\"Consumo\"].iloc[i] = float(p2_datos[\"Consumo\"].iloc[i].strip(' kmlp'))"
   ]
  },
  {
   "cell_type": "markdown",
   "metadata": {},
   "source": [
    "Motor_CC:"
   ]
  },
  {
   "cell_type": "code",
   "execution_count": 13,
   "metadata": {},
   "outputs": [],
   "source": [
    "for i in range(len(p2_datos)):\n",
    "    p2_datos[\"Motor_CC\"].iloc[i] = float(p2_datos[\"Motor_CC\"].iloc[i].strip(' CC'))"
   ]
  },
  {
   "cell_type": "markdown",
   "metadata": {},
   "source": [
    "Potencia:"
   ]
  },
  {
   "cell_type": "code",
   "execution_count": 14,
   "metadata": {
    "scrolled": true
   },
   "outputs": [],
   "source": [
    "for i in range(len(p2_datos)):\n",
    "    p2_datos[\"Potencia\"].iloc[i]= float(p2_datos[\"Potencia\"].iloc[i].strip(' bhp'))"
   ]
  },
  {
   "cell_type": "code",
   "execution_count": 15,
   "metadata": {},
   "outputs": [],
   "source": [
    "p2_datos[\"Consumo\"] = p2_datos[\"Consumo\"].astype(float)\n",
    "p2_datos[\"Motor_CC\"] = p2_datos[\"Motor_CC\"].astype(float)\n",
    "p2_datos[\"Potencia\"] = p2_datos[\"Potencia\"].astype(float)"
   ]
  },
  {
   "cell_type": "code",
   "execution_count": 16,
   "metadata": {
    "scrolled": true
   },
   "outputs": [
    {
     "name": "stdout",
     "output_type": "stream",
     "text": [
      "<class 'pandas.core.frame.DataFrame'>\n",
      "RangeIndex: 3946 entries, 0 to 3945\n",
      "Data columns (total 61 columns):\n",
      " #   Column          Non-Null Count  Dtype  \n",
      "---  ------          --------------  -----  \n",
      " 0   id              3946 non-null   float64\n",
      " 1   Año             3946 non-null   float64\n",
      " 2   Kilometros      3946 non-null   float64\n",
      " 3   Consumo         3946 non-null   float64\n",
      " 4   Motor_CC        3946 non-null   float64\n",
      " 5   Potencia        3946 non-null   float64\n",
      " 6   Asientos        3946 non-null   float64\n",
      " 7   Precio_cat      3946 non-null   int64  \n",
      " 8   Nombre 0        3946 non-null   float64\n",
      " 9   Nombre 1        3946 non-null   float64\n",
      " 10  Nombre 2        3946 non-null   float64\n",
      " 11  Nombre 3        3946 non-null   float64\n",
      " 12  Nombre 4        3946 non-null   float64\n",
      " 13  Nombre 5        3946 non-null   float64\n",
      " 14  Nombre 6        3946 non-null   float64\n",
      " 15  Nombre 7        3946 non-null   float64\n",
      " 16  Nombre 8        3946 non-null   float64\n",
      " 17  Nombre 9        3946 non-null   float64\n",
      " 18  Nombre 10       3946 non-null   float64\n",
      " 19  Nombre 11       3946 non-null   float64\n",
      " 20  Nombre 12       3946 non-null   float64\n",
      " 21  Nombre 13       3946 non-null   float64\n",
      " 22  Nombre 14       3946 non-null   float64\n",
      " 23  Nombre 15       3946 non-null   float64\n",
      " 24  Nombre 16       3946 non-null   float64\n",
      " 25  Nombre 17       3946 non-null   float64\n",
      " 26  Nombre 18       3946 non-null   float64\n",
      " 27  Nombre 19       3946 non-null   float64\n",
      " 28  Nombre 20       3946 non-null   float64\n",
      " 29  Nombre 21       3946 non-null   float64\n",
      " 30  Nombre 22       3946 non-null   float64\n",
      " 31  Nombre 23       3946 non-null   float64\n",
      " 32  Nombre 24       3946 non-null   float64\n",
      " 33  Nombre 25       3946 non-null   float64\n",
      " 34  Nombre 26       3946 non-null   float64\n",
      " 35  Nombre 27       3946 non-null   float64\n",
      " 36  Nombre 28       3946 non-null   float64\n",
      " 37  Nombre 29       3946 non-null   float64\n",
      " 38  Nombre 30       3946 non-null   float64\n",
      " 39  Ciudad 0        3946 non-null   float64\n",
      " 40  Ciudad 1        3946 non-null   float64\n",
      " 41  Ciudad 2        3946 non-null   float64\n",
      " 42  Ciudad 3        3946 non-null   float64\n",
      " 43  Ciudad 4        3946 non-null   float64\n",
      " 44  Ciudad 5        3946 non-null   float64\n",
      " 45  Ciudad 6        3946 non-null   float64\n",
      " 46  Ciudad 7        3946 non-null   float64\n",
      " 47  Ciudad 8        3946 non-null   float64\n",
      " 48  Ciudad 9        3946 non-null   float64\n",
      " 49  Ciudad 10       3946 non-null   float64\n",
      " 50  Combustible 0   3946 non-null   float64\n",
      " 51  Combustible 1   3946 non-null   float64\n",
      " 52  Combustible 2   3946 non-null   float64\n",
      " 53  Combustible 3   3946 non-null   float64\n",
      " 54  Combustible 4   3946 non-null   float64\n",
      " 55  Tipo_marchas 0  3946 non-null   float64\n",
      " 56  Tipo_marchas 1  3946 non-null   float64\n",
      " 57  Mano 0          3946 non-null   float64\n",
      " 58  Mano 1          3946 non-null   float64\n",
      " 59  Mano 2          3946 non-null   float64\n",
      " 60  Mano 3          3946 non-null   float64\n",
      "dtypes: float64(60), int64(1)\n",
      "memory usage: 1.8 MB\n"
     ]
    }
   ],
   "source": [
    "p2_datos.info()"
   ]
  },
  {
   "cell_type": "markdown",
   "metadata": {},
   "source": [
    "## Normalizamos los datos"
   ]
  },
  {
   "cell_type": "markdown",
   "metadata": {},
   "source": [
    "Normalizamos las variables numéricas."
   ]
  },
  {
   "cell_type": "markdown",
   "metadata": {},
   "source": [
    "Año:"
   ]
  },
  {
   "cell_type": "code",
   "execution_count": 17,
   "metadata": {},
   "outputs": [],
   "source": [
    "scalerYear = MinMaxScaler()\n",
    "scalerYear.fit(year[\"Año\"].to_numpy().reshape(-1, 1))\n",
    "aux = scalerYear.transform(p2_datos[\"Año\"].to_numpy().reshape(-1, 1))\n",
    "aux = pd.DataFrame(aux)\n",
    "aux\n",
    "p2_datos[\"Año\"] = aux[0]"
   ]
  },
  {
   "cell_type": "markdown",
   "metadata": {},
   "source": [
    "Kilómetros:"
   ]
  },
  {
   "cell_type": "code",
   "execution_count": 18,
   "metadata": {},
   "outputs": [],
   "source": [
    "scalerKilometros = MinMaxScaler()\n",
    "scalerKilometros.fit(kilometros[\"Kilometros\"].to_numpy().reshape(-1, 1))\n",
    "aux = scalerKilometros.transform(p2_datos[\"Kilometros\"].to_numpy().reshape(-1, 1))\n",
    "aux = pd.DataFrame(aux)\n",
    "aux\n",
    "p2_datos[\"Kilometros\"] = aux[0]"
   ]
  },
  {
   "cell_type": "markdown",
   "metadata": {},
   "source": [
    "Consumo:"
   ]
  },
  {
   "cell_type": "code",
   "execution_count": 19,
   "metadata": {},
   "outputs": [],
   "source": [
    "for i in range(len(consumo)):\n",
    "    consumo[\"Consumo\"].iloc[i] = float(consumo[\"Consumo\"].iloc[i].strip(' kmlp'))\n",
    "\n",
    "scalerConsumo = MinMaxScaler()\n",
    "scalerConsumo.fit(consumo[\"Consumo\"].to_numpy().reshape(-1, 1))\n",
    "aux = scalerConsumo.transform(p2_datos[\"Consumo\"].to_numpy().reshape(-1, 1))\n",
    "aux = pd.DataFrame(aux)\n",
    "aux\n",
    "p2_datos[\"Consumo\"] = aux[0]"
   ]
  },
  {
   "cell_type": "markdown",
   "metadata": {},
   "source": [
    "Motor_CC:"
   ]
  },
  {
   "cell_type": "code",
   "execution_count": 20,
   "metadata": {},
   "outputs": [],
   "source": [
    "for i in range(len(motor_cc)):\n",
    "    motor_cc[\"Motor_CC\"].iloc[i]= float(motor_cc[\"Motor_CC\"].iloc[i].strip(' CC'))\n",
    "\n",
    "scalerMotor_CC = MinMaxScaler()\n",
    "scalerMotor_CC.fit(motor_cc[\"Motor_CC\"].to_numpy().reshape(-1, 1))\n",
    "aux = scalerMotor_CC.transform(p2_datos[\"Motor_CC\"].to_numpy().reshape(-1, 1))\n",
    "aux = pd.DataFrame(aux)\n",
    "aux\n",
    "p2_datos[\"Motor_CC\"] = aux[0]"
   ]
  },
  {
   "cell_type": "markdown",
   "metadata": {},
   "source": [
    "Potencia:"
   ]
  },
  {
   "cell_type": "code",
   "execution_count": 21,
   "metadata": {},
   "outputs": [],
   "source": [
    "for i in range(len(potencia)):\n",
    "    potencia[\"Potencia\"].iloc[i]= float(potencia[\"Potencia\"].iloc[i].strip(' bhp'))\n",
    "\n",
    "scalerPotencia = MinMaxScaler()\n",
    "scalerPotencia.fit(potencia[\"Potencia\"].to_numpy().reshape(-1, 1))\n",
    "aux = scalerPotencia.transform(p2_datos[\"Potencia\"].to_numpy().reshape(-1, 1))\n",
    "aux = pd.DataFrame(aux)\n",
    "aux\n",
    "p2_datos[\"Potencia\"] = aux[0]"
   ]
  },
  {
   "cell_type": "markdown",
   "metadata": {},
   "source": [
    "Asientos:"
   ]
  },
  {
   "cell_type": "code",
   "execution_count": 22,
   "metadata": {},
   "outputs": [],
   "source": [
    "scalerAsientos = MinMaxScaler()\n",
    "scalerAsientos.fit(asientos[\"Asientos\"].to_numpy().reshape(-1, 1))\n",
    "aux = scalerAsientos.transform(p2_datos[\"Asientos\"].to_numpy().reshape(-1, 1))\n",
    "aux = pd.DataFrame(aux)\n",
    "aux\n",
    "p2_datos[\"Asientos\"] = aux[0]"
   ]
  },
  {
   "cell_type": "code",
   "execution_count": 23,
   "metadata": {},
   "outputs": [
    {
     "data": {
      "text/html": [
       "<div>\n",
       "<style scoped>\n",
       "    .dataframe tbody tr th:only-of-type {\n",
       "        vertical-align: middle;\n",
       "    }\n",
       "\n",
       "    .dataframe tbody tr th {\n",
       "        vertical-align: top;\n",
       "    }\n",
       "\n",
       "    .dataframe thead th {\n",
       "        text-align: right;\n",
       "    }\n",
       "</style>\n",
       "<table border=\"1\" class=\"dataframe\">\n",
       "  <thead>\n",
       "    <tr style=\"text-align: right;\">\n",
       "      <th></th>\n",
       "      <th>id</th>\n",
       "      <th>Año</th>\n",
       "      <th>Kilometros</th>\n",
       "      <th>Consumo</th>\n",
       "      <th>Motor_CC</th>\n",
       "      <th>Potencia</th>\n",
       "      <th>Asientos</th>\n",
       "      <th>Precio_cat</th>\n",
       "      <th>Nombre 0</th>\n",
       "      <th>Nombre 1</th>\n",
       "      <th>...</th>\n",
       "      <th>Combustible 1</th>\n",
       "      <th>Combustible 2</th>\n",
       "      <th>Combustible 3</th>\n",
       "      <th>Combustible 4</th>\n",
       "      <th>Tipo_marchas 0</th>\n",
       "      <th>Tipo_marchas 1</th>\n",
       "      <th>Mano 0</th>\n",
       "      <th>Mano 1</th>\n",
       "      <th>Mano 2</th>\n",
       "      <th>Mano 3</th>\n",
       "    </tr>\n",
       "  </thead>\n",
       "  <tbody>\n",
       "    <tr>\n",
       "      <th>0</th>\n",
       "      <td>1.0</td>\n",
       "      <td>0.666667</td>\n",
       "      <td>0.012743</td>\n",
       "      <td>0.697674</td>\n",
       "      <td>0.198448</td>\n",
       "      <td>0.075694</td>\n",
       "      <td>0.5</td>\n",
       "      <td>3</td>\n",
       "      <td>0.0</td>\n",
       "      <td>0.0</td>\n",
       "      <td>...</td>\n",
       "      <td>1.0</td>\n",
       "      <td>0.0</td>\n",
       "      <td>0.0</td>\n",
       "      <td>0.0</td>\n",
       "      <td>0.0</td>\n",
       "      <td>1.0</td>\n",
       "      <td>1.0</td>\n",
       "      <td>0.0</td>\n",
       "      <td>0.0</td>\n",
       "      <td>0.0</td>\n",
       "    </tr>\n",
       "    <tr>\n",
       "      <th>1</th>\n",
       "      <td>2.0</td>\n",
       "      <td>0.857143</td>\n",
       "      <td>0.000712</td>\n",
       "      <td>0.611509</td>\n",
       "      <td>0.156261</td>\n",
       "      <td>0.062457</td>\n",
       "      <td>0.5</td>\n",
       "      <td>3</td>\n",
       "      <td>0.0</td>\n",
       "      <td>0.0</td>\n",
       "      <td>...</td>\n",
       "      <td>0.0</td>\n",
       "      <td>0.0</td>\n",
       "      <td>0.0</td>\n",
       "      <td>1.0</td>\n",
       "      <td>0.0</td>\n",
       "      <td>1.0</td>\n",
       "      <td>1.0</td>\n",
       "      <td>0.0</td>\n",
       "      <td>0.0</td>\n",
       "      <td>0.0</td>\n",
       "    </tr>\n",
       "    <tr>\n",
       "      <th>2</th>\n",
       "      <td>3.0</td>\n",
       "      <td>0.857143</td>\n",
       "      <td>0.003974</td>\n",
       "      <td>0.754919</td>\n",
       "      <td>0.190010</td>\n",
       "      <td>0.081400</td>\n",
       "      <td>0.6</td>\n",
       "      <td>3</td>\n",
       "      <td>0.0</td>\n",
       "      <td>0.0</td>\n",
       "      <td>...</td>\n",
       "      <td>1.0</td>\n",
       "      <td>0.0</td>\n",
       "      <td>0.0</td>\n",
       "      <td>0.0</td>\n",
       "      <td>0.0</td>\n",
       "      <td>1.0</td>\n",
       "      <td>1.0</td>\n",
       "      <td>0.0</td>\n",
       "      <td>0.0</td>\n",
       "      <td>0.0</td>\n",
       "    </tr>\n",
       "    <tr>\n",
       "      <th>3</th>\n",
       "      <td>4.0</td>\n",
       "      <td>0.714286</td>\n",
       "      <td>0.008609</td>\n",
       "      <td>0.551580</td>\n",
       "      <td>0.189841</td>\n",
       "      <td>0.087105</td>\n",
       "      <td>0.5</td>\n",
       "      <td>3</td>\n",
       "      <td>0.0</td>\n",
       "      <td>0.0</td>\n",
       "      <td>...</td>\n",
       "      <td>0.0</td>\n",
       "      <td>0.0</td>\n",
       "      <td>0.0</td>\n",
       "      <td>1.0</td>\n",
       "      <td>0.0</td>\n",
       "      <td>1.0</td>\n",
       "      <td>1.0</td>\n",
       "      <td>0.0</td>\n",
       "      <td>0.0</td>\n",
       "      <td>0.0</td>\n",
       "    </tr>\n",
       "    <tr>\n",
       "      <th>4</th>\n",
       "      <td>5.0</td>\n",
       "      <td>0.904762</td>\n",
       "      <td>0.006432</td>\n",
       "      <td>0.557543</td>\n",
       "      <td>0.190179</td>\n",
       "      <td>0.103652</td>\n",
       "      <td>0.5</td>\n",
       "      <td>3</td>\n",
       "      <td>0.0</td>\n",
       "      <td>0.0</td>\n",
       "      <td>...</td>\n",
       "      <td>0.0</td>\n",
       "      <td>0.0</td>\n",
       "      <td>0.0</td>\n",
       "      <td>1.0</td>\n",
       "      <td>0.0</td>\n",
       "      <td>1.0</td>\n",
       "      <td>1.0</td>\n",
       "      <td>0.0</td>\n",
       "      <td>0.0</td>\n",
       "      <td>0.0</td>\n",
       "    </tr>\n",
       "    <tr>\n",
       "      <th>...</th>\n",
       "      <td>...</td>\n",
       "      <td>...</td>\n",
       "      <td>...</td>\n",
       "      <td>...</td>\n",
       "      <td>...</td>\n",
       "      <td>...</td>\n",
       "      <td>...</td>\n",
       "      <td>...</td>\n",
       "      <td>...</td>\n",
       "      <td>...</td>\n",
       "      <td>...</td>\n",
       "      <td>...</td>\n",
       "      <td>...</td>\n",
       "      <td>...</td>\n",
       "      <td>...</td>\n",
       "      <td>...</td>\n",
       "      <td>...</td>\n",
       "      <td>...</td>\n",
       "      <td>...</td>\n",
       "      <td>...</td>\n",
       "      <td>...</td>\n",
       "    </tr>\n",
       "    <tr>\n",
       "      <th>3941</th>\n",
       "      <td>4813.0</td>\n",
       "      <td>0.666667</td>\n",
       "      <td>0.009205</td>\n",
       "      <td>0.453190</td>\n",
       "      <td>0.319946</td>\n",
       "      <td>0.202739</td>\n",
       "      <td>0.5</td>\n",
       "      <td>4</td>\n",
       "      <td>0.0</td>\n",
       "      <td>1.0</td>\n",
       "      <td>...</td>\n",
       "      <td>1.0</td>\n",
       "      <td>0.0</td>\n",
       "      <td>0.0</td>\n",
       "      <td>0.0</td>\n",
       "      <td>1.0</td>\n",
       "      <td>0.0</td>\n",
       "      <td>0.0</td>\n",
       "      <td>0.0</td>\n",
       "      <td>1.0</td>\n",
       "      <td>0.0</td>\n",
       "    </tr>\n",
       "    <tr>\n",
       "      <th>3942</th>\n",
       "      <td>4814.0</td>\n",
       "      <td>0.666667</td>\n",
       "      <td>0.010312</td>\n",
       "      <td>0.448420</td>\n",
       "      <td>0.257509</td>\n",
       "      <td>0.131989</td>\n",
       "      <td>0.5</td>\n",
       "      <td>3</td>\n",
       "      <td>0.0</td>\n",
       "      <td>0.0</td>\n",
       "      <td>...</td>\n",
       "      <td>0.0</td>\n",
       "      <td>0.0</td>\n",
       "      <td>0.0</td>\n",
       "      <td>1.0</td>\n",
       "      <td>0.0</td>\n",
       "      <td>1.0</td>\n",
       "      <td>1.0</td>\n",
       "      <td>0.0</td>\n",
       "      <td>0.0</td>\n",
       "      <td>0.0</td>\n",
       "    </tr>\n",
       "    <tr>\n",
       "      <th>3943</th>\n",
       "      <td>4815.0</td>\n",
       "      <td>0.761905</td>\n",
       "      <td>0.012785</td>\n",
       "      <td>0.682767</td>\n",
       "      <td>0.198448</td>\n",
       "      <td>0.075694</td>\n",
       "      <td>0.5</td>\n",
       "      <td>3</td>\n",
       "      <td>0.0</td>\n",
       "      <td>0.0</td>\n",
       "      <td>...</td>\n",
       "      <td>1.0</td>\n",
       "      <td>0.0</td>\n",
       "      <td>0.0</td>\n",
       "      <td>0.0</td>\n",
       "      <td>0.0</td>\n",
       "      <td>1.0</td>\n",
       "      <td>1.0</td>\n",
       "      <td>0.0</td>\n",
       "      <td>0.0</td>\n",
       "      <td>0.0</td>\n",
       "    </tr>\n",
       "    <tr>\n",
       "      <th>3944</th>\n",
       "      <td>4818.0</td>\n",
       "      <td>0.809524</td>\n",
       "      <td>0.010088</td>\n",
       "      <td>0.600477</td>\n",
       "      <td>0.189841</td>\n",
       "      <td>0.090643</td>\n",
       "      <td>0.5</td>\n",
       "      <td>3</td>\n",
       "      <td>0.0</td>\n",
       "      <td>0.0</td>\n",
       "      <td>...</td>\n",
       "      <td>0.0</td>\n",
       "      <td>0.0</td>\n",
       "      <td>0.0</td>\n",
       "      <td>1.0</td>\n",
       "      <td>0.0</td>\n",
       "      <td>1.0</td>\n",
       "      <td>1.0</td>\n",
       "      <td>0.0</td>\n",
       "      <td>0.0</td>\n",
       "      <td>0.0</td>\n",
       "    </tr>\n",
       "    <tr>\n",
       "      <th>3945</th>\n",
       "      <td>4819.0</td>\n",
       "      <td>0.714286</td>\n",
       "      <td>0.011512</td>\n",
       "      <td>0.619261</td>\n",
       "      <td>0.198448</td>\n",
       "      <td>0.103842</td>\n",
       "      <td>0.7</td>\n",
       "      <td>3</td>\n",
       "      <td>0.0</td>\n",
       "      <td>0.0</td>\n",
       "      <td>...</td>\n",
       "      <td>1.0</td>\n",
       "      <td>0.0</td>\n",
       "      <td>0.0</td>\n",
       "      <td>0.0</td>\n",
       "      <td>0.0</td>\n",
       "      <td>1.0</td>\n",
       "      <td>1.0</td>\n",
       "      <td>0.0</td>\n",
       "      <td>0.0</td>\n",
       "      <td>0.0</td>\n",
       "    </tr>\n",
       "  </tbody>\n",
       "</table>\n",
       "<p>3946 rows × 61 columns</p>\n",
       "</div>"
      ],
      "text/plain": [
       "          id       Año  Kilometros   Consumo  Motor_CC  Potencia  Asientos  \\\n",
       "0        1.0  0.666667    0.012743  0.697674  0.198448  0.075694       0.5   \n",
       "1        2.0  0.857143    0.000712  0.611509  0.156261  0.062457       0.5   \n",
       "2        3.0  0.857143    0.003974  0.754919  0.190010  0.081400       0.6   \n",
       "3        4.0  0.714286    0.008609  0.551580  0.189841  0.087105       0.5   \n",
       "4        5.0  0.904762    0.006432  0.557543  0.190179  0.103652       0.5   \n",
       "...      ...       ...         ...       ...       ...       ...       ...   \n",
       "3941  4813.0  0.666667    0.009205  0.453190  0.319946  0.202739       0.5   \n",
       "3942  4814.0  0.666667    0.010312  0.448420  0.257509  0.131989       0.5   \n",
       "3943  4815.0  0.761905    0.012785  0.682767  0.198448  0.075694       0.5   \n",
       "3944  4818.0  0.809524    0.010088  0.600477  0.189841  0.090643       0.5   \n",
       "3945  4819.0  0.714286    0.011512  0.619261  0.198448  0.103842       0.7   \n",
       "\n",
       "      Precio_cat  Nombre 0  Nombre 1  ...  Combustible 1  Combustible 2  \\\n",
       "0              3       0.0       0.0  ...            1.0            0.0   \n",
       "1              3       0.0       0.0  ...            0.0            0.0   \n",
       "2              3       0.0       0.0  ...            1.0            0.0   \n",
       "3              3       0.0       0.0  ...            0.0            0.0   \n",
       "4              3       0.0       0.0  ...            0.0            0.0   \n",
       "...          ...       ...       ...  ...            ...            ...   \n",
       "3941           4       0.0       1.0  ...            1.0            0.0   \n",
       "3942           3       0.0       0.0  ...            0.0            0.0   \n",
       "3943           3       0.0       0.0  ...            1.0            0.0   \n",
       "3944           3       0.0       0.0  ...            0.0            0.0   \n",
       "3945           3       0.0       0.0  ...            1.0            0.0   \n",
       "\n",
       "      Combustible 3  Combustible 4  Tipo_marchas 0  Tipo_marchas 1  Mano 0  \\\n",
       "0               0.0            0.0             0.0             1.0     1.0   \n",
       "1               0.0            1.0             0.0             1.0     1.0   \n",
       "2               0.0            0.0             0.0             1.0     1.0   \n",
       "3               0.0            1.0             0.0             1.0     1.0   \n",
       "4               0.0            1.0             0.0             1.0     1.0   \n",
       "...             ...            ...             ...             ...     ...   \n",
       "3941            0.0            0.0             1.0             0.0     0.0   \n",
       "3942            0.0            1.0             0.0             1.0     1.0   \n",
       "3943            0.0            0.0             0.0             1.0     1.0   \n",
       "3944            0.0            1.0             0.0             1.0     1.0   \n",
       "3945            0.0            0.0             0.0             1.0     1.0   \n",
       "\n",
       "      Mano 1  Mano 2  Mano 3  \n",
       "0        0.0     0.0     0.0  \n",
       "1        0.0     0.0     0.0  \n",
       "2        0.0     0.0     0.0  \n",
       "3        0.0     0.0     0.0  \n",
       "4        0.0     0.0     0.0  \n",
       "...      ...     ...     ...  \n",
       "3941     0.0     1.0     0.0  \n",
       "3942     0.0     0.0     0.0  \n",
       "3943     0.0     0.0     0.0  \n",
       "3944     0.0     0.0     0.0  \n",
       "3945     0.0     0.0     0.0  \n",
       "\n",
       "[3946 rows x 61 columns]"
      ]
     },
     "execution_count": 23,
     "metadata": {},
     "output_type": "execute_result"
    }
   ],
   "source": [
    "p2_datos"
   ]
  },
  {
   "cell_type": "markdown",
   "metadata": {},
   "source": [
    "## Separación de objetivo y etiqueta"
   ]
  },
  {
   "cell_type": "code",
   "execution_count": 24,
   "metadata": {},
   "outputs": [],
   "source": [
    "# Separamos las columnas con los datos de la etiqueta a predecir\n",
    "cols = [col for col in p2_datos.columns if col not in ['Precio_cat']]\n",
    "data = p2_datos[cols]\n",
    "del(data['id'])\n",
    "target = p2_datos['Precio_cat']"
   ]
  },
  {
   "cell_type": "code",
   "execution_count": 25,
   "metadata": {
    "scrolled": true
   },
   "outputs": [
    {
     "data": {
      "text/html": [
       "<div>\n",
       "<style scoped>\n",
       "    .dataframe tbody tr th:only-of-type {\n",
       "        vertical-align: middle;\n",
       "    }\n",
       "\n",
       "    .dataframe tbody tr th {\n",
       "        vertical-align: top;\n",
       "    }\n",
       "\n",
       "    .dataframe thead th {\n",
       "        text-align: right;\n",
       "    }\n",
       "</style>\n",
       "<table border=\"1\" class=\"dataframe\">\n",
       "  <thead>\n",
       "    <tr style=\"text-align: right;\">\n",
       "      <th></th>\n",
       "      <th>Año</th>\n",
       "      <th>Kilometros</th>\n",
       "      <th>Consumo</th>\n",
       "      <th>Motor_CC</th>\n",
       "      <th>Potencia</th>\n",
       "      <th>Asientos</th>\n",
       "      <th>Nombre 0</th>\n",
       "      <th>Nombre 1</th>\n",
       "      <th>Nombre 2</th>\n",
       "      <th>Nombre 3</th>\n",
       "      <th>...</th>\n",
       "      <th>Combustible 1</th>\n",
       "      <th>Combustible 2</th>\n",
       "      <th>Combustible 3</th>\n",
       "      <th>Combustible 4</th>\n",
       "      <th>Tipo_marchas 0</th>\n",
       "      <th>Tipo_marchas 1</th>\n",
       "      <th>Mano 0</th>\n",
       "      <th>Mano 1</th>\n",
       "      <th>Mano 2</th>\n",
       "      <th>Mano 3</th>\n",
       "    </tr>\n",
       "  </thead>\n",
       "  <tbody>\n",
       "    <tr>\n",
       "      <th>0</th>\n",
       "      <td>0.666667</td>\n",
       "      <td>0.012743</td>\n",
       "      <td>0.697674</td>\n",
       "      <td>0.198448</td>\n",
       "      <td>0.075694</td>\n",
       "      <td>0.5</td>\n",
       "      <td>0.0</td>\n",
       "      <td>0.0</td>\n",
       "      <td>0.0</td>\n",
       "      <td>0.0</td>\n",
       "      <td>...</td>\n",
       "      <td>1.0</td>\n",
       "      <td>0.0</td>\n",
       "      <td>0.0</td>\n",
       "      <td>0.0</td>\n",
       "      <td>0.0</td>\n",
       "      <td>1.0</td>\n",
       "      <td>1.0</td>\n",
       "      <td>0.0</td>\n",
       "      <td>0.0</td>\n",
       "      <td>0.0</td>\n",
       "    </tr>\n",
       "    <tr>\n",
       "      <th>1</th>\n",
       "      <td>0.857143</td>\n",
       "      <td>0.000712</td>\n",
       "      <td>0.611509</td>\n",
       "      <td>0.156261</td>\n",
       "      <td>0.062457</td>\n",
       "      <td>0.5</td>\n",
       "      <td>0.0</td>\n",
       "      <td>0.0</td>\n",
       "      <td>0.0</td>\n",
       "      <td>0.0</td>\n",
       "      <td>...</td>\n",
       "      <td>0.0</td>\n",
       "      <td>0.0</td>\n",
       "      <td>0.0</td>\n",
       "      <td>1.0</td>\n",
       "      <td>0.0</td>\n",
       "      <td>1.0</td>\n",
       "      <td>1.0</td>\n",
       "      <td>0.0</td>\n",
       "      <td>0.0</td>\n",
       "      <td>0.0</td>\n",
       "    </tr>\n",
       "    <tr>\n",
       "      <th>2</th>\n",
       "      <td>0.857143</td>\n",
       "      <td>0.003974</td>\n",
       "      <td>0.754919</td>\n",
       "      <td>0.190010</td>\n",
       "      <td>0.081400</td>\n",
       "      <td>0.6</td>\n",
       "      <td>0.0</td>\n",
       "      <td>0.0</td>\n",
       "      <td>0.0</td>\n",
       "      <td>0.0</td>\n",
       "      <td>...</td>\n",
       "      <td>1.0</td>\n",
       "      <td>0.0</td>\n",
       "      <td>0.0</td>\n",
       "      <td>0.0</td>\n",
       "      <td>0.0</td>\n",
       "      <td>1.0</td>\n",
       "      <td>1.0</td>\n",
       "      <td>0.0</td>\n",
       "      <td>0.0</td>\n",
       "      <td>0.0</td>\n",
       "    </tr>\n",
       "    <tr>\n",
       "      <th>3</th>\n",
       "      <td>0.714286</td>\n",
       "      <td>0.008609</td>\n",
       "      <td>0.551580</td>\n",
       "      <td>0.189841</td>\n",
       "      <td>0.087105</td>\n",
       "      <td>0.5</td>\n",
       "      <td>0.0</td>\n",
       "      <td>0.0</td>\n",
       "      <td>0.0</td>\n",
       "      <td>0.0</td>\n",
       "      <td>...</td>\n",
       "      <td>0.0</td>\n",
       "      <td>0.0</td>\n",
       "      <td>0.0</td>\n",
       "      <td>1.0</td>\n",
       "      <td>0.0</td>\n",
       "      <td>1.0</td>\n",
       "      <td>1.0</td>\n",
       "      <td>0.0</td>\n",
       "      <td>0.0</td>\n",
       "      <td>0.0</td>\n",
       "    </tr>\n",
       "    <tr>\n",
       "      <th>4</th>\n",
       "      <td>0.904762</td>\n",
       "      <td>0.006432</td>\n",
       "      <td>0.557543</td>\n",
       "      <td>0.190179</td>\n",
       "      <td>0.103652</td>\n",
       "      <td>0.5</td>\n",
       "      <td>0.0</td>\n",
       "      <td>0.0</td>\n",
       "      <td>0.0</td>\n",
       "      <td>0.0</td>\n",
       "      <td>...</td>\n",
       "      <td>0.0</td>\n",
       "      <td>0.0</td>\n",
       "      <td>0.0</td>\n",
       "      <td>1.0</td>\n",
       "      <td>0.0</td>\n",
       "      <td>1.0</td>\n",
       "      <td>1.0</td>\n",
       "      <td>0.0</td>\n",
       "      <td>0.0</td>\n",
       "      <td>0.0</td>\n",
       "    </tr>\n",
       "  </tbody>\n",
       "</table>\n",
       "<p>5 rows × 59 columns</p>\n",
       "</div>"
      ],
      "text/plain": [
       "        Año  Kilometros   Consumo  Motor_CC  Potencia  Asientos  Nombre 0  \\\n",
       "0  0.666667    0.012743  0.697674  0.198448  0.075694       0.5       0.0   \n",
       "1  0.857143    0.000712  0.611509  0.156261  0.062457       0.5       0.0   \n",
       "2  0.857143    0.003974  0.754919  0.190010  0.081400       0.6       0.0   \n",
       "3  0.714286    0.008609  0.551580  0.189841  0.087105       0.5       0.0   \n",
       "4  0.904762    0.006432  0.557543  0.190179  0.103652       0.5       0.0   \n",
       "\n",
       "   Nombre 1  Nombre 2  Nombre 3  ...  Combustible 1  Combustible 2  \\\n",
       "0       0.0       0.0       0.0  ...            1.0            0.0   \n",
       "1       0.0       0.0       0.0  ...            0.0            0.0   \n",
       "2       0.0       0.0       0.0  ...            1.0            0.0   \n",
       "3       0.0       0.0       0.0  ...            0.0            0.0   \n",
       "4       0.0       0.0       0.0  ...            0.0            0.0   \n",
       "\n",
       "   Combustible 3  Combustible 4  Tipo_marchas 0  Tipo_marchas 1  Mano 0  \\\n",
       "0            0.0            0.0             0.0             1.0     1.0   \n",
       "1            0.0            1.0             0.0             1.0     1.0   \n",
       "2            0.0            0.0             0.0             1.0     1.0   \n",
       "3            0.0            1.0             0.0             1.0     1.0   \n",
       "4            0.0            1.0             0.0             1.0     1.0   \n",
       "\n",
       "   Mano 1  Mano 2  Mano 3  \n",
       "0     0.0     0.0     0.0  \n",
       "1     0.0     0.0     0.0  \n",
       "2     0.0     0.0     0.0  \n",
       "3     0.0     0.0     0.0  \n",
       "4     0.0     0.0     0.0  \n",
       "\n",
       "[5 rows x 59 columns]"
      ]
     },
     "execution_count": 25,
     "metadata": {},
     "output_type": "execute_result"
    }
   ],
   "source": [
    "data.head()"
   ]
  },
  {
   "cell_type": "markdown",
   "metadata": {},
   "source": [
    "## Aplicamos Oversampling"
   ]
  },
  {
   "cell_type": "code",
   "execution_count": 26,
   "metadata": {},
   "outputs": [],
   "source": [
    "data, target = SMOTE(random_state=15).fit_resample(data, target)"
   ]
  },
  {
   "cell_type": "code",
   "execution_count": 27,
   "metadata": {},
   "outputs": [
    {
     "data": {
      "text/plain": [
       "Counter({3: 1798, 2: 1798, 4: 1798, 5: 1798, 1: 1798})"
      ]
     },
     "execution_count": 27,
     "metadata": {},
     "output_type": "execute_result"
    }
   ],
   "source": [
    "Counter(target)"
   ]
  },
  {
   "cell_type": "markdown",
   "metadata": {},
   "source": [
    "## Modelo"
   ]
  },
  {
   "cell_type": "markdown",
   "metadata": {},
   "source": [
    "Entrenamos LGBMClassifier:"
   ]
  },
  {
   "cell_type": "markdown",
   "metadata": {},
   "source": [
    "Clasificadores usados para el boosting:"
   ]
  },
  {
   "cell_type": "code",
   "execution_count": 28,
   "metadata": {},
   "outputs": [
    {
     "name": "stdout",
     "output_type": "stream",
     "text": [
      "La accuracy del modelo es: 0.9268075639599556\n"
     ]
    }
   ],
   "source": [
    "lgbm_clf = lgbm.LGBMClassifier(random_state=15, boosting_type='gbdt')\n",
    "score = cross_val_score(lgbm_clf, data, target, cv=5)\n",
    "\n",
    "s = 0\n",
    "for i in range(len(score)):\n",
    "    s+= score[i]\n",
    "\n",
    "print(\"La accuracy del modelo es: \" + str(s/len(score)))"
   ]
  },
  {
   "cell_type": "code",
   "execution_count": 29,
   "metadata": {},
   "outputs": [
    {
     "name": "stdout",
     "output_type": "stream",
     "text": [
      "La accuracy del modelo es: 0.9123470522803114\n"
     ]
    }
   ],
   "source": [
    "lgbm_clf = lgbm.LGBMClassifier(random_state=15, boosting_type='dart')\n",
    "score = cross_val_score(lgbm_clf, data, target, cv=5)\n",
    "\n",
    "s = 0\n",
    "for i in range(len(score)):\n",
    "    s+= score[i]\n",
    "\n",
    "print(\"La accuracy del modelo es: \" + str(s/len(score)))"
   ]
  },
  {
   "cell_type": "code",
   "execution_count": 30,
   "metadata": {},
   "outputs": [
    {
     "name": "stdout",
     "output_type": "stream",
     "text": [
      "La accuracy del modelo es: 0.9270300333704116\n"
     ]
    }
   ],
   "source": [
    "lgbm_clf = lgbm.LGBMClassifier(random_state=15, boosting_type='goss')\n",
    "score = cross_val_score(lgbm_clf, data, target, cv=5)\n",
    "\n",
    "s = 0\n",
    "for i in range(len(score)):\n",
    "    s+= score[i]\n",
    "\n",
    "print(\"La accuracy del modelo es: \" + str(s/len(score)))"
   ]
  },
  {
   "cell_type": "markdown",
   "metadata": {},
   "source": [
    "Número de hojas:"
   ]
  },
  {
   "cell_type": "code",
   "execution_count": 32,
   "metadata": {},
   "outputs": [
    {
     "name": "stdout",
     "output_type": "stream",
     "text": [
      "10.0\n",
      "15.0\n",
      "20.0\n",
      "25.0\n",
      "30.0\n",
      "35.0\n",
      "40.0\n"
     ]
    }
   ],
   "source": [
    "# Vectores con los valores de las métricas\n",
    "accuracy = []\n",
    "\n",
    "for i in np.linspace(10, 40, num=7):\n",
    "    print(i)\n",
    "    lgbm_clf = lgbm.LGBMClassifier(random_state=15, boosting_type='goss', num_leaves=int(i))\n",
    "    score = cross_val_score(lgbm_clf, data, target, cv=5)\n",
    "\n",
    "    s = 0\n",
    "    for i in range(len(score)):\n",
    "        s+= score[i]\n",
    "    accuracy.append(s/len(score))"
   ]
  },
  {
   "cell_type": "code",
   "execution_count": 33,
   "metadata": {},
   "outputs": [
    {
     "data": {
      "image/png": "[encoded data removed]",
      "text/plain": [
       "<Figure size 432x288 with 1 Axes>"
      ]
     },
     "metadata": {
      "needs_background": "light"
     },
     "output_type": "display_data"
    }
   ],
   "source": [
    "grafica(np.linspace(10, 40, num=7), accuracy, 'Accuracy del LightBM para cada número de hojas', 'Nº de hojas', 'Accuracy')"
   ]
  },
  {
   "cell_type": "code",
   "execution_count": 34,
   "metadata": {},
   "outputs": [
    {
     "data": {
      "text/plain": [
       "[0.9070077864293659,\n",
       " 0.9164627363737485,\n",
       " 0.9222469410456062,\n",
       " 0.9263626251390434,\n",
       " 0.9259176863181313,\n",
       " 0.928364849833148,\n",
       " 0.9270300333704116]"
      ]
     },
     "execution_count": 34,
     "metadata": {},
     "output_type": "execute_result"
    }
   ],
   "source": [
    "accuracy"
   ]
  },
  {
   "cell_type": "code",
   "execution_count": 35,
   "metadata": {},
   "outputs": [
    {
     "name": "stdout",
     "output_type": "stream",
     "text": [
      "30.0\n",
      "31.0\n",
      "32.0\n",
      "33.0\n",
      "34.0\n",
      "35.0\n",
      "36.0\n",
      "37.0\n",
      "38.0\n",
      "39.0\n",
      "40.0\n"
     ]
    }
   ],
   "source": [
    "# Vectores con los valores de las métricas\n",
    "accuracy = []\n",
    "\n",
    "for i in np.linspace(30, 40, num=11):\n",
    "    print(i)\n",
    "    lgbm_clf = lgbm.LGBMClassifier(random_state=15, boosting_type='goss', num_leaves=int(i))\n",
    "    score = cross_val_score(lgbm_clf, data, target, cv=5)\n",
    "\n",
    "    s = 0\n",
    "    for i in range(len(score)):\n",
    "        s+= score[i]\n",
    "    accuracy.append(s/len(score))"
   ]
  },
  {
   "cell_type": "code",
   "execution_count": 36,
   "metadata": {},
   "outputs": [
    {
     "data": {
      "image/png": "[encoded data removed]",
      "text/plain": [
       "<Figure size 432x288 with 1 Axes>"
      ]
     },
     "metadata": {
      "needs_background": "light"
     },
     "output_type": "display_data"
    }
   ],
   "source": [
    "grafica(np.linspace(30, 40, num=11), accuracy, 'Accuracy del LightBM para cada número de hojas', 'Nº de hojas', 'Accuracy')"
   ]
  },
  {
   "cell_type": "code",
   "execution_count": 37,
   "metadata": {
    "scrolled": true
   },
   "outputs": [
    {
     "data": {
      "text/plain": [
       "[0.9259176863181313,\n",
       " 0.9270300333704116,\n",
       " 0.9265850945494993,\n",
       " 0.9282536151279199,\n",
       " 0.9276974416017797,\n",
       " 0.928364849833148,\n",
       " 0.9265850945494994,\n",
       " 0.9262513904338153,\n",
       " 0.9280311457174639,\n",
       " 0.9264738598442716,\n",
       " 0.9270300333704116]"
      ]
     },
     "execution_count": 37,
     "metadata": {},
     "output_type": "execute_result"
    }
   ],
   "source": [
    "accuracy"
   ]
  },
  {
   "cell_type": "markdown",
   "metadata": {},
   "source": [
    "Máxima profundidad:"
   ]
  },
  {
   "cell_type": "code",
   "execution_count": 38,
   "metadata": {},
   "outputs": [
    {
     "name": "stdout",
     "output_type": "stream",
     "text": [
      "1.0\n",
      "2.0\n",
      "3.0\n",
      "4.0\n",
      "5.0\n",
      "6.0\n",
      "7.0\n",
      "8.0\n",
      "9.0\n",
      "10.0\n",
      "11.0\n",
      "12.0\n",
      "13.0\n",
      "14.0\n",
      "15.0\n"
     ]
    }
   ],
   "source": [
    "# Vectores con los valores de las métricas\n",
    "accuracy = []\n",
    "\n",
    "for i in np.linspace(1, 15, num=15):\n",
    "    print(i)\n",
    "    lgbm_clf = lgbm.LGBMClassifier(random_state=15, boosting_type='goss', num_leaves=35, max_depth=int(i))\n",
    "    score = cross_val_score(lgbm_clf, data, target, cv=5)\n",
    "\n",
    "    s = 0\n",
    "    for i in range(len(score)):\n",
    "        s+= score[i]\n",
    "    accuracy.append(s/len(score))"
   ]
  },
  {
   "cell_type": "code",
   "execution_count": 39,
   "metadata": {},
   "outputs": [
    {
     "data": {
      "image/png": "[encoded data removed]",
      "text/plain": [
       "<Figure size 432x288 with 1 Axes>"
      ]
     },
     "metadata": {
      "needs_background": "light"
     },
     "output_type": "display_data"
    }
   ],
   "source": [
    "grafica(np.linspace(1, 15, num=15), accuracy, 'Accuracy del LightBM para cada profundidad', 'Profundidad', 'Accuracy')"
   ]
  },
  {
   "cell_type": "code",
   "execution_count": 40,
   "metadata": {
    "scrolled": true
   },
   "outputs": [
    {
     "data": {
      "text/plain": [
       "[0.7813125695216907,\n",
       " 0.8470522803114571,\n",
       " 0.8842046718576195,\n",
       " 0.9042269187986653,\n",
       " 0.9156840934371525,\n",
       " 0.9232480533926586,\n",
       " 0.925027808676307,\n",
       " 0.9265850945494994,\n",
       " 0.9255839822024472,\n",
       " 0.928698553948832,\n",
       " 0.928698553948832,\n",
       " 0.9272525027808676,\n",
       " 0.9266963292547274,\n",
       " 0.928587319243604,\n",
       " 0.9265850945494994]"
      ]
     },
     "execution_count": 40,
     "metadata": {},
     "output_type": "execute_result"
    }
   ],
   "source": [
    "accuracy"
   ]
  },
  {
   "cell_type": "markdown",
   "metadata": {},
   "source": [
    "Número de estimadores:"
   ]
  },
  {
   "cell_type": "code",
   "execution_count": 41,
   "metadata": {},
   "outputs": [
    {
     "name": "stdout",
     "output_type": "stream",
     "text": [
      "100.0\n",
      "150.0\n",
      "200.0\n",
      "250.0\n",
      "300.0\n",
      "350.0\n",
      "400.0\n",
      "450.0\n",
      "500.0\n"
     ]
    }
   ],
   "source": [
    "# Vectores con los valores de las métricas\n",
    "accuracy = []\n",
    "\n",
    "for i in np.linspace(100, 500, num=9):\n",
    "    print(i)\n",
    "    lgbm_clf = lgbm.LGBMClassifier(random_state=15, boosting_type='goss', num_leaves=35, max_depth=10, n_estimators=int(i))\n",
    "    score = cross_val_score(lgbm_clf, data, target, cv=5)\n",
    "\n",
    "    s = 0\n",
    "    for i in range(len(score)):\n",
    "        s+= score[i]\n",
    "    accuracy.append(s/len(score))"
   ]
  },
  {
   "cell_type": "code",
   "execution_count": 42,
   "metadata": {},
   "outputs": [
    {
     "data": {
      "image/png": "[encoded data removed]",
      "text/plain": [
       "<Figure size 432x288 with 1 Axes>"
      ]
     },
     "metadata": {
      "needs_background": "light"
     },
     "output_type": "display_data"
    }
   ],
   "source": [
    "grafica(np.linspace(100, 500, num=9), accuracy, 'Accuracy del LightBM para cada nº de estimadores', 'Nº de estimadores', 'Accuracy')"
   ]
  },
  {
   "cell_type": "code",
   "execution_count": 43,
   "metadata": {
    "scrolled": true
   },
   "outputs": [
    {
     "data": {
      "text/plain": [
       "[0.928698553948832,\n",
       " 0.9323692992213569,\n",
       " 0.9309232480533927,\n",
       " 0.9303670745272525,\n",
       " 0.928587319243604,\n",
       " 0.9311457174638488,\n",
       " 0.9293659621802004,\n",
       " 0.9298109010011124,\n",
       " 0.9292547274749723]"
      ]
     },
     "execution_count": 43,
     "metadata": {},
     "output_type": "execute_result"
    }
   ],
   "source": [
    "accuracy"
   ]
  },
  {
   "cell_type": "code",
   "execution_count": 51,
   "metadata": {},
   "outputs": [
    {
     "name": "stdout",
     "output_type": "stream",
     "text": [
      "100.0\n",
      "125.0\n",
      "150.0\n",
      "175.0\n",
      "200.0\n"
     ]
    }
   ],
   "source": [
    "# Vectores con los valores de las métricas\n",
    "accuracy = []\n",
    "\n",
    "for i in np.linspace(100, 200, num=5):\n",
    "    print(i)\n",
    "    lgbm_clf = lgbm.LGBMClassifier(random_state=15, boosting_type='goss', num_leaves=35, max_depth=10, n_estimators=int(i))\n",
    "    score = cross_val_score(lgbm_clf, data, target, cv=5)\n",
    "\n",
    "    s = 0\n",
    "    for i in range(len(score)):\n",
    "        s+= score[i]\n",
    "    accuracy.append(s/len(score))"
   ]
  },
  {
   "cell_type": "code",
   "execution_count": 53,
   "metadata": {},
   "outputs": [
    {
     "data": {
      "image/png": "[encoded data removed]",
      "text/plain": [
       "<Figure size 432x288 with 1 Axes>"
      ]
     },
     "metadata": {
      "needs_background": "light"
     },
     "output_type": "display_data"
    }
   ],
   "source": [
    "grafica(np.linspace(100, 200, num=5), accuracy, 'Accuracy del LightBM para cada nº de estimadores', 'Nº de estimadores', 'Accuracy')"
   ]
  },
  {
   "cell_type": "code",
   "execution_count": 54,
   "metadata": {},
   "outputs": [
    {
     "data": {
      "text/plain": [
       "[0.928698553948832,\n",
       " 0.9303670745272525,\n",
       " 0.932480533926585,\n",
       " 0.9314794215795328,\n",
       " 0.9314794215795328]"
      ]
     },
     "execution_count": 54,
     "metadata": {},
     "output_type": "execute_result"
    }
   ],
   "source": [
    "accuracy"
   ]
  },
  {
   "cell_type": "markdown",
   "metadata": {},
   "source": [
    "Learning rate:"
   ]
  },
  {
   "cell_type": "code",
   "execution_count": 44,
   "metadata": {},
   "outputs": [
    {
     "name": "stdout",
     "output_type": "stream",
     "text": [
      "0.05\n",
      "0.1\n",
      "0.15000000000000002\n",
      "0.2\n",
      "0.25\n",
      "0.3\n",
      "0.35000000000000003\n",
      "0.4\n",
      "0.45\n",
      "0.5\n"
     ]
    }
   ],
   "source": [
    "# Vectores con los valores de las métricas\n",
    "accuracy = []\n",
    "\n",
    "for i in np.linspace(0.05, 0.5, num=10):\n",
    "    print(i)\n",
    "    lgbm_clf = lgbm.LGBMClassifier(random_state=15, boosting_type='goss', num_leaves=35, max_depth=10, n_estimators=150, learning_rate=i)\n",
    "    score = cross_val_score(lgbm_clf, data, target, cv=5)\n",
    "\n",
    "    s = 0\n",
    "    for i in range(len(score)):\n",
    "        s+= score[i]\n",
    "    accuracy.append(s/len(score))"
   ]
  },
  {
   "cell_type": "code",
   "execution_count": 45,
   "metadata": {},
   "outputs": [
    {
     "data": {
      "image/png": "[encoded data removed]",
      "text/plain": [
       "<Figure size 432x288 with 1 Axes>"
      ]
     },
     "metadata": {
      "needs_background": "light"
     },
     "output_type": "display_data"
    }
   ],
   "source": [
    "grafica(np.linspace(0.05, 0.5, num=10), accuracy, 'Accuracy del LightBM para cada learning rate', 'learning rate', 'Accuracy')"
   ]
  },
  {
   "cell_type": "code",
   "execution_count": 46,
   "metadata": {},
   "outputs": [
    {
     "data": {
      "text/plain": [
       "[0.9218020022246941,\n",
       " 0.9323692992213569,\n",
       " 0.928698553948832,\n",
       " 0.9276974416017797,\n",
       " 0.9279199110122358,\n",
       " 0.9272525027808676,\n",
       " 0.7255839822024471,\n",
       " 0.5103448275862069,\n",
       " 0.5421579532814238,\n",
       " 0.48453837597330374]"
      ]
     },
     "execution_count": 46,
     "metadata": {},
     "output_type": "execute_result"
    }
   ],
   "source": [
    "accuracy"
   ]
  },
  {
   "cell_type": "markdown",
   "metadata": {},
   "source": [
    "Modelo final:"
   ]
  },
  {
   "cell_type": "code",
   "execution_count": 55,
   "metadata": {},
   "outputs": [
    {
     "name": "stdout",
     "output_type": "stream",
     "text": [
      "La accuracy del modelo es: 0.9339265850945495\n"
     ]
    }
   ],
   "source": [
    "# Vectores con los valores de las métricas\n",
    "gb_clf = GradientBoostingClassifier(random_state=15, n_estimators=760, min_samples_leaf=8, learning_rate=0.1)\n",
    "mlp_clf = MLPClassifier(random_state=15, hidden_layer_sizes=(300,300),activation='tanh',max_iter=800,early_stopping=True)\n",
    "rf_clf = RandomForestClassifier(random_state=15, n_estimators=230, criterion = \"entropy\")\n",
    "lgbm_clf = lgbm.LGBMClassifier(random_state=15, boosting_type='goss', num_leaves=35, max_depth=10, n_estimators=150)\n",
    "\n",
    "estimators = [('rf', rf_clf), ('mlp', mlp_clf), ('gb', gb_clf), ('lgbm', lgbm_clf)]\n",
    "st_clf = StackingClassifier(estimators=estimators, final_estimator=LogisticRegression(random_state=0, max_iter=400), n_jobs=4)\n",
    "score = cross_val_score(st_clf, data, target, cv=5)\n",
    "\n",
    "s = 0\n",
    "for i in range(len(score)):\n",
    "    s+= score[i]\n",
    "\n",
    "print(\"La accuracy del modelo es: \" + str(s/len(score)))"
   ]
  },
  {
   "cell_type": "markdown",
   "metadata": {},
   "source": [
    "## Predicción del test"
   ]
  },
  {
   "cell_type": "markdown",
   "metadata": {},
   "source": [
    "Procesamos los datos de test de la misma manera que procesamos los de entrenamiento"
   ]
  },
  {
   "cell_type": "code",
   "execution_count": 56,
   "metadata": {},
   "outputs": [
    {
     "data": {
      "text/html": [
       "<div>\n",
       "<style scoped>\n",
       "    .dataframe tbody tr th:only-of-type {\n",
       "        vertical-align: middle;\n",
       "    }\n",
       "\n",
       "    .dataframe tbody tr th {\n",
       "        vertical-align: top;\n",
       "    }\n",
       "\n",
       "    .dataframe thead th {\n",
       "        text-align: right;\n",
       "    }\n",
       "</style>\n",
       "<table border=\"1\" class=\"dataframe\">\n",
       "  <thead>\n",
       "    <tr style=\"text-align: right;\">\n",
       "      <th></th>\n",
       "      <th>id</th>\n",
       "      <th>Nombre</th>\n",
       "      <th>Ciudad</th>\n",
       "      <th>Año</th>\n",
       "      <th>Kilometros</th>\n",
       "      <th>Combustible</th>\n",
       "      <th>Tipo_marchas</th>\n",
       "      <th>Mano</th>\n",
       "      <th>Consumo</th>\n",
       "      <th>Motor_CC</th>\n",
       "      <th>Potencia</th>\n",
       "      <th>Asientos</th>\n",
       "    </tr>\n",
       "  </thead>\n",
       "  <tbody>\n",
       "    <tr>\n",
       "      <th>0</th>\n",
       "      <td>4820</td>\n",
       "      <td>Mercedes-Benz New C-Class C 220 CDI Avantgarde</td>\n",
       "      <td>H</td>\n",
       "      <td>2015</td>\n",
       "      <td>77771</td>\n",
       "      <td>Diesel</td>\n",
       "      <td>Automatic</td>\n",
       "      <td>First</td>\n",
       "      <td>19.27 kmpl</td>\n",
       "      <td>2143 CC</td>\n",
       "      <td>170 bhp</td>\n",
       "      <td>5.0</td>\n",
       "    </tr>\n",
       "    <tr>\n",
       "      <th>1</th>\n",
       "      <td>4821</td>\n",
       "      <td>Hyundai i10 Magna 1.1</td>\n",
       "      <td>J</td>\n",
       "      <td>2011</td>\n",
       "      <td>62000</td>\n",
       "      <td>Petrol</td>\n",
       "      <td>Manual</td>\n",
       "      <td>First</td>\n",
       "      <td>19.81 kmpl</td>\n",
       "      <td>1086 CC</td>\n",
       "      <td>68.05 bhp</td>\n",
       "      <td>5.0</td>\n",
       "    </tr>\n",
       "    <tr>\n",
       "      <th>2</th>\n",
       "      <td>4822</td>\n",
       "      <td>Ford Figo Diesel EXI</td>\n",
       "      <td>C</td>\n",
       "      <td>2010</td>\n",
       "      <td>129986</td>\n",
       "      <td>Diesel</td>\n",
       "      <td>Manual</td>\n",
       "      <td>Second</td>\n",
       "      <td>20.0 kmpl</td>\n",
       "      <td>1399 CC</td>\n",
       "      <td>68 bhp</td>\n",
       "      <td>5.0</td>\n",
       "    </tr>\n",
       "    <tr>\n",
       "      <th>3</th>\n",
       "      <td>4823</td>\n",
       "      <td>Maruti Swift Dzire VXI Optional</td>\n",
       "      <td>D</td>\n",
       "      <td>2015</td>\n",
       "      <td>49900</td>\n",
       "      <td>Petrol</td>\n",
       "      <td>Manual</td>\n",
       "      <td>First</td>\n",
       "      <td>20.85 kmpl</td>\n",
       "      <td>1197 CC</td>\n",
       "      <td>83.14 bhp</td>\n",
       "      <td>5.0</td>\n",
       "    </tr>\n",
       "    <tr>\n",
       "      <th>4</th>\n",
       "      <td>4824</td>\n",
       "      <td>Maruti Ritz VXI</td>\n",
       "      <td>J</td>\n",
       "      <td>2010</td>\n",
       "      <td>75319</td>\n",
       "      <td>Petrol</td>\n",
       "      <td>Manual</td>\n",
       "      <td>Second</td>\n",
       "      <td>21.1 kmpl</td>\n",
       "      <td>1197 CC</td>\n",
       "      <td>85.80 bhp</td>\n",
       "      <td>5.0</td>\n",
       "    </tr>\n",
       "    <tr>\n",
       "      <th>...</th>\n",
       "      <td>...</td>\n",
       "      <td>...</td>\n",
       "      <td>...</td>\n",
       "      <td>...</td>\n",
       "      <td>...</td>\n",
       "      <td>...</td>\n",
       "      <td>...</td>\n",
       "      <td>...</td>\n",
       "      <td>...</td>\n",
       "      <td>...</td>\n",
       "      <td>...</td>\n",
       "      <td>...</td>\n",
       "    </tr>\n",
       "    <tr>\n",
       "      <th>1154</th>\n",
       "      <td>5974</td>\n",
       "      <td>Chevrolet Beat Diesel LT</td>\n",
       "      <td>G</td>\n",
       "      <td>2012</td>\n",
       "      <td>88000</td>\n",
       "      <td>Diesel</td>\n",
       "      <td>Manual</td>\n",
       "      <td>First</td>\n",
       "      <td>25.44 kmpl</td>\n",
       "      <td>936 CC</td>\n",
       "      <td>57.6 bhp</td>\n",
       "      <td>5.0</td>\n",
       "    </tr>\n",
       "    <tr>\n",
       "      <th>1155</th>\n",
       "      <td>5975</td>\n",
       "      <td>Hyundai Verna CRDi</td>\n",
       "      <td>K</td>\n",
       "      <td>2010</td>\n",
       "      <td>72010</td>\n",
       "      <td>Diesel</td>\n",
       "      <td>Manual</td>\n",
       "      <td>First</td>\n",
       "      <td>16.8 kmpl</td>\n",
       "      <td>1493 CC</td>\n",
       "      <td>110 bhp</td>\n",
       "      <td>5.0</td>\n",
       "    </tr>\n",
       "    <tr>\n",
       "      <th>1156</th>\n",
       "      <td>5976</td>\n",
       "      <td>Mercedes-Benz A Class A180 CDI</td>\n",
       "      <td>J</td>\n",
       "      <td>2013</td>\n",
       "      <td>34000</td>\n",
       "      <td>Diesel</td>\n",
       "      <td>Automatic</td>\n",
       "      <td>Second</td>\n",
       "      <td>20.0 kmpl</td>\n",
       "      <td>2143 CC</td>\n",
       "      <td>107.3 bhp</td>\n",
       "      <td>5.0</td>\n",
       "    </tr>\n",
       "    <tr>\n",
       "      <th>1157</th>\n",
       "      <td>5977</td>\n",
       "      <td>BMW X1 M Sport sDrive 20d</td>\n",
       "      <td>B</td>\n",
       "      <td>2016</td>\n",
       "      <td>31000</td>\n",
       "      <td>Diesel</td>\n",
       "      <td>Automatic</td>\n",
       "      <td>First</td>\n",
       "      <td>17.05 kmpl</td>\n",
       "      <td>1995 CC</td>\n",
       "      <td>190 bhp</td>\n",
       "      <td>5.0</td>\n",
       "    </tr>\n",
       "    <tr>\n",
       "      <th>1158</th>\n",
       "      <td>5978</td>\n",
       "      <td>BMW 5 Series 2013-2017 530d M Sport</td>\n",
       "      <td>H</td>\n",
       "      <td>2015</td>\n",
       "      <td>65266</td>\n",
       "      <td>Diesel</td>\n",
       "      <td>Automatic</td>\n",
       "      <td>First</td>\n",
       "      <td>14.69 kmpl</td>\n",
       "      <td>2993 CC</td>\n",
       "      <td>258 bhp</td>\n",
       "      <td>5.0</td>\n",
       "    </tr>\n",
       "  </tbody>\n",
       "</table>\n",
       "<p>1159 rows × 12 columns</p>\n",
       "</div>"
      ],
      "text/plain": [
       "        id                                          Nombre Ciudad   Año  \\\n",
       "0     4820  Mercedes-Benz New C-Class C 220 CDI Avantgarde      H  2015   \n",
       "1     4821                           Hyundai i10 Magna 1.1      J  2011   \n",
       "2     4822                            Ford Figo Diesel EXI      C  2010   \n",
       "3     4823                 Maruti Swift Dzire VXI Optional      D  2015   \n",
       "4     4824                                 Maruti Ritz VXI      J  2010   \n",
       "...    ...                                             ...    ...   ...   \n",
       "1154  5974                        Chevrolet Beat Diesel LT      G  2012   \n",
       "1155  5975                              Hyundai Verna CRDi      K  2010   \n",
       "1156  5976                  Mercedes-Benz A Class A180 CDI      J  2013   \n",
       "1157  5977                       BMW X1 M Sport sDrive 20d      B  2016   \n",
       "1158  5978             BMW 5 Series 2013-2017 530d M Sport      H  2015   \n",
       "\n",
       "      Kilometros Combustible Tipo_marchas    Mano     Consumo Motor_CC  \\\n",
       "0          77771      Diesel    Automatic   First  19.27 kmpl  2143 CC   \n",
       "1          62000      Petrol       Manual   First  19.81 kmpl  1086 CC   \n",
       "2         129986      Diesel       Manual  Second   20.0 kmpl  1399 CC   \n",
       "3          49900      Petrol       Manual   First  20.85 kmpl  1197 CC   \n",
       "4          75319      Petrol       Manual  Second   21.1 kmpl  1197 CC   \n",
       "...          ...         ...          ...     ...         ...      ...   \n",
       "1154       88000      Diesel       Manual   First  25.44 kmpl   936 CC   \n",
       "1155       72010      Diesel       Manual   First   16.8 kmpl  1493 CC   \n",
       "1156       34000      Diesel    Automatic  Second   20.0 kmpl  2143 CC   \n",
       "1157       31000      Diesel    Automatic   First  17.05 kmpl  1995 CC   \n",
       "1158       65266      Diesel    Automatic   First  14.69 kmpl  2993 CC   \n",
       "\n",
       "       Potencia  Asientos  \n",
       "0       170 bhp       5.0  \n",
       "1     68.05 bhp       5.0  \n",
       "2        68 bhp       5.0  \n",
       "3     83.14 bhp       5.0  \n",
       "4     85.80 bhp       5.0  \n",
       "...         ...       ...  \n",
       "1154   57.6 bhp       5.0  \n",
       "1155    110 bhp       5.0  \n",
       "1156  107.3 bhp       5.0  \n",
       "1157    190 bhp       5.0  \n",
       "1158    258 bhp       5.0  \n",
       "\n",
       "[1159 rows x 12 columns]"
      ]
     },
     "execution_count": 56,
     "metadata": {},
     "output_type": "execute_result"
    }
   ],
   "source": [
    "p1_test = test.copy()\n",
    "del(p1_test['Descuento'])\n",
    "p1_test = p1_test.dropna()\n",
    "p1_test = p1_test.reset_index()\n",
    "del(p1_test['index'])\n",
    "p1_test"
   ]
  },
  {
   "cell_type": "markdown",
   "metadata": {},
   "source": [
    "### HotVectors"
   ]
  },
  {
   "cell_type": "markdown",
   "metadata": {},
   "source": [
    "Nombre:"
   ]
  },
  {
   "cell_type": "code",
   "execution_count": 57,
   "metadata": {},
   "outputs": [
    {
     "name": "stderr",
     "output_type": "stream",
     "text": [
      "/home/patricia/.local/lib/python3.8/site-packages/pandas/core/indexing.py:670: SettingWithCopyWarning: \n",
      "A value is trying to be set on a copy of a slice from a DataFrame\n",
      "\n",
      "See the caveats in the documentation: https://pandas.pydata.org/pandas-docs/stable/user_guide/indexing.html#returning-a-view-versus-a-copy\n",
      "  iloc._setitem_with_indexer(indexer, value)\n"
     ]
    }
   ],
   "source": [
    "for i in range(len(p1_test)):\n",
    "    p1_test[\"Nombre\"].iloc[i] = p1_test[\"Nombre\"].iloc[i].split(' ')[0]"
   ]
  },
  {
   "cell_type": "code",
   "execution_count": 58,
   "metadata": {},
   "outputs": [],
   "source": [
    "aux = encNombre.transform(p1_test[\"Nombre\"].to_numpy().reshape(-1, 1)).toarray()\n",
    "aux = pd.DataFrame(aux)\n",
    "\n",
    "for i in range(aux.shape[1]):\n",
    "    p1_test[\"Nombre \" + str(i)] = aux[i]\n",
    "    \n",
    "del(p1_test['Nombre'])"
   ]
  },
  {
   "cell_type": "markdown",
   "metadata": {},
   "source": [
    "Ciudad:"
   ]
  },
  {
   "cell_type": "code",
   "execution_count": 59,
   "metadata": {},
   "outputs": [],
   "source": [
    "aux = encCiudad.transform(p1_test[\"Ciudad\"].to_numpy().reshape(-1, 1)).toarray()\n",
    "aux = pd.DataFrame(aux)\n",
    "\n",
    "for i in range(aux.shape[1]):\n",
    "    p1_test[\"Ciudad \" + str(i)] = aux[i]\n",
    "    \n",
    "del(p1_test['Ciudad'])"
   ]
  },
  {
   "cell_type": "markdown",
   "metadata": {},
   "source": [
    "Combustible:"
   ]
  },
  {
   "cell_type": "code",
   "execution_count": 60,
   "metadata": {},
   "outputs": [],
   "source": [
    "aux = encCombustible.transform(p1_test[\"Combustible\"].to_numpy().reshape(-1, 1)).toarray()\n",
    "aux = pd.DataFrame(aux)\n",
    "\n",
    "for i in range(aux.shape[1]):\n",
    "    p1_test[\"Combustible \" + str(i)] = aux[i]\n",
    "    \n",
    "del(p1_test['Combustible'])"
   ]
  },
  {
   "cell_type": "markdown",
   "metadata": {},
   "source": [
    "Tipo_marchas:"
   ]
  },
  {
   "cell_type": "code",
   "execution_count": 61,
   "metadata": {},
   "outputs": [],
   "source": [
    "aux = encTipo_marchas.transform(p1_test[\"Tipo_marchas\"].to_numpy().reshape(-1, 1)).toarray()\n",
    "aux = pd.DataFrame(aux)\n",
    "\n",
    "for i in range(aux.shape[1]):\n",
    "    p1_test[\"Tipo_marchas \" + str(i)] = aux[i]\n",
    "    \n",
    "del(p1_test['Tipo_marchas'])"
   ]
  },
  {
   "cell_type": "markdown",
   "metadata": {},
   "source": [
    "Mano:"
   ]
  },
  {
   "cell_type": "code",
   "execution_count": 62,
   "metadata": {},
   "outputs": [],
   "source": [
    "aux = encMano.transform(p1_test[\"Mano\"].to_numpy().reshape(-1, 1)).toarray()\n",
    "aux = pd.DataFrame(aux)\n",
    "\n",
    "for i in range(aux.shape[1]):\n",
    "    p1_test[\"Mano \" + str(i)] = aux[i]\n",
    "    \n",
    "del(p1_test['Mano'])"
   ]
  },
  {
   "cell_type": "markdown",
   "metadata": {},
   "source": [
    "### Pasar a numéricas las variables cuantitativas"
   ]
  },
  {
   "cell_type": "markdown",
   "metadata": {},
   "source": [
    "Consumo:"
   ]
  },
  {
   "cell_type": "code",
   "execution_count": 63,
   "metadata": {
    "scrolled": true
   },
   "outputs": [
    {
     "name": "stderr",
     "output_type": "stream",
     "text": [
      "/home/patricia/.local/lib/python3.8/site-packages/pandas/core/indexing.py:670: SettingWithCopyWarning: \n",
      "A value is trying to be set on a copy of a slice from a DataFrame\n",
      "\n",
      "See the caveats in the documentation: https://pandas.pydata.org/pandas-docs/stable/user_guide/indexing.html#returning-a-view-versus-a-copy\n",
      "  iloc._setitem_with_indexer(indexer, value)\n"
     ]
    }
   ],
   "source": [
    "for i in range(len(p1_test)):\n",
    "    p1_test[\"Consumo\"].iloc[i] = float(p1_test[\"Consumo\"].iloc[i].strip(' kmlp'))"
   ]
  },
  {
   "cell_type": "markdown",
   "metadata": {},
   "source": [
    "Motor_CC:"
   ]
  },
  {
   "cell_type": "code",
   "execution_count": 64,
   "metadata": {},
   "outputs": [],
   "source": [
    "for i in range(len(p1_test)):\n",
    "    p1_test[\"Motor_CC\"].iloc[i] = float(p1_test[\"Motor_CC\"].iloc[i].strip(' CC'))"
   ]
  },
  {
   "cell_type": "markdown",
   "metadata": {},
   "source": [
    "Potencia:"
   ]
  },
  {
   "cell_type": "code",
   "execution_count": 65,
   "metadata": {},
   "outputs": [],
   "source": [
    "for i in range(len(p1_test)):\n",
    "    p1_test[\"Potencia\"].iloc[i]= float(p1_test[\"Potencia\"].iloc[i].strip(' bhp'))"
   ]
  },
  {
   "cell_type": "code",
   "execution_count": 66,
   "metadata": {},
   "outputs": [],
   "source": [
    "p1_test[\"Consumo\"] = p1_test[\"Consumo\"].astype(float)\n",
    "p1_test[\"Motor_CC\"] = p1_test[\"Motor_CC\"].astype(float)\n",
    "p1_test[\"Potencia\"] = p1_test[\"Potencia\"].astype(float)"
   ]
  },
  {
   "cell_type": "markdown",
   "metadata": {},
   "source": [
    "### Normalizar:"
   ]
  },
  {
   "cell_type": "code",
   "execution_count": 67,
   "metadata": {},
   "outputs": [],
   "source": [
    "aux = scalerYear.transform(p1_test[\"Año\"].to_numpy().reshape(-1, 1))\n",
    "aux = pd.DataFrame(aux)\n",
    "p1_test[\"Año\"] = aux[0]"
   ]
  },
  {
   "cell_type": "code",
   "execution_count": 68,
   "metadata": {},
   "outputs": [],
   "source": [
    "aux = scalerKilometros.transform(p1_test[\"Kilometros\"].to_numpy().reshape(-1, 1))\n",
    "aux = pd.DataFrame(aux)\n",
    "p1_test[\"Kilometros\"] = aux[0]"
   ]
  },
  {
   "cell_type": "code",
   "execution_count": 69,
   "metadata": {},
   "outputs": [],
   "source": [
    "aux = scalerConsumo.transform(p1_test[\"Consumo\"].to_numpy().reshape(-1, 1))\n",
    "aux = pd.DataFrame(aux)\n",
    "p1_test[\"Consumo\"] = aux[0]"
   ]
  },
  {
   "cell_type": "code",
   "execution_count": 70,
   "metadata": {},
   "outputs": [],
   "source": [
    "aux = scalerMotor_CC.transform(p1_test[\"Motor_CC\"].to_numpy().reshape(-1, 1))\n",
    "aux = pd.DataFrame(aux)\n",
    "p1_test[\"Motor_CC\"] = aux[0]"
   ]
  },
  {
   "cell_type": "code",
   "execution_count": 71,
   "metadata": {},
   "outputs": [],
   "source": [
    "aux = scalerPotencia.transform(p1_test[\"Potencia\"].to_numpy().reshape(-1, 1))\n",
    "aux = pd.DataFrame(aux)\n",
    "p1_test[\"Potencia\"] = aux[0]"
   ]
  },
  {
   "cell_type": "code",
   "execution_count": 72,
   "metadata": {},
   "outputs": [],
   "source": [
    "aux = scalerAsientos.transform(p1_test[\"Asientos\"].to_numpy().reshape(-1, 1))\n",
    "aux = pd.DataFrame(aux)\n",
    "p1_test[\"Asientos\"] = aux[0]"
   ]
  },
  {
   "cell_type": "markdown",
   "metadata": {},
   "source": [
    "### Entrenamos el modelo"
   ]
  },
  {
   "cell_type": "code",
   "execution_count": 73,
   "metadata": {},
   "outputs": [],
   "source": [
    "ids = p1_test['id']\n",
    "del(p1_test['id'])"
   ]
  },
  {
   "cell_type": "code",
   "execution_count": 74,
   "metadata": {},
   "outputs": [],
   "source": [
    "# Vectores con los valores de las métricas\n",
    "gb_clf = GradientBoostingClassifier(random_state=15, n_estimators=760, min_samples_leaf=8, learning_rate=0.1)\n",
    "mlp_clf = MLPClassifier(random_state=15, hidden_layer_sizes=(300,300),activation='tanh',max_iter=800,early_stopping=True)\n",
    "rf_clf = RandomForestClassifier(random_state=15, n_estimators=230, criterion = \"entropy\")\n",
    "lgbm_clf = lgbm.LGBMClassifier(random_state=15, boosting_type='goss', num_leaves=35, max_depth=10, n_estimators=150)\n",
    "\n",
    "estimators = [('rf', rf_clf), ('mlp', mlp_clf), ('gb', gb_clf), ('lgbm', lgbm_clf)]\n",
    "st_clf = StackingClassifier(estimators=estimators, final_estimator=LogisticRegression(random_state=0, max_iter=400), n_jobs=4)\n",
    "st_clf.fit(data, target)\n",
    "predict = st_clf.predict(p1_test)"
   ]
  },
  {
   "cell_type": "code",
   "execution_count": 75,
   "metadata": {},
   "outputs": [],
   "source": [
    "df_result = pd.DataFrame({'id': ids, 'Precio_cat': predict})\n",
    "df_result.to_csv(\"p3_09.csv\", index=False)"
   ]
  },
  {
   "cell_type": "code",
   "execution_count": 76,
   "metadata": {},
   "outputs": [],
   "source": [
    "predict = pd.read_csv(\"p3_09.csv\", na_values=[\"?\"])"
   ]
  },
  {
   "cell_type": "code",
   "execution_count": 77,
   "metadata": {},
   "outputs": [
    {
     "data": {
      "text/html": [
       "<div>\n",
       "<style scoped>\n",
       "    .dataframe tbody tr th:only-of-type {\n",
       "        vertical-align: middle;\n",
       "    }\n",
       "\n",
       "    .dataframe tbody tr th {\n",
       "        vertical-align: top;\n",
       "    }\n",
       "\n",
       "    .dataframe thead th {\n",
       "        text-align: right;\n",
       "    }\n",
       "</style>\n",
       "<table border=\"1\" class=\"dataframe\">\n",
       "  <thead>\n",
       "    <tr style=\"text-align: right;\">\n",
       "      <th></th>\n",
       "      <th>id</th>\n",
       "      <th>Precio_cat</th>\n",
       "    </tr>\n",
       "  </thead>\n",
       "  <tbody>\n",
       "    <tr>\n",
       "      <th>0</th>\n",
       "      <td>4820</td>\n",
       "      <td>5</td>\n",
       "    </tr>\n",
       "    <tr>\n",
       "      <th>1</th>\n",
       "      <td>4821</td>\n",
       "      <td>2</td>\n",
       "    </tr>\n",
       "    <tr>\n",
       "      <th>2</th>\n",
       "      <td>4822</td>\n",
       "      <td>2</td>\n",
       "    </tr>\n",
       "    <tr>\n",
       "      <th>3</th>\n",
       "      <td>4823</td>\n",
       "      <td>3</td>\n",
       "    </tr>\n",
       "    <tr>\n",
       "      <th>4</th>\n",
       "      <td>4824</td>\n",
       "      <td>2</td>\n",
       "    </tr>\n",
       "    <tr>\n",
       "      <th>...</th>\n",
       "      <td>...</td>\n",
       "      <td>...</td>\n",
       "    </tr>\n",
       "    <tr>\n",
       "      <th>1154</th>\n",
       "      <td>5974</td>\n",
       "      <td>2</td>\n",
       "    </tr>\n",
       "    <tr>\n",
       "      <th>1155</th>\n",
       "      <td>5975</td>\n",
       "      <td>3</td>\n",
       "    </tr>\n",
       "    <tr>\n",
       "      <th>1156</th>\n",
       "      <td>5976</td>\n",
       "      <td>4</td>\n",
       "    </tr>\n",
       "    <tr>\n",
       "      <th>1157</th>\n",
       "      <td>5977</td>\n",
       "      <td>5</td>\n",
       "    </tr>\n",
       "    <tr>\n",
       "      <th>1158</th>\n",
       "      <td>5978</td>\n",
       "      <td>5</td>\n",
       "    </tr>\n",
       "  </tbody>\n",
       "</table>\n",
       "<p>1159 rows × 2 columns</p>\n",
       "</div>"
      ],
      "text/plain": [
       "        id  Precio_cat\n",
       "0     4820           5\n",
       "1     4821           2\n",
       "2     4822           2\n",
       "3     4823           3\n",
       "4     4824           2\n",
       "...    ...         ...\n",
       "1154  5974           2\n",
       "1155  5975           3\n",
       "1156  5976           4\n",
       "1157  5977           5\n",
       "1158  5978           5\n",
       "\n",
       "[1159 rows x 2 columns]"
      ]
     },
     "execution_count": 77,
     "metadata": {},
     "output_type": "execute_result"
    }
   ],
   "source": [
    "predict"
   ]
  }
 ],
 "metadata": {
  "@webio": {
   "lastCommId": null,
   "lastKernelId": null
  },
  "jupytext": {
   "formats": "ipynb,md"
  },
  "kernelspec": {
   "display_name": "Python 3",
   "language": "python",
   "name": "python3"
  },
  "language_info": {
   "codemirror_mode": {
    "name": "ipython",
    "version": 3
   },
   "file_extension": ".py",
   "mimetype": "text/x-python",
   "name": "python",
   "nbconvert_exporter": "python",
   "pygments_lexer": "ipython3",
   "version": "3.8.5"
  },
  "toc": {
   "base_numbering": 1,
   "nav_menu": {},
   "number_sections": true,
   "sideBar": true,
   "skip_h1_title": false,
   "title_cell": "Table of Contents",
   "title_sidebar": "Contents",
   "toc_cell": false,
   "toc_position": {},
   "toc_section_display": true,
   "toc_window_display": false
  },
  "varInspector": {
   "cols": {
    "lenName": 16,
    "lenType": 16,
    "lenVar": 40
   },
   "kernels_config": {
    "python": {
     "delete_cmd_postfix": "",
     "delete_cmd_prefix": "del ",
     "library": "var_list.py",
     "varRefreshCmd": "print(var_dic_list())"
    },
    "r": {
     "delete_cmd_postfix": ") ",
     "delete_cmd_prefix": "rm(",
     "library": "var_list.r",
     "varRefreshCmd": "cat(var_dic_list()) "
    }
   },
   "types_to_exclude": [
    "module",
    "function",
    "builtin_function_or_method",
    "instance",
    "_Feature"
   ],
   "window_display": false
  }
 },
 "nbformat": 4,
 "nbformat_minor": 4
}
