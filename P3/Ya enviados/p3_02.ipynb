{
 "cells": [
  {
   "cell_type": "markdown",
   "metadata": {},
   "source": [
    "# Práctica 3: Tercera prueba"
   ]
  },
  {
   "cell_type": "markdown",
   "metadata": {},
   "source": [
    "Importamos las librerías necesarias."
   ]
  },
  {
   "cell_type": "code",
   "execution_count": 65,
   "metadata": {},
   "outputs": [],
   "source": [
    "from collections import Counter\n",
    "import pandas as pd\n",
    "import numpy as np\n",
    "from sklearn import preprocessing\n",
    "\n",
    "from sklearn.decomposition import PCA\n",
    "from sklearn.manifold import TSNE\n",
    "from matplotlib import pyplot as plt\n",
    "import seaborn as sns\n",
    "\n",
    "from sklearn.neighbors import KNeighborsClassifier\n",
    "from sklearn.neural_network import MLPClassifier\n",
    "from sklearn.ensemble import RandomForestClassifier\n",
    "\n",
    "from sklearn.preprocessing import LabelEncoder\n",
    "from sklearn.model_selection import cross_val_score\n",
    "from sklearn.model_selection import StratifiedKFold\n",
    "\n",
    "from imblearn.over_sampling import SMOTE"
   ]
  },
  {
   "cell_type": "markdown",
   "metadata": {},
   "source": [
    "### Funciones auxiliares"
   ]
  },
  {
   "cell_type": "code",
   "execution_count": 66,
   "metadata": {},
   "outputs": [],
   "source": [
    "def grafica(data, label, title, xlab, ylab):\n",
    "    plt.plot(data,label, c='b')\n",
    "    plt.title(title)\n",
    "    plt.xlabel(xlab)\n",
    "    plt.ylabel(ylab)\n",
    "\n",
    "    plt.show()\n",
    "\n",
    "def graf_barras(data, label, title, xlab, ylab):\n",
    "    fig, ax = plt.subplots()\n",
    "    ax.bar(data, label, color='c')\n",
    "    ax.set_title(title)\n",
    "    ax.set_xlabel(xlab)\n",
    "    ax.set_ylabel(ylab)"
   ]
  },
  {
   "cell_type": "markdown",
   "metadata": {},
   "source": [
    "## Lectura de datos"
   ]
  },
  {
   "cell_type": "markdown",
   "metadata": {},
   "source": [
    "Leemos los datos:"
   ]
  },
  {
   "cell_type": "code",
   "execution_count": 67,
   "metadata": {},
   "outputs": [],
   "source": [
    "datos = pd.read_csv(\"datos/train.csv\", na_values=[\"?\"])\n",
    "test = pd.read_csv(\"datos/test.csv\", na_values=[\"?\"])\n",
    "\n",
    "year = pd.read_csv(\"datos/ao.csv\", na_values=[\"?\"])\n",
    "asientos = pd.read_csv(\"datos/asientos.csv\", na_values=[\"?\"])\n",
    "ciudad = pd.read_csv(\"datos/ciudad.csv\", na_values=[\"?\"])\n",
    "combustible = pd.read_csv(\"datos/combustible.csv\", na_values=[\"?\"])\n",
    "consumo = pd.read_csv(\"datos/consumo.csv\", na_values=[\"?\"])\n",
    "descuento = pd.read_csv(\"datos/descuento.csv\", na_values=[\"?\"])\n",
    "kilometros = pd.read_csv(\"datos/kilometros.csv\", na_values=[\"?\"])\n",
    "mano = pd.read_csv(\"datos/mano.csv\", na_values=[\"?\"])\n",
    "motor_cc = pd.read_csv(\"datos/motor_cc.csv\", na_values=[\"?\"])\n",
    "nombre = pd.read_csv(\"datos/nombre.csv\", na_values=[\"?\"])\n",
    "potencia = pd.read_csv(\"datos/potencia.csv\", na_values=[\"?\"])\n",
    "precio_cat = pd.read_csv(\"datos/precio_cat.csv\", na_values=[\"?\"])\n",
    "tipo_marchas = pd.read_csv(\"datos/tipo_marchas.csv\", na_values=[\"?\"])"
   ]
  },
  {
   "cell_type": "markdown",
   "metadata": {},
   "source": [
    "## Preprocesamiento"
   ]
  },
  {
   "cell_type": "markdown",
   "metadata": {},
   "source": [
    "### Tratamiento de datos perdidos"
   ]
  },
  {
   "cell_type": "markdown",
   "metadata": {},
   "source": [
    "Eliminamos la variable Descuento, que tiene muchos datos perdidos. Reindexamos y eliminamos la variable recien creada index. Eliminamos el resto de datos con valores perdidos."
   ]
  },
  {
   "cell_type": "code",
   "execution_count": 68,
   "metadata": {
    "scrolled": false
   },
   "outputs": [
    {
     "data": {
      "text/html": [
       "<div>\n",
       "<style scoped>\n",
       "    .dataframe tbody tr th:only-of-type {\n",
       "        vertical-align: middle;\n",
       "    }\n",
       "\n",
       "    .dataframe tbody tr th {\n",
       "        vertical-align: top;\n",
       "    }\n",
       "\n",
       "    .dataframe thead th {\n",
       "        text-align: right;\n",
       "    }\n",
       "</style>\n",
       "<table border=\"1\" class=\"dataframe\">\n",
       "  <thead>\n",
       "    <tr style=\"text-align: right;\">\n",
       "      <th></th>\n",
       "      <th>id</th>\n",
       "      <th>Nombre</th>\n",
       "      <th>Ciudad</th>\n",
       "      <th>Año</th>\n",
       "      <th>Kilometros</th>\n",
       "      <th>Combustible</th>\n",
       "      <th>Tipo_marchas</th>\n",
       "      <th>Mano</th>\n",
       "      <th>Consumo</th>\n",
       "      <th>Motor_CC</th>\n",
       "      <th>Potencia</th>\n",
       "      <th>Asientos</th>\n",
       "      <th>Precio_cat</th>\n",
       "    </tr>\n",
       "  </thead>\n",
       "  <tbody>\n",
       "    <tr>\n",
       "      <th>0</th>\n",
       "      <td>1.0</td>\n",
       "      <td>Maruti Swift Dzire ZDI</td>\n",
       "      <td>G</td>\n",
       "      <td>2012.0</td>\n",
       "      <td>83000.0</td>\n",
       "      <td>Diesel</td>\n",
       "      <td>Manual</td>\n",
       "      <td>First</td>\n",
       "      <td>23.4 kmpl</td>\n",
       "      <td>1248 CC</td>\n",
       "      <td>74 bhp</td>\n",
       "      <td>5.0</td>\n",
       "      <td>3</td>\n",
       "    </tr>\n",
       "    <tr>\n",
       "      <th>1</th>\n",
       "      <td>2.0</td>\n",
       "      <td>Maruti Wagon R LXI Optional</td>\n",
       "      <td>I</td>\n",
       "      <td>2016.0</td>\n",
       "      <td>4800.0</td>\n",
       "      <td>Petrol</td>\n",
       "      <td>Manual</td>\n",
       "      <td>First</td>\n",
       "      <td>20.51 kmpl</td>\n",
       "      <td>998 CC</td>\n",
       "      <td>67.04 bhp</td>\n",
       "      <td>5.0</td>\n",
       "      <td>3</td>\n",
       "    </tr>\n",
       "    <tr>\n",
       "      <th>2</th>\n",
       "      <td>3.0</td>\n",
       "      <td>Mahindra KUV 100 mFALCON D75 K8</td>\n",
       "      <td>F</td>\n",
       "      <td>2016.0</td>\n",
       "      <td>26000.0</td>\n",
       "      <td>Diesel</td>\n",
       "      <td>Manual</td>\n",
       "      <td>First</td>\n",
       "      <td>25.32 kmpl</td>\n",
       "      <td>1198 CC</td>\n",
       "      <td>77 bhp</td>\n",
       "      <td>6.0</td>\n",
       "      <td>3</td>\n",
       "    </tr>\n",
       "    <tr>\n",
       "      <th>3</th>\n",
       "      <td>4.0</td>\n",
       "      <td>Hyundai i20 1.2 Magna</td>\n",
       "      <td>E</td>\n",
       "      <td>2013.0</td>\n",
       "      <td>56127.0</td>\n",
       "      <td>Petrol</td>\n",
       "      <td>Manual</td>\n",
       "      <td>First</td>\n",
       "      <td>18.5 kmpl</td>\n",
       "      <td>1197 CC</td>\n",
       "      <td>80 bhp</td>\n",
       "      <td>5.0</td>\n",
       "      <td>3</td>\n",
       "    </tr>\n",
       "    <tr>\n",
       "      <th>4</th>\n",
       "      <td>5.0</td>\n",
       "      <td>Honda Jazz 1.2 SV i VTEC</td>\n",
       "      <td>H</td>\n",
       "      <td>2017.0</td>\n",
       "      <td>41981.0</td>\n",
       "      <td>Petrol</td>\n",
       "      <td>Manual</td>\n",
       "      <td>First</td>\n",
       "      <td>18.7 kmpl</td>\n",
       "      <td>1199 CC</td>\n",
       "      <td>88.7 bhp</td>\n",
       "      <td>5.0</td>\n",
       "      <td>3</td>\n",
       "    </tr>\n",
       "    <tr>\n",
       "      <th>...</th>\n",
       "      <td>...</td>\n",
       "      <td>...</td>\n",
       "      <td>...</td>\n",
       "      <td>...</td>\n",
       "      <td>...</td>\n",
       "      <td>...</td>\n",
       "      <td>...</td>\n",
       "      <td>...</td>\n",
       "      <td>...</td>\n",
       "      <td>...</td>\n",
       "      <td>...</td>\n",
       "      <td>...</td>\n",
       "      <td>...</td>\n",
       "    </tr>\n",
       "    <tr>\n",
       "      <th>3941</th>\n",
       "      <td>4813.0</td>\n",
       "      <td>Audi A4 New 2.0 TDI Multitronic</td>\n",
       "      <td>J</td>\n",
       "      <td>2012.0</td>\n",
       "      <td>60000.0</td>\n",
       "      <td>Diesel</td>\n",
       "      <td>Automatic</td>\n",
       "      <td>Second</td>\n",
       "      <td>15.2 kmpl</td>\n",
       "      <td>1968 CC</td>\n",
       "      <td>140.8 bhp</td>\n",
       "      <td>5.0</td>\n",
       "      <td>4</td>\n",
       "    </tr>\n",
       "    <tr>\n",
       "      <th>3942</th>\n",
       "      <td>4814.0</td>\n",
       "      <td>Volkswagen Vento Petrol Highline</td>\n",
       "      <td>C</td>\n",
       "      <td>2012.0</td>\n",
       "      <td>67200.0</td>\n",
       "      <td>Petrol</td>\n",
       "      <td>Manual</td>\n",
       "      <td>First</td>\n",
       "      <td>15.04 kmpl</td>\n",
       "      <td>1598 CC</td>\n",
       "      <td>103.6 bhp</td>\n",
       "      <td>5.0</td>\n",
       "      <td>3</td>\n",
       "    </tr>\n",
       "    <tr>\n",
       "      <th>3943</th>\n",
       "      <td>4815.0</td>\n",
       "      <td>Maruti Swift VDI</td>\n",
       "      <td>E</td>\n",
       "      <td>2014.0</td>\n",
       "      <td>83274.0</td>\n",
       "      <td>Diesel</td>\n",
       "      <td>Manual</td>\n",
       "      <td>First</td>\n",
       "      <td>22.9 kmpl</td>\n",
       "      <td>1248 CC</td>\n",
       "      <td>74 bhp</td>\n",
       "      <td>5.0</td>\n",
       "      <td>3</td>\n",
       "    </tr>\n",
       "    <tr>\n",
       "      <th>3944</th>\n",
       "      <td>4818.0</td>\n",
       "      <td>Hyundai Xcent 1.2 VTVT S</td>\n",
       "      <td>E</td>\n",
       "      <td>2015.0</td>\n",
       "      <td>65743.0</td>\n",
       "      <td>Petrol</td>\n",
       "      <td>Manual</td>\n",
       "      <td>First</td>\n",
       "      <td>20.14 kmpl</td>\n",
       "      <td>1197 CC</td>\n",
       "      <td>81.86 bhp</td>\n",
       "      <td>5.0</td>\n",
       "      <td>3</td>\n",
       "    </tr>\n",
       "    <tr>\n",
       "      <th>3945</th>\n",
       "      <td>4819.0</td>\n",
       "      <td>Maruti Ertiga ZDI</td>\n",
       "      <td>B</td>\n",
       "      <td>2013.0</td>\n",
       "      <td>75000.0</td>\n",
       "      <td>Diesel</td>\n",
       "      <td>Manual</td>\n",
       "      <td>First</td>\n",
       "      <td>20.77 kmpl</td>\n",
       "      <td>1248 CC</td>\n",
       "      <td>88.8 bhp</td>\n",
       "      <td>7.0</td>\n",
       "      <td>3</td>\n",
       "    </tr>\n",
       "  </tbody>\n",
       "</table>\n",
       "<p>3946 rows × 13 columns</p>\n",
       "</div>"
      ],
      "text/plain": [
       "          id                            Nombre Ciudad     Año  Kilometros  \\\n",
       "0        1.0            Maruti Swift Dzire ZDI      G  2012.0     83000.0   \n",
       "1        2.0       Maruti Wagon R LXI Optional      I  2016.0      4800.0   \n",
       "2        3.0   Mahindra KUV 100 mFALCON D75 K8      F  2016.0     26000.0   \n",
       "3        4.0             Hyundai i20 1.2 Magna      E  2013.0     56127.0   \n",
       "4        5.0          Honda Jazz 1.2 SV i VTEC      H  2017.0     41981.0   \n",
       "...      ...                               ...    ...     ...         ...   \n",
       "3941  4813.0   Audi A4 New 2.0 TDI Multitronic      J  2012.0     60000.0   \n",
       "3942  4814.0  Volkswagen Vento Petrol Highline      C  2012.0     67200.0   \n",
       "3943  4815.0                  Maruti Swift VDI      E  2014.0     83274.0   \n",
       "3944  4818.0          Hyundai Xcent 1.2 VTVT S      E  2015.0     65743.0   \n",
       "3945  4819.0                 Maruti Ertiga ZDI      B  2013.0     75000.0   \n",
       "\n",
       "     Combustible Tipo_marchas    Mano     Consumo Motor_CC   Potencia  \\\n",
       "0         Diesel       Manual   First   23.4 kmpl  1248 CC     74 bhp   \n",
       "1         Petrol       Manual   First  20.51 kmpl   998 CC  67.04 bhp   \n",
       "2         Diesel       Manual   First  25.32 kmpl  1198 CC     77 bhp   \n",
       "3         Petrol       Manual   First   18.5 kmpl  1197 CC     80 bhp   \n",
       "4         Petrol       Manual   First   18.7 kmpl  1199 CC   88.7 bhp   \n",
       "...          ...          ...     ...         ...      ...        ...   \n",
       "3941      Diesel    Automatic  Second   15.2 kmpl  1968 CC  140.8 bhp   \n",
       "3942      Petrol       Manual   First  15.04 kmpl  1598 CC  103.6 bhp   \n",
       "3943      Diesel       Manual   First   22.9 kmpl  1248 CC     74 bhp   \n",
       "3944      Petrol       Manual   First  20.14 kmpl  1197 CC  81.86 bhp   \n",
       "3945      Diesel       Manual   First  20.77 kmpl  1248 CC   88.8 bhp   \n",
       "\n",
       "      Asientos  Precio_cat  \n",
       "0          5.0           3  \n",
       "1          5.0           3  \n",
       "2          6.0           3  \n",
       "3          5.0           3  \n",
       "4          5.0           3  \n",
       "...        ...         ...  \n",
       "3941       5.0           4  \n",
       "3942       5.0           3  \n",
       "3943       5.0           3  \n",
       "3944       5.0           3  \n",
       "3945       7.0           3  \n",
       "\n",
       "[3946 rows x 13 columns]"
      ]
     },
     "execution_count": 68,
     "metadata": {},
     "output_type": "execute_result"
    }
   ],
   "source": [
    "p2_datos = datos.copy()\n",
    "del(p2_datos['Descuento'])\n",
    "p2_datos = p2_datos.dropna()\n",
    "p2_datos = p2_datos.reset_index()\n",
    "del(p2_datos['index'])\n",
    "p2_datos"
   ]
  },
  {
   "cell_type": "markdown",
   "metadata": {},
   "source": [
    "## Cambiamos el nombre por la marca"
   ]
  },
  {
   "cell_type": "code",
   "execution_count": 69,
   "metadata": {},
   "outputs": [],
   "source": [
    "for i in range(len(nombre)):\n",
    "    nombre[\"Nombre\"].iloc[i] = nombre[\"Nombre\"].iloc[i].split(' ')[0]"
   ]
  },
  {
   "cell_type": "code",
   "execution_count": 70,
   "metadata": {},
   "outputs": [
    {
     "name": "stderr",
     "output_type": "stream",
     "text": [
      "/home/patricia/.local/lib/python3.8/site-packages/pandas/core/indexing.py:670: SettingWithCopyWarning: \n",
      "A value is trying to be set on a copy of a slice from a DataFrame\n",
      "\n",
      "See the caveats in the documentation: https://pandas.pydata.org/pandas-docs/stable/user_guide/indexing.html#returning-a-view-versus-a-copy\n",
      "  iloc._setitem_with_indexer(indexer, value)\n"
     ]
    }
   ],
   "source": [
    "for i in range(len(p2_datos)):\n",
    "    p2_datos[\"Nombre\"].iloc[i] = p2_datos[\"Nombre\"].iloc[i].split(' ')[0]"
   ]
  },
  {
   "cell_type": "markdown",
   "metadata": {},
   "source": [
    "### Paso de valores categóricas a numéricas"
   ]
  },
  {
   "cell_type": "markdown",
   "metadata": {},
   "source": [
    "Nombre:"
   ]
  },
  {
   "cell_type": "code",
   "execution_count": 71,
   "metadata": {},
   "outputs": [],
   "source": [
    "labelNombre = LabelEncoder().fit(nombre.Nombre)\n",
    "p2_datos.Nombre = labelNombre.transform(p2_datos.Nombre)"
   ]
  },
  {
   "cell_type": "markdown",
   "metadata": {},
   "source": [
    "Ciudad:"
   ]
  },
  {
   "cell_type": "code",
   "execution_count": 72,
   "metadata": {},
   "outputs": [],
   "source": [
    "labelCiudad = LabelEncoder().fit(ciudad.Ciudad)\n",
    "p2_datos.Ciudad = labelCiudad.transform(p2_datos.Ciudad)"
   ]
  },
  {
   "cell_type": "markdown",
   "metadata": {},
   "source": [
    "Combustible:"
   ]
  },
  {
   "cell_type": "code",
   "execution_count": 73,
   "metadata": {},
   "outputs": [],
   "source": [
    "labelCombustible = LabelEncoder().fit(combustible.Combustible)\n",
    "p2_datos.Combustible = labelCombustible.transform(p2_datos.Combustible)"
   ]
  },
  {
   "cell_type": "markdown",
   "metadata": {},
   "source": [
    "Tipo_marchas:"
   ]
  },
  {
   "cell_type": "code",
   "execution_count": 74,
   "metadata": {},
   "outputs": [],
   "source": [
    "labelTipo_marchas = LabelEncoder().fit(tipo_marchas.Tipo_marchas)\n",
    "p2_datos.Tipo_marchas = labelTipo_marchas.transform(p2_datos.Tipo_marchas)"
   ]
  },
  {
   "cell_type": "markdown",
   "metadata": {},
   "source": [
    "Mano:"
   ]
  },
  {
   "cell_type": "code",
   "execution_count": 75,
   "metadata": {},
   "outputs": [],
   "source": [
    "labelMano = LabelEncoder().fit(mano.Mano)\n",
    "p2_datos.Mano = labelMano.transform(p2_datos.Mano)"
   ]
  },
  {
   "cell_type": "markdown",
   "metadata": {},
   "source": [
    "Consumo:"
   ]
  },
  {
   "cell_type": "code",
   "execution_count": 76,
   "metadata": {
    "scrolled": false
   },
   "outputs": [],
   "source": [
    "for i in range(len(p2_datos)):\n",
    "    p2_datos[\"Consumo\"].iloc[i] = float(p2_datos[\"Consumo\"].iloc[i].strip(' kmlp'))"
   ]
  },
  {
   "cell_type": "markdown",
   "metadata": {},
   "source": [
    "Motor_CC:"
   ]
  },
  {
   "cell_type": "code",
   "execution_count": 77,
   "metadata": {},
   "outputs": [],
   "source": [
    "for i in range(len(p2_datos)):\n",
    "    p2_datos[\"Motor_CC\"].iloc[i] = float(p2_datos[\"Motor_CC\"].iloc[i].strip(' CC'))"
   ]
  },
  {
   "cell_type": "markdown",
   "metadata": {},
   "source": [
    "Potencia:"
   ]
  },
  {
   "cell_type": "code",
   "execution_count": 78,
   "metadata": {
    "scrolled": true
   },
   "outputs": [],
   "source": [
    "for i in range(len(p2_datos)):\n",
    "    p2_datos[\"Potencia\"].iloc[i]= float(p2_datos[\"Potencia\"].iloc[i].strip(' bhp'))"
   ]
  },
  {
   "cell_type": "code",
   "execution_count": 79,
   "metadata": {},
   "outputs": [
    {
     "data": {
      "text/html": [
       "<div>\n",
       "<style scoped>\n",
       "    .dataframe tbody tr th:only-of-type {\n",
       "        vertical-align: middle;\n",
       "    }\n",
       "\n",
       "    .dataframe tbody tr th {\n",
       "        vertical-align: top;\n",
       "    }\n",
       "\n",
       "    .dataframe thead th {\n",
       "        text-align: right;\n",
       "    }\n",
       "</style>\n",
       "<table border=\"1\" class=\"dataframe\">\n",
       "  <thead>\n",
       "    <tr style=\"text-align: right;\">\n",
       "      <th></th>\n",
       "      <th>id</th>\n",
       "      <th>Nombre</th>\n",
       "      <th>Ciudad</th>\n",
       "      <th>Año</th>\n",
       "      <th>Kilometros</th>\n",
       "      <th>Combustible</th>\n",
       "      <th>Tipo_marchas</th>\n",
       "      <th>Mano</th>\n",
       "      <th>Consumo</th>\n",
       "      <th>Motor_CC</th>\n",
       "      <th>Potencia</th>\n",
       "      <th>Asientos</th>\n",
       "      <th>Precio_cat</th>\n",
       "    </tr>\n",
       "  </thead>\n",
       "  <tbody>\n",
       "    <tr>\n",
       "      <th>0</th>\n",
       "      <td>1.0</td>\n",
       "      <td>18</td>\n",
       "      <td>5</td>\n",
       "      <td>2012.0</td>\n",
       "      <td>83000.0</td>\n",
       "      <td>1</td>\n",
       "      <td>1</td>\n",
       "      <td>0</td>\n",
       "      <td>23.4</td>\n",
       "      <td>1248</td>\n",
       "      <td>74</td>\n",
       "      <td>5.0</td>\n",
       "      <td>3</td>\n",
       "    </tr>\n",
       "    <tr>\n",
       "      <th>1</th>\n",
       "      <td>2.0</td>\n",
       "      <td>18</td>\n",
       "      <td>7</td>\n",
       "      <td>2016.0</td>\n",
       "      <td>4800.0</td>\n",
       "      <td>4</td>\n",
       "      <td>1</td>\n",
       "      <td>0</td>\n",
       "      <td>20.51</td>\n",
       "      <td>998</td>\n",
       "      <td>67.04</td>\n",
       "      <td>5.0</td>\n",
       "      <td>3</td>\n",
       "    </tr>\n",
       "    <tr>\n",
       "      <th>2</th>\n",
       "      <td>3.0</td>\n",
       "      <td>17</td>\n",
       "      <td>4</td>\n",
       "      <td>2016.0</td>\n",
       "      <td>26000.0</td>\n",
       "      <td>1</td>\n",
       "      <td>1</td>\n",
       "      <td>0</td>\n",
       "      <td>25.32</td>\n",
       "      <td>1198</td>\n",
       "      <td>77</td>\n",
       "      <td>6.0</td>\n",
       "      <td>3</td>\n",
       "    </tr>\n",
       "    <tr>\n",
       "      <th>3</th>\n",
       "      <td>4.0</td>\n",
       "      <td>10</td>\n",
       "      <td>3</td>\n",
       "      <td>2013.0</td>\n",
       "      <td>56127.0</td>\n",
       "      <td>4</td>\n",
       "      <td>1</td>\n",
       "      <td>0</td>\n",
       "      <td>18.5</td>\n",
       "      <td>1197</td>\n",
       "      <td>80</td>\n",
       "      <td>5.0</td>\n",
       "      <td>3</td>\n",
       "    </tr>\n",
       "    <tr>\n",
       "      <th>4</th>\n",
       "      <td>5.0</td>\n",
       "      <td>9</td>\n",
       "      <td>6</td>\n",
       "      <td>2017.0</td>\n",
       "      <td>41981.0</td>\n",
       "      <td>4</td>\n",
       "      <td>1</td>\n",
       "      <td>0</td>\n",
       "      <td>18.7</td>\n",
       "      <td>1199</td>\n",
       "      <td>88.7</td>\n",
       "      <td>5.0</td>\n",
       "      <td>3</td>\n",
       "    </tr>\n",
       "    <tr>\n",
       "      <th>...</th>\n",
       "      <td>...</td>\n",
       "      <td>...</td>\n",
       "      <td>...</td>\n",
       "      <td>...</td>\n",
       "      <td>...</td>\n",
       "      <td>...</td>\n",
       "      <td>...</td>\n",
       "      <td>...</td>\n",
       "      <td>...</td>\n",
       "      <td>...</td>\n",
       "      <td>...</td>\n",
       "      <td>...</td>\n",
       "      <td>...</td>\n",
       "    </tr>\n",
       "    <tr>\n",
       "      <th>3941</th>\n",
       "      <td>4813.0</td>\n",
       "      <td>1</td>\n",
       "      <td>8</td>\n",
       "      <td>2012.0</td>\n",
       "      <td>60000.0</td>\n",
       "      <td>1</td>\n",
       "      <td>0</td>\n",
       "      <td>2</td>\n",
       "      <td>15.2</td>\n",
       "      <td>1968</td>\n",
       "      <td>140.8</td>\n",
       "      <td>5.0</td>\n",
       "      <td>4</td>\n",
       "    </tr>\n",
       "    <tr>\n",
       "      <th>3942</th>\n",
       "      <td>4814.0</td>\n",
       "      <td>29</td>\n",
       "      <td>1</td>\n",
       "      <td>2012.0</td>\n",
       "      <td>67200.0</td>\n",
       "      <td>4</td>\n",
       "      <td>1</td>\n",
       "      <td>0</td>\n",
       "      <td>15.04</td>\n",
       "      <td>1598</td>\n",
       "      <td>103.6</td>\n",
       "      <td>5.0</td>\n",
       "      <td>3</td>\n",
       "    </tr>\n",
       "    <tr>\n",
       "      <th>3943</th>\n",
       "      <td>4815.0</td>\n",
       "      <td>18</td>\n",
       "      <td>3</td>\n",
       "      <td>2014.0</td>\n",
       "      <td>83274.0</td>\n",
       "      <td>1</td>\n",
       "      <td>1</td>\n",
       "      <td>0</td>\n",
       "      <td>22.9</td>\n",
       "      <td>1248</td>\n",
       "      <td>74</td>\n",
       "      <td>5.0</td>\n",
       "      <td>3</td>\n",
       "    </tr>\n",
       "    <tr>\n",
       "      <th>3944</th>\n",
       "      <td>4818.0</td>\n",
       "      <td>10</td>\n",
       "      <td>3</td>\n",
       "      <td>2015.0</td>\n",
       "      <td>65743.0</td>\n",
       "      <td>4</td>\n",
       "      <td>1</td>\n",
       "      <td>0</td>\n",
       "      <td>20.14</td>\n",
       "      <td>1197</td>\n",
       "      <td>81.86</td>\n",
       "      <td>5.0</td>\n",
       "      <td>3</td>\n",
       "    </tr>\n",
       "    <tr>\n",
       "      <th>3945</th>\n",
       "      <td>4819.0</td>\n",
       "      <td>18</td>\n",
       "      <td>0</td>\n",
       "      <td>2013.0</td>\n",
       "      <td>75000.0</td>\n",
       "      <td>1</td>\n",
       "      <td>1</td>\n",
       "      <td>0</td>\n",
       "      <td>20.77</td>\n",
       "      <td>1248</td>\n",
       "      <td>88.8</td>\n",
       "      <td>7.0</td>\n",
       "      <td>3</td>\n",
       "    </tr>\n",
       "  </tbody>\n",
       "</table>\n",
       "<p>3946 rows × 13 columns</p>\n",
       "</div>"
      ],
      "text/plain": [
       "          id  Nombre  Ciudad     Año  Kilometros  Combustible  Tipo_marchas  \\\n",
       "0        1.0      18       5  2012.0     83000.0            1             1   \n",
       "1        2.0      18       7  2016.0      4800.0            4             1   \n",
       "2        3.0      17       4  2016.0     26000.0            1             1   \n",
       "3        4.0      10       3  2013.0     56127.0            4             1   \n",
       "4        5.0       9       6  2017.0     41981.0            4             1   \n",
       "...      ...     ...     ...     ...         ...          ...           ...   \n",
       "3941  4813.0       1       8  2012.0     60000.0            1             0   \n",
       "3942  4814.0      29       1  2012.0     67200.0            4             1   \n",
       "3943  4815.0      18       3  2014.0     83274.0            1             1   \n",
       "3944  4818.0      10       3  2015.0     65743.0            4             1   \n",
       "3945  4819.0      18       0  2013.0     75000.0            1             1   \n",
       "\n",
       "      Mano Consumo Motor_CC Potencia  Asientos  Precio_cat  \n",
       "0        0    23.4     1248       74       5.0           3  \n",
       "1        0   20.51      998    67.04       5.0           3  \n",
       "2        0   25.32     1198       77       6.0           3  \n",
       "3        0    18.5     1197       80       5.0           3  \n",
       "4        0    18.7     1199     88.7       5.0           3  \n",
       "...    ...     ...      ...      ...       ...         ...  \n",
       "3941     2    15.2     1968    140.8       5.0           4  \n",
       "3942     0   15.04     1598    103.6       5.0           3  \n",
       "3943     0    22.9     1248       74       5.0           3  \n",
       "3944     0   20.14     1197    81.86       5.0           3  \n",
       "3945     0   20.77     1248     88.8       7.0           3  \n",
       "\n",
       "[3946 rows x 13 columns]"
      ]
     },
     "execution_count": 79,
     "metadata": {},
     "output_type": "execute_result"
    }
   ],
   "source": [
    "p2_datos"
   ]
  },
  {
   "cell_type": "markdown",
   "metadata": {},
   "source": [
    "## Separación de objetivo y etiqueta"
   ]
  },
  {
   "cell_type": "code",
   "execution_count": 80,
   "metadata": {},
   "outputs": [],
   "source": [
    "# Separamos las columnas con los datos de la etiqueta a predecir\n",
    "cols = [col for col in p2_datos.columns if col not in ['Precio_cat']]\n",
    "data = p2_datos[cols]\n",
    "del(data['id'])\n",
    "target = p2_datos['Precio_cat']"
   ]
  },
  {
   "cell_type": "code",
   "execution_count": 81,
   "metadata": {},
   "outputs": [
    {
     "data": {
      "text/html": [
       "<div>\n",
       "<style scoped>\n",
       "    .dataframe tbody tr th:only-of-type {\n",
       "        vertical-align: middle;\n",
       "    }\n",
       "\n",
       "    .dataframe tbody tr th {\n",
       "        vertical-align: top;\n",
       "    }\n",
       "\n",
       "    .dataframe thead th {\n",
       "        text-align: right;\n",
       "    }\n",
       "</style>\n",
       "<table border=\"1\" class=\"dataframe\">\n",
       "  <thead>\n",
       "    <tr style=\"text-align: right;\">\n",
       "      <th></th>\n",
       "      <th>Nombre</th>\n",
       "      <th>Ciudad</th>\n",
       "      <th>Año</th>\n",
       "      <th>Kilometros</th>\n",
       "      <th>Combustible</th>\n",
       "      <th>Tipo_marchas</th>\n",
       "      <th>Mano</th>\n",
       "      <th>Consumo</th>\n",
       "      <th>Motor_CC</th>\n",
       "      <th>Potencia</th>\n",
       "      <th>Asientos</th>\n",
       "    </tr>\n",
       "  </thead>\n",
       "  <tbody>\n",
       "    <tr>\n",
       "      <th>0</th>\n",
       "      <td>18</td>\n",
       "      <td>5</td>\n",
       "      <td>2012.0</td>\n",
       "      <td>83000.0</td>\n",
       "      <td>1</td>\n",
       "      <td>1</td>\n",
       "      <td>0</td>\n",
       "      <td>23.4</td>\n",
       "      <td>1248</td>\n",
       "      <td>74</td>\n",
       "      <td>5.0</td>\n",
       "    </tr>\n",
       "    <tr>\n",
       "      <th>1</th>\n",
       "      <td>18</td>\n",
       "      <td>7</td>\n",
       "      <td>2016.0</td>\n",
       "      <td>4800.0</td>\n",
       "      <td>4</td>\n",
       "      <td>1</td>\n",
       "      <td>0</td>\n",
       "      <td>20.51</td>\n",
       "      <td>998</td>\n",
       "      <td>67.04</td>\n",
       "      <td>5.0</td>\n",
       "    </tr>\n",
       "    <tr>\n",
       "      <th>2</th>\n",
       "      <td>17</td>\n",
       "      <td>4</td>\n",
       "      <td>2016.0</td>\n",
       "      <td>26000.0</td>\n",
       "      <td>1</td>\n",
       "      <td>1</td>\n",
       "      <td>0</td>\n",
       "      <td>25.32</td>\n",
       "      <td>1198</td>\n",
       "      <td>77</td>\n",
       "      <td>6.0</td>\n",
       "    </tr>\n",
       "    <tr>\n",
       "      <th>3</th>\n",
       "      <td>10</td>\n",
       "      <td>3</td>\n",
       "      <td>2013.0</td>\n",
       "      <td>56127.0</td>\n",
       "      <td>4</td>\n",
       "      <td>1</td>\n",
       "      <td>0</td>\n",
       "      <td>18.5</td>\n",
       "      <td>1197</td>\n",
       "      <td>80</td>\n",
       "      <td>5.0</td>\n",
       "    </tr>\n",
       "    <tr>\n",
       "      <th>4</th>\n",
       "      <td>9</td>\n",
       "      <td>6</td>\n",
       "      <td>2017.0</td>\n",
       "      <td>41981.0</td>\n",
       "      <td>4</td>\n",
       "      <td>1</td>\n",
       "      <td>0</td>\n",
       "      <td>18.7</td>\n",
       "      <td>1199</td>\n",
       "      <td>88.7</td>\n",
       "      <td>5.0</td>\n",
       "    </tr>\n",
       "    <tr>\n",
       "      <th>...</th>\n",
       "      <td>...</td>\n",
       "      <td>...</td>\n",
       "      <td>...</td>\n",
       "      <td>...</td>\n",
       "      <td>...</td>\n",
       "      <td>...</td>\n",
       "      <td>...</td>\n",
       "      <td>...</td>\n",
       "      <td>...</td>\n",
       "      <td>...</td>\n",
       "      <td>...</td>\n",
       "    </tr>\n",
       "    <tr>\n",
       "      <th>3941</th>\n",
       "      <td>1</td>\n",
       "      <td>8</td>\n",
       "      <td>2012.0</td>\n",
       "      <td>60000.0</td>\n",
       "      <td>1</td>\n",
       "      <td>0</td>\n",
       "      <td>2</td>\n",
       "      <td>15.2</td>\n",
       "      <td>1968</td>\n",
       "      <td>140.8</td>\n",
       "      <td>5.0</td>\n",
       "    </tr>\n",
       "    <tr>\n",
       "      <th>3942</th>\n",
       "      <td>29</td>\n",
       "      <td>1</td>\n",
       "      <td>2012.0</td>\n",
       "      <td>67200.0</td>\n",
       "      <td>4</td>\n",
       "      <td>1</td>\n",
       "      <td>0</td>\n",
       "      <td>15.04</td>\n",
       "      <td>1598</td>\n",
       "      <td>103.6</td>\n",
       "      <td>5.0</td>\n",
       "    </tr>\n",
       "    <tr>\n",
       "      <th>3943</th>\n",
       "      <td>18</td>\n",
       "      <td>3</td>\n",
       "      <td>2014.0</td>\n",
       "      <td>83274.0</td>\n",
       "      <td>1</td>\n",
       "      <td>1</td>\n",
       "      <td>0</td>\n",
       "      <td>22.9</td>\n",
       "      <td>1248</td>\n",
       "      <td>74</td>\n",
       "      <td>5.0</td>\n",
       "    </tr>\n",
       "    <tr>\n",
       "      <th>3944</th>\n",
       "      <td>10</td>\n",
       "      <td>3</td>\n",
       "      <td>2015.0</td>\n",
       "      <td>65743.0</td>\n",
       "      <td>4</td>\n",
       "      <td>1</td>\n",
       "      <td>0</td>\n",
       "      <td>20.14</td>\n",
       "      <td>1197</td>\n",
       "      <td>81.86</td>\n",
       "      <td>5.0</td>\n",
       "    </tr>\n",
       "    <tr>\n",
       "      <th>3945</th>\n",
       "      <td>18</td>\n",
       "      <td>0</td>\n",
       "      <td>2013.0</td>\n",
       "      <td>75000.0</td>\n",
       "      <td>1</td>\n",
       "      <td>1</td>\n",
       "      <td>0</td>\n",
       "      <td>20.77</td>\n",
       "      <td>1248</td>\n",
       "      <td>88.8</td>\n",
       "      <td>7.0</td>\n",
       "    </tr>\n",
       "  </tbody>\n",
       "</table>\n",
       "<p>3946 rows × 11 columns</p>\n",
       "</div>"
      ],
      "text/plain": [
       "      Nombre  Ciudad     Año  Kilometros  Combustible  Tipo_marchas  Mano  \\\n",
       "0         18       5  2012.0     83000.0            1             1     0   \n",
       "1         18       7  2016.0      4800.0            4             1     0   \n",
       "2         17       4  2016.0     26000.0            1             1     0   \n",
       "3         10       3  2013.0     56127.0            4             1     0   \n",
       "4          9       6  2017.0     41981.0            4             1     0   \n",
       "...      ...     ...     ...         ...          ...           ...   ...   \n",
       "3941       1       8  2012.0     60000.0            1             0     2   \n",
       "3942      29       1  2012.0     67200.0            4             1     0   \n",
       "3943      18       3  2014.0     83274.0            1             1     0   \n",
       "3944      10       3  2015.0     65743.0            4             1     0   \n",
       "3945      18       0  2013.0     75000.0            1             1     0   \n",
       "\n",
       "     Consumo Motor_CC Potencia  Asientos  \n",
       "0       23.4     1248       74       5.0  \n",
       "1      20.51      998    67.04       5.0  \n",
       "2      25.32     1198       77       6.0  \n",
       "3       18.5     1197       80       5.0  \n",
       "4       18.7     1199     88.7       5.0  \n",
       "...      ...      ...      ...       ...  \n",
       "3941    15.2     1968    140.8       5.0  \n",
       "3942   15.04     1598    103.6       5.0  \n",
       "3943    22.9     1248       74       5.0  \n",
       "3944   20.14     1197    81.86       5.0  \n",
       "3945   20.77     1248     88.8       7.0  \n",
       "\n",
       "[3946 rows x 11 columns]"
      ]
     },
     "execution_count": 81,
     "metadata": {},
     "output_type": "execute_result"
    }
   ],
   "source": [
    "data"
   ]
  },
  {
   "cell_type": "markdown",
   "metadata": {},
   "source": [
    "## Aplicamos Oversampling"
   ]
  },
  {
   "cell_type": "code",
   "execution_count": 82,
   "metadata": {},
   "outputs": [],
   "source": [
    "data, target = SMOTE(random_state=15).fit_resample(data, target)"
   ]
  },
  {
   "cell_type": "code",
   "execution_count": 83,
   "metadata": {},
   "outputs": [
    {
     "data": {
      "text/plain": [
       "Counter({3: 1798, 2: 1798, 4: 1798, 5: 1798, 1: 1798})"
      ]
     },
     "execution_count": 83,
     "metadata": {},
     "output_type": "execute_result"
    }
   ],
   "source": [
    "Counter(target)"
   ]
  },
  {
   "cell_type": "markdown",
   "metadata": {},
   "source": [
    "## Selección de hiperparámetros"
   ]
  },
  {
   "cell_type": "markdown",
   "metadata": {},
   "source": [
    "Criterio de división:"
   ]
  },
  {
   "cell_type": "code",
   "execution_count": 84,
   "metadata": {},
   "outputs": [
    {
     "name": "stdout",
     "output_type": "stream",
     "text": [
      "La accuracy media es: 0.8957730812013349\n"
     ]
    }
   ],
   "source": [
    "rf_clf = RandomForestClassifier(random_state=15, n_estimators=150)\n",
    "score = cross_val_score(rf_clf, data, target, cv=5)\n",
    "\n",
    "s = 0\n",
    "for i in range(len(score)):\n",
    "    s+= score[i]\n",
    "    \n",
    "print(\"La accuracy media es: \" + str(s/len(score)))"
   ]
  },
  {
   "cell_type": "code",
   "execution_count": 85,
   "metadata": {},
   "outputs": [
    {
     "name": "stdout",
     "output_type": "stream",
     "text": [
      "La accuracy media es: 0.8994438264738598\n"
     ]
    }
   ],
   "source": [
    "rf_clf = RandomForestClassifier(random_state=15, n_estimators=150, criterion = \"entropy\")\n",
    "score = cross_val_score(rf_clf, data, target, cv=5)\n",
    "\n",
    "s = 0\n",
    "for i in range(len(score)):\n",
    "    s+= score[i]\n",
    "    \n",
    "print(\"La accuracy media es: \" + str(s/len(score)))"
   ]
  },
  {
   "cell_type": "markdown",
   "metadata": {},
   "source": [
    "Numero de estimadores:"
   ]
  },
  {
   "cell_type": "code",
   "execution_count": 86,
   "metadata": {},
   "outputs": [
    {
     "name": "stdout",
     "output_type": "stream",
     "text": [
      "100.0\n",
      "125.0\n",
      "150.0\n",
      "175.0\n",
      "200.0\n",
      "225.0\n",
      "250.0\n",
      "275.0\n",
      "300.0\n"
     ]
    }
   ],
   "source": [
    "# Vectores con los valores de las métricas\n",
    "accuracy = []\n",
    "\n",
    "for i in np.linspace(100, 300, num=9):\n",
    "    print(i)\n",
    "    rf_clf = RandomForestClassifier(random_state=15, n_estimators=int(i), criterion = \"entropy\")\n",
    "    score = cross_val_score(rf_clf, data, target, cv=5)\n",
    "\n",
    "    s = 0\n",
    "    for i in range(len(score)):\n",
    "        s+= score[i]\n",
    "    accuracy.append(s/len(score))"
   ]
  },
  {
   "cell_type": "code",
   "execution_count": 87,
   "metadata": {
    "scrolled": false
   },
   "outputs": [
    {
     "data": {
      "image/png": "[encoded data removed]",
      "text/plain": [
       "<Figure size 432x288 with 1 Axes>"
      ]
     },
     "metadata": {},
     "output_type": "display_data"
    }
   ],
   "source": [
    "grafica(np.linspace(100, 300, num=9), accuracy, 'Accuracy del RF para cada número de estimadores', 'Nº de estimadores', 'Accuracy')"
   ]
  },
  {
   "cell_type": "code",
   "execution_count": 89,
   "metadata": {},
   "outputs": [
    {
     "name": "stdout",
     "output_type": "stream",
     "text": [
      "100.0\n",
      "105.0\n",
      "110.0\n",
      "115.0\n",
      "120.0\n",
      "125.0\n",
      "130.0\n",
      "135.0\n",
      "140.0\n",
      "145.0\n",
      "150.0\n"
     ]
    }
   ],
   "source": [
    "# Vectores con los valores de las métricas\n",
    "accuracy = []\n",
    "\n",
    "for i in np.linspace(100, 150, num=11):\n",
    "    print(i)\n",
    "    rf_clf = RandomForestClassifier(random_state=15, n_estimators=int(i), criterion = \"entropy\")\n",
    "    score = cross_val_score(rf_clf, data, target, cv=5)\n",
    "\n",
    "    s = 0\n",
    "    for i in range(len(score)):\n",
    "        s+= score[i]\n",
    "    accuracy.append(s/len(score))"
   ]
  },
  {
   "cell_type": "code",
   "execution_count": 90,
   "metadata": {},
   "outputs": [
    {
     "data": {
      "image/png": "[encoded data removed]",
      "text/plain": [
       "<Figure size 432x288 with 1 Axes>"
      ]
     },
     "metadata": {},
     "output_type": "display_data"
    }
   ],
   "source": [
    "grafica(np.linspace(100, 150, num=11), accuracy, 'Accuracy del RF para cada número de estimadores', 'Nº de estimadores', 'Accuracy')"
   ]
  },
  {
   "cell_type": "code",
   "execution_count": 91,
   "metadata": {},
   "outputs": [
    {
     "data": {
      "text/plain": [
       "[0.8987764182424917,\n",
       " 0.8985539488320355,\n",
       " 0.8986651835372637,\n",
       " 0.8985539488320355,\n",
       " 0.8991101223581757,\n",
       " 0.9001112347052279,\n",
       " 0.9004449388209121,\n",
       " 0.8997775305895439,\n",
       " 0.899666295884316,\n",
       " 0.8997775305895439,\n",
       " 0.8994438264738598]"
      ]
     },
     "execution_count": 91,
     "metadata": {},
     "output_type": "execute_result"
    }
   ],
   "source": [
    "accuracy"
   ]
  },
  {
   "cell_type": "markdown",
   "metadata": {},
   "source": [
    "Parámetro de poda:"
   ]
  },
  {
   "cell_type": "code",
   "execution_count": 92,
   "metadata": {},
   "outputs": [
    {
     "name": "stdout",
     "output_type": "stream",
     "text": [
      "1e-05\n",
      "0.00012\n",
      "0.00023\n",
      "0.00034\n",
      "0.00045000000000000004\n",
      "0.0005600000000000001\n",
      "0.00067\n",
      "0.0007800000000000001\n",
      "0.0008900000000000001\n",
      "0.001\n"
     ]
    }
   ],
   "source": [
    "# Vectores con los valores de las métricas\n",
    "accuracy = []\n",
    "\n",
    "for i in np.linspace(0.00001, 0.001, num=10):\n",
    "    print(i)\n",
    "    rf_clf = RandomForestClassifier(random_state=15, n_estimators=130, ccp_alpha= i, criterion = \"entropy\")\n",
    "    score = cross_val_score(rf_clf, data, target, cv=5)\n",
    "\n",
    "    s = 0\n",
    "    for i in range(len(score)):\n",
    "        s+= score[i]\n",
    "    accuracy.append(s/len(score))"
   ]
  },
  {
   "cell_type": "code",
   "execution_count": 93,
   "metadata": {
    "scrolled": false
   },
   "outputs": [
    {
     "data": {
      "image/png": "[encoded data removed]",
      "text/plain": [
       "<Figure size 432x288 with 1 Axes>"
      ]
     },
     "metadata": {},
     "output_type": "display_data"
    }
   ],
   "source": [
    "grafica(np.linspace(0.00001, 0.001, num=10), accuracy, 'Accuracy del RF para cada parámetro de poda', 'Parámetro de poda', 'Accuracy')"
   ]
  },
  {
   "cell_type": "code",
   "execution_count": 94,
   "metadata": {
    "scrolled": false
   },
   "outputs": [
    {
     "data": {
      "text/plain": [
       "[0.9004449388209121,\n",
       " 0.9004449388209121,\n",
       " 0.9001112347052281,\n",
       " 0.8979977753058954,\n",
       " 0.8954393770856507,\n",
       " 0.8902113459399332,\n",
       " 0.8876529477196886,\n",
       " 0.8834260289210233,\n",
       " 0.8813125695216908,\n",
       " 0.8766407119021133]"
      ]
     },
     "execution_count": 94,
     "metadata": {},
     "output_type": "execute_result"
    }
   ],
   "source": [
    "accuracy"
   ]
  },
  {
   "cell_type": "markdown",
   "metadata": {},
   "source": [
    "Modelo final:"
   ]
  },
  {
   "cell_type": "code",
   "execution_count": 95,
   "metadata": {},
   "outputs": [
    {
     "name": "stdout",
     "output_type": "stream",
     "text": [
      "La accuracy del modelo es: 0.9004449388209121\n"
     ]
    }
   ],
   "source": [
    "# Vectores con los valores de las métricas\n",
    "rf_clf = RandomForestClassifier(random_state=15, n_estimators=130, criterion = \"entropy\")\n",
    "score = cross_val_score(rf_clf, data, target, cv=5)\n",
    "\n",
    "s = 0\n",
    "for i in range(len(score)):\n",
    "    s+= score[i]\n",
    "\n",
    "print(\"La accuracy del modelo es: \" + str(s/len(score)))"
   ]
  },
  {
   "cell_type": "markdown",
   "metadata": {},
   "source": [
    "## Predicción del test"
   ]
  },
  {
   "cell_type": "markdown",
   "metadata": {},
   "source": [
    "Procesamos los datos de test de la misma manera que procesamos los de entrenamiento"
   ]
  },
  {
   "cell_type": "code",
   "execution_count": 96,
   "metadata": {},
   "outputs": [
    {
     "data": {
      "text/html": [
       "<div>\n",
       "<style scoped>\n",
       "    .dataframe tbody tr th:only-of-type {\n",
       "        vertical-align: middle;\n",
       "    }\n",
       "\n",
       "    .dataframe tbody tr th {\n",
       "        vertical-align: top;\n",
       "    }\n",
       "\n",
       "    .dataframe thead th {\n",
       "        text-align: right;\n",
       "    }\n",
       "</style>\n",
       "<table border=\"1\" class=\"dataframe\">\n",
       "  <thead>\n",
       "    <tr style=\"text-align: right;\">\n",
       "      <th></th>\n",
       "      <th>id</th>\n",
       "      <th>Nombre</th>\n",
       "      <th>Ciudad</th>\n",
       "      <th>Año</th>\n",
       "      <th>Kilometros</th>\n",
       "      <th>Combustible</th>\n",
       "      <th>Tipo_marchas</th>\n",
       "      <th>Mano</th>\n",
       "      <th>Consumo</th>\n",
       "      <th>Motor_CC</th>\n",
       "      <th>Potencia</th>\n",
       "      <th>Asientos</th>\n",
       "    </tr>\n",
       "  </thead>\n",
       "  <tbody>\n",
       "    <tr>\n",
       "      <th>0</th>\n",
       "      <td>4820</td>\n",
       "      <td>Mercedes-Benz New C-Class C 220 CDI Avantgarde</td>\n",
       "      <td>H</td>\n",
       "      <td>2015</td>\n",
       "      <td>77771</td>\n",
       "      <td>Diesel</td>\n",
       "      <td>Automatic</td>\n",
       "      <td>First</td>\n",
       "      <td>19.27 kmpl</td>\n",
       "      <td>2143 CC</td>\n",
       "      <td>170 bhp</td>\n",
       "      <td>5.0</td>\n",
       "    </tr>\n",
       "    <tr>\n",
       "      <th>1</th>\n",
       "      <td>4821</td>\n",
       "      <td>Hyundai i10 Magna 1.1</td>\n",
       "      <td>J</td>\n",
       "      <td>2011</td>\n",
       "      <td>62000</td>\n",
       "      <td>Petrol</td>\n",
       "      <td>Manual</td>\n",
       "      <td>First</td>\n",
       "      <td>19.81 kmpl</td>\n",
       "      <td>1086 CC</td>\n",
       "      <td>68.05 bhp</td>\n",
       "      <td>5.0</td>\n",
       "    </tr>\n",
       "    <tr>\n",
       "      <th>2</th>\n",
       "      <td>4822</td>\n",
       "      <td>Ford Figo Diesel EXI</td>\n",
       "      <td>C</td>\n",
       "      <td>2010</td>\n",
       "      <td>129986</td>\n",
       "      <td>Diesel</td>\n",
       "      <td>Manual</td>\n",
       "      <td>Second</td>\n",
       "      <td>20.0 kmpl</td>\n",
       "      <td>1399 CC</td>\n",
       "      <td>68 bhp</td>\n",
       "      <td>5.0</td>\n",
       "    </tr>\n",
       "    <tr>\n",
       "      <th>3</th>\n",
       "      <td>4823</td>\n",
       "      <td>Maruti Swift Dzire VXI Optional</td>\n",
       "      <td>D</td>\n",
       "      <td>2015</td>\n",
       "      <td>49900</td>\n",
       "      <td>Petrol</td>\n",
       "      <td>Manual</td>\n",
       "      <td>First</td>\n",
       "      <td>20.85 kmpl</td>\n",
       "      <td>1197 CC</td>\n",
       "      <td>83.14 bhp</td>\n",
       "      <td>5.0</td>\n",
       "    </tr>\n",
       "    <tr>\n",
       "      <th>4</th>\n",
       "      <td>4824</td>\n",
       "      <td>Maruti Ritz VXI</td>\n",
       "      <td>J</td>\n",
       "      <td>2010</td>\n",
       "      <td>75319</td>\n",
       "      <td>Petrol</td>\n",
       "      <td>Manual</td>\n",
       "      <td>Second</td>\n",
       "      <td>21.1 kmpl</td>\n",
       "      <td>1197 CC</td>\n",
       "      <td>85.80 bhp</td>\n",
       "      <td>5.0</td>\n",
       "    </tr>\n",
       "    <tr>\n",
       "      <th>...</th>\n",
       "      <td>...</td>\n",
       "      <td>...</td>\n",
       "      <td>...</td>\n",
       "      <td>...</td>\n",
       "      <td>...</td>\n",
       "      <td>...</td>\n",
       "      <td>...</td>\n",
       "      <td>...</td>\n",
       "      <td>...</td>\n",
       "      <td>...</td>\n",
       "      <td>...</td>\n",
       "      <td>...</td>\n",
       "    </tr>\n",
       "    <tr>\n",
       "      <th>1154</th>\n",
       "      <td>5974</td>\n",
       "      <td>Chevrolet Beat Diesel LT</td>\n",
       "      <td>G</td>\n",
       "      <td>2012</td>\n",
       "      <td>88000</td>\n",
       "      <td>Diesel</td>\n",
       "      <td>Manual</td>\n",
       "      <td>First</td>\n",
       "      <td>25.44 kmpl</td>\n",
       "      <td>936 CC</td>\n",
       "      <td>57.6 bhp</td>\n",
       "      <td>5.0</td>\n",
       "    </tr>\n",
       "    <tr>\n",
       "      <th>1155</th>\n",
       "      <td>5975</td>\n",
       "      <td>Hyundai Verna CRDi</td>\n",
       "      <td>K</td>\n",
       "      <td>2010</td>\n",
       "      <td>72010</td>\n",
       "      <td>Diesel</td>\n",
       "      <td>Manual</td>\n",
       "      <td>First</td>\n",
       "      <td>16.8 kmpl</td>\n",
       "      <td>1493 CC</td>\n",
       "      <td>110 bhp</td>\n",
       "      <td>5.0</td>\n",
       "    </tr>\n",
       "    <tr>\n",
       "      <th>1156</th>\n",
       "      <td>5976</td>\n",
       "      <td>Mercedes-Benz A Class A180 CDI</td>\n",
       "      <td>J</td>\n",
       "      <td>2013</td>\n",
       "      <td>34000</td>\n",
       "      <td>Diesel</td>\n",
       "      <td>Automatic</td>\n",
       "      <td>Second</td>\n",
       "      <td>20.0 kmpl</td>\n",
       "      <td>2143 CC</td>\n",
       "      <td>107.3 bhp</td>\n",
       "      <td>5.0</td>\n",
       "    </tr>\n",
       "    <tr>\n",
       "      <th>1157</th>\n",
       "      <td>5977</td>\n",
       "      <td>BMW X1 M Sport sDrive 20d</td>\n",
       "      <td>B</td>\n",
       "      <td>2016</td>\n",
       "      <td>31000</td>\n",
       "      <td>Diesel</td>\n",
       "      <td>Automatic</td>\n",
       "      <td>First</td>\n",
       "      <td>17.05 kmpl</td>\n",
       "      <td>1995 CC</td>\n",
       "      <td>190 bhp</td>\n",
       "      <td>5.0</td>\n",
       "    </tr>\n",
       "    <tr>\n",
       "      <th>1158</th>\n",
       "      <td>5978</td>\n",
       "      <td>BMW 5 Series 2013-2017 530d M Sport</td>\n",
       "      <td>H</td>\n",
       "      <td>2015</td>\n",
       "      <td>65266</td>\n",
       "      <td>Diesel</td>\n",
       "      <td>Automatic</td>\n",
       "      <td>First</td>\n",
       "      <td>14.69 kmpl</td>\n",
       "      <td>2993 CC</td>\n",
       "      <td>258 bhp</td>\n",
       "      <td>5.0</td>\n",
       "    </tr>\n",
       "  </tbody>\n",
       "</table>\n",
       "<p>1159 rows × 12 columns</p>\n",
       "</div>"
      ],
      "text/plain": [
       "        id                                          Nombre Ciudad   Año  \\\n",
       "0     4820  Mercedes-Benz New C-Class C 220 CDI Avantgarde      H  2015   \n",
       "1     4821                           Hyundai i10 Magna 1.1      J  2011   \n",
       "2     4822                            Ford Figo Diesel EXI      C  2010   \n",
       "3     4823                 Maruti Swift Dzire VXI Optional      D  2015   \n",
       "4     4824                                 Maruti Ritz VXI      J  2010   \n",
       "...    ...                                             ...    ...   ...   \n",
       "1154  5974                        Chevrolet Beat Diesel LT      G  2012   \n",
       "1155  5975                              Hyundai Verna CRDi      K  2010   \n",
       "1156  5976                  Mercedes-Benz A Class A180 CDI      J  2013   \n",
       "1157  5977                       BMW X1 M Sport sDrive 20d      B  2016   \n",
       "1158  5978             BMW 5 Series 2013-2017 530d M Sport      H  2015   \n",
       "\n",
       "      Kilometros Combustible Tipo_marchas    Mano     Consumo Motor_CC  \\\n",
       "0          77771      Diesel    Automatic   First  19.27 kmpl  2143 CC   \n",
       "1          62000      Petrol       Manual   First  19.81 kmpl  1086 CC   \n",
       "2         129986      Diesel       Manual  Second   20.0 kmpl  1399 CC   \n",
       "3          49900      Petrol       Manual   First  20.85 kmpl  1197 CC   \n",
       "4          75319      Petrol       Manual  Second   21.1 kmpl  1197 CC   \n",
       "...          ...         ...          ...     ...         ...      ...   \n",
       "1154       88000      Diesel       Manual   First  25.44 kmpl   936 CC   \n",
       "1155       72010      Diesel       Manual   First   16.8 kmpl  1493 CC   \n",
       "1156       34000      Diesel    Automatic  Second   20.0 kmpl  2143 CC   \n",
       "1157       31000      Diesel    Automatic   First  17.05 kmpl  1995 CC   \n",
       "1158       65266      Diesel    Automatic   First  14.69 kmpl  2993 CC   \n",
       "\n",
       "       Potencia  Asientos  \n",
       "0       170 bhp       5.0  \n",
       "1     68.05 bhp       5.0  \n",
       "2        68 bhp       5.0  \n",
       "3     83.14 bhp       5.0  \n",
       "4     85.80 bhp       5.0  \n",
       "...         ...       ...  \n",
       "1154   57.6 bhp       5.0  \n",
       "1155    110 bhp       5.0  \n",
       "1156  107.3 bhp       5.0  \n",
       "1157    190 bhp       5.0  \n",
       "1158    258 bhp       5.0  \n",
       "\n",
       "[1159 rows x 12 columns]"
      ]
     },
     "execution_count": 96,
     "metadata": {},
     "output_type": "execute_result"
    }
   ],
   "source": [
    "p1_test = test.copy()\n",
    "del(p1_test['Descuento'])\n",
    "p1_test = p1_test.dropna()\n",
    "p1_test = p1_test.reset_index()\n",
    "del(p1_test['index'])\n",
    "p1_test"
   ]
  },
  {
   "cell_type": "markdown",
   "metadata": {},
   "source": [
    "Nombre:"
   ]
  },
  {
   "cell_type": "code",
   "execution_count": 98,
   "metadata": {},
   "outputs": [],
   "source": [
    "for i in range(len(p1_test)):\n",
    "    p1_test[\"Nombre\"].iloc[i] = p1_test[\"Nombre\"].iloc[i].split(' ')[0]"
   ]
  },
  {
   "cell_type": "code",
   "execution_count": 99,
   "metadata": {},
   "outputs": [],
   "source": [
    "p1_test.Nombre = labelNombre.transform(p1_test.Nombre)"
   ]
  },
  {
   "cell_type": "markdown",
   "metadata": {},
   "source": [
    "Ciudad:"
   ]
  },
  {
   "cell_type": "code",
   "execution_count": 100,
   "metadata": {},
   "outputs": [],
   "source": [
    "p1_test.Ciudad = labelCiudad.transform(p1_test.Ciudad)"
   ]
  },
  {
   "cell_type": "markdown",
   "metadata": {},
   "source": [
    "Combustible:"
   ]
  },
  {
   "cell_type": "code",
   "execution_count": 101,
   "metadata": {},
   "outputs": [],
   "source": [
    "p1_test.Combustible = labelCombustible.transform(p1_test.Combustible)"
   ]
  },
  {
   "cell_type": "markdown",
   "metadata": {},
   "source": [
    "Tipo_marchas:"
   ]
  },
  {
   "cell_type": "code",
   "execution_count": 102,
   "metadata": {},
   "outputs": [],
   "source": [
    "p1_test.Tipo_marchas = labelTipo_marchas.transform(p1_test.Tipo_marchas)"
   ]
  },
  {
   "cell_type": "markdown",
   "metadata": {},
   "source": [
    "Mano:"
   ]
  },
  {
   "cell_type": "code",
   "execution_count": 103,
   "metadata": {},
   "outputs": [],
   "source": [
    "p1_test.Mano = labelMano.transform(p1_test.Mano)"
   ]
  },
  {
   "cell_type": "markdown",
   "metadata": {},
   "source": [
    "Consumo:"
   ]
  },
  {
   "cell_type": "code",
   "execution_count": 104,
   "metadata": {
    "scrolled": true
   },
   "outputs": [],
   "source": [
    "for i in range(len(p1_test)):\n",
    "    p1_test[\"Consumo\"].iloc[i] = float(p1_test[\"Consumo\"].iloc[i].strip(' kmlp'))"
   ]
  },
  {
   "cell_type": "markdown",
   "metadata": {},
   "source": [
    "Motor_CC:"
   ]
  },
  {
   "cell_type": "code",
   "execution_count": 105,
   "metadata": {},
   "outputs": [],
   "source": [
    "for i in range(len(p1_test)):\n",
    "    p1_test[\"Motor_CC\"].iloc[i] = float(p1_test[\"Motor_CC\"].iloc[i].strip(' CC'))"
   ]
  },
  {
   "cell_type": "markdown",
   "metadata": {},
   "source": [
    "Potencia:"
   ]
  },
  {
   "cell_type": "code",
   "execution_count": 106,
   "metadata": {},
   "outputs": [],
   "source": [
    "for i in range(len(p1_test)):\n",
    "    p1_test[\"Potencia\"].iloc[i]= float(p1_test[\"Potencia\"].iloc[i].strip(' bhp'))"
   ]
  },
  {
   "cell_type": "code",
   "execution_count": 107,
   "metadata": {},
   "outputs": [],
   "source": [
    "ids = p1_test['id']\n",
    "del(p1_test['id'])"
   ]
  },
  {
   "cell_type": "code",
   "execution_count": 108,
   "metadata": {},
   "outputs": [],
   "source": [
    "# Vectores con los valores de las métricas\n",
    "rf_clf = RandomForestClassifier(random_state=15, n_estimators=130, criterion = \"entropy\")\n",
    "rf_clf.fit(data, target)\n",
    "predict = rf_clf.predict(p1_test)"
   ]
  },
  {
   "cell_type": "code",
   "execution_count": 109,
   "metadata": {},
   "outputs": [],
   "source": [
    "df_result = pd.DataFrame({'id': ids, 'Precio_cat': predict})\n",
    "df_result.to_csv(\"p3_02.csv\", index=False)"
   ]
  },
  {
   "cell_type": "code",
   "execution_count": 110,
   "metadata": {},
   "outputs": [],
   "source": [
    "predict = pd.read_csv(\"p3_02.csv\", na_values=[\"?\"])"
   ]
  },
  {
   "cell_type": "code",
   "execution_count": 111,
   "metadata": {},
   "outputs": [
    {
     "data": {
      "text/html": [
       "<div>\n",
       "<style scoped>\n",
       "    .dataframe tbody tr th:only-of-type {\n",
       "        vertical-align: middle;\n",
       "    }\n",
       "\n",
       "    .dataframe tbody tr th {\n",
       "        vertical-align: top;\n",
       "    }\n",
       "\n",
       "    .dataframe thead th {\n",
       "        text-align: right;\n",
       "    }\n",
       "</style>\n",
       "<table border=\"1\" class=\"dataframe\">\n",
       "  <thead>\n",
       "    <tr style=\"text-align: right;\">\n",
       "      <th></th>\n",
       "      <th>id</th>\n",
       "      <th>Precio_cat</th>\n",
       "    </tr>\n",
       "  </thead>\n",
       "  <tbody>\n",
       "    <tr>\n",
       "      <th>0</th>\n",
       "      <td>4820</td>\n",
       "      <td>5</td>\n",
       "    </tr>\n",
       "    <tr>\n",
       "      <th>1</th>\n",
       "      <td>4821</td>\n",
       "      <td>2</td>\n",
       "    </tr>\n",
       "    <tr>\n",
       "      <th>2</th>\n",
       "      <td>4822</td>\n",
       "      <td>2</td>\n",
       "    </tr>\n",
       "    <tr>\n",
       "      <th>3</th>\n",
       "      <td>4823</td>\n",
       "      <td>3</td>\n",
       "    </tr>\n",
       "    <tr>\n",
       "      <th>4</th>\n",
       "      <td>4824</td>\n",
       "      <td>2</td>\n",
       "    </tr>\n",
       "    <tr>\n",
       "      <th>...</th>\n",
       "      <td>...</td>\n",
       "      <td>...</td>\n",
       "    </tr>\n",
       "    <tr>\n",
       "      <th>1154</th>\n",
       "      <td>5974</td>\n",
       "      <td>2</td>\n",
       "    </tr>\n",
       "    <tr>\n",
       "      <th>1155</th>\n",
       "      <td>5975</td>\n",
       "      <td>3</td>\n",
       "    </tr>\n",
       "    <tr>\n",
       "      <th>1156</th>\n",
       "      <td>5976</td>\n",
       "      <td>5</td>\n",
       "    </tr>\n",
       "    <tr>\n",
       "      <th>1157</th>\n",
       "      <td>5977</td>\n",
       "      <td>5</td>\n",
       "    </tr>\n",
       "    <tr>\n",
       "      <th>1158</th>\n",
       "      <td>5978</td>\n",
       "      <td>5</td>\n",
       "    </tr>\n",
       "  </tbody>\n",
       "</table>\n",
       "<p>1159 rows × 2 columns</p>\n",
       "</div>"
      ],
      "text/plain": [
       "        id  Precio_cat\n",
       "0     4820           5\n",
       "1     4821           2\n",
       "2     4822           2\n",
       "3     4823           3\n",
       "4     4824           2\n",
       "...    ...         ...\n",
       "1154  5974           2\n",
       "1155  5975           3\n",
       "1156  5976           5\n",
       "1157  5977           5\n",
       "1158  5978           5\n",
       "\n",
       "[1159 rows x 2 columns]"
      ]
     },
     "execution_count": 111,
     "metadata": {},
     "output_type": "execute_result"
    }
   ],
   "source": [
    "predict"
   ]
  }
 ],
 "metadata": {
  "@webio": {
   "lastCommId": null,
   "lastKernelId": null
  },
  "jupytext": {
   "formats": "ipynb,md"
  },
  "kernelspec": {
   "display_name": "Python 3",
   "language": "python",
   "name": "python3"
  },
  "language_info": {
   "codemirror_mode": {
    "name": "ipython",
    "version": 3
   },
   "file_extension": ".py",
   "mimetype": "text/x-python",
   "name": "python",
   "nbconvert_exporter": "python",
   "pygments_lexer": "ipython3",
   "version": "3.8.5"
  },
  "toc": {
   "base_numbering": 1,
   "nav_menu": {},
   "number_sections": true,
   "sideBar": true,
   "skip_h1_title": false,
   "title_cell": "Table of Contents",
   "title_sidebar": "Contents",
   "toc_cell": false,
   "toc_position": {},
   "toc_section_display": true,
   "toc_window_display": false
  },
  "varInspector": {
   "cols": {
    "lenName": 16,
    "lenType": 16,
    "lenVar": 40
   },
   "kernels_config": {
    "python": {
     "delete_cmd_postfix": "",
     "delete_cmd_prefix": "del ",
     "library": "var_list.py",
     "varRefreshCmd": "print(var_dic_list())"
    },
    "r": {
     "delete_cmd_postfix": ") ",
     "delete_cmd_prefix": "rm(",
     "library": "var_list.r",
     "varRefreshCmd": "cat(var_dic_list()) "
    }
   },
   "types_to_exclude": [
    "module",
    "function",
    "builtin_function_or_method",
    "instance",
    "_Feature"
   ],
   "window_display": false
  }
 },
 "nbformat": 4,
 "nbformat_minor": 4
}
